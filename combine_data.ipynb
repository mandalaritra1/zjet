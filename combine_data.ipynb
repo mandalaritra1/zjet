{
 "cells": [
  {
   "cell_type": "code",
   "execution_count": 25,
   "id": "89a10d21-2622-4e25-a5a5-56970529d9eb",
   "metadata": {},
   "outputs": [],
   "source": [
    "import pickle\n",
    "import hist "
   ]
  },
  {
   "cell_type": "code",
   "execution_count": 26,
   "id": "c88332a3-7330-4262-924b-9cd3672c2212",
   "metadata": {},
   "outputs": [],
   "source": [
    "import pickle\n",
    "import numpy as np\n",
    "filename = 'outputs/data_2018.pkl'\n",
    "with open(filename, 'rb') as f:\n",
    "    output = pickle.load(f)"
   ]
  },
  {
   "cell_type": "code",
   "execution_count": 27,
   "id": "44adeeee-5d04-4d0f-b535-ef5dcb86e013",
   "metadata": {},
   "outputs": [],
   "source": [
    "output.keys()\n",
    "\n",
    "hist_list = [ 'ptjet_mjet_u_reco',  'ptjet_mjet_g_reco']"
   ]
  },
  {
   "cell_type": "code",
   "execution_count": 28,
   "id": "413bbdee-b75e-4c9a-b003-4b62c08d3ccd",
   "metadata": {},
   "outputs": [],
   "source": [
    "iov_list = [#'2016',\n",
    "           #'2016APV',\n",
    "           '2017',\n",
    "           '2018']\n",
    "\n",
    "hist_list = ['ptjet_mjet_u_reco', 'ptjet_mjet_g_reco']"
   ]
  },
  {
   "cell_type": "code",
   "execution_count": 29,
   "id": "ac4ad461-1628-461e-873c-3c0c8e635a25",
   "metadata": {},
   "outputs": [],
   "source": [
    "file_dic = {}\n",
    "output_dic = {}\n",
    "for iov in iov_list:\n",
    "    filename = f\"outputs/data_{iov}.pkl\"\n",
    "    with open(filename, 'rb') as f:\n",
    "        output = pickle.load(f)\n",
    "    file_dic[iov] = output\n",
    "        \n",
    "\n",
    "        \n",
    "        \n",
    "    "
   ]
  },
  {
   "cell_type": "code",
   "execution_count": 30,
   "id": "34a45d5b-f87d-44a7-b0a4-f7b21b1143ba",
   "metadata": {},
   "outputs": [],
   "source": [
    "for hname in hist_list:\n",
    "    h = None\n",
    "    for i, iov in enumerate(iov_list):\n",
    "        if i == 0:\n",
    "            h = file_dic[iov][hname]\n",
    "        else:\n",
    "            h += file_dic[iov][hname]\n",
    "    output_dic[hname] = h"
   ]
  },
  {
   "cell_type": "code",
   "execution_count": 31,
   "id": "885fd4a1-3e03-4d75-9c49-3ae6d0671cc8",
   "metadata": {},
   "outputs": [
    {
     "data": {
      "text/plain": [
       "{'ptjet_mjet_u_reco': Hist(\n",
       "   StrCategory(['SingleElectron_UL2017', 'SingleMuon_UL2017', 'EGamma_UL2018', 'SingleMuon_UL2018'], growth=True, name='dataset', label='Primary dataset'),\n",
       "   Variable([200, 260, 350, 460, 13000], name='ptreco', label='$p_{T,RECO}$ (GeV)'),\n",
       "   Variable(array([0.0e+00, 5.0e+00, 1.0e+01, 1.5e+01, 2.0e+01, 3.0e+01, 4.0e+01,\n",
       "        5.0e+01, 6.0e+01, 7.0e+01, 8.0e+01, 9.0e+01, 1.0e+02, 1.1e+02,\n",
       "        1.2e+02, 1.3e+02, 1.4e+02, 1.5e+02, 1.6e+02, 1.8e+02, 2.0e+02,\n",
       "        6.2e+03, 1.3e+04]), name='mreco', label='$m_{RECO}$ (GeV)'),\n",
       "   StrCategory(['nominal'], growth=True, name='systematic', label='Systematic Uncertainty'),\n",
       "   storage=Weight()) # Sum: WeightedSum(value=307192, variance=307192),\n",
       " 'ptjet_mjet_g_reco': Hist(\n",
       "   StrCategory(['SingleElectron_UL2017', 'SingleMuon_UL2017', 'EGamma_UL2018', 'SingleMuon_UL2018'], growth=True, name='dataset', label='Primary dataset'),\n",
       "   Variable([200, 260, 350, 460, 13000], name='ptreco', label='$p_{T,RECO}$ (GeV)'),\n",
       "   Variable(array([0.0e+00, 5.0e+00, 1.0e+01, 1.5e+01, 2.0e+01, 3.0e+01, 4.0e+01,\n",
       "        5.0e+01, 6.0e+01, 7.0e+01, 8.0e+01, 9.0e+01, 1.0e+02, 1.1e+02,\n",
       "        1.2e+02, 1.3e+02, 1.4e+02, 1.5e+02, 1.6e+02, 1.8e+02, 2.0e+02,\n",
       "        6.2e+03, 1.3e+04]), name='mreco', label='$m_{RECO}$ (GeV)'),\n",
       "   StrCategory(['nominal'], growth=True, name='systematic', label='Systematic Uncertainty'),\n",
       "   storage=Weight()) # Sum: WeightedSum(value=297400, variance=297400) (WeightedSum(value=307192, variance=307192) with flow)}"
      ]
     },
     "execution_count": 31,
     "metadata": {},
     "output_type": "execute_result"
    }
   ],
   "source": [
    "output_dic"
   ]
  },
  {
   "cell_type": "code",
   "execution_count": 32,
   "id": "1b3c99bb-581f-4fbd-bb35-bbf6ddf7157b",
   "metadata": {},
   "outputs": [],
   "source": [
    "filename = 'outputs/data_combined.pkl'\n",
    "with open(filename, 'wb') as f:\n",
    "    output = pickle.dump(output_dic, f)"
   ]
  },
  {
   "cell_type": "code",
   "execution_count": null,
   "id": "39e12a7f-25c0-4bea-a611-15226647bd0a",
   "metadata": {},
   "outputs": [],
   "source": []
  },
  {
   "cell_type": "code",
   "execution_count": null,
   "id": "b10c29d9-d0a5-4e9a-b0b2-75abbc8d6b14",
   "metadata": {},
   "outputs": [],
   "source": []
  }
 ],
 "metadata": {
  "kernelspec": {
   "display_name": "Python 3 (ipykernel)",
   "language": "python",
   "name": "python3"
  },
  "language_info": {
   "codemirror_mode": {
    "name": "ipython",
    "version": 3
   },
   "file_extension": ".py",
   "mimetype": "text/x-python",
   "name": "python",
   "nbconvert_exporter": "python",
   "pygments_lexer": "ipython3",
   "version": "3.10.8"
  }
 },
 "nbformat": 4,
 "nbformat_minor": 5
}
