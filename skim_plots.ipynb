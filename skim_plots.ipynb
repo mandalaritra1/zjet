{
 "cells": [
  {
   "cell_type": "code",
   "execution_count": 1,
   "id": "beea949a",
   "metadata": {},
   "outputs": [
    {
     "name": "stderr",
     "output_type": "stream",
     "text": [
      "Matplotlib created a temporary config/cache directory at /tmp/matplotlib-pzwuzzdb because the default path (/home/cms-jovyan/.cache/matplotlib) is not a writable directory; it is highly recommended to set the MPLCONFIGDIR environment variable to a writable directory, in particular to speed up the import of Matplotlib and to better support multiprocessing.\n"
     ]
    }
   ],
   "source": [
    "import uproot\n",
    "import pandas as pd\n",
    "import awkward as ak\n",
    "import matplotlib.pyplot as plt\n",
    "import vector\n",
    "#vector.register_awkward()"
   ]
  },
  {
   "cell_type": "code",
   "execution_count": 6,
   "id": "3be9b0f1",
   "metadata": {},
   "outputs": [
    {
     "ename": "AttributeError",
     "evalue": "module 'vector' has no attribute 'backends'",
     "output_type": "error",
     "traceback": [
      "\u001b[0;31m---------------------------------------------------------------------------\u001b[0m",
      "\u001b[0;31mAttributeError\u001b[0m                            Traceback (most recent call last)",
      "\u001b[0;32m/tmp/ipykernel_1584/1254043031.py\u001b[0m in \u001b[0;36m<module>\u001b[0;34m\u001b[0m\n\u001b[0;32m----> 1\u001b[0;31m \u001b[0mvector\u001b[0m\u001b[0;34m.\u001b[0m\u001b[0mbackends\u001b[0m\u001b[0;34m\u001b[0m\u001b[0;34m\u001b[0m\u001b[0m\n\u001b[0m",
      "\u001b[0;31mAttributeError\u001b[0m: module 'vector' has no attribute 'backends'"
     ]
    }
   ],
   "source": [
    "vector.backends"
   ]
  },
  {
   "cell_type": "code",
   "execution_count": 2,
   "id": "246a6fe2",
   "metadata": {},
   "outputs": [],
   "source": [
    "f = uproot.open(\"/mnt/data/cms/skims/zplusjets_skimmed_reco_gen_jet.root\")"
   ]
  },
  {
   "cell_type": "code",
   "execution_count": 3,
   "id": "ced8b27f",
   "metadata": {},
   "outputs": [
    {
     "data": {
      "text/plain": [
       "['reco_jet_pt',\n",
       " 'reco_jet_eta',\n",
       " 'reco_jet_phi',\n",
       " 'reco_jet_mass',\n",
       " 'reco_jet_msoftdrop',\n",
       " 'gen_jet_pt',\n",
       " 'gen_jet_eta',\n",
       " 'gen_jet_phi',\n",
       " 'gen_jet_mass',\n",
       " 'gen_jet_msoftdrop',\n",
       " 'weights']"
      ]
     },
     "execution_count": 3,
     "metadata": {},
     "output_type": "execute_result"
    }
   ],
   "source": [
    "f[\"Events\"].keys()"
   ]
  },
  {
   "cell_type": "code",
   "execution_count": 4,
   "id": "15bc4446",
   "metadata": {},
   "outputs": [
    {
     "ename": "AttributeError",
     "evalue": "module 'vector' has no attribute 'backends'",
     "output_type": "error",
     "traceback": [
      "\u001b[0;31m---------------------------------------------------------------------------\u001b[0m",
      "\u001b[0;31mAttributeError\u001b[0m                            Traceback (most recent call last)",
      "\u001b[0;32m/tmp/ipykernel_1584/3884001.py\u001b[0m in \u001b[0;36m<module>\u001b[0;34m\u001b[0m\n\u001b[1;32m      8\u001b[0m     },\n\u001b[1;32m      9\u001b[0m     \u001b[0mwith_name\u001b[0m\u001b[0;34m=\u001b[0m\u001b[0;34m\"Momentum4D\"\u001b[0m\u001b[0;34m,\u001b[0m\u001b[0;34m\u001b[0m\u001b[0;34m\u001b[0m\u001b[0m\n\u001b[0;32m---> 10\u001b[0;31m     \u001b[0mbehavior\u001b[0m\u001b[0;34m=\u001b[0m\u001b[0mvector\u001b[0m\u001b[0;34m.\u001b[0m\u001b[0mbackends\u001b[0m\u001b[0;34m.\u001b[0m\u001b[0mawkward\u001b[0m\u001b[0;34m.\u001b[0m\u001b[0mbehavior\u001b[0m\u001b[0;34m\u001b[0m\u001b[0;34m\u001b[0m\u001b[0m\n\u001b[0m\u001b[1;32m     11\u001b[0m )\n",
      "\u001b[0;31mAttributeError\u001b[0m: module 'vector' has no attribute 'backends'"
     ]
    }
   ],
   "source": [
    "gen = ak.zip(\n",
    "    {\n",
    "        \"pt\":   f[\"Events\"][\"gen_jet_pt\"].arrays(),\n",
    "        \"eta\":  f[\"Events\"][\"gen_jet_eta\"].arrays(),\n",
    "        \"phi\":  f[\"Events\"][\"gen_jet_phi\"].arrays(),\n",
    "        \"mass\": f[\"Events\"][\"gen_jet_mass\"].arrays(),\n",
    "        \"msoftdrop\": f[\"Events\"][\"gen_jet_msoftdrop\"].arrays(),\n",
    "    },\n",
    "    with_name=\"Momentum4D\",\n",
    "    behavior=vector.backends.awkward.behavior\n",
    ")"
   ]
  },
  {
   "cell_type": "code",
   "execution_count": null,
   "id": "cba7fca8",
   "metadata": {},
   "outputs": [],
   "source": [
    "reco = ak.zip(\n",
    "    {\n",
    "        \"pt\":   f[\"Events\"][\"reco_jet_pt\"].arrays(),\n",
    "        \"eta\":  f[\"Events\"][\"reco_jet_eta\"].arrays(),\n",
    "        \"phi\":  f[\"Events\"][\"reco_jet_phi\"].arrays(),\n",
    "        \"mass\": f[\"Events\"][\"reco_jet_mass\"].arrays(),\n",
    "        \"msoftdrop\": f[\"Events\"][\"reco_jet_msoftdrop\"].arrays(),\n",
    "    },\n",
    "    with_name=\"Momentum4D\",\n",
    "    behavior=vector.backends.awkward.behavior\n",
    ")"
   ]
  },
  {
   "cell_type": "code",
   "execution_count": null,
   "id": "01bfa0cf",
   "metadata": {},
   "outputs": [],
   "source": [
    "type(gen)"
   ]
  },
  {
   "cell_type": "code",
   "execution_count": null,
   "id": "94ac617a",
   "metadata": {},
   "outputs": [],
   "source": [
    "len(reco)"
   ]
  },
  {
   "cell_type": "code",
   "execution_count": null,
   "id": "a7b42265",
   "metadata": {},
   "outputs": [],
   "source": [
    "pt_gen = gen.pt\n",
    "pt_reco = reco.pt"
   ]
  },
  {
   "cell_type": "code",
   "execution_count": null,
   "id": "c5fb2d09",
   "metadata": {},
   "outputs": [],
   "source": [
    "pt_gen.fields"
   ]
  },
  {
   "cell_type": "code",
   "execution_count": null,
   "id": "7afaa73f",
   "metadata": {},
   "outputs": [],
   "source": [
    "gen.deltaR(reco)"
   ]
  },
  {
   "cell_type": "code",
   "execution_count": null,
   "id": "5069d356",
   "metadata": {},
   "outputs": [],
   "source": [
    "gen"
   ]
  },
  {
   "cell_type": "code",
   "execution_count": null,
   "id": "b150b762",
   "metadata": {},
   "outputs": [],
   "source": []
  }
 ],
 "metadata": {
  "kernelspec": {
   "display_name": "Python 3 (ipykernel)",
   "language": "python",
   "name": "python3"
  },
  "language_info": {
   "codemirror_mode": {
    "name": "ipython",
    "version": 3
   },
   "file_extension": ".py",
   "mimetype": "text/x-python",
   "name": "python",
   "nbconvert_exporter": "python",
   "pygments_lexer": "ipython3",
   "version": "3.8.12"
  }
 },
 "nbformat": 4,
 "nbformat_minor": 5
}
