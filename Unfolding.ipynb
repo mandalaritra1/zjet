{
 "cells": [
  {
   "cell_type": "markdown",
   "metadata": {},
   "source": [
    "# TUnfoldDensity with Coffea histograms\n"
   ]
  },
  {
   "cell_type": "code",
   "execution_count": 1,
   "metadata": {},
   "outputs": [
    {
     "name": "stdout",
     "output_type": "stream",
     "text": [
      "Welcome to JupyROOT 6.30/04\n"
     ]
    }
   ],
   "source": [
    "import ROOT\n",
    "import numpy as np\n",
    "import array as array\n",
    "import math\n",
    "import uproot\n",
    "import pickle as pkl\n",
    "#import statistics as st\n",
    "ROOT.gStyle.SetOptStat(000000)"
   ]
  },
  {
   "cell_type": "markdown",
   "metadata": {},
   "source": [
    "## Construct the Binning scheme"
   ]
  },
  {
   "cell_type": "markdown",
   "metadata": {},
   "source": [
    "Set the axis ranges for the generator (m bins) and detector  (n bins) level distributions as well as the number of bins in each. *Note* that we are currently using twice as many detector bins as generator level bins as recommended by the TUnfold documenation. This condition $n ≥ m$ \n",
    "is in contrast to many common unfoldding algorithms which require $n = m$ however a notable example of an unfolding algorithm without that restriction is __[G. D’Agostini](arXiv:1010.0632)__."
   ]
  },
  {
   "cell_type": "code",
   "execution_count": null,
   "metadata": {},
   "outputs": [],
   "source": []
  },
  {
   "cell_type": "code",
   "execution_count": 2,
   "metadata": {},
   "outputs": [],
   "source": [
    "### Set up the binning scheme\n",
    "mbinsGen  = array.array('d',  [0,2.5,5,7.5,10,15,20,30,40,50,60,70,80,90,100,125,150,175,200,225,250,275,300,325,350,1000])\n",
    "mbinsDet  = array.array('d', [0,5,10,20,40,60,80,100,150,200,250,300,350,1000])\n",
    "ptbinsGen = array.array('d', [200,260,350,460,550,650,760,13000])\n",
    "ptbinsDet = array.array('d', [200,260,350,460,550,650,760,13000])\n",
    "\n",
    "#mbinsGen  = array.array('d', [0., 25.,50.,75.,100. ])# [0., 50., 100. ])\n",
    "#mbinsDet  = array.array('d', [0., 12.5, 25.,37.5,50., 62.5,75., 87.5, 100. ])#[0., 25.,50.,75.,100. ])\n",
    "#ptbinsGen = array.array('d', [0., 25.,50.,75.,100. ])#[0., 50., 100. ])\n",
    "#ptbinsDet = array.array('d', [0., 25.,50.,75.,100. ])#[0., 50., 100. ])\n",
    "\n",
    "\n",
    "nmbinsGen  = len(mbinsGen) -1\n",
    "nmbinsDet  = len(mbinsDet) -1\n",
    "nptbinsGen = len(ptbinsGen) -1\n",
    "nptbinsDet = len(ptbinsDet) -1\n",
    "\n",
    "#print \"There are {} Gen Mass bins , {} Gen Pt bins ,{} Reco Mass bins , {} Reco Pt bins  \".format(nmbinsGen,nptbinsGen , nmbinsDet,nptbinsDet)"
   ]
  },
  {
   "cell_type": "markdown",
   "metadata": {},
   "source": [
    "Instantiate the TUnfoldBinning Scheme. The \"signal\" node represents the generator level (coarser) binning whereas the \"detector\" node represents the (finer) input binning scheme. "
   ]
  },
  {
   "cell_type": "code",
   "execution_count": 3,
   "metadata": {},
   "outputs": [],
   "source": [
    "generatorBinning = ROOT.TUnfoldBinning(\"generator\")\n",
    "### Need coarser binning for signal\n",
    "signalBinning = generatorBinning.AddBinning(\"signal\")    \n",
    "signalBinning.AddAxis(\"massgen\",nmbinsGen,mbinsGen,\n",
    "                        False, # needed for fakes\n",
    "                        False # overflow bin\n",
    "                        )\n",
    "signalBinning.AddAxis(\"ptgen\",nptbinsGen,ptbinsGen,\n",
    "                        False, # needed for fakes\n",
    "                        False # overflow bin\n",
    "                        )\n",
    "\n",
    "# X axis : generator binning is Signal : mgen * ptgen and Background : mrec * ptrec\n",
    "\n",
    "xaxis =  array.array('d',[a for a in range(nmbinsGen *nptbinsGen + 1 )])\n",
    "nx = len(xaxis)-1\n",
    "\n",
    "# print xaxis\n",
    "# print \"There are {} (signal) generator level bins in the simple scheme\".format(nx)\n",
    "# print \"---------------------------------------------------------------\"\n",
    "\n",
    "# print \"signalBinning\"\n",
    "#for i in xrange(len(signalBinning.GetDistributionBinning(0))):\n",
    "    #print  signalBinning.GetDistributionBinning(0)[i]\n",
    "\n",
    "#print \"detectorBinning\"\n",
    "#for i in xrange(len(backgroundBinning.GetDistributionBinning(0))):\n",
    "#    print backgroundBinning.GetDistributionBinning(0)[i]\n",
    "    \n",
    "#print \"Below counts include overflow and underflow bins\"    \n",
    "#print \"There are {} signal {} background bins in the generator scheme\".format(signalBinning.GetTH1xNumberOfBins() , backgroundBinning.GetDistributionNumberOfBins())\n",
    "genBin = generatorBinning"
   ]
  },
  {
   "cell_type": "code",
   "execution_count": 4,
   "metadata": {},
   "outputs": [
    {
     "name": "stdout",
     "output_type": "stream",
     "text": [
      "There are 91  detector level bins in the simple scheme\n",
      "Below counts include overflow and underflow bins\n",
      "There are 91 bins in the detector scheme\n"
     ]
    }
   ],
   "source": [
    "detectorBinning = ROOT.TUnfoldBinning(\"detector\") \n",
    "detectorDistribution=detectorBinning.AddBinning(\"detectordistribution\")\n",
    "detectorDistribution.AddAxis(\"mass\",nmbinsDet,mbinsDet,\n",
    "                        False, # no underflow bin (not reconstructed)\n",
    "                        False # overflow bin\n",
    "                        )\n",
    "detectorDistribution.AddAxis(\"pt\",nptbinsDet,ptbinsDet,\n",
    "                        False, # no underflow bin (not reconstructed)\n",
    "                        False # overflow bin\n",
    "                        )\n",
    "\n",
    "yaxis =  array.array('d',[a for a in range(nmbinsDet *nptbinsDet+1 )])\n",
    "ny = len(yaxis)-1\n",
    "\n",
    "# print yaxis\n",
    "print (\"There are {}  detector level bins in the simple scheme\".format(ny))\n",
    "# print \"detectorBinning\"\n",
    "# for i in xrange(len(detectorDistribution.GetDistributionBinning(0))):\n",
    "#     print detectorDistribution.GetDistributionBinning(0)[i]\n",
    "    \n",
    "print (\"Below counts include overflow and underflow bins\" ) \n",
    "print(\"There are {} bins in the detector scheme\".format(detectorDistribution.GetTH1xNumberOfBins()))#GetDistributionNumberOfBins())\n",
    "detBin  = detectorBinning"
   ]
  },
  {
   "cell_type": "markdown",
   "metadata": {
    "collapsed": true
   },
   "source": [
    "# Create Response Matrix and 1D input "
   ]
  },
  {
   "cell_type": "code",
   "execution_count": 5,
   "metadata": {},
   "outputs": [],
   "source": [
    "\n",
    "\n",
    "M = ROOT.TUnfoldBinning.CreateHistogramOfMigrations(generatorBinning,detectorBinning,\"M\")\n",
    "M1 = ROOT.TUnfoldBinning.CreateHistogramOfMigrations(generatorBinning,detectorBinning,\"M+1#sigma\")\n",
    "M2 = ROOT.TUnfoldBinning.CreateHistogramOfMigrations(generatorBinning,detectorBinning,\"M-1#sigma\")\n",
    "\n",
    "h = detectorBinning.CreateHistogram(\"h\")\n",
    "\n",
    "hup = detectorBinning.CreateHistogram(\"hup\")\n",
    "hdn = detectorBinning.CreateHistogram(\"hdn\")\n",
    "\n",
    "\n",
    "\n",
    "htrue = generatorBinning.CreateHistogram(\"htrue\")\n",
    "htruef = detectorBinning.CreateHistogram(\"htruef\")\n",
    "\n"
   ]
  },
  {
   "cell_type": "markdown",
   "metadata": {},
   "source": [
    "## Generate the response matrix\n",
    "\n",
    "Here, we have a respone matrix with 4 coarse and 8 fine bins (configurable). The variable of interest ($x$) ranges from 0 to 100. We assume the resolution on $x$ is 1.0, and that there is a systematic uncertainty \"scale\", which has an \"up\" and \"down\" variation of 2%. We generate 10000 pseudo-events for each value of x between 0 and 100, smeared by the resolution. For each of the \"x\" values, a reconstructed \"y\" value is constructed, again smeared by the resolution. We then add the \"up\" and \"down\" scale uncertainites. Finally, we construct TH2 matrices that represent the response matrices. "
   ]
  },
  {
   "cell_type": "code",
   "execution_count": 6,
   "metadata": {},
   "outputs": [],
   "source": [
    "with open(\"qjetmass_zjets_gen.pkl\", \"rb\") as f:\n",
    "    output = pkl.load( f )"
   ]
  },
  {
   "cell_type": "code",
   "execution_count": 7,
   "metadata": {},
   "outputs": [],
   "source": [
    "M_np = output['response_matrix_g'].project(\"ptgen\",\"mgen\",\"ptreco\",\"mreco\").values(flow = False)\n",
    "\n",
    "M_np = M_np.reshape( M_np.shape[0]*M_np.shape[1],M_np.shape[2]*M_np.shape[3] )\n",
    "\n",
    "h_np = np.sum(output['response_matrix_g'].project(\"ptgen\",\"mgen\",\"ptreco\",\"mreco\").values(flow = False), (0,1)).reshape(91)\n",
    "htrue_np = np.sum(output['response_matrix_g'].project(\"ptgen\",\"mgen\",\"ptreco\",\"mreco\").values(flow = False), (2,3)).reshape(175)"
   ]
  },
  {
   "cell_type": "code",
   "execution_count": 8,
   "metadata": {},
   "outputs": [],
   "source": [
    "\n",
    "\n",
    "\n",
    "\n",
    "for i in range(M_np.shape[0]):\n",
    "    for j in range(M_np.shape[1]):\n",
    "        M.SetBinContent(i+1, j+1, M_np[i][j])\n",
    "        M1.SetBinContent(i+1, j+1, M_np[i][j]*(1+np.random.random()))\n",
    "        M2.SetBinContent(i+1, j+1, M_np[i][j]*(1-np.random.random()))\n",
    "   "
   ]
  },
  {
   "cell_type": "code",
   "execution_count": 9,
   "metadata": {},
   "outputs": [
    {
     "data": {
      "text/plain": [
       "<matplotlib.collections.PathCollection at 0x7f2d3bceafd0>"
      ]
     },
     "execution_count": 9,
     "metadata": {},
     "output_type": "execute_result"
    },
    {
     "data": {
      "image/png": "[encoded data removed]",
      "text/plain": [
       "<Figure size 432x288 with 1 Axes>"
      ]
     },
     "metadata": {
      "needs_background": "light"
     },
     "output_type": "display_data"
    }
   ],
   "source": [
    "import matplotlib.pyplot as plt\n",
    "plt.scatter(np.arange(len(htrue_np)),htrue_np)"
   ]
  },
  {
   "cell_type": "code",
   "execution_count": 10,
   "metadata": {},
   "outputs": [
    {
     "data": {
      "text/plain": [
       "75731.43193571127"
      ]
     },
     "execution_count": 10,
     "metadata": {},
     "output_type": "execute_result"
    }
   ],
   "source": [
    "M.Integral()"
   ]
  },
  {
   "cell_type": "code",
   "execution_count": 11,
   "metadata": {},
   "outputs": [
    {
     "data": {
      "text/plain": [
       "(175, 91)"
      ]
     },
     "execution_count": 11,
     "metadata": {},
     "output_type": "execute_result"
    }
   ],
   "source": [
    "M_np.shape"
   ]
  },
  {
   "cell_type": "code",
   "execution_count": 12,
   "metadata": {},
   "outputs": [
    {
     "data": {
      "text/plain": [
       "175"
      ]
     },
     "execution_count": 12,
     "metadata": {},
     "output_type": "execute_result"
    }
   ],
   "source": [
    "htrue.GetNbinsX()"
   ]
  },
  {
   "cell_type": "code",
   "execution_count": 13,
   "metadata": {},
   "outputs": [
    {
     "data": {
      "text/plain": [
       "75731.43193571133"
      ]
     },
     "execution_count": 13,
     "metadata": {},
     "output_type": "execute_result"
    }
   ],
   "source": [
    "#M.Integral()\n",
    "np.sum(htrue_np)"
   ]
  },
  {
   "cell_type": "code",
   "execution_count": 23,
   "metadata": {},
   "outputs": [],
   "source": [
    "for i in range(91):\n",
    "    h.SetBinContent(i+1,h_np[i])\n",
    "    \n",
    "for j in range(175):\n",
    "    htrue.SetBinContent(j+1, htrue_np[j])"
   ]
  },
  {
   "cell_type": "code",
   "execution_count": 24,
   "metadata": {},
   "outputs": [
    {
     "data": {
      "image/png": "[encoded data removed]",
      "text/plain": [
       "<IPython.core.display.Image object>"
      ]
     },
     "metadata": {},
     "output_type": "display_data"
    }
   ],
   "source": [
    "can = ROOT.TCanvas()\n",
    "h.Draw()\n",
    "can.Draw()"
   ]
  },
  {
   "cell_type": "code",
   "execution_count": 25,
   "metadata": {},
   "outputs": [
    {
     "data": {
      "image/png": "[encoded data removed]",
      "text/plain": [
       "<IPython.core.display.Image object>"
      ]
     },
     "metadata": {},
     "output_type": "display_data"
    }
   ],
   "source": [
    "can = ROOT.TCanvas()\n",
    "htrue.Draw()\n",
    "can.Draw()"
   ]
  },
  {
   "cell_type": "code",
   "execution_count": 26,
   "metadata": {},
   "outputs": [
    {
     "data": {
      "text/plain": [
       "'\\nfor bx in xrange(M.GetNbinsX()):\\n    for by in xrange(M.GetNbinsY()):\\n        bc = M.GetBinContent(bx,by)\\n        if bc > 1. :\\n            gxn = signalBinning.GetBinName(bx)\\n            gyn = detectorDistribution.GetBinName(by)\\n            print \"Bin X {} {} Y {} {} is filled with {} \".format(bx, gxn, by, gyn, bc)\\n'"
      ]
     },
     "execution_count": 26,
     "metadata": {},
     "output_type": "execute_result"
    }
   ],
   "source": [
    "'''\n",
    "for bx in xrange(M.GetNbinsX()):\n",
    "    for by in xrange(M.GetNbinsY()):\n",
    "        bc = M.GetBinContent(bx,by)\n",
    "        if bc > 1. :\n",
    "            gxn = signalBinning.GetBinName(bx)\n",
    "            gyn = detectorDistribution.GetBinName(by)\n",
    "            print \"Bin X {} {} Y {} {} is filled with {} \".format(bx, gxn, by, gyn, bc)\n",
    "'''            "
   ]
  },
  {
   "cell_type": "markdown",
   "metadata": {},
   "source": [
    "# Normalize by Pt (y) bin"
   ]
  },
  {
   "cell_type": "code",
   "execution_count": 27,
   "metadata": {},
   "outputs": [],
   "source": [
    "normalize = False"
   ]
  },
  {
   "cell_type": "code",
   "execution_count": 28,
   "metadata": {},
   "outputs": [],
   "source": [
    "ptbinsgenglobal = [ [0,5] ,[6,8], [10,12] , [13,13]  ]\n",
    "\n",
    "ptbinsdetglobal = [  [0,0] , [1,5] , [6,10] , [11,15] ]#, [16,18 ]  ]\n"
   ]
  },
  {
   "cell_type": "code",
   "execution_count": 29,
   "metadata": {},
   "outputs": [],
   "source": [
    "\n",
    "def NormM(rMMx = None  , recoorgen2 = None,  nameg = None) :\n",
    "\n",
    "    ### Make a new empty TH2 so the OFL and UFL will be zero\n",
    "    rMMnx = rMMx.Clone(nameg)\n",
    "    for xx in range(rMMnx.GetNbinsX()+1) :\n",
    "        for yy in range(rMMnx.GetNbinsY()+1) :\n",
    "            rMMnx.SetBinContent(xx , yy ,0.0) \n",
    "            rMMnx.SetBinError(xx , yy ,0.0)   \n",
    "        \n",
    "    \n",
    "    intscales3 = [ ]\n",
    "    intsums = [ ]\n",
    "    intsums2 = [ ]\n",
    "    bins1 = [ ]\n",
    "    bins2 = [ ]\n",
    "\n",
    "    #if intscalesin == None :\n",
    "    ptbs1 = None\n",
    "    ptbs2 = None    \n",
    "    if recoorgen2 == 'reco':  \n",
    "        ptbs1 = ptbinsdetglobal\n",
    "        ptbs2 = ptbinsgenglobal \n",
    "        bins1 = detBin\n",
    "        noden1 = \"detectordistribution\"\n",
    "        bins2 = genBin\n",
    "        noden2 = \"signal\"\n",
    "    elif recoorgen2 == 'gen':  \n",
    "        ptbs1 = ptbinsgenglobal\n",
    "        ptbs2 = ptbinsdetglobal \n",
    "        bins1 = genBin\n",
    "        noden1 = \"signal\"\n",
    "        bins2 = detBin\n",
    "        noden2 = \"detectordistribution\"\n",
    "        \n",
    "    for iptb,ptbg in enumerate(ptbs1[1:-1]) :\n",
    "        sumn = 0\n",
    "        tint = 0.\n",
    "        #print ptbinsGen[iptb]\n",
    "        #print ptbinsGen[iptb+1]\n",
    "        #ptw = ptbinsGen[iptb+1] - ptbinsGen[iptb]\n",
    "        #print \"New Pt bin {}- {} GeV of width {} GeV\".format(ptbinsGen[iptb] , ptbinsGen[iptb+1] , ptw )\n",
    "        for iy in range( ptbg[0], ptbg[1]): #  \n",
    "            \n",
    "            db = bins1.FindNode(noden1).GetBinName(iy)\n",
    "            #print db\n",
    "            dbs = bins1.FindNode(noden1).GetBinSize(iy)\n",
    "            tgbs = dbs #1.     \n",
    "            bw = 1.\n",
    "            #print ptw\n",
    "            #if ptw > 0.:\n",
    "            #    tgbs = gbs/ptw\n",
    "            #print    tgbs \n",
    "            for iptbr,ptbr in enumerate(ptbs2[1:-1]) :\n",
    "                for ix in range(ptbr[0],ptbr[1]):\n",
    "                    #print ptbr[0]\n",
    "                    #print \"to\"\n",
    "                    #print ptbr[1]\n",
    "                    gb = bins2.FindNode(noden2).GetBinName(ix)\n",
    "                    #db = detBin.FindNode(\"detectordistribution\").GetBinName(ix)\n",
    "                    #if 'mass[ofl]' in str(db): \n",
    "                    #print \"....\"+str(gb)\n",
    "                    #    continue\n",
    "                    gbs = bins2.FindNode(noden2).GetBinSize(ix)\n",
    "                    \n",
    "                    #if iy ==1:print dbs\n",
    "                    #tdbs = dbs#/ptw\n",
    "                    #print tdbs\n",
    "                    bw = gbs*dbs\n",
    "\n",
    "                    rbc = rMMx.GetBinContent(ix , iy)\n",
    "                    trbc = rMMx.GetBinContent(ix , iy)\n",
    "                    #print trbc\n",
    "\n",
    "                    rbe = rMMx.GetBinError(ix , iy)\n",
    "                    trbe = rMMx.GetBinError(ix , iy)\n",
    "                    #print bw\n",
    "                    if bw > 0. :\n",
    "                        trbc = rbc/bw\n",
    "                        trbe = rbe/bw               \n",
    "                    rMMnx.SetBinContent(ix, iy , trbc)    \n",
    "                    rMMnx.SetBinError(ix, iy , trbe)  \n",
    "                    tint+=trbc\n",
    "                    sumn+=1\n",
    "        #print \"Integral of bin {} {} is {} and it was the sum of {} bins\".format(ptbg, iptb, tint, sumn)        \n",
    "        intscales3.append(tint)\n",
    "        intsums.append(sumn)\n",
    "    #print \"Integral of bin x :\"\n",
    "    #print intscales3\n",
    "    #elif intscalesin != None :\n",
    "    #    intscales = tint #intscalesin\n",
    "    #print \"scaling by {}\".format(tint)\n",
    "    for iptb,ptbg in enumerate(ptbs1[1:-1]) :\n",
    "        sumn2 = 0\n",
    "        sdsdx = intscales3[iptb]\n",
    "        #print sdsdx\n",
    "        #print ptbg\n",
    "        #print iptb\n",
    "        #print \"New Pt bin \"\n",
    "        for iy in range( ptbg[0], ptbg[1]): #  \n",
    "            for iptbr,ptbr in enumerate(ptbs2[1:-1]) :\n",
    "                for ix in range(ptbr[0],ptbr[1]):\n",
    "\n",
    "                    rbc = rMMnx.GetBinContent(ix , iy)\n",
    "                    trbc = rMMnx.GetBinContent(ix , iy)\n",
    "                    #print trbc\n",
    "\n",
    "                    rbe = rMMnx.GetBinError(ix , iy)\n",
    "                    trbe = rMMnx.GetBinError(ix , iy)\n",
    "                    #print bw\n",
    "                    if sdsdx > 0. :\n",
    "                        trbc = rbc/sdsdx\n",
    "                        trbe = rbe/sdsdx               \n",
    "                    rMMnx.SetBinContent(ix , iy , trbc)    \n",
    "                    rMMnx.SetBinError(ix , iy, trbe) \n",
    "                    sumn2 +=1\n",
    "        intsums2.append(sumn2)     \n",
    "    #print intsums\n",
    "    #print intsums2    \n",
    "    return rMMnx #, intscales3 ]\n",
    "\n"
   ]
  },
  {
   "cell_type": "code",
   "execution_count": null,
   "metadata": {},
   "outputs": [],
   "source": []
  },
  {
   "cell_type": "code",
   "execution_count": null,
   "metadata": {},
   "outputs": [],
   "source": []
  },
  {
   "cell_type": "code",
   "execution_count": null,
   "metadata": {},
   "outputs": [],
   "source": []
  },
  {
   "cell_type": "code",
   "execution_count": 30,
   "metadata": {},
   "outputs": [],
   "source": [
    "def NormXorY(XorY = None , recorgen = None , nameg = None) :\n",
    "    ### Make a new empty TH1 so the OFL and UFL will be zero\n",
    "    XorYn = XorY.Clone()\n",
    "    for xx in range(XorY.GetNbinsX()+1) :\n",
    "        XorYn.SetBinContent(xx  ,0.0) \n",
    "        XorYn.SetBinError(xx  ,0.0)   \n",
    "        \n",
    "    gpts = None\n",
    "    bins = None\n",
    "    noden = None\n",
    "\n",
    "    \n",
    "    \n",
    "    if recorgen == 'reco' :\n",
    "        gpts = ptbinsdetglobal\n",
    "        bins = detBin\n",
    "        noden = \"detectordistribution\"\n",
    "    elif recorgen == 'gen' :\n",
    "        gpts = ptbinsgenglobal        \n",
    "        bins = genBin\n",
    "        noden = \"signal\"\n",
    "    intscalesx = [ ]\n",
    "    \n",
    "    for iptbr,ptbr in enumerate(gpts[1:-1]) :\n",
    "        tint = 0.\n",
    "        #print iptbr\n",
    "        #print ptbr        \n",
    "        #print ptbinsGen[iptbr+1]\n",
    "        #print ptbinsGen[iptbr]        \n",
    "        #ptw = ptbinsGen[iptbr+1] - ptbinsGen[iptbr]\n",
    "        for iy in range(ptbr[0],ptbr[1]):\n",
    "            #print ptbr[0]\n",
    "            #print \"to\"\n",
    "            #print ptbr[1]\n",
    "            db = bins.FindNode(noden).GetBinName(iy)\n",
    "            #if 'mass[ofl]' in str(db): \n",
    "            #print db\n",
    "            #    continue\n",
    "            dbs = bins.FindNode(noden).GetBinSize(iy)\n",
    "            #if iy ==1:print dbs\n",
    "            tdbs = dbs#/ptw\n",
    "            #if bins == genBin:\n",
    "            #    tdbs = tdbs * ptw\n",
    "            bw = tdbs# *ptw\n",
    "\n",
    "            rbc = XorY.GetBinContent(iy)\n",
    "            trbc = 0.#XorY.GetBinContent( iy)\n",
    "            #print trbc\n",
    "\n",
    "            rbe = XorY.GetBinError( iy)\n",
    "            trbe = 0.#XorY.GetBinError( iy)\n",
    "            #print bw\n",
    "            if bw > 0. :\n",
    "                trbc = rbc/bw\n",
    "                trbe = rbe/bw               \n",
    "            XorYn.SetBinContent(iy , trbc)    \n",
    "            XorYn.SetBinError(iy , trbe)  \n",
    "            tint+=trbc\n",
    "        intscalesx.append(tint)\n",
    "    #print \"Integral of bin x for NormXorY is :\"\n",
    "    #print intscalesx\n",
    "\n",
    "\n",
    "    for iptb,ptbg in enumerate(gpts[1:-1]) :\n",
    "        tint = 0.\n",
    "        sdsd = intscalesx[iptb]\n",
    "        #print sdsd\n",
    "        #print ptbg\n",
    "        #print iptb\n",
    "        #rint \"New Pt bin \"\n",
    "        for ix in range( ptbg[0], ptbg[1]): #  \n",
    "\n",
    "            rbc = XorYn.GetBinContent(ix)\n",
    "            trbc = 0.#XorYn.GetBinContent(ix)\n",
    "            #print trbc\n",
    "\n",
    "            rbe = XorYn.GetBinError(ix)\n",
    "            trbe =0. #XorYn.GetBinError(ix)\n",
    "            #print bw\n",
    "            if sdsd > 0. :\n",
    "                trbc = rbc/sdsd\n",
    "                trbe = rbe/sdsd                \n",
    "            XorYn.SetBinContent(ix , trbc)    \n",
    "            XorYn.SetBinError(ix, trbe)  \n",
    "    return XorYn.Clone(nameg)\n",
    "\n",
    "               "
   ]
  },
  {
   "cell_type": "code",
   "execution_count": 31,
   "metadata": {},
   "outputs": [],
   "source": [
    "\n",
    "respN = 'reco'\n",
    "\n",
    "\n",
    "if normalize :\n",
    "    M = NormM(M.Clone() , respN,\"M_norm\") \n"
   ]
  },
  {
   "cell_type": "code",
   "execution_count": 32,
   "metadata": {},
   "outputs": [],
   "source": [
    "if normalize :\n",
    "    M1 = NormM(M1.Clone() ,respN , \"M_Up\") \n",
    "    M2 = NormM(M2.Clone() , respN,\"M_Dn\") \n",
    "\n",
    "    h = NormXorY(h.Clone() ,'reco', \"h_norm\") \n",
    "\n",
    "    hup = NormXorY(hup.Clone() ,'reco', \"hu_norm\") \n",
    "    hdn = NormXorY(hdn.Clone() ,'reco', \"hd_norm\") \n",
    "\n",
    "    htrue = NormXorY(htrue.Clone() ,'gen', \"htrue_norm\") \n",
    "    htruef = NormXorY(htruef.Clone() ,'reco', \"htruef_norm\") \n"
   ]
  },
  {
   "cell_type": "markdown",
   "metadata": {},
   "source": [
    "## Draw the response matrix\n",
    "\n",
    "We draw the nominal and $\\pm 1 \\sigma$ variations. "
   ]
  },
  {
   "cell_type": "code",
   "execution_count": 33,
   "metadata": {},
   "outputs": [
    {
     "data": {
      "image/png": "[encoded data removed]",
      "text/plain": [
       "<IPython.core.display.Image object>"
      ]
     },
     "metadata": {},
     "output_type": "display_data"
    }
   ],
   "source": [
    "\n",
    "c0 = ROOT.TCanvas(\"c0\", \"c0\", 1800, 600)\n",
    "c0.Divide(3,1)\n",
    "c0.cd(1)\n",
    "M.Draw(\"colz\")\n",
    "c0.cd(2)\n",
    "M1.Draw(\"colz\")\n",
    "c0.cd(3)\n",
    "M2.Draw(\"colz\")\n",
    "c0.Draw()"
   ]
  },
  {
   "cell_type": "markdown",
   "metadata": {},
   "source": [
    "## Draw the response matrix ratio\n",
    "\n",
    "We draw the ratio of the $\\pm 1 \\sigma$ variations to the nominal. "
   ]
  },
  {
   "cell_type": "code",
   "execution_count": 34,
   "metadata": {},
   "outputs": [
    {
     "data": {
      "image/png": "[encoded data removed]",
      "text/plain": [
       "<IPython.core.display.Image object>"
      ]
     },
     "metadata": {},
     "output_type": "display_data"
    }
   ],
   "source": [
    "M1ratio = M1.Clone()\n",
    "M1ratio.Divide(M)\n",
    "M2ratio = M2.Clone()\n",
    "M2ratio.Divide(M)\n",
    "M1ratio.SetMaximum(1.2)\n",
    "M2ratio.SetMaximum(1.2)\n",
    "\n",
    "cratio = ROOT.TCanvas(\"cratio\", \"cratio\", 1800, 600)\n",
    "cratio.Divide(3,1)\n",
    "cratio.cd(1)\n",
    "M.Draw(\"colz\")\n",
    "cratio.cd(2)\n",
    "M1ratio.Draw(\"colz\")\n",
    "ROOT.gPad.SetLogz()\n",
    "cratio.cd(3)\n",
    "M2ratio.Draw(\"colz\")\n",
    "ROOT.gPad.SetLogz()\n",
    "cratio.Draw()"
   ]
  },
  {
   "cell_type": "markdown",
   "metadata": {},
   "source": [
    "# Project Response Matrix onto X and Y axis "
   ]
  },
  {
   "cell_type": "code",
   "execution_count": 37,
   "metadata": {},
   "outputs": [
    {
     "data": {
      "image/png": "[encoded data removed]",
      "text/plain": [
       "<IPython.core.display.Image object>"
      ]
     },
     "metadata": {},
     "output_type": "display_data"
    }
   ],
   "source": [
    "h2 = M.ProjectionY(\"reco2\")\n",
    "htrue2 = M.ProjectionX(\"gen2\")\n",
    "\n",
    "c1 = ROOT.TCanvas()\n",
    "h.SetMarkerStyle(4)\n",
    "h.SetLineColor(ROOT.kRed)\n",
    "h.SetLineStyle(2)\n",
    "h.Draw()\n",
    "h2.Draw(\"same\")\n",
    "c1.Draw()\n"
   ]
  },
  {
   "cell_type": "code",
   "execution_count": 38,
   "metadata": {},
   "outputs": [
    {
     "data": {
      "image/png": "[encoded data removed]",
      "text/plain": [
       "<IPython.core.display.Image object>"
      ]
     },
     "metadata": {},
     "output_type": "display_data"
    }
   ],
   "source": [
    "c2 = ROOT.TCanvas()\n",
    "htrue.SetMarkerStyle(4)\n",
    "htrue.SetLineColor(ROOT.kRed)\n",
    "htrue.SetLineStyle(2)\n",
    "htrue.Draw()\n",
    "htrue2.Draw(\"same\")\n",
    "c2.Draw()"
   ]
  },
  {
   "cell_type": "markdown",
   "metadata": {},
   "source": [
    "## Plot the reconstructed and truth"
   ]
  },
  {
   "cell_type": "code",
   "execution_count": 39,
   "metadata": {},
   "outputs": [],
   "source": [
    "\n",
    "h2U = M1.ProjectionY(\"reco2U\")\n",
    "h2D = M2.ProjectionY(\"reco2D\")\n"
   ]
  },
  {
   "cell_type": "markdown",
   "metadata": {},
   "source": [
    "## Unfold\n",
    "\n",
    "1. Create the `TUnfoldDensity` object. \n",
    "1. Add the systematic uncertainty variations via `AddSysError`. \n",
    "1. Perform the regularization by scanning the L curve. \n",
    "1. Get the output. **Note! This does not account for systematic uncertainties automatically. They must be added by hand.**\n",
    "1. Draw unfolded versus true distributions (in the same coarse binning scheme). "
   ]
  },
  {
   "cell_type": "code",
   "execution_count": 41,
   "metadata": {},
   "outputs": [
    {
     "name": "stderr",
     "output_type": "stream",
     "text": [
      "Info in <TUnfold::SetConstraint>: fConstraint=1\n",
      "Warning in <TUnfold::TUnfold>: 16 output bins do not depend on the input data  0 19-25 45 47-50 75 100 176\n",
      "Info in <TUnfold::TUnfold>: 91 input bins and 161 output bins\n",
      "Error in <TUnfold::TUnfold>: too few (ny=91) input bins for nx=161 output bins\n",
      "Info in <TUnfoldDensity::TUnfold>: *NOT* unfolding bin #0 (xaxis:generator[ufl])\n",
      "Info in <TUnfoldDensity::TUnfold>: *NOT* unfolding bin #19 (xaxis:generator[18.5,19.5])\n",
      "Info in <TUnfoldDensity::TUnfold>: *NOT* unfolding bin #20 (xaxis:generator[19.5,20.5])\n",
      "Info in <TUnfoldDensity::TUnfold>: *NOT* unfolding bin #21 (xaxis:generator[20.5,21.5])\n",
      "Info in <TUnfoldDensity::TUnfold>: *NOT* unfolding bin #22 (xaxis:generator[21.5,22.5])\n",
      "Info in <TUnfoldDensity::TUnfold>: *NOT* unfolding bin #23 (xaxis:generator[22.5,23.5])\n",
      "Info in <TUnfoldDensity::TUnfold>: *NOT* unfolding bin #24 (xaxis:generator[23.5,24.5])\n",
      "Info in <TUnfoldDensity::TUnfold>: *NOT* unfolding bin #25 (xaxis:generator[24.5,25.5])\n",
      "Info in <TUnfoldDensity::TUnfold>: *NOT* unfolding bin #45 (xaxis:generator[44.5,45.5])\n",
      "Info in <TUnfoldDensity::TUnfold>: *NOT* unfolding bin #47 (xaxis:generator[46.5,47.5])\n",
      "Info in <TUnfoldDensity::TUnfold>: *NOT* unfolding bin #48 (xaxis:generator[47.5,48.5])\n",
      "Info in <TUnfoldDensity::TUnfold>: *NOT* unfolding bin #49 (xaxis:generator[48.5,49.5])\n",
      "Info in <TUnfoldDensity::TUnfold>: *NOT* unfolding bin #50 (xaxis:generator[49.5,50.5])\n",
      "Info in <TUnfoldDensity::TUnfold>: *NOT* unfolding bin #75 (xaxis:generator[74.5,75.5])\n",
      "Info in <TUnfoldDensity::TUnfold>: *NOT* unfolding bin #100 (xaxis:generator[99.5,100])\n",
      "Info in <TUnfoldDensity::TUnfold>: *NOT* unfolding bin #176 (xaxis:generator[ofl])\n",
      "Info in <TUnfoldDensity::RegularizeOneDistribution>: regularizing xaxis regMode=3 densityMode=3 axisSteering=*[UOB]\n"
     ]
    }
   ],
   "source": [
    "orientation = ROOT.TUnfold.kHistMapOutputHoriz\n",
    "regMode = ROOT.TUnfold.kRegModeCurvature\n",
    "con = ROOT.TUnfold.kEConstraintArea #ROOT.TUnfold.kEConstraintArea\n",
    "mode =  ROOT.TUnfoldDensity.kDensityModeBinWidth\n",
    "axisSteering =  \"*[b]\"\n",
    "\n",
    "#u = ROOT.TUnfoldDensity(M, orientation, regMode, con, mode, genBin, detBin, \"signal\", axisSteering)\n",
    "\n",
    "u = ROOT.TUnfoldDensity(M,orientation,regMode,con)\n"
   ]
  },
  {
   "cell_type": "code",
   "execution_count": 42,
   "metadata": {},
   "outputs": [
    {
     "data": {
      "text/plain": [
       "13"
      ]
     },
     "execution_count": 42,
     "metadata": {},
     "output_type": "execute_result"
    },
    {
     "name": "stderr",
     "output_type": "stream",
     "text": [
      "Warning in <TUnfoldDensity::SetInput>: 13/91 input bins have zero error, and are ignored.\n"
     ]
    }
   ],
   "source": [
    "u.SetInput( h )\n"
   ]
  },
  {
   "cell_type": "code",
   "execution_count": 43,
   "metadata": {},
   "outputs": [],
   "source": [
    "\n",
    "u.AddSysError(M1, \"Up\", orientation, ROOT.TUnfoldDensity.kSysErrModeMatrix)\n"
   ]
  },
  {
   "cell_type": "code",
   "execution_count": 44,
   "metadata": {},
   "outputs": [],
   "source": [
    "\n",
    "u.AddSysError(M2, \"Dn\", orientation, ROOT.TUnfoldDensity.kSysErrModeMatrix)\n"
   ]
  },
  {
   "cell_type": "code",
   "execution_count": 45,
   "metadata": {},
   "outputs": [
    {
     "data": {
      "text/plain": [
       "0.9886888935573553"
      ]
     },
     "execution_count": 45,
     "metadata": {},
     "output_type": "execute_result"
    },
    {
     "name": "stderr",
     "output_type": "stream",
     "text": [
      "Error in <TUnfoldDensity::GetInputInverseEmatrix>: number of parameters 161 > 78 (rank of input covariance). Problem can not be solved\n",
      "Info in <TUnfoldDensity::InvertMSparseSymmPos>: cholesky-decomposition failed, try eigenvalue analysis\n",
      "Warning in <TUnfoldDensity::DoUnfold>: rank of matrix E 78 expect 161\n",
      "Info in <TUnfoldDensity::InvertMSparseSymmPos>: cholesky-decomposition failed, try eigenvalue analysis\n",
      "Warning in <TUnfoldDensity::DoUnfold>: rank of output covariance is 78 expect 161\n"
     ]
    }
   ],
   "source": [
    "\n",
    "u.DoUnfold(0.0)"
   ]
  },
  {
   "cell_type": "code",
   "execution_count": 46,
   "metadata": {},
   "outputs": [],
   "source": [
    "# Get output... DOES NOT CONTAIN SYSTEMATICS. \n",
    "o = u.GetOutput(\"o\")\n",
    "#o = u.GetOutput(\"unfolded\",\"\",\"signal\", \"*[b]\", False)\n",
    " "
   ]
  },
  {
   "cell_type": "code",
   "execution_count": 47,
   "metadata": {},
   "outputs": [],
   "source": [
    "# Get systematic shifts of output\n",
    "o_up = u.GetDeltaSysSource(\"Up\", \"o_upshift\", \"M+1#sigma\")\n",
    "o_dn = u.GetDeltaSysSource(\"Dn\", \"o_dnshift\", \"M-1#sigma\")\n",
    "o_up.SetLineStyle(2)\n",
    "o_dn.SetLineStyle(2)\n"
   ]
  },
  {
   "cell_type": "code",
   "execution_count": 48,
   "metadata": {},
   "outputs": [],
   "source": [
    "# Get various covariances\n",
    "cov = u.GetEmatrixTotal(\"cov\", \"Covariance Matrix\")\n",
    "#cov = u.GetEmatrixTotal(\"ematrix\",\"Covariance Matrix\", \"signal\", \"*[]\", False)\n",
    "\n",
    "cov_uncorr = u.GetEmatrixSysUncorr(\"cov_uncorr\", \"Covariance Matrix from Uncorrelated Uncertainties\")\n",
    "cov_uncorr_data = u.GetEmatrixInput(\"cov_uncorr_data\", \"Covariance Matrix from Stat Uncertainties of Input Data\")\n",
    "\n",
    "\n",
    "#cov_uncorr = u.GetEmatrixSysUncorr(\"cov_uncorr\", \"Covariance Matrix from Uncorrelated Uncertainties\", \"signal\", \"*[]\", False)\n",
    "#cov_uncorr_data = u.GetEmatrixInput(\"cov_uncorr_data\", \"Covariance Matrix from Stat Uncertainties of Input Data\", \"signal\", \"*[]\", False)\n"
   ]
  },
  {
   "cell_type": "code",
   "execution_count": 49,
   "metadata": {},
   "outputs": [],
   "source": [
    "\n",
    "# Now prepare various distributions. \n",
    "o_unfunc = o.Clone(\"o_unc\")        # Unfolding and stat unc\n",
    "o_sys = o.Clone(\"o_sys\")        # Syst uncertainty\n",
    "o_unctot = o.Clone(\"o_unctot\")  # Total uncertainty\n",
    "o_sys.SetLineStyle(2)\n"
   ]
  },
  {
   "cell_type": "code",
   "execution_count": 50,
   "metadata": {},
   "outputs": [],
   "source": [
    "\n",
    "# Create total uncertainty and sys uncertainty plots. \n",
    "# Also fix the uncertainties on the output\n",
    "o_origErrors = o.Clone(\"o_origErrors\")\n",
    "o_origJustErrors = o.Clone(\"o_origErrors\")\n",
    "\n",
    "for i in range( 0, o_up.GetNbinsX() + 1):\n",
    "    unc_tot = ROOT.TMath.Sqrt( cov.GetBinContent(i,i) )\n",
    "    o_unctot.SetBinContent(i, unc_tot )   \n",
    "    oe = o.GetBinError(i)\n",
    "    o_origJustErrors.SetBinContent(i, oe)    \n",
    "    o.SetBinError(i, unc_tot )\n",
    "    \n",
    "    yup = abs( o_up.GetBinContent(i))\n",
    "    ydn = abs( o_dn.GetBinContent(i))\n",
    "    dy = ROOT.TMath.Sqrt( (yup**2 + ydn**2) )\n",
    "    o_sys.SetBinContent(i, dy )\n",
    "\n",
    "\n",
    "\n",
    "\n"
   ]
  },
  {
   "cell_type": "code",
   "execution_count": 51,
   "metadata": {},
   "outputs": [],
   "source": [
    "#htrue2 = htrue.Clone(\"h2\")\n",
    "#htrue2.Rebin(finebins/coarsebins)\n",
    "o.SetMarkerStyle(20)\n",
    "o.SetMarkerColor(1)\n",
    "o_origErrors.SetMarkerStyle(21)\n",
    "o_origErrors.SetMarkerColor(3)\n",
    "o_unfunc.SetMarkerStyle(0)\n",
    "o_unfunc.SetLineColor(2)\n",
    "htrue.SetMarkerStyle(21)\n",
    "htrue.SetMarkerColor(4)\n",
    "htrue.SetMarkerStyle(4)\n",
    "htrue.SetLineColor(4)\n",
    "\n"
   ]
  },
  {
   "cell_type": "code",
   "execution_count": 52,
   "metadata": {},
   "outputs": [
    {
     "data": {
      "image/png": "[encoded data removed]",
      "text/plain": [
       "<IPython.core.display.Image object>"
      ]
     },
     "metadata": {},
     "output_type": "display_data"
    }
   ],
   "source": [
    "c = ROOT.TCanvas(\"c\",\"c\")\n",
    "#o.SetMinimum(0.0)\n",
    "#o.SetMaximum(1.0)\n",
    "\n",
    "o.Draw()\n",
    "o_origErrors.Draw(\"e same\")\n",
    "o_unfunc.Draw(\"e same\")\n",
    "htrue.Draw(\"e same\")\n",
    "leg2 = ROOT.TLegend(0.7, 0.7, 0.86, 0.86)\n",
    "leg2.SetBorderSize(0)\n",
    "leg2.SetFillColor(0)\n",
    "leg2.AddEntry( o, \"Unfolded, total unc\",'p')\n",
    "leg2.AddEntry( o_origErrors, \"Unfolded, unf unc\",'p')\n",
    "\n",
    "leg2.AddEntry( o_unfunc, \"stat+unfolding unc\",'l')\n",
    "leg2.AddEntry( htrue, \"True\",'p')\n",
    "leg2.Draw()\n",
    "c.Draw()"
   ]
  },
  {
   "cell_type": "code",
   "execution_count": null,
   "metadata": {},
   "outputs": [],
   "source": []
  },
  {
   "cell_type": "code",
   "execution_count": null,
   "metadata": {},
   "outputs": [],
   "source": []
  },
  {
   "cell_type": "code",
   "execution_count": null,
   "metadata": {
    "collapsed": true
   },
   "outputs": [],
   "source": []
  },
  {
   "cell_type": "markdown",
   "metadata": {},
   "source": [
    "## Plot closure\n",
    "\n",
    "The closure plot is the true distribution divided by the unfolded distribution. Aside from the outermost bins, the closure is consistent with unity. "
   ]
  },
  {
   "cell_type": "markdown",
   "metadata": {},
   "source": [
    "## Plot the total covariance matrix"
   ]
  }
 ],
 "metadata": {
  "@webio": {
   "lastCommId": null,
   "lastKernelId": null
  },
  "kernelspec": {
   "display_name": "Python 3",
   "language": "python",
   "name": "python3"
  },
  "language_info": {
   "codemirror_mode": {
    "name": "ipython",
    "version": 3
   },
   "file_extension": ".py",
   "mimetype": "text/x-python",
   "name": "python",
   "nbconvert_exporter": "python",
   "pygments_lexer": "ipython3",
   "version": "3.9.12"
  }
 },
 "nbformat": 4,
 "nbformat_minor": 2
}
