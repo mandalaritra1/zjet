{
 "cells": [
  {
   "cell_type": "markdown",
   "metadata": {},
   "source": [
    "# Dimuon spectrum\n",
    "\n",
    "This code is a columnar adaptation of [a ROOT tutorial](https://root.cern.ch/doc/master/df102__NanoAODDimuonAnalysis_8py.html) showcasing the awkward array toolset, and utilizing FCAT histograms."
   ]
  },
  {
   "cell_type": "code",
   "execution_count": 1,
   "metadata": {},
   "outputs": [],
   "source": [
    "import uproot\n",
    "import uproot_methods\n",
    "import awkward\n",
    "import matplotlib.pyplot as plt\n",
    "import numpy as np\n",
    "import time\n",
    "import glob\n",
    "import concurrent.futures\n",
    "import json\n",
    "\n",
    "from coffea import hist\n",
    "from coffea.hist import plot"
   ]
  },
  {
   "cell_type": "code",
   "execution_count": 2,
   "metadata": {},
   "outputs": [],
   "source": [
    "\n",
    "# Make 4 parallel threads\n",
    "executor = concurrent.futures.ThreadPoolExecutor(4)\n",
    "\n",
    "# Make a cache for uproot\n",
    "cache = {}\n",
    "\n",
    "# Get the sample metadata\n",
    "samples = json.load( open('samples_dy.json') )\n",
    "\n"
   ]
  },
  {
   "cell_type": "code",
   "execution_count": 3,
   "metadata": {},
   "outputs": [
    {
     "name": "stdout",
     "output_type": "stream",
     "text": [
      "processing sample:  {'name': 'DYJetsToLL_M-50_HT-70to100_TuneCP5_13TeV-madgraphMLM-pythia8', 'xsec': 143.0, 'nevents': 9344037.0}\n",
      "...............................................................................................................................................................................................................processing sample:  {'name': 'DYJetsToLL_M-50_HT-100to200_TuneCP5_13TeV-madgraphMLM-pythia8', 'xsec': 164.4, 'nevents': 14185757.0}\n",
      "......................................................................................................................................................................................................................processing sample:  {'name': 'DYJetsToLL_M-50_HT-200to400_TuneCP5_13TeV-madgraphMLM-pythia8', 'xsec': 49.77, 'nevents': 11499275.0}\n",
      ".....................................................................................................................................................................................processing sample:  {'name': 'DYJetsToLL_M-50_HT-400to600_TuneCP5_13TeV-madgraphMLM-pythia8', 'xsec': 6.805, 'nevents': 9533635.0}\n",
      "..........................................................................................................................................................................processing sample:  {'name': 'DYJetsToLL_M-50_HT-600to800_TuneCP5_13TeV-madgraphMLM-pythia8', 'xsec': 1.778, 'nevents': 8153358.0}\n",
      "...............................................................................................................................................................................................processing sample:  {'name': 'DYJetsToLL_M-50_HT-800to1200_TuneCP5_13TeV-madgraphMLM-pythia8', 'xsec': 0.8526, 'nevents': 3089861.0}\n",
      "..................................................................processing sample:  {'name': 'DYJetsToLL_M-50_HT-1200to2500_TuneCP5_13TeV-madgraphMLM-pythia8', 'xsec': 0.01852, 'nevents': 625517.0}\n",
      "...............processing sample:  {'name': 'DYJetsToLL_M-50_HT-2500toInf_TuneCP5_13TeV-madgraphMLM-pythia8', 'xsec': 0.003652, 'nevents': 404986.0}\n",
      ".........."
     ]
    }
   ],
   "source": [
    "tstart = time.time()\n",
    "\n",
    "files = [\n",
    "    '/mnt/cms-data/store/group/lpctlbsm/NanoAODJMAR_2019_V1/Production/CRAB/DYJetsToLL_M-50_HT-100to200_TuneCP5_13TeV-madgraphMLM-pythia8/DYJetsToLLM-50HT-100to200TuneCP513TeV-madgraphMLM-pythia8RunIIFall17MiniAODv2-PU201712Apr2018/190312_200205/0000/nano102x_on_mini94x_2017_mc_NANO_9.root'\n",
    "]\n",
    "\n",
    "masshist = hist.Hist(\"Counts\", hist.Bin(\"mass\", r\"$m_{\\mu\\mu}$ [GeV]\", 70, 50, 120))\n",
    "\n",
    "branches = ['nMuon', 'Muon_pt', 'Muon_eta', 'Muon_phi', 'Muon_mass', 'Muon_charge']\n",
    "\n",
    "\n",
    "\n",
    "start_time = time.perf_counter()\n",
    "nev = 0\n",
    "\n",
    "prefix = '/mnt/cms-data/store/group/lpctlbsm/NanoAODJMAR_2019_V1/Production/CRAB/'\n",
    "\n",
    "for sample in samples[\"samples\"]:    \n",
    "    name, xsec, nevents = sample['name'], sample['xsec'], sample['nevents']\n",
    "    files = glob.glob(prefix + name + '/*/*/*/*.root')\n",
    "    \n",
    "    weight = xsec / nevents\n",
    "    print (\"processing sample: \", sample )\n",
    "\n",
    "    for chunk in uproot.iterate(files, 'Events', branches, cache=cache,\n",
    "                            entrysteps=500000,executor=executor,  namedecode='ascii'):\n",
    "        print('.',end='')\n",
    "        p4 = uproot_methods.TLorentzVectorArray.from_ptetaphim(\n",
    "            chunk.pop('Muon_pt'),\n",
    "            chunk.pop('Muon_eta'),\n",
    "            chunk.pop('Muon_phi'),\n",
    "            chunk.pop('Muon_mass'),\n",
    "        )\n",
    "        muons = awkward.JaggedArray.zip(p4=p4, charge=chunk['Muon_charge'])\n",
    "\n",
    "        twomuons = (muons.counts == 2)\n",
    "        opposite_charge = (muons['charge'].prod() == -1)\n",
    "        dimuons = muons[twomuons & opposite_charge].distincts()\n",
    "        dimuon_mass = (dimuons.i0['p4'] + dimuons.i1['p4']).mass\n",
    "        masshist.fill(mass=dimuon_mass.flatten(), weight=weight)\n",
    "\n",
    "elapsed = time.time() - tstart"
   ]
  },
  {
   "cell_type": "code",
   "execution_count": 4,
   "metadata": {},
   "outputs": [
    {
     "data": {
      "image/png": "[encoded data removed]",
      "text/plain": [
       "<Figure size 432x288 with 1 Axes>"
      ]
     },
     "metadata": {
      "needs_background": "light"
     },
     "output_type": "display_data"
    }
   ],
   "source": [
    "fig, ax, _ = plot.plot1d(masshist)"
   ]
  },
  {
   "cell_type": "code",
   "execution_count": 5,
   "metadata": {},
   "outputs": [
    {
     "name": "stdout",
     "output_type": "stream",
     "text": [
      "Events/s: 0.04947333618276664\n"
     ]
    }
   ],
   "source": [
    "print(\"Events/s:\", masshist.values()[()].sum()/elapsed)"
   ]
  },
  {
   "cell_type": "code",
   "execution_count": null,
   "metadata": {},
   "outputs": [],
   "source": []
  }
 ],
 "metadata": {
  "kernelspec": {
   "display_name": "Python 3",
   "language": "python",
   "name": "python3"
  },
  "language_info": {
   "codemirror_mode": {
    "name": "ipython",
    "version": 3
   },
   "file_extension": ".py",
   "mimetype": "text/x-python",
   "name": "python",
   "nbconvert_exporter": "python",
   "pygments_lexer": "ipython3",
   "version": "3.6.8"
  }
 },
 "nbformat": 4,
 "nbformat_minor": 2
}
