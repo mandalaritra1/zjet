{
 "cells": [
  {
   "cell_type": "code",
   "execution_count": 3,
   "id": "9dcc6815-f266-467f-8307-cc7b7088af59",
   "metadata": {},
   "outputs": [],
   "source": [
    "from coffea.analysis_tools import Weights\n",
    "import numpy as np\n",
    "import awkward as ak"
   ]
  },
  {
   "cell_type": "code",
   "execution_count": 4,
   "id": "5f8ed537-c57e-4b7c-ac09-15698e0ba2c0",
   "metadata": {},
   "outputs": [],
   "source": [
    "weights = Weights(size = None)"
   ]
  },
  {
   "cell_type": "code",
   "execution_count": 5,
   "id": "65414aec-a335-4d17-9d78-1b96c01328e2",
   "metadata": {},
   "outputs": [],
   "source": [
    "weight = Weights(size = None, storeIndividual=True)\n",
    "\n",
    "weight.add(name = \"a\", weight = np.array([1]), weightUp = np.array([1.1]), weightDown = np.array([0.9]))\n",
    "weight.add(name = \"b\", weight = np.array([2]), weightUp = np.array([2.1]), weightDown = np.array([1.9]))\n",
    "weight.add(name = \"c\", weight = np.array([3]), weightUp = np.array([3.1]), weightDown = np.array([2.9]))"
   ]
  },
  {
   "cell_type": "code",
   "execution_count": 6,
   "id": "f9407f21-02ff-4755-b693-c19f4093b76f",
   "metadata": {},
   "outputs": [
    {
     "data": {
      "text/plain": [
       "\u001b[0;31mSignature:\u001b[0m \u001b[0mweight\u001b[0m\u001b[0;34m.\u001b[0m\u001b[0mpartial_weight\u001b[0m\u001b[0;34m(\u001b[0m\u001b[0minclude\u001b[0m\u001b[0;34m=\u001b[0m\u001b[0;34m[\u001b[0m\u001b[0;34m]\u001b[0m\u001b[0;34m,\u001b[0m \u001b[0mexclude\u001b[0m\u001b[0;34m=\u001b[0m\u001b[0;34m[\u001b[0m\u001b[0;34m]\u001b[0m\u001b[0;34m)\u001b[0m\u001b[0;34m\u001b[0m\u001b[0;34m\u001b[0m\u001b[0m\n",
       "\u001b[0;31mDocstring:\u001b[0m\n",
       "Partial event weight vector\n",
       "\n",
       "Return a partial weight by multiplying a subset of all weights.\n",
       "Can be operated either by specifying weights to include or\n",
       "weights to exclude, but not both at the same time. The method\n",
       "can only be used if the individual weights are stored via the\n",
       "``storeIndividual`` argument in the `Weights` initializer.\n",
       "\n",
       "Parameters\n",
       "----------\n",
       "    include : list\n",
       "        Weight names to include, defaults to []\n",
       "    exclude : list\n",
       "        Weight names to exclude, defaults to []\n",
       "Returns\n",
       "-------\n",
       "    weight : numpy.ndarray\n",
       "        The weight vector, corresponding to only the effect of the\n",
       "        corrections specified.\n",
       "\u001b[0;31mFile:\u001b[0m      /opt/conda/lib/python3.10/site-packages/coffea/analysis_tools.py\n",
       "\u001b[0;31mType:\u001b[0m      method"
      ]
     },
     "metadata": {},
     "output_type": "display_data"
    }
   ],
   "source": [
    "?weight.partial_weight"
   ]
  },
  {
   "cell_type": "code",
   "execution_count": null,
   "id": "ce5d7597-f87f-4485-8a3b-db74d31c85f0",
   "metadata": {},
   "outputs": [],
   "source": []
  }
 ],
 "metadata": {
  "kernelspec": {
   "display_name": "Python 3 (ipykernel)",
   "language": "python",
   "name": "python3"
  },
  "language_info": {
   "codemirror_mode": {
    "name": "ipython",
    "version": 3
   },
   "file_extension": ".py",
   "mimetype": "text/x-python",
   "name": "python",
   "nbconvert_exporter": "python",
   "pygments_lexer": "ipython3",
   "version": "3.10.8"
  }
 },
 "nbformat": 4,
 "nbformat_minor": 5
}
