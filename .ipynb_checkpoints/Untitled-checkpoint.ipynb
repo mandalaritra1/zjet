{
 "cells": [
  {
   "cell_type": "code",
   "execution_count": 1,
   "id": "e1de9df4-6858-404c-bf7d-7d45f8f5b96c",
   "metadata": {},
   "outputs": [],
   "source": [
    "import awkward as ak"
   ]
  },
  {
   "cell_type": "code",
   "execution_count": 27,
   "id": "d1277162-04d9-47ec-9585-7142d57757c3",
   "metadata": {},
   "outputs": [],
   "source": [
    "one = ak.Array([[1, 2, 3]])\n",
    "two = ak.Array([[200]])"
   ]
  },
  {
   "cell_type": "code",
   "execution_count": 19,
   "id": "3160babc-ca6b-4866-a191-462e2416f5f4",
   "metadata": {},
   "outputs": [],
   "source": [
    "one = ak.Array([[1, 2, 3], [], [4, 5], [6]])\n",
    "two = ak.Array([[\"a\", \"b\"], [\"c\"], [\"d\"], [\"e\", \"f\"]])"
   ]
  },
  {
   "cell_type": "code",
   "execution_count": 28,
   "id": "424121e0-5bb7-4772-bc64-7798ddc92885",
   "metadata": {},
   "outputs": [
    {
     "data": {
      "text/plain": [
       "<Array [[(1, 200), (2, 200), (3, 200)]] type='1 * var * (int64, int64)'>"
      ]
     },
     "execution_count": 28,
     "metadata": {},
     "output_type": "execute_result"
    }
   ],
   "source": [
    "ak.cartesian([one,two])"
   ]
  },
  {
   "cell_type": "code",
   "execution_count": 29,
   "id": "1c623e0a-0cc9-4a06-b37a-e97052c7ab8e",
   "metadata": {},
   "outputs": [
    {
     "data": {
      "text/plain": [
       "<Array [[(1, 200), (2, 200), (3, 200)]] type='1 * var * (int64, int64)'>"
      ]
     },
     "execution_count": 29,
     "metadata": {},
     "output_type": "execute_result"
    }
   ],
   "source": [
    "ak.cartesian([one, two], axis = 1)"
   ]
  },
  {
   "cell_type": "code",
   "execution_count": null,
   "id": "7e9b8b01-1bfe-4d48-b154-a07bb07c4e75",
   "metadata": {},
   "outputs": [],
   "source": []
  }
 ],
 "metadata": {
  "kernelspec": {
   "display_name": "Python 3 (ipykernel)",
   "language": "python",
   "name": "python3"
  },
  "language_info": {
   "codemirror_mode": {
    "name": "ipython",
    "version": 3
   },
   "file_extension": ".py",
   "mimetype": "text/x-python",
   "name": "python",
   "nbconvert_exporter": "python",
   "pygments_lexer": "ipython3",
   "version": "3.10.8"
  }
 },
 "nbformat": 4,
 "nbformat_minor": 5
}
