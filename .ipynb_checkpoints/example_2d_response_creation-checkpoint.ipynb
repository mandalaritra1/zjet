{
 "cells": [
  {
   "cell_type": "markdown",
   "metadata": {},
   "source": [
    "# Example to show how to plot a 4d matrix in 2d as a histogram\n",
    "\n",
    "This is a trivial \"response matrix\" format. "
   ]
  },
  {
   "cell_type": "code",
   "execution_count": 1,
   "metadata": {},
   "outputs": [],
   "source": [
    "import numpy as np\n",
    "import matplotlib.pyplot as plt"
   ]
  },
  {
   "cell_type": "markdown",
   "metadata": {},
   "source": [
    "## Generate the response matrix. \n",
    "\n",
    " - Generate uniform distributions between $0\\rightarrow x_{avg}$ and $0\\rightarrow y_{avg}$, each with $n_{ev}$ events.  \n",
    " - Smear those values by $x_{res}$ and $y_{res}$. \n",
    " - Create a 4-d list of values that gives an $n_{ev} \\times 4$ `numpy` array. "
   ]
  },
  {
   "cell_type": "code",
   "execution_count": 2,
   "metadata": {},
   "outputs": [
    {
     "name": "stdout",
     "output_type": "stream",
     "text": [
      "(100000, 2)\n",
      "(100000, 2)\n",
      "(100000, 4)\n"
     ]
    }
   ],
   "source": [
    "nev = 100000\n",
    "xavg = 100.\n",
    "yavg = 20.\n",
    "xres = 20.\n",
    "yres = 5.\n",
    "gen2x = np.random.random(nev) * xavg\n",
    "reco2x = np.random.randn(nev) * xres + gen2x\n",
    "gen2y = np.random.random(nev) * yavg\n",
    "reco2y = np.random.randn(nev) * yres + gen2y\n",
    "\n",
    "\n",
    "gen2 = np.array( [gen2x,gen2y] ).T\n",
    "reco2 = np.array( [reco2x,reco2y] ).T\n",
    "r = np.array( [gen2x, gen2y, reco2x, reco2y] ).T\n",
    "\n",
    "print(gen2.shape)\n",
    "print(reco2.shape)\n",
    "print(r.shape)"
   ]
  },
  {
   "cell_type": "markdown",
   "metadata": {},
   "source": [
    "### Uncomment to print the entire list\n",
    "\n",
    "(only do this for small `nev`). "
   ]
  },
  {
   "cell_type": "code",
   "execution_count": 3,
   "metadata": {},
   "outputs": [],
   "source": [
    "#for i in range(nev):\n",
    "#    print( ' %6.2f %6.2f %6.2f %6.2f' % (gen2x[i], reco2x[i], gen2y[i], reco2y[i]) )"
   ]
  },
  {
   "cell_type": "markdown",
   "metadata": {},
   "source": [
    "## Histogram the values \n",
    "\n",
    "The histogram will have $n_x$ bins in $x$ and $n_y$ bins in $y$. "
   ]
  },
  {
   "cell_type": "code",
   "execution_count": 4,
   "metadata": {},
   "outputs": [],
   "source": [
    "nx = 5\n",
    "ny = 11\n",
    "iedges=np.linspace(0,100, nx)\n",
    "jedges=np.linspace(0, 20, ny)\n",
    "bins = ( iedges,jedges,iedges,jedges )"
   ]
  },
  {
   "cell_type": "markdown",
   "metadata": {},
   "source": [
    "Create the actual histogram. Returns the values and the edges. "
   ]
  },
  {
   "cell_type": "code",
   "execution_count": 5,
   "metadata": {},
   "outputs": [
    {
     "name": "stdout",
     "output_type": "stream",
     "text": [
      "(4, 10, 4, 10)\n",
      "[array([  0.,  25.,  50.,  75., 100.]), array([ 0.,  2.,  4.,  6.,  8., 10., 12., 14., 16., 18., 20.]), array([  0.,  25.,  50.,  75., 100.]), array([ 0.,  2.,  4.,  6.,  8., 10., 12., 14., 16., 18., 20.])]\n"
     ]
    }
   ],
   "source": [
    "H, edges = np.histogramdd(r, bins=bins )\n",
    "print(H.shape)\n",
    "print(edges)\n",
    "\n"
   ]
  },
  {
   "cell_type": "markdown",
   "metadata": {},
   "source": [
    "## Now define the transformation of the indices. "
   ]
  },
  {
   "cell_type": "code",
   "execution_count": 6,
   "metadata": {},
   "outputs": [],
   "source": [
    "def transform(i,j,k,l, s1, s2):\n",
    "    return [i * s1 + j, k * s2 + l]"
   ]
  },
  {
   "cell_type": "markdown",
   "metadata": {},
   "source": [
    "## Transform the histogram from 4d to unroll to 2d for visualization purposes or to do unfolding"
   ]
  },
  {
   "cell_type": "code",
   "execution_count": 7,
   "metadata": {},
   "outputs": [],
   "source": [
    "H2 = np.zeros(( (nx-1)*(ny-1),(nx-1)*(ny-1)))\n",
    "for i in range(nx-1):\n",
    "    for j in range(ny-1):\n",
    "        for k in range(nx-1):\n",
    "            for l in range(ny-1):\n",
    "                x,y = transform(i,j,k,l,ny-1,ny-1)                \n",
    "                H2[x][y] = H[i][j][k][l]"
   ]
  },
  {
   "cell_type": "markdown",
   "metadata": {},
   "source": [
    "## Plot the 4-d histogram as a 2-d histogram"
   ]
  },
  {
   "cell_type": "code",
   "execution_count": 8,
   "metadata": {},
   "outputs": [
    {
     "data": {
      "text/plain": [
       "<matplotlib.image.AxesImage at 0x7f85c5884438>"
      ]
     },
     "execution_count": 8,
     "metadata": {},
     "output_type": "execute_result"
    },
    {
     "data": {
      "image/png": "[encoded data removed]",
      "text/plain": [
       "<Figure size 432x288 with 1 Axes>"
      ]
     },
     "metadata": {
      "needs_background": "light"
     },
     "output_type": "display_data"
    }
   ],
   "source": [
    "plt.imshow(H2)"
   ]
  },
  {
   "cell_type": "code",
   "execution_count": 9,
   "metadata": {},
   "outputs": [
    {
     "data": {
      "text/plain": [
       "<matplotlib.image.AxesImage at 0x7f85c51bba20>"
      ]
     },
     "execution_count": 9,
     "metadata": {},
     "output_type": "execute_result"
    },
    {
     "data": {
      "image/png": "[encoded data removed]",
      "text/plain": [
       "<Figure size 432x288 with 1 Axes>"
      ]
     },
     "metadata": {
      "needs_background": "light"
     },
     "output_type": "display_data"
    }
   ],
   "source": [
    "H3 = H.reshape((nx-1)*(ny-1),(nx-1)*(ny-1))\n",
    "plt.imshow(H3)"
   ]
  },
  {
   "cell_type": "code",
   "execution_count": null,
   "metadata": {},
   "outputs": [],
   "source": []
  }
 ],
 "metadata": {
  "kernelspec": {
   "display_name": "Python 3 (ipykernel)",
   "language": "python",
   "name": "python3"
  },
  "language_info": {
   "codemirror_mode": {
    "name": "ipython",
    "version": 3
   },
   "file_extension": ".py",
   "mimetype": "text/x-python",
   "name": "python",
   "nbconvert_exporter": "python",
   "pygments_lexer": "ipython3",
   "version": "3.9.18"
  }
 },
 "nbformat": 4,
 "nbformat_minor": 4
}
