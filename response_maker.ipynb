{
 "cells": [
  {
   "cell_type": "code",
   "execution_count": 1,
   "metadata": {},
   "outputs": [],
   "source": [
    "import time\n",
    "\n",
    "from coffea import hist\n",
    "from coffea.analysis_objects import JaggedCandidateArray\n",
    "import coffea.processor as processor\n",
    "from awkward import JaggedArray\n",
    "import uproot_methods\n",
    "from uproot_methods import *\n",
    "import numpy as np\n",
    "import glob as glob\n",
    "import itertools\n",
    "import json\n",
    "import uproot_methods\n",
    "import copy"
   ]
  },
  {
   "cell_type": "code",
   "execution_count": 2,
   "metadata": {},
   "outputs": [],
   "source": [
    "# Look at ProcessorABC to see the expected methods and what they are supposed to do\n",
    "class JetMassProcessor(processor.ProcessorABC):\n",
    "    def __init__(self):\n",
    "        dataset_axis = hist.Cat(\"dataset\", \"Primary dataset\")\n",
    "\n",
    "        pt_axis = hist.Bin(\"pt\", r\"$p_{T}$ [GeV]\", np.array([200,260,350,460,550,650,760]))\n",
    "        m_axis = hist.Bin(\"m\", r\"Mass [GeV]\", np.array([0,5,10,20,40,60,80,100,150,200,250,300,350]))\n",
    "        ptreco_axis = hist.Bin(\"ptreco\", r\"$p_{T}$ [GeV]\", np.array([200,260,350,460,550,650,760]))\n",
    "        mreco_axis = hist.Bin(\"mreco\", r\"Mass [GeV]\", np.array([0,5,10,20,40,60,80,100,150,200,250,300,350]))\n",
    "        ptgen_axis = hist.Bin(\"ptgen\", r\"$p_{T}$ [GeV]\", np.array([200,260,350,460,550,650,760]))\n",
    "        mgen_axis = hist.Bin(\"mgen\", r\"Mass [GeV]\", np.array([0,2.5,5,7.5,10,15,20,30,40,50,60,70,80,90,100,125,150,175,200,225,250,275,300,325,350]))\n",
    "\n",
    "\n",
    "        r_axis = hist.Bin(\"r\", \"RECO / GEN response\", 100, 0, 2)\n",
    "        dr_axis = hist.Bin(\"dr\", r\"$\\Delta r$\", 80, 0, 0.8)\n",
    "        \n",
    "        self._accumulator = processor.dict_accumulator({\n",
    "            'pt':hist.Hist(\"Counts\", dataset_axis, pt_axis),\n",
    "            'm':hist.Hist(\"Counts\", dataset_axis, m_axis),\n",
    "            'msd':hist.Hist(\"Counts\", dataset_axis, m_axis),\n",
    "            'pt_v_m':hist.Hist(\"Counts\", dataset_axis, pt_axis, m_axis ),\n",
    "            'pt_v_msd':hist.Hist(\"Counts\", dataset_axis, pt_axis, m_axis ),\n",
    "            'dr':hist.Hist(\"Counts\", dataset_axis, dr_axis),\n",
    "            'r_pt_ptvm':hist.Hist(\"Counts\", dataset_axis, pt_axis, m_axis, r_axis),\n",
    "            'r_m_ptvm':hist.Hist(\"Counts\", dataset_axis, pt_axis, m_axis, r_axis),\n",
    "            'r_msd_ptvmsd':hist.Hist(\"Counts\", dataset_axis, pt_axis, m_axis, r_axis),\n",
    "            'response_m':hist.Hist(\"Counts\", dataset_axis, ptgen_axis, mgen_axis, ptreco_axis, mreco_axis),\n",
    "            'response_msd':hist.Hist(\"Counts\", dataset_axis, ptgen_axis, mgen_axis, ptreco_axis, mreco_axis),\n",
    "            'cutflow': processor.defaultdict_accumulator(int)\n",
    "        })\n",
    "    \n",
    "    @property\n",
    "    def accumulator(self):\n",
    "        return self._accumulator\n",
    "    \n",
    "    def makeCuts(self, cut, a):\n",
    "        for i in a:\n",
    "            i=i[cut]\n",
    "    \n",
    "    def process(self, df):\n",
    "        output = self.accumulator.identity()\n",
    "\n",
    "        #print(\"1\")\n",
    "        dataset = df['dataset']\n",
    "        muons = JaggedCandidateArray.candidatesfromcounts(\n",
    "            df['nMuon'],\n",
    "            pt=df['Muon_pt'],\n",
    "            eta=df['Muon_eta'],\n",
    "            phi=df['Muon_phi'],\n",
    "            mass=df['Muon_mass'],\n",
    "            charge=df['Muon_charge'],\n",
    "            softId=df['Muon_softId'],\n",
    "            tightId=df['Muon_tightId']\n",
    "            )\n",
    "        Jets = JaggedCandidateArray.candidatesfromcounts(\n",
    "            df['nFatJet'],\n",
    "            pt=df['FatJet_pt'],\n",
    "            eta=df['FatJet_eta'],\n",
    "            phi=df['FatJet_phi'],\n",
    "            mass=df['FatJet_mass'],\n",
    "            msoftdrop=np.where( df['FatJet_msoftdrop'] >= 0,df['FatJet_msoftdrop'],-1),\n",
    "            jetId=df['FatJet_jetId']\n",
    "            )\n",
    "        GenJets = JaggedCandidateArray.candidatesfromcounts(\n",
    "            df['nGenJetAK8'],\n",
    "            pt=df['GenJetAK8_pt'],\n",
    "            eta=df['GenJetAK8_eta'],\n",
    "            phi=df['GenJetAK8_phi'],\n",
    "            mass=df['GenJetAK8_mass']\n",
    "            )\n",
    "        GenSubJets = JaggedCandidateArray.candidatesfromcounts(\n",
    "            df['nSubGenJetAK8'],\n",
    "            pt=df['SubGenJetAK8_pt'],\n",
    "            eta=df['SubGenJetAK8_eta'],\n",
    "            phi=df['SubGenJetAK8_phi'],\n",
    "            mass=df['SubGenJetAK8_mass']\n",
    "            )\n",
    "        \n",
    "\n",
    "\n",
    "        # Require at least one reco jet that passes jet id\n",
    "        output['cutflow']['all events'] += Jets.size\n",
    "         \n",
    "        jetId_cut = (Jets.jetId > 0)\n",
    "        Jets = Jets[jetId_cut]\n",
    "        oneJet = (Jets.counts >=1)\n",
    "        self.makeCuts( oneJet, [Jets,GenJets,GenSubJets,muons])\n",
    "        output['cutflow']['>=1 with loose id'] += oneJet.sum() \n",
    "\n",
    "        \n",
    "        # Select dimuon events\n",
    "        soft_id = (muons.softId > 0)\n",
    "        muons = muons[soft_id]\n",
    "        twoMuons = (muons.counts >= 2)\n",
    "        self.makeCuts( twoMuons, [Jets,GenJets,GenSubJets,muons])\n",
    "        output['cutflow']['>=2 soft muons'] += twoMuons.sum()\n",
    "\n",
    "\n",
    "        \n",
    "        dimuons = muons.distincts()\n",
    "        opposite_charge = (dimuons.i0['charge'] * dimuons.i1['charge'] == -1)          \n",
    "        zmasscut = ((dimuons.mass > 50) & (dimuons.mass < 110))\n",
    "        dimuons = dimuons[opposite_charge & zmasscut]        \n",
    "        oneZcand = (dimuons.counts >= 1)   \n",
    "        self.makeCuts(oneZcand, [Jets,GenJets,GenSubJets])\n",
    "\n",
    "        output['cutflow']['Z selection'] += oneZcand.sum()        \n",
    "\n",
    "        Zcands = dimuons.i0['p4'] + dimuons.i1['p4']\n",
    "        \n",
    "        zjetmatch = Zcands.cross( Jets, nested=True )        \n",
    "        zjetcutmetric = zjetmatch.i0.delta_phi(zjetmatch.i1.p4)\n",
    "        zjetmatch = zjetmatch[(zjetcutmetric > np.pi * 0.5) & (zjetcutmetric < np.pi * 1.5) ]\n",
    "        leadjetmetric = zjetmatch.i1.p4.pt\n",
    "        leadjetindex = leadjetmetric.argmax()\n",
    "        leadjet = zjetmatch[leadjetindex].i1\n",
    "        #leadjet = zjetsortmetric.argmin()\n",
    "        \n",
    "        #dphi_cut = (zjetcutmetric[leadjet] > np.pi * 0.5)\n",
    "        #zjetmatch = zjetmatch[dphi_cut]\n",
    "        #self.makeCuts(dphi_cut, [zjetmatch])\n",
    "        #output['cutflow']['dphi'] += dphi_cut.sum()  \n",
    "\n",
    "        #dphi_cut = Zcands[:,0].delta_phi( Jets.p4[:,0] ) > np.pi * 0.5\n",
    "        #self.makeCuts( dphi_cut.any(), [Zcands,Jets,GenJets,GenSubJets])\n",
    "        #output['cutflow']['dPhi(Z,jet) cut'] += dphi_cut.any().sum()\n",
    "        \n",
    "        \n",
    "        # Match gen <---> gen subjets\n",
    "        \n",
    "        gensubpairs = GenJets.cross( GenSubJets, nested=True )\n",
    "        gensubjetmetric = gensubpairs.i0.p4.delta_r(gensubpairs.i1.p4)\n",
    "        dr_cut = (gensubjetmetric < 0.8)\n",
    "        gensubpairs = gensubpairs[dr_cut]\n",
    "        gensubjets = gensubpairs.i1        \n",
    "        gengroomed = gensubjets.p4.sum()\n",
    "        # Add the groomed p4 and mass to the GenJet table\n",
    "        GenJets.add_attributes( sdp4=gengroomed )\n",
    "        GenJets.add_attributes( msoftdrop=gengroomed.mass )\n",
    "        \n",
    "\n",
    "\n",
    "                \n",
    "        # Match reco <---> gen\n",
    "        recogenpairs = Jets.cross(GenJets, nested=True)\n",
    "        metric = recogenpairs.i0.p4.delta_r( recogenpairs.i1.p4 )\n",
    "        index_of_minimized = metric.argmin()\n",
    "        dr_cut2 = (metric[index_of_minimized] < 0.4)\n",
    "        recogenpairs = recogenpairs[index_of_minimized][dr_cut2]\n",
    "        kinreco = (recogenpairs.i0.pt > 200) & (np.abs(recogenpairs.i0.eta) < 2.5)\n",
    "        kingen = (recogenpairs.i1.pt > 200) & (np.abs(recogenpairs.i1.eta) < 2.5)\n",
    "        recogenpairs = recogenpairs[ (kinreco) & (kingen)]\n",
    "        \n",
    "        #badcase1 = (recogenpairs.i0.msoftdrop > 0) & (recogenpairs.i0.msoftdrop < 10.) & (recogenpairs.i1.msoftdrop > 30.)\n",
    "        #badcase2 = (recogenpairs.i0.msoftdrop > 30.) & (recogenpairs.i1.msoftdrop < 10.)\n",
    "        #badpairs = recogenpairs[badcase1 | badcase2]\n",
    "        #badpairs = recogenpairs[badcase1]\n",
    "        #print(\"bad pairs:\")\n",
    "        #print(badpairs.i0.msoftdrop[badpairs.counts > 0].flatten().flatten()[:10])\n",
    "        #print(badpairs.i1.msoftdrop[badpairs.counts > 0].flatten().flatten()[:10])\n",
    "        #rbad = badpairs.i0.msoftdrop[badpairs.counts > 0] / badpairs.i1.msoftdrop[badpairs.counts > 0]\n",
    "        #print(rbad.flatten().flatten()[:10])\n",
    "        \n",
    "                \n",
    "        # Make some plots)\n",
    "        ptreco = recogenpairs.i0.pt.flatten().flatten()\n",
    "        ptgen = recogenpairs.i1.pt.flatten().flatten()         \n",
    "        mreco = recogenpairs.i0.mass.flatten().flatten()\n",
    "        msdreco = recogenpairs.i0.msoftdrop.flatten().flatten()\n",
    "        mgen = recogenpairs.i1.mass.flatten().flatten()\n",
    "        msdgen = recogenpairs.i1.msoftdrop.flatten().flatten()\n",
    "        #print(\"ptreco:\", ptreco)\n",
    "        #print(\"ptgen:\", ptgen)\n",
    "        #print(\"mreco:\", mreco)\n",
    "        #print(\"mgen:\", mgen)\n",
    "        #print(\"msdreco:\", msdreco)\n",
    "        #print(\"msdgen:\", msdgen)\n",
    "\n",
    "        ptreco_over_ptgen = np.where( ptgen > 0, ptreco/ptgen, -1)\n",
    "        mreco_over_mgen = np.where( mgen > 0, mreco/mgen, -1)\n",
    "        msdreco_over_msdgen = np.where( msdgen > 0, msdreco/msdgen, -1)\n",
    "        \n",
    "\n",
    "        \n",
    "        output['pt'].fill(dataset=dataset,pt=ptreco)\n",
    "        output['m'].fill(dataset=dataset,m=mreco)\n",
    "        output['msd'].fill(dataset=dataset,m=msdreco)\n",
    "        output['pt_v_m'].fill(dataset=dataset,pt=ptreco,m=mreco)\n",
    "        output['pt_v_msd'].fill(dataset=dataset,pt=ptreco,m=msdreco)\n",
    "        mcut = mgen>1.0\n",
    "        msdcut = msdgen>1.0\n",
    "        output['r_pt_ptvm'].fill(dataset=dataset,pt=ptgen[mcut],m=mgen[mcut],r=ptreco_over_ptgen[mcut])\n",
    "        output['r_m_ptvm'].fill(dataset=dataset,pt=ptgen[mcut],m=mgen[mcut],r=mreco_over_mgen[mcut])\n",
    "        output['r_msd_ptvmsd'].fill(dataset=dataset,pt=ptgen[msdcut],m=msdgen[msdcut],r=msdreco_over_msdgen[msdcut])\n",
    "        output['response_m'].fill(dataset=dataset,ptgen=ptgen[mcut],mgen=mgen[mcut],ptreco=ptreco[mcut],mreco=mreco[mcut])\n",
    "        output['response_msd'].fill(dataset=dataset,ptgen=ptgen[msdcut],mgen=msdgen[msdcut],ptreco=ptreco[msdcut],mreco=msdreco[msdcut])\n",
    "        \n",
    "        \n",
    "        \n",
    "        return output\n",
    "        \n",
    "\n",
    "\n",
    "    def postprocess(self, accumulator):\n",
    "        return accumulator\n"
   ]
  },
  {
   "cell_type": "code",
   "execution_count": 3,
   "metadata": {},
   "outputs": [
    {
     "data": {
      "application/vnd.jupyter.widget-view+json": {
       "model_id": "e764448770a04a5faacb6845b698192a",
       "version_major": 2,
       "version_minor": 0
      },
      "text/plain": [
       "HBox(children=(IntProgress(value=0, description='Preprocessing', max=1, style=ProgressStyle(description_width=…"
      ]
     },
     "metadata": {},
     "output_type": "display_data"
    },
    {
     "name": "stdout",
     "output_type": "stream",
     "text": [
      "\n"
     ]
    },
    {
     "data": {
      "application/vnd.jupyter.widget-view+json": {
       "model_id": "0c09296989db4dbbbf9357cd6ab4394d",
       "version_major": 2,
       "version_minor": 0
      },
      "text/plain": [
       "HBox(children=(IntProgress(value=0, description='Processing', max=194, style=ProgressStyle(description_width='…"
      ]
     },
     "metadata": {},
     "output_type": "display_data"
    },
    {
     "name": "stderr",
     "output_type": "stream",
     "text": [
      "/usr/local/jupyter/lib/python3.6/site-packages/uproot_methods/classes/TLorentzVector.py:189: RuntimeWarning: invalid value encountered in sqrt\n",
      "  return self._trymemo(\"mass\", lambda self: self.awkward.numpy.sqrt(self.mag2))\n",
      "/usr/local/jupyter/lib/python3.6/site-packages/uproot_methods/classes/TLorentzVector.py:189: RuntimeWarning: invalid value encountered in sqrt\n",
      "  return self._trymemo(\"mass\", lambda self: self.awkward.numpy.sqrt(self.mag2))\n",
      "/usr/local/jupyter/lib/python3.6/site-packages/ipykernel_launcher.py:181: RuntimeWarning: invalid value encountered in greater\n",
      "/usr/local/jupyter/lib/python3.6/site-packages/ipykernel_launcher.py:181: RuntimeWarning: invalid value encountered in greater\n",
      "/usr/local/jupyter/lib/python3.6/site-packages/ipykernel_launcher.py:181: RuntimeWarning: divide by zero encountered in true_divide\n",
      "/usr/local/jupyter/lib/python3.6/site-packages/ipykernel_launcher.py:181: RuntimeWarning: divide by zero encountered in true_divide\n",
      "/usr/local/jupyter/lib/python3.6/site-packages/ipykernel_launcher.py:191: RuntimeWarning: invalid value encountered in greater\n",
      "/usr/local/jupyter/lib/python3.6/site-packages/ipykernel_launcher.py:191: RuntimeWarning: invalid value encountered in greater\n",
      "/usr/local/jupyter/lib/python3.6/site-packages/uproot_methods/classes/TLorentzVector.py:189: RuntimeWarning: invalid value encountered in sqrt\n",
      "  return self._trymemo(\"mass\", lambda self: self.awkward.numpy.sqrt(self.mag2))\n",
      "/usr/local/jupyter/lib/python3.6/site-packages/uproot_methods/classes/TLorentzVector.py:189: RuntimeWarning: invalid value encountered in sqrt\n",
      "  return self._trymemo(\"mass\", lambda self: self.awkward.numpy.sqrt(self.mag2))\n",
      "/usr/local/jupyter/lib/python3.6/site-packages/ipykernel_launcher.py:181: RuntimeWarning: invalid value encountered in greater\n",
      "/usr/local/jupyter/lib/python3.6/site-packages/ipykernel_launcher.py:181: RuntimeWarning: divide by zero encountered in true_divide\n",
      "/usr/local/jupyter/lib/python3.6/site-packages/ipykernel_launcher.py:191: RuntimeWarning: invalid value encountered in greater\n",
      "/usr/local/jupyter/lib/python3.6/site-packages/ipykernel_launcher.py:181: RuntimeWarning: invalid value encountered in greater\n",
      "/usr/local/jupyter/lib/python3.6/site-packages/ipykernel_launcher.py:181: RuntimeWarning: divide by zero encountered in true_divide\n",
      "/usr/local/jupyter/lib/python3.6/site-packages/ipykernel_launcher.py:191: RuntimeWarning: invalid value encountered in greater\n"
     ]
    },
    {
     "name": "stdout",
     "output_type": "stream",
     "text": [
      "\n"
     ]
    },
    {
     "name": "stderr",
     "output_type": "stream",
     "text": [
      "Exception in thread Thread-5:\n",
      "Traceback (most recent call last):\n",
      "  File \"/usr/lib64/python3.6/threading.py\", line 916, in _bootstrap_inner\n",
      "    self.run()\n",
      "  File \"/usr/lib64/python3.6/threading.py\", line 864, in run\n",
      "    self._target(*self._args, **self._kwargs)\n",
      "  File \"/usr/lib64/python3.6/concurrent/futures/process.py\", line 295, in _queue_management_worker\n",
      "    shutdown_worker()\n",
      "  File \"/usr/lib64/python3.6/concurrent/futures/process.py\", line 253, in shutdown_worker\n",
      "    call_queue.put_nowait(None)\n",
      "  File \"/usr/lib64/python3.6/multiprocessing/queues.py\", line 129, in put_nowait\n",
      "    return self.put(obj, False)\n",
      "  File \"/usr/lib64/python3.6/multiprocessing/queues.py\", line 83, in put\n",
      "    raise Full\n",
      "queue.Full\n",
      "\n"
     ]
    },
    {
     "ename": "BrokenProcessPool",
     "evalue": "A process in the process pool was terminated abruptly while the future was running or pending.",
     "output_type": "error",
     "traceback": [
      "\u001b[0;31m---------------------------------------------------------------------------\u001b[0m",
      "\u001b[0;31mBrokenProcessPool\u001b[0m                         Traceback (most recent call last)",
      "\u001b[0;32m<ipython-input-3-5cb045195db5>\u001b[0m in \u001b[0;36m<module>\u001b[0;34m\u001b[0m\n\u001b[1;32m     13\u001b[0m                                   \u001b[0mexecutor\u001b[0m\u001b[0;34m=\u001b[0m\u001b[0mprocessor\u001b[0m\u001b[0;34m.\u001b[0m\u001b[0mfutures_executor\u001b[0m\u001b[0;34m,\u001b[0m\u001b[0;34m\u001b[0m\u001b[0;34m\u001b[0m\u001b[0m\n\u001b[1;32m     14\u001b[0m                                   \u001b[0mexecutor_args\u001b[0m\u001b[0;34m=\u001b[0m\u001b[0;34m{\u001b[0m\u001b[0;34m'workers'\u001b[0m\u001b[0;34m:\u001b[0m\u001b[0;36m4\u001b[0m\u001b[0;34m,\u001b[0m \u001b[0;34m'flatten'\u001b[0m\u001b[0;34m:\u001b[0m \u001b[0;32mTrue\u001b[0m\u001b[0;34m}\u001b[0m\u001b[0;34m,\u001b[0m\u001b[0;34m\u001b[0m\u001b[0;34m\u001b[0m\u001b[0m\n\u001b[0;32m---> 15\u001b[0;31m                                   \u001b[0mchunksize\u001b[0m\u001b[0;34m=\u001b[0m\u001b[0;36m500000\u001b[0m\u001b[0;31m#, maxchunks=10\u001b[0m\u001b[0;34m\u001b[0m\u001b[0;34m\u001b[0m\u001b[0m\n\u001b[0m\u001b[1;32m     16\u001b[0m                                  )\n\u001b[1;32m     17\u001b[0m \u001b[0;34m\u001b[0m\u001b[0m\n",
      "\u001b[0;32m~/coffea/coffea/processor/executor.py\u001b[0m in \u001b[0;36mrun_uproot_job\u001b[0;34m(fileset, treename, processor_instance, executor, executor_args, chunksize, maxchunks)\u001b[0m\n\u001b[1;32m    220\u001b[0m     \u001b[0mout\u001b[0m \u001b[0;34m=\u001b[0m \u001b[0mprocessor_instance\u001b[0m\u001b[0;34m.\u001b[0m\u001b[0maccumulator\u001b[0m\u001b[0;34m.\u001b[0m\u001b[0midentity\u001b[0m\u001b[0;34m(\u001b[0m\u001b[0;34m)\u001b[0m\u001b[0;34m\u001b[0m\u001b[0;34m\u001b[0m\u001b[0m\n\u001b[1;32m    221\u001b[0m     \u001b[0mwrapped_out\u001b[0m \u001b[0;34m=\u001b[0m \u001b[0mdict_accumulator\u001b[0m\u001b[0;34m(\u001b[0m\u001b[0;34m{\u001b[0m\u001b[0;34m'out'\u001b[0m\u001b[0;34m:\u001b[0m \u001b[0mout\u001b[0m\u001b[0;34m,\u001b[0m \u001b[0;34m'metrics'\u001b[0m\u001b[0;34m:\u001b[0m \u001b[0mdict_accumulator\u001b[0m\u001b[0;34m(\u001b[0m\u001b[0;34m)\u001b[0m\u001b[0;34m}\u001b[0m\u001b[0;34m)\u001b[0m\u001b[0;34m\u001b[0m\u001b[0;34m\u001b[0m\u001b[0m\n\u001b[0;32m--> 222\u001b[0;31m     \u001b[0mexecutor\u001b[0m\u001b[0;34m(\u001b[0m\u001b[0mitems\u001b[0m\u001b[0;34m,\u001b[0m \u001b[0m_work_function\u001b[0m\u001b[0;34m,\u001b[0m \u001b[0mwrapped_out\u001b[0m\u001b[0;34m,\u001b[0m \u001b[0;34m**\u001b[0m\u001b[0mexecutor_args\u001b[0m\u001b[0;34m)\u001b[0m\u001b[0;34m\u001b[0m\u001b[0;34m\u001b[0m\u001b[0m\n\u001b[0m\u001b[1;32m    223\u001b[0m     \u001b[0mprocessor_instance\u001b[0m\u001b[0;34m.\u001b[0m\u001b[0mpostprocess\u001b[0m\u001b[0;34m(\u001b[0m\u001b[0mout\u001b[0m\u001b[0;34m)\u001b[0m\u001b[0;34m\u001b[0m\u001b[0;34m\u001b[0m\u001b[0m\n\u001b[1;32m    224\u001b[0m     \u001b[0;32mif\u001b[0m \u001b[0mexecutor_args\u001b[0m\u001b[0;34m[\u001b[0m\u001b[0;34m'savemetrics'\u001b[0m\u001b[0;34m]\u001b[0m\u001b[0;34m:\u001b[0m\u001b[0;34m\u001b[0m\u001b[0;34m\u001b[0m\u001b[0m\n",
      "\u001b[0;32m~/coffea/coffea/processor/executor.py\u001b[0m in \u001b[0;36mfutures_executor\u001b[0;34m(items, function, accumulator, workers, status, unit, desc, **kwargs)\u001b[0m\n\u001b[1;32m    104\u001b[0m         \u001b[0mfutures\u001b[0m \u001b[0;34m=\u001b[0m \u001b[0mset\u001b[0m\u001b[0;34m(\u001b[0m\u001b[0;34m)\u001b[0m\u001b[0;34m\u001b[0m\u001b[0;34m\u001b[0m\u001b[0m\n\u001b[1;32m    105\u001b[0m         \u001b[0mfutures\u001b[0m\u001b[0;34m.\u001b[0m\u001b[0mupdate\u001b[0m\u001b[0;34m(\u001b[0m\u001b[0mexecutor\u001b[0m\u001b[0;34m.\u001b[0m\u001b[0msubmit\u001b[0m\u001b[0;34m(\u001b[0m\u001b[0mfunction\u001b[0m\u001b[0;34m,\u001b[0m \u001b[0mitem\u001b[0m\u001b[0;34m,\u001b[0m \u001b[0;34m**\u001b[0m\u001b[0mkwargs\u001b[0m\u001b[0;34m)\u001b[0m \u001b[0;32mfor\u001b[0m \u001b[0mitem\u001b[0m \u001b[0;32min\u001b[0m \u001b[0mitems\u001b[0m\u001b[0;34m)\u001b[0m\u001b[0;34m\u001b[0m\u001b[0;34m\u001b[0m\u001b[0m\n\u001b[0;32m--> 106\u001b[0;31m         \u001b[0mfutures_handler\u001b[0m\u001b[0;34m(\u001b[0m\u001b[0mfutures\u001b[0m\u001b[0;34m,\u001b[0m \u001b[0maccumulator\u001b[0m\u001b[0;34m,\u001b[0m \u001b[0mstatus\u001b[0m\u001b[0;34m,\u001b[0m \u001b[0munit\u001b[0m\u001b[0;34m,\u001b[0m \u001b[0mdesc\u001b[0m\u001b[0;34m)\u001b[0m\u001b[0;34m\u001b[0m\u001b[0;34m\u001b[0m\u001b[0m\n\u001b[0m\u001b[1;32m    107\u001b[0m     \u001b[0;32mreturn\u001b[0m \u001b[0maccumulator\u001b[0m\u001b[0;34m\u001b[0m\u001b[0;34m\u001b[0m\u001b[0m\n\u001b[1;32m    108\u001b[0m \u001b[0;34m\u001b[0m\u001b[0m\n",
      "\u001b[0;32m~/coffea/coffea/processor/executor.py\u001b[0m in \u001b[0;36mfutures_handler\u001b[0;34m(futures_set, output, status, unit, desc, futures_accumulator)\u001b[0m\n\u001b[1;32m     62\u001b[0m                 \u001b[0mfinished\u001b[0m \u001b[0;34m=\u001b[0m \u001b[0mset\u001b[0m\u001b[0;34m(\u001b[0m\u001b[0mjob\u001b[0m \u001b[0;32mfor\u001b[0m \u001b[0mjob\u001b[0m \u001b[0;32min\u001b[0m \u001b[0mfutures_set\u001b[0m \u001b[0;32mif\u001b[0m \u001b[0mjob\u001b[0m\u001b[0;34m.\u001b[0m\u001b[0mdone\u001b[0m\u001b[0;34m(\u001b[0m\u001b[0;34m)\u001b[0m\u001b[0;34m)\u001b[0m\u001b[0;34m\u001b[0m\u001b[0;34m\u001b[0m\u001b[0m\n\u001b[1;32m     63\u001b[0m                 \u001b[0;32mfor\u001b[0m \u001b[0mjob\u001b[0m \u001b[0;32min\u001b[0m \u001b[0mfinished\u001b[0m\u001b[0;34m:\u001b[0m\u001b[0;34m\u001b[0m\u001b[0;34m\u001b[0m\u001b[0m\n\u001b[0;32m---> 64\u001b[0;31m                     \u001b[0mfutures_accumulator\u001b[0m\u001b[0;34m(\u001b[0m\u001b[0moutput\u001b[0m\u001b[0;34m,\u001b[0m \u001b[0mjob\u001b[0m\u001b[0;34m.\u001b[0m\u001b[0mresult\u001b[0m\u001b[0;34m(\u001b[0m\u001b[0;34m)\u001b[0m\u001b[0;34m)\u001b[0m\u001b[0;34m\u001b[0m\u001b[0;34m\u001b[0m\u001b[0m\n\u001b[0m\u001b[1;32m     65\u001b[0m                     \u001b[0mpbar\u001b[0m\u001b[0;34m.\u001b[0m\u001b[0mupdate\u001b[0m\u001b[0;34m(\u001b[0m\u001b[0;36m1\u001b[0m\u001b[0;34m)\u001b[0m\u001b[0;34m\u001b[0m\u001b[0;34m\u001b[0m\u001b[0m\n\u001b[1;32m     66\u001b[0m                 \u001b[0mjob\u001b[0m \u001b[0;34m=\u001b[0m \u001b[0;32mNone\u001b[0m\u001b[0;34m\u001b[0m\u001b[0;34m\u001b[0m\u001b[0m\n",
      "\u001b[0;32m/usr/lib64/python3.6/concurrent/futures/_base.py\u001b[0m in \u001b[0;36mresult\u001b[0;34m(self, timeout)\u001b[0m\n\u001b[1;32m    423\u001b[0m                 \u001b[0;32mraise\u001b[0m \u001b[0mCancelledError\u001b[0m\u001b[0;34m(\u001b[0m\u001b[0;34m)\u001b[0m\u001b[0;34m\u001b[0m\u001b[0;34m\u001b[0m\u001b[0m\n\u001b[1;32m    424\u001b[0m             \u001b[0;32melif\u001b[0m \u001b[0mself\u001b[0m\u001b[0;34m.\u001b[0m\u001b[0m_state\u001b[0m \u001b[0;34m==\u001b[0m \u001b[0mFINISHED\u001b[0m\u001b[0;34m:\u001b[0m\u001b[0;34m\u001b[0m\u001b[0;34m\u001b[0m\u001b[0m\n\u001b[0;32m--> 425\u001b[0;31m                 \u001b[0;32mreturn\u001b[0m \u001b[0mself\u001b[0m\u001b[0;34m.\u001b[0m\u001b[0m__get_result\u001b[0m\u001b[0;34m(\u001b[0m\u001b[0;34m)\u001b[0m\u001b[0;34m\u001b[0m\u001b[0;34m\u001b[0m\u001b[0m\n\u001b[0m\u001b[1;32m    426\u001b[0m \u001b[0;34m\u001b[0m\u001b[0m\n\u001b[1;32m    427\u001b[0m             \u001b[0mself\u001b[0m\u001b[0;34m.\u001b[0m\u001b[0m_condition\u001b[0m\u001b[0;34m.\u001b[0m\u001b[0mwait\u001b[0m\u001b[0;34m(\u001b[0m\u001b[0mtimeout\u001b[0m\u001b[0;34m)\u001b[0m\u001b[0;34m\u001b[0m\u001b[0;34m\u001b[0m\u001b[0m\n",
      "\u001b[0;32m/usr/lib64/python3.6/concurrent/futures/_base.py\u001b[0m in \u001b[0;36m__get_result\u001b[0;34m(self)\u001b[0m\n\u001b[1;32m    382\u001b[0m     \u001b[0;32mdef\u001b[0m \u001b[0m__get_result\u001b[0m\u001b[0;34m(\u001b[0m\u001b[0mself\u001b[0m\u001b[0;34m)\u001b[0m\u001b[0;34m:\u001b[0m\u001b[0;34m\u001b[0m\u001b[0;34m\u001b[0m\u001b[0m\n\u001b[1;32m    383\u001b[0m         \u001b[0;32mif\u001b[0m \u001b[0mself\u001b[0m\u001b[0;34m.\u001b[0m\u001b[0m_exception\u001b[0m\u001b[0;34m:\u001b[0m\u001b[0;34m\u001b[0m\u001b[0;34m\u001b[0m\u001b[0m\n\u001b[0;32m--> 384\u001b[0;31m             \u001b[0;32mraise\u001b[0m \u001b[0mself\u001b[0m\u001b[0;34m.\u001b[0m\u001b[0m_exception\u001b[0m\u001b[0;34m\u001b[0m\u001b[0;34m\u001b[0m\u001b[0m\n\u001b[0m\u001b[1;32m    385\u001b[0m         \u001b[0;32melse\u001b[0m\u001b[0;34m:\u001b[0m\u001b[0;34m\u001b[0m\u001b[0;34m\u001b[0m\u001b[0m\n\u001b[1;32m    386\u001b[0m             \u001b[0;32mreturn\u001b[0m \u001b[0mself\u001b[0m\u001b[0;34m.\u001b[0m\u001b[0m_result\u001b[0m\u001b[0;34m\u001b[0m\u001b[0;34m\u001b[0m\u001b[0m\n",
      "\u001b[0;31mBrokenProcessPool\u001b[0m: A process in the process pool was terminated abruptly while the future was running or pending."
     ]
    }
   ],
   "source": [
    "# Can grab a file on cmslpc from \n",
    "# /store/group/lpctlbsm/NanoAODJMAR_2019_V1/Production/CRAB/DYJetsToLL_M-50_TuneCUETP8M1_13TeV-madgraphMLM-pythia8/DYJetsToLLM-50TuneCUETP8M113TeV-madgraphMLM-pythia8RunIISummer16MiniAODv3-PUMoriond17_ext2-v2/190513_171710/0000/*.root\n",
    "\n",
    "#infiles = glob.glob('/mnt/data/cms/store/group/lpctlbsm/NanoAODJMAR_2019_V1/Production/CRAB/DYJetsToLL_M-50_TuneCUETP8M1_13TeV-madgraphMLM-pythia8/DYJetsToLLM-50TuneCUETP8M113TeV-madgraphMLM-pythia8RunIISummer16MiniAODv3-PUMoriond17_ext2-v2/190513_171710/0000/*.root')\n",
    "infiles = glob.glob('/mnt/data/cms/store/group/lpctlbsm/NanoAODJMAR_2019_V1/Production/CRAB/DYJetsToLL_M-50_TuneCUETP8M1_13TeV-madgraphMLM-pythia8/DYJetsToLLM-50TuneCUETP8M113TeV-madgraphMLM-pythia8RunIISummer16MiniAODv3-PUMoriond17_ext2-v2/190513_171710/*.root')\n",
    "\n",
    "fileset = {\"DY\":infiles}\n",
    "\n",
    "tstart = time.time() \n",
    "output = processor.run_uproot_job(fileset,\n",
    "                                  treename='Events',\n",
    "                                  processor_instance=JetMassProcessor(),\n",
    "                                  executor=processor.futures_executor,\n",
    "                                  executor_args={'workers':4, 'flatten': True},\n",
    "                                  chunksize=500000#, maxchunks=10\n",
    "                                 )\n",
    "\n",
    "\n",
    "elapsed = time.time() - tstart\n",
    "print(output)"
   ]
  },
  {
   "cell_type": "code",
   "execution_count": null,
   "metadata": {
    "slideshow": {
     "slide_type": "slide"
    }
   },
   "outputs": [],
   "source": [
    "for i,j in output['cutflow'].items():\n",
    "    print( '%30s : %8.0f' % (i,j) )"
   ]
  },
  {
   "cell_type": "code",
   "execution_count": null,
   "metadata": {},
   "outputs": [],
   "source": [
    "import matplotlib.pyplot as plt"
   ]
  },
  {
   "cell_type": "code",
   "execution_count": null,
   "metadata": {},
   "outputs": [],
   "source": [
    "response_m = output['response_m']\n",
    "response_msd = output['response_msd']\n",
    "nptgen = response_m.axis('ptgen').size - 2\n",
    "nmgen = response_m.axis('mgen').size - 2\n",
    "nptreco = response_m.axis('ptreco').size - 2\n",
    "nmreco = response_m.axis('mreco').size - 2\n",
    "\n",
    "print(nptgen, nmgen, nptreco, nmreco)\n"
   ]
  },
  {
   "cell_type": "code",
   "execution_count": null,
   "metadata": {},
   "outputs": [],
   "source": []
  },
  {
   "cell_type": "code",
   "execution_count": null,
   "metadata": {
    "scrolled": true
   },
   "outputs": [],
   "source": [
    "response_m_2dproj = response_m.values()[('DY',)].reshape((nptgen-1)*(nmgen-1),(nptreco-1)*(nmreco-1))\n",
    "response_msd_2dproj = response_msd.values()[('DY',)].reshape((nptgen-1)*(nmgen-1),(nptreco-1)*(nmreco-1))\n",
    "\n"
   ]
  },
  {
   "cell_type": "code",
   "execution_count": null,
   "metadata": {},
   "outputs": [],
   "source": []
  },
  {
   "cell_type": "code",
   "execution_count": null,
   "metadata": {},
   "outputs": [],
   "source": [
    "# Set fonts (from https://stackoverflow.com/questions/3899980/how-to-change-the-font-size-on-a-matplotlib-plot)\n",
    "SMALL_SIZE = 14\n",
    "MEDIUM_SIZE = 18\n",
    "BIGGER_SIZE = 24\n",
    "\n",
    "plt.rc('font', size=SMALL_SIZE)          # controls default text sizes\n",
    "plt.rc('axes', titlesize=SMALL_SIZE)     # fontsize of the axes title\n",
    "plt.rc('axes', labelsize=MEDIUM_SIZE)    # fontsize of the x and y labels\n",
    "plt.rc('xtick', labelsize=SMALL_SIZE)    # fontsize of the tick labels\n",
    "plt.rc('ytick', labelsize=SMALL_SIZE)    # fontsize of the tick labels\n",
    "plt.rc('legend', fontsize=SMALL_SIZE)    # legend fontsize\n",
    "plt.rc('figure', titlesize=BIGGER_SIZE)  # fontsize of the figure title\n",
    "plt.rcParams['figure.dpi'] = 150"
   ]
  },
  {
   "cell_type": "code",
   "execution_count": null,
   "metadata": {},
   "outputs": [],
   "source": []
  },
  {
   "cell_type": "code",
   "execution_count": null,
   "metadata": {},
   "outputs": [],
   "source": [
    "plt.imshow( np.log(response_m_2dproj) )"
   ]
  },
  {
   "cell_type": "code",
   "execution_count": null,
   "metadata": {},
   "outputs": [],
   "source": [
    "plt.imshow( np.log(response_msd_2dproj) )"
   ]
  },
  {
   "cell_type": "code",
   "execution_count": null,
   "metadata": {},
   "outputs": [],
   "source": [
    "fig, ax = hist.plotgrid(output['pt'], overlay=\"dataset\", stack=False, density=True\n",
    "                                 )\n",
    "plt.yscale(\"log\")\n",
    "for iax in ax.flatten():\n",
    "    iax.autoscale(axis='y')\n",
    "fig.show()"
   ]
  },
  {
   "cell_type": "code",
   "execution_count": null,
   "metadata": {},
   "outputs": [],
   "source": [
    "fig, ax = hist.plotgrid(output['m'], overlay=\"dataset\", stack=False, density=True\n",
    "                                 )\n",
    "plt.yscale(\"log\")\n",
    "for iax in ax.flatten():\n",
    "    iax.autoscale(axis='y')\n",
    "fig.show()"
   ]
  },
  {
   "cell_type": "code",
   "execution_count": null,
   "metadata": {},
   "outputs": [],
   "source": []
  },
  {
   "cell_type": "code",
   "execution_count": null,
   "metadata": {},
   "outputs": [],
   "source": [
    "from scipy.optimize import curve_fit"
   ]
  },
  {
   "cell_type": "code",
   "execution_count": null,
   "metadata": {},
   "outputs": [],
   "source": [
    "def gauss(x, A, mu, sigma):    \n",
    "    return A*np.exp(-(x-mu)**2/(2.*sigma**2))"
   ]
  },
  {
   "cell_type": "code",
   "execution_count": null,
   "metadata": {},
   "outputs": [],
   "source": [
    "jmr = []\n",
    "jms = []\n",
    "mvals=[]\n",
    "\n",
    "for i in output['r_msd_ptvmsd'].axis('pt')[1:-2]:\n",
    "    for j in output['r_msd_ptvmsd'].axis('m')[1:-2] :\n",
    "        #print(i,j)\n",
    "        mvals.append( [i.lo,j.lo] )\n",
    "        \n",
    "        xvals = np.array( [k.lo for k in output['r_msd_ptvmsd'].axis('r')[1:-2]] )\n",
    "        yvals = output['r_msd_ptvmsd'].integrate(\"pt\", int_range=slice(i.lo,i.hi)).integrate(\"m\", int_range=slice(j.lo,j.hi)).values()[('DY',)]\n",
    "        if yvals.sum() < 100:\n",
    "            jms.append( [0,0 ] )\n",
    "            jmr.append( [0,0] )\n",
    "            continue\n",
    "        fig,ax,_ = hist.plot1d(output['r_msd_ptvmsd'].integrate(\"pt\", int_range=slice(i.lo,i.hi)).integrate(\"m\", int_range=slice(j.lo,j.hi)), \n",
    "                               overlay='dataset')\n",
    "        plt.text(0.2,0.5, 'pt=%.0f-%.0f GeV m=%.0f-%.0f GeV' %(i.lo,i.hi,j.lo,j.hi), transform=ax.transAxes)\n",
    "        plt.text(0.05,1.01, \"CMS Preliminary\", transform=ax.transAxes, fontsize=20)\n",
    "        xavg = np.average(xvals,weights=yvals)\n",
    "        xstd = np.sqrt( np.average((xvals-xavg)**2, weights=yvals))\n",
    "        x1 = max(0.,xavg-2*xstd)\n",
    "        x2 = min(2.,xavg+2*xstd)\n",
    "        k1 = np.digitize(x1, xvals)\n",
    "        k2 = np.digitize(x2, xvals)\n",
    "        p,pcov = curve_fit(gauss, xvals[k1:k2],yvals[k1:k2], p0 = [1., 0., 1.])\n",
    "        plt.plot( xvals, gauss(xvals,p[0],p[1],p[2]) )\n",
    "        plt.text(0.2,0.4, r\"$\\mu=%6.2e$ $\\sigma=%6.2e$\"%(p[1],p[2]), transform=ax.transAxes)\n",
    "        \n",
    "        jms.append( [p[1],np.sqrt(pcov[1,1]) ] )\n",
    "        jmr.append( [p[2],np.sqrt(pcov[2,2]) ] )"
   ]
  },
  {
   "cell_type": "code",
   "execution_count": null,
   "metadata": {},
   "outputs": [],
   "source": [
    "jmr = np.array(jmr)\n",
    "jms = np.array(jms)\n",
    "mvals=np.array(mvals)"
   ]
  },
  {
   "cell_type": "code",
   "execution_count": null,
   "metadata": {},
   "outputs": [],
   "source": []
  },
  {
   "cell_type": "code",
   "execution_count": null,
   "metadata": {},
   "outputs": [],
   "source": []
  },
  {
   "cell_type": "code",
   "execution_count": null,
   "metadata": {},
   "outputs": [],
   "source": []
  }
 ],
 "metadata": {
  "kernelspec": {
   "display_name": "Python 3 (ipykernel)",
   "language": "python",
   "name": "python3"
  },
  "language_info": {
   "codemirror_mode": {
    "name": "ipython",
    "version": 3
   },
   "file_extension": ".py",
   "mimetype": "text/x-python",
   "name": "python",
   "nbconvert_exporter": "python",
   "pygments_lexer": "ipython3",
   "version": "3.8.13"
  }
 },
 "nbformat": 4,
 "nbformat_minor": 2
}
