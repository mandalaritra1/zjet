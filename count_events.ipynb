{
 "cells": [
  {
   "cell_type": "code",
   "execution_count": 1,
   "id": "f41decd7-e473-4a9e-9785-795ec0e323a7",
   "metadata": {},
   "outputs": [],
   "source": [
    "import uproot \n",
    "import uproot3\n"
   ]
  },
  {
   "cell_type": "code",
   "execution_count": 2,
   "id": "acb08cca-cebf-45cd-ad7d-75f54961b979",
   "metadata": {},
   "outputs": [],
   "source": [
    "process_list = [\n",
    "    'DYJetsToLL_M-50_HT-100to200_TuneCP5_PSweights_13TeV-madgraphMLM-pythia8', \n",
    "    \"DYJetsToLL_M-50_HT-1200to2500_TuneCP5_PSweights_13TeV-madgraphMLM-pythia8\", \n",
    "    'DYJetsToLL_M-50_HT-200to400_TuneCP5_PSweights_13TeV-madgraphMLM-pythia8',\n",
    "    'DYJetsToLL_M-50_HT-2500toInf_TuneCP5_PSweights_13TeV-madgraphMLM-pythia8',\n",
    "    'DYJetsToLL_M-50_HT-400to600_TuneCP5_PSweights_13TeV-madgraphMLM-pythia8',\n",
    "    'DYJetsToLL_M-50_HT-70to100_TuneCP5_PSweights_13TeV-madgraphMLM-pythia8',\n",
    "    'DYJetsToLL_M-50_HT-800to1200_TuneCP5_PSweights_13TeV-madgraphMLM-pythia8'\n",
    "    ]"
   ]
  },
  {
   "cell_type": "code",
   "execution_count": 10,
   "id": "d8a2e6bf-430a-4620-9cd6-6b59275e0dd3",
   "metadata": {},
   "outputs": [],
   "source": [
    "fileset = {}\n",
    "filedir = \"samples/\"\n",
    "dy_mc_filestr = \"DYJetsToLL_M-50_HT_TuneCP5_PSweights_13TeV-madgraphMLM-pythia8_%s_files.txt\"\n",
    "era = 'UL16NanoAODAPVv9'\n",
    "\n",
    "prependstr=\"root://cmsxrootd.fnal.gov/\"\n",
    "\n",
    "filename = filedir + dy_mc_filestr % (era)\n",
    "#filename =  'samples/subset2016mc.txt'\n",
    "\n",
    "with open(filename) as f:\n",
    "    dy_mc_files_all = [prependstr + i.rstrip() for i in f.readlines() if i[0] != \"#\"  ]  \n",
    "    for process in process_list:\n",
    "\n",
    "            \n",
    "        dy_mc_files = [file for file in dy_mc_files_all if process in file]\n",
    "        fileset[era+'_'+process] = dy_mc_files"
   ]
  },
  {
   "cell_type": "code",
   "execution_count": 11,
   "id": "7897084a-e881-4411-a664-ad9819e928e7",
   "metadata": {
    "scrolled": true
   },
   "outputs": [
    {
     "data": {
      "text/plain": [
       "{'UL16NanoAODAPVv9_DYJetsToLL_M-50_HT-100to200_TuneCP5_PSweights_13TeV-madgraphMLM-pythia8': ['root://cmsxrootd.fnal.gov//store/mc/RunIISummer20UL16NanoAODAPVv9/DYJetsToLL_M-50_HT-100to200_TuneCP5_PSweights_13TeV-madgraphMLM-pythia8/NANOAODSIM/106X_mcRun2_asymptotic_preVFP_v11-v2/100000/15A4ACB6-494E-C442-8A42-01B391284F8B.root',\n",
       "  'root://cmsxrootd.fnal.gov//store/mc/RunIISummer20UL16NanoAODAPVv9/DYJetsToLL_M-50_HT-100to200_TuneCP5_PSweights_13TeV-madgraphMLM-pythia8/NANOAODSIM/106X_mcRun2_asymptotic_preVFP_v11-v2/100000/15A87D41-1187-B24B-9105-2489E26CC295.root',\n",
       "  'root://cmsxrootd.fnal.gov//store/mc/RunIISummer20UL16NanoAODAPVv9/DYJetsToLL_M-50_HT-100to200_TuneCP5_PSweights_13TeV-madgraphMLM-pythia8/NANOAODSIM/106X_mcRun2_asymptotic_preVFP_v11-v2/100000/788B7218-5045-0243-B31A-BFE5271F9FDC.root',\n",
       "  'root://cmsxrootd.fnal.gov//store/mc/RunIISummer20UL16NanoAODAPVv9/DYJetsToLL_M-50_HT-100to200_TuneCP5_PSweights_13TeV-madgraphMLM-pythia8/NANOAODSIM/106X_mcRun2_asymptotic_preVFP_v11-v2/100000/91B7F20C-EC86-E740-919D-ACE418ABCD1F.root',\n",
       "  'root://cmsxrootd.fnal.gov//store/mc/RunIISummer20UL16NanoAODAPVv9/DYJetsToLL_M-50_HT-100to200_TuneCP5_PSweights_13TeV-madgraphMLM-pythia8/NANOAODSIM/106X_mcRun2_asymptotic_preVFP_v11-v2/100000/C1E27CFF-D56D-BC44-9493-4E791F4CF82E.root',\n",
       "  'root://cmsxrootd.fnal.gov//store/mc/RunIISummer20UL16NanoAODAPVv9/DYJetsToLL_M-50_HT-100to200_TuneCP5_PSweights_13TeV-madgraphMLM-pythia8/NANOAODSIM/106X_mcRun2_asymptotic_preVFP_v11-v2/100000/D6DBBFF7-66F3-DA48-8E67-CA34C664A125.root',\n",
       "  'root://cmsxrootd.fnal.gov//store/mc/RunIISummer20UL16NanoAODAPVv9/DYJetsToLL_M-50_HT-100to200_TuneCP5_PSweights_13TeV-madgraphMLM-pythia8/NANOAODSIM/106X_mcRun2_asymptotic_preVFP_v11-v2/230000/0CB87255-1BA7-C540-8E42-6EF761F062F7.root',\n",
       "  'root://cmsxrootd.fnal.gov//store/mc/RunIISummer20UL16NanoAODAPVv9/DYJetsToLL_M-50_HT-100to200_TuneCP5_PSweights_13TeV-madgraphMLM-pythia8/NANOAODSIM/106X_mcRun2_asymptotic_preVFP_v11-v2/230000/36A5A8F0-59FE-CE46-BC98-7DE04E08EA2C.root',\n",
       "  'root://cmsxrootd.fnal.gov//store/mc/RunIISummer20UL16NanoAODAPVv9/DYJetsToLL_M-50_HT-100to200_TuneCP5_PSweights_13TeV-madgraphMLM-pythia8/NANOAODSIM/106X_mcRun2_asymptotic_preVFP_v11-v2/230000/3C618EB0-AC9A-0F43-9755-267CD1CAFDFA.root',\n",
       "  'root://cmsxrootd.fnal.gov//store/mc/RunIISummer20UL16NanoAODAPVv9/DYJetsToLL_M-50_HT-100to200_TuneCP5_PSweights_13TeV-madgraphMLM-pythia8/NANOAODSIM/106X_mcRun2_asymptotic_preVFP_v11-v2/230000/48BEE525-FDB0-DB48-8710-2AF4A6DADBFD.root',\n",
       "  'root://cmsxrootd.fnal.gov//store/mc/RunIISummer20UL16NanoAODAPVv9/DYJetsToLL_M-50_HT-100to200_TuneCP5_PSweights_13TeV-madgraphMLM-pythia8/NANOAODSIM/106X_mcRun2_asymptotic_preVFP_v11-v2/230000/4ADA432C-CC18-B542-B919-4ECBD90CC6C5.root',\n",
       "  'root://cmsxrootd.fnal.gov//store/mc/RunIISummer20UL16NanoAODAPVv9/DYJetsToLL_M-50_HT-100to200_TuneCP5_PSweights_13TeV-madgraphMLM-pythia8/NANOAODSIM/106X_mcRun2_asymptotic_preVFP_v11-v2/230000/994D6FF8-981A-E048-97B6-28AA032C3D8A.root',\n",
       "  'root://cmsxrootd.fnal.gov//store/mc/RunIISummer20UL16NanoAODAPVv9/DYJetsToLL_M-50_HT-100to200_TuneCP5_PSweights_13TeV-madgraphMLM-pythia8/NANOAODSIM/106X_mcRun2_asymptotic_preVFP_v11-v2/230000/9ECEA7A8-0C56-9444-BDC3-5DF6DA2E3BCF.root',\n",
       "  'root://cmsxrootd.fnal.gov//store/mc/RunIISummer20UL16NanoAODAPVv9/DYJetsToLL_M-50_HT-100to200_TuneCP5_PSweights_13TeV-madgraphMLM-pythia8/NANOAODSIM/106X_mcRun2_asymptotic_preVFP_v11-v2/230000/A077849F-64A5-CD46-B264-1D8C669C0181.root',\n",
       "  'root://cmsxrootd.fnal.gov//store/mc/RunIISummer20UL16NanoAODAPVv9/DYJetsToLL_M-50_HT-100to200_TuneCP5_PSweights_13TeV-madgraphMLM-pythia8/NANOAODSIM/106X_mcRun2_asymptotic_preVFP_v11-v2/230000/D849DA94-D0D8-0D4C-A1B6-99C80E401E00.root',\n",
       "  'root://cmsxrootd.fnal.gov//store/mc/RunIISummer20UL16NanoAODAPVv9/DYJetsToLL_M-50_HT-100to200_TuneCP5_PSweights_13TeV-madgraphMLM-pythia8/NANOAODSIM/106X_mcRun2_asymptotic_preVFP_v11-v2/230000/EE8B56C5-1509-364F-B8CD-CC300AE15EC5.root',\n",
       "  'root://cmsxrootd.fnal.gov//store/mc/RunIISummer20UL16NanoAODAPVv9/DYJetsToLL_M-50_HT-100to200_TuneCP5_PSweights_13TeV-madgraphMLM-pythia8/NANOAODSIM/106X_mcRun2_asymptotic_preVFP_v11-v2/2430000/30EBA5E9-8147-7D4D-98D5-DF772A4C5BCC.root',\n",
       "  'root://cmsxrootd.fnal.gov//store/mc/RunIISummer20UL16NanoAODAPVv9/DYJetsToLL_M-50_HT-100to200_TuneCP5_PSweights_13TeV-madgraphMLM-pythia8/NANOAODSIM/106X_mcRun2_asymptotic_preVFP_v11-v2/2430000/606573D9-8472-5240-A217-18F9CB19B588.root',\n",
       "  'root://cmsxrootd.fnal.gov//store/mc/RunIISummer20UL16NanoAODAPVv9/DYJetsToLL_M-50_HT-100to200_TuneCP5_PSweights_13TeV-madgraphMLM-pythia8/NANOAODSIM/106X_mcRun2_asymptotic_preVFP_v11-v2/2430000/6B53607D-8E04-C04B-A5ED-48188E252268.root',\n",
       "  'root://cmsxrootd.fnal.gov//store/mc/RunIISummer20UL16NanoAODAPVv9/DYJetsToLL_M-50_HT-100to200_TuneCP5_PSweights_13TeV-madgraphMLM-pythia8/NANOAODSIM/106X_mcRun2_asymptotic_preVFP_v11-v2/2430000/735657EA-A65E-0B44-8C2F-DFCB515EA669.root',\n",
       "  'root://cmsxrootd.fnal.gov//store/mc/RunIISummer20UL16NanoAODAPVv9/DYJetsToLL_M-50_HT-100to200_TuneCP5_PSweights_13TeV-madgraphMLM-pythia8/NANOAODSIM/106X_mcRun2_asymptotic_preVFP_v11-v2/250000/0E3160DD-DD81-4040-BB3D-5155CB7324BC.root',\n",
       "  'root://cmsxrootd.fnal.gov//store/mc/RunIISummer20UL16NanoAODAPVv9/DYJetsToLL_M-50_HT-100to200_TuneCP5_PSweights_13TeV-madgraphMLM-pythia8/NANOAODSIM/106X_mcRun2_asymptotic_preVFP_v11-v2/250000/17D114E9-2D8A-6C45-A81A-C5E435DB73BF.root',\n",
       "  'root://cmsxrootd.fnal.gov//store/mc/RunIISummer20UL16NanoAODAPVv9/DYJetsToLL_M-50_HT-100to200_TuneCP5_PSweights_13TeV-madgraphMLM-pythia8/NANOAODSIM/106X_mcRun2_asymptotic_preVFP_v11-v2/250000/278B1DBC-CE12-4C42-9A65-DA8F6ECB7345.root',\n",
       "  'root://cmsxrootd.fnal.gov//store/mc/RunIISummer20UL16NanoAODAPVv9/DYJetsToLL_M-50_HT-100to200_TuneCP5_PSweights_13TeV-madgraphMLM-pythia8/NANOAODSIM/106X_mcRun2_asymptotic_preVFP_v11-v2/250000/2B229F57-7065-6743-BCA6-1A31D5A49B44.root',\n",
       "  'root://cmsxrootd.fnal.gov//store/mc/RunIISummer20UL16NanoAODAPVv9/DYJetsToLL_M-50_HT-100to200_TuneCP5_PSweights_13TeV-madgraphMLM-pythia8/NANOAODSIM/106X_mcRun2_asymptotic_preVFP_v11-v2/250000/3585AAB8-0E21-3046-A5EA-AC49D2414188.root',\n",
       "  'root://cmsxrootd.fnal.gov//store/mc/RunIISummer20UL16NanoAODAPVv9/DYJetsToLL_M-50_HT-100to200_TuneCP5_PSweights_13TeV-madgraphMLM-pythia8/NANOAODSIM/106X_mcRun2_asymptotic_preVFP_v11-v2/250000/38B1EE93-62EC-804B-B749-501B6E6EB497.root',\n",
       "  'root://cmsxrootd.fnal.gov//store/mc/RunIISummer20UL16NanoAODAPVv9/DYJetsToLL_M-50_HT-100to200_TuneCP5_PSweights_13TeV-madgraphMLM-pythia8/NANOAODSIM/106X_mcRun2_asymptotic_preVFP_v11-v2/250000/5B0F6421-1079-D043-99E2-2AB9F9111617.root',\n",
       "  'root://cmsxrootd.fnal.gov//store/mc/RunIISummer20UL16NanoAODAPVv9/DYJetsToLL_M-50_HT-100to200_TuneCP5_PSweights_13TeV-madgraphMLM-pythia8/NANOAODSIM/106X_mcRun2_asymptotic_preVFP_v11-v2/250000/71598BDC-E755-0746-AFFA-913FE69A4EBF.root',\n",
       "  'root://cmsxrootd.fnal.gov//store/mc/RunIISummer20UL16NanoAODAPVv9/DYJetsToLL_M-50_HT-100to200_TuneCP5_PSweights_13TeV-madgraphMLM-pythia8/NANOAODSIM/106X_mcRun2_asymptotic_preVFP_v11-v2/250000/9BFD78F9-C9A3-694D-A5F4-F1F6B9B19AF7.root',\n",
       "  'root://cmsxrootd.fnal.gov//store/mc/RunIISummer20UL16NanoAODAPVv9/DYJetsToLL_M-50_HT-100to200_TuneCP5_PSweights_13TeV-madgraphMLM-pythia8/NANOAODSIM/106X_mcRun2_asymptotic_preVFP_v11-v2/250000/A58937A0-37FC-DD4F-B583-E60884C0911E.root',\n",
       "  'root://cmsxrootd.fnal.gov//store/mc/RunIISummer20UL16NanoAODAPVv9/DYJetsToLL_M-50_HT-100to200_TuneCP5_PSweights_13TeV-madgraphMLM-pythia8/NANOAODSIM/106X_mcRun2_asymptotic_preVFP_v11-v2/250000/AA3D99E2-03B7-5249-ABE4-AC9C4F040E57.root',\n",
       "  'root://cmsxrootd.fnal.gov//store/mc/RunIISummer20UL16NanoAODAPVv9/DYJetsToLL_M-50_HT-100to200_TuneCP5_PSweights_13TeV-madgraphMLM-pythia8/NANOAODSIM/106X_mcRun2_asymptotic_preVFP_v11-v2/250000/AF5D11DF-4A36-2247-81F2-EA5032660071.root',\n",
       "  'root://cmsxrootd.fnal.gov//store/mc/RunIISummer20UL16NanoAODAPVv9/DYJetsToLL_M-50_HT-100to200_TuneCP5_PSweights_13TeV-madgraphMLM-pythia8/NANOAODSIM/106X_mcRun2_asymptotic_preVFP_v11-v2/250000/CA9BCC64-46EE-CA4D-AC69-6088D07D6C20.root',\n",
       "  'root://cmsxrootd.fnal.gov//store/mc/RunIISummer20UL16NanoAODAPVv9/DYJetsToLL_M-50_HT-100to200_TuneCP5_PSweights_13TeV-madgraphMLM-pythia8/NANOAODSIM/106X_mcRun2_asymptotic_preVFP_v11-v2/250000/CEBDC7A2-6800-0440-8ED7-13E60DE6C7BE.root',\n",
       "  'root://cmsxrootd.fnal.gov//store/mc/RunIISummer20UL16NanoAODAPVv9/DYJetsToLL_M-50_HT-100to200_TuneCP5_PSweights_13TeV-madgraphMLM-pythia8/NANOAODSIM/106X_mcRun2_asymptotic_preVFP_v11-v2/2500000/7722404C-9CF0-B442-9373-01F3CA74AD84.root',\n",
       "  'root://cmsxrootd.fnal.gov//store/mc/RunIISummer20UL16NanoAODAPVv9/DYJetsToLL_M-50_HT-100to200_TuneCP5_PSweights_13TeV-madgraphMLM-pythia8/NANOAODSIM/106X_mcRun2_asymptotic_preVFP_v11-v2/2500000/AC5E002E-436D-7649-9D10-337C62BC5A98.root',\n",
       "  'root://cmsxrootd.fnal.gov//store/mc/RunIISummer20UL16NanoAODAPVv9/DYJetsToLL_M-50_HT-100to200_TuneCP5_PSweights_13TeV-madgraphMLM-pythia8/NANOAODSIM/106X_mcRun2_asymptotic_preVFP_v11-v2/2510000/31AB5E59-FA48-7342-9237-3DBD6EB6BEEE.root',\n",
       "  'root://cmsxrootd.fnal.gov//store/mc/RunIISummer20UL16NanoAODAPVv9/DYJetsToLL_M-50_HT-100to200_TuneCP5_PSweights_13TeV-madgraphMLM-pythia8/NANOAODSIM/106X_mcRun2_asymptotic_preVFP_v11-v2/40000/023421CB-A0BE-C645-9B77-00B31E9E9142.root',\n",
       "  'root://cmsxrootd.fnal.gov//store/mc/RunIISummer20UL16NanoAODAPVv9/DYJetsToLL_M-50_HT-100to200_TuneCP5_PSweights_13TeV-madgraphMLM-pythia8/NANOAODSIM/106X_mcRun2_asymptotic_preVFP_v11-v2/40000/0609D291-7FB2-F945-8A55-2F5A8C9041F1.root',\n",
       "  'root://cmsxrootd.fnal.gov//store/mc/RunIISummer20UL16NanoAODAPVv9/DYJetsToLL_M-50_HT-100to200_TuneCP5_PSweights_13TeV-madgraphMLM-pythia8/NANOAODSIM/106X_mcRun2_asymptotic_preVFP_v11-v2/40000/0F56DDDA-F965-1143-8068-A63042B96650.root',\n",
       "  'root://cmsxrootd.fnal.gov//store/mc/RunIISummer20UL16NanoAODAPVv9/DYJetsToLL_M-50_HT-100to200_TuneCP5_PSweights_13TeV-madgraphMLM-pythia8/NANOAODSIM/106X_mcRun2_asymptotic_preVFP_v11-v2/40000/485CE2E9-14B4-6040-9DC0-CAE774691CBD.root',\n",
       "  'root://cmsxrootd.fnal.gov//store/mc/RunIISummer20UL16NanoAODAPVv9/DYJetsToLL_M-50_HT-100to200_TuneCP5_PSweights_13TeV-madgraphMLM-pythia8/NANOAODSIM/106X_mcRun2_asymptotic_preVFP_v11-v2/40000/96B1D61E-A019-3E45-86F0-0674FA03FD4A.root',\n",
       "  'root://cmsxrootd.fnal.gov//store/mc/RunIISummer20UL16NanoAODAPVv9/DYJetsToLL_M-50_HT-100to200_TuneCP5_PSweights_13TeV-madgraphMLM-pythia8/NANOAODSIM/106X_mcRun2_asymptotic_preVFP_v11-v2/40000/ED5F3646-C87C-AF43-A218-67877F0C2FFE.root',\n",
       "  'root://cmsxrootd.fnal.gov//store/mc/RunIISummer20UL16NanoAODAPVv9/DYJetsToLL_M-50_HT-100to200_TuneCP5_PSweights_13TeV-madgraphMLM-pythia8/NANOAODSIM/106X_mcRun2_asymptotic_preVFP_v11-v2/40000/EF037981-F35D-184E-92B9-69EEA25DB199.root'],\n",
       " 'UL16NanoAODAPVv9_DYJetsToLL_M-50_HT-1200to2500_TuneCP5_PSweights_13TeV-madgraphMLM-pythia8': ['root://cmsxrootd.fnal.gov//store/mc/RunIISummer20UL16NanoAODAPVv9/DYJetsToLL_M-50_HT-1200to2500_TuneCP5_PSweights_13TeV-madgraphMLM-pythia8/NANOAODSIM/106X_mcRun2_asymptotic_preVFP_v11-v2/2520000/8D06976B-CBE3-5B4C-8F1E-F91901DE5ECF.root',\n",
       "  'root://cmsxrootd.fnal.gov//store/mc/RunIISummer20UL16NanoAODAPVv9/DYJetsToLL_M-50_HT-1200to2500_TuneCP5_PSweights_13TeV-madgraphMLM-pythia8/NANOAODSIM/106X_mcRun2_asymptotic_preVFP_v11-v2/2520000/9E3C8F38-E2F2-8F49-A7D2-784D6054B5ED.root',\n",
       "  'root://cmsxrootd.fnal.gov//store/mc/RunIISummer20UL16NanoAODAPVv9/DYJetsToLL_M-50_HT-1200to2500_TuneCP5_PSweights_13TeV-madgraphMLM-pythia8/NANOAODSIM/106X_mcRun2_asymptotic_preVFP_v11-v2/2520000/C610187A-FE6B-E043-8842-FFD7F51D9B74.root',\n",
       "  'root://cmsxrootd.fnal.gov//store/mc/RunIISummer20UL16NanoAODAPVv9/DYJetsToLL_M-50_HT-1200to2500_TuneCP5_PSweights_13TeV-madgraphMLM-pythia8/NANOAODSIM/106X_mcRun2_asymptotic_preVFP_v11-v2/2520000/E3BA47CE-014F-8A4E-A750-590E1F78B05C.root',\n",
       "  'root://cmsxrootd.fnal.gov//store/mc/RunIISummer20UL16NanoAODAPVv9/DYJetsToLL_M-50_HT-1200to2500_TuneCP5_PSweights_13TeV-madgraphMLM-pythia8/NANOAODSIM/106X_mcRun2_asymptotic_preVFP_v11-v2/2530000/2567CA26-AB3D-6F40-BF34-E1B81ADAC9E2.root',\n",
       "  'root://cmsxrootd.fnal.gov//store/mc/RunIISummer20UL16NanoAODAPVv9/DYJetsToLL_M-50_HT-1200to2500_TuneCP5_PSweights_13TeV-madgraphMLM-pythia8/NANOAODSIM/106X_mcRun2_asymptotic_preVFP_v11-v2/2530000/258098C2-BB77-5041-B6EF-310870D1204A.root',\n",
       "  'root://cmsxrootd.fnal.gov//store/mc/RunIISummer20UL16NanoAODAPVv9/DYJetsToLL_M-50_HT-1200to2500_TuneCP5_PSweights_13TeV-madgraphMLM-pythia8/NANOAODSIM/106X_mcRun2_asymptotic_preVFP_v11-v2/2530000/35F798FB-F24B-E04D-8370-4F680E951614.root',\n",
       "  'root://cmsxrootd.fnal.gov//store/mc/RunIISummer20UL16NanoAODAPVv9/DYJetsToLL_M-50_HT-1200to2500_TuneCP5_PSweights_13TeV-madgraphMLM-pythia8/NANOAODSIM/106X_mcRun2_asymptotic_preVFP_v11-v2/2530000/3D7881B7-7741-9E42-BC81-EBA8FF6C37D6.root',\n",
       "  'root://cmsxrootd.fnal.gov//store/mc/RunIISummer20UL16NanoAODAPVv9/DYJetsToLL_M-50_HT-1200to2500_TuneCP5_PSweights_13TeV-madgraphMLM-pythia8/NANOAODSIM/106X_mcRun2_asymptotic_preVFP_v11-v2/2530000/56BAC363-364C-0C4C-B880-E4461590EDE9.root',\n",
       "  'root://cmsxrootd.fnal.gov//store/mc/RunIISummer20UL16NanoAODAPVv9/DYJetsToLL_M-50_HT-1200to2500_TuneCP5_PSweights_13TeV-madgraphMLM-pythia8/NANOAODSIM/106X_mcRun2_asymptotic_preVFP_v11-v2/2530000/73027E36-77AC-BC46-8EF1-B2ADD4DA0690.root',\n",
       "  'root://cmsxrootd.fnal.gov//store/mc/RunIISummer20UL16NanoAODAPVv9/DYJetsToLL_M-50_HT-1200to2500_TuneCP5_PSweights_13TeV-madgraphMLM-pythia8/NANOAODSIM/106X_mcRun2_asymptotic_preVFP_v11-v2/2530000/AB088F8F-D5E0-DE47-9F17-3524E6A89EB7.root',\n",
       "  'root://cmsxrootd.fnal.gov//store/mc/RunIISummer20UL16NanoAODAPVv9/DYJetsToLL_M-50_HT-1200to2500_TuneCP5_PSweights_13TeV-madgraphMLM-pythia8/NANOAODSIM/106X_mcRun2_asymptotic_preVFP_v11-v2/2530000/D76928B2-1513-A843-A2E3-7D366253A28A.root',\n",
       "  'root://cmsxrootd.fnal.gov//store/mc/RunIISummer20UL16NanoAODAPVv9/DYJetsToLL_M-50_HT-1200to2500_TuneCP5_PSweights_13TeV-madgraphMLM-pythia8/NANOAODSIM/106X_mcRun2_asymptotic_preVFP_v11-v2/2540000/00E4401E-3609-8F4E-95A2-ABF692D83F00.root',\n",
       "  'root://cmsxrootd.fnal.gov//store/mc/RunIISummer20UL16NanoAODAPVv9/DYJetsToLL_M-50_HT-1200to2500_TuneCP5_PSweights_13TeV-madgraphMLM-pythia8/NANOAODSIM/106X_mcRun2_asymptotic_preVFP_v11-v2/2550000/838F764E-9ED6-1545-B396-CC96268F7471.root',\n",
       "  'root://cmsxrootd.fnal.gov//store/mc/RunIISummer20UL16NanoAODAPVv9/DYJetsToLL_M-50_HT-1200to2500_TuneCP5_PSweights_13TeV-madgraphMLM-pythia8/NANOAODSIM/106X_mcRun2_asymptotic_preVFP_v11-v2/260000/055A17D0-B887-2D4D-A48A-7F0F001F86A1.root',\n",
       "  'root://cmsxrootd.fnal.gov//store/mc/RunIISummer20UL16NanoAODAPVv9/DYJetsToLL_M-50_HT-1200to2500_TuneCP5_PSweights_13TeV-madgraphMLM-pythia8/NANOAODSIM/106X_mcRun2_asymptotic_preVFP_v11-v2/260000/5DAA902C-9B29-C943-A4F9-169826F286D8.root',\n",
       "  'root://cmsxrootd.fnal.gov//store/mc/RunIISummer20UL16NanoAODAPVv9/DYJetsToLL_M-50_HT-1200to2500_TuneCP5_PSweights_13TeV-madgraphMLM-pythia8/NANOAODSIM/106X_mcRun2_asymptotic_preVFP_v11-v2/260000/6923EBEF-1AB1-EF44-BC30-6D3172F96F5C.root',\n",
       "  'root://cmsxrootd.fnal.gov//store/mc/RunIISummer20UL16NanoAODAPVv9/DYJetsToLL_M-50_HT-1200to2500_TuneCP5_PSweights_13TeV-madgraphMLM-pythia8/NANOAODSIM/106X_mcRun2_asymptotic_preVFP_v11-v2/260000/9BEF1497-12EF-874B-8E34-DA147F590969.root',\n",
       "  'root://cmsxrootd.fnal.gov//store/mc/RunIISummer20UL16NanoAODAPVv9/DYJetsToLL_M-50_HT-1200to2500_TuneCP5_PSweights_13TeV-madgraphMLM-pythia8/NANOAODSIM/106X_mcRun2_asymptotic_preVFP_v11-v2/260000/A360A18B-FEDB-0846-A08D-F190D6ECD973.root',\n",
       "  'root://cmsxrootd.fnal.gov//store/mc/RunIISummer20UL16NanoAODAPVv9/DYJetsToLL_M-50_HT-1200to2500_TuneCP5_PSweights_13TeV-madgraphMLM-pythia8/NANOAODSIM/106X_mcRun2_asymptotic_preVFP_v11-v2/260000/AF523357-DB1F-D24A-AB16-375A2F7A1087.root',\n",
       "  'root://cmsxrootd.fnal.gov//store/mc/RunIISummer20UL16NanoAODAPVv9/DYJetsToLL_M-50_HT-1200to2500_TuneCP5_PSweights_13TeV-madgraphMLM-pythia8/NANOAODSIM/106X_mcRun2_asymptotic_preVFP_v11-v2/260000/AF53D832-F665-F743-9857-57BD927B656F.root',\n",
       "  'root://cmsxrootd.fnal.gov//store/mc/RunIISummer20UL16NanoAODAPVv9/DYJetsToLL_M-50_HT-1200to2500_TuneCP5_PSweights_13TeV-madgraphMLM-pythia8/NANOAODSIM/106X_mcRun2_asymptotic_preVFP_v11-v2/260000/FDC6872F-ED4D-0B41-BE1F-CA3C20BCCB50.root',\n",
       "  'root://cmsxrootd.fnal.gov//store/mc/RunIISummer20UL16NanoAODAPVv9/DYJetsToLL_M-50_HT-1200to2500_TuneCP5_PSweights_13TeV-madgraphMLM-pythia8/NANOAODSIM/106X_mcRun2_asymptotic_preVFP_v11-v2/270000/1AB75488-D46E-BC4A-A732-4D6AAA760FBC.root',\n",
       "  'root://cmsxrootd.fnal.gov//store/mc/RunIISummer20UL16NanoAODAPVv9/DYJetsToLL_M-50_HT-1200to2500_TuneCP5_PSweights_13TeV-madgraphMLM-pythia8/NANOAODSIM/106X_mcRun2_asymptotic_preVFP_v11-v2/270000/2BB8317B-0FE9-204B-AB2E-9B8941F64B7A.root',\n",
       "  'root://cmsxrootd.fnal.gov//store/mc/RunIISummer20UL16NanoAODAPVv9/DYJetsToLL_M-50_HT-1200to2500_TuneCP5_PSweights_13TeV-madgraphMLM-pythia8/NANOAODSIM/106X_mcRun2_asymptotic_preVFP_v11-v2/270000/2F5A9739-11F8-7F45-A299-8EEEFA37C625.root',\n",
       "  'root://cmsxrootd.fnal.gov//store/mc/RunIISummer20UL16NanoAODAPVv9/DYJetsToLL_M-50_HT-1200to2500_TuneCP5_PSweights_13TeV-madgraphMLM-pythia8/NANOAODSIM/106X_mcRun2_asymptotic_preVFP_v11-v2/270000/3445E523-C6E3-6447-9622-BEDBE925CCC8.root',\n",
       "  'root://cmsxrootd.fnal.gov//store/mc/RunIISummer20UL16NanoAODAPVv9/DYJetsToLL_M-50_HT-1200to2500_TuneCP5_PSweights_13TeV-madgraphMLM-pythia8/NANOAODSIM/106X_mcRun2_asymptotic_preVFP_v11-v2/270000/3977831C-370C-4B4D-8C72-8ECAB76BDE8B.root',\n",
       "  'root://cmsxrootd.fnal.gov//store/mc/RunIISummer20UL16NanoAODAPVv9/DYJetsToLL_M-50_HT-1200to2500_TuneCP5_PSweights_13TeV-madgraphMLM-pythia8/NANOAODSIM/106X_mcRun2_asymptotic_preVFP_v11-v2/270000/423B3AC1-0C71-DF4C-8CE6-283DBACB4488.root',\n",
       "  'root://cmsxrootd.fnal.gov//store/mc/RunIISummer20UL16NanoAODAPVv9/DYJetsToLL_M-50_HT-1200to2500_TuneCP5_PSweights_13TeV-madgraphMLM-pythia8/NANOAODSIM/106X_mcRun2_asymptotic_preVFP_v11-v2/270000/4459231F-236B-0743-8409-CEA0997D4466.root',\n",
       "  'root://cmsxrootd.fnal.gov//store/mc/RunIISummer20UL16NanoAODAPVv9/DYJetsToLL_M-50_HT-1200to2500_TuneCP5_PSweights_13TeV-madgraphMLM-pythia8/NANOAODSIM/106X_mcRun2_asymptotic_preVFP_v11-v2/270000/7AFF3DC3-129C-A040-93F0-0D592BCD89D0.root',\n",
       "  'root://cmsxrootd.fnal.gov//store/mc/RunIISummer20UL16NanoAODAPVv9/DYJetsToLL_M-50_HT-1200to2500_TuneCP5_PSweights_13TeV-madgraphMLM-pythia8/NANOAODSIM/106X_mcRun2_asymptotic_preVFP_v11-v2/270000/97F7FCD9-4C15-5148-B8E5-DC491B60FC7D.root',\n",
       "  'root://cmsxrootd.fnal.gov//store/mc/RunIISummer20UL16NanoAODAPVv9/DYJetsToLL_M-50_HT-1200to2500_TuneCP5_PSweights_13TeV-madgraphMLM-pythia8/NANOAODSIM/106X_mcRun2_asymptotic_preVFP_v11-v2/270000/A7CD8B6B-5E4A-AF47-93E2-19F0247F7891.root',\n",
       "  'root://cmsxrootd.fnal.gov//store/mc/RunIISummer20UL16NanoAODAPVv9/DYJetsToLL_M-50_HT-1200to2500_TuneCP5_PSweights_13TeV-madgraphMLM-pythia8/NANOAODSIM/106X_mcRun2_asymptotic_preVFP_v11-v2/270000/B8D212BF-294B-494C-B9A8-9504BFD36868.root',\n",
       "  'root://cmsxrootd.fnal.gov//store/mc/RunIISummer20UL16NanoAODAPVv9/DYJetsToLL_M-50_HT-1200to2500_TuneCP5_PSweights_13TeV-madgraphMLM-pythia8/NANOAODSIM/106X_mcRun2_asymptotic_preVFP_v11-v2/270000/C3242DC6-4F51-4146-BD10-1C2242E7C388.root',\n",
       "  'root://cmsxrootd.fnal.gov//store/mc/RunIISummer20UL16NanoAODAPVv9/DYJetsToLL_M-50_HT-1200to2500_TuneCP5_PSweights_13TeV-madgraphMLM-pythia8/NANOAODSIM/106X_mcRun2_asymptotic_preVFP_v11-v2/270000/E103291C-4134-7A46-92D4-E197A62975E4.root',\n",
       "  'root://cmsxrootd.fnal.gov//store/mc/RunIISummer20UL16NanoAODAPVv9/DYJetsToLL_M-50_HT-1200to2500_TuneCP5_PSweights_13TeV-madgraphMLM-pythia8/NANOAODSIM/106X_mcRun2_asymptotic_preVFP_v11-v2/270000/EB04669C-2047-E247-8C32-BE8C50D9C2EA.root',\n",
       "  'root://cmsxrootd.fnal.gov//store/mc/RunIISummer20UL16NanoAODAPVv9/DYJetsToLL_M-50_HT-1200to2500_TuneCP5_PSweights_13TeV-madgraphMLM-pythia8/NANOAODSIM/106X_mcRun2_asymptotic_preVFP_v11-v2/270000/FFFFBA76-9DD4-0244-A6F1-311AF064F555.root',\n",
       "  'root://cmsxrootd.fnal.gov//store/mc/RunIISummer20UL16NanoAODAPVv9/DYJetsToLL_M-50_HT-1200to2500_TuneCP5_PSweights_13TeV-madgraphMLM-pythia8/NANOAODSIM/106X_mcRun2_asymptotic_preVFP_v11-v2/30000/A694DD9D-63BF-A648-A214-07EAE0C46AD3.root',\n",
       "  'root://cmsxrootd.fnal.gov//store/mc/RunIISummer20UL16NanoAODAPVv9/DYJetsToLL_M-50_HT-1200to2500_TuneCP5_PSweights_13TeV-madgraphMLM-pythia8/NANOAODSIM/106X_mcRun2_asymptotic_preVFP_v11-v2/80000/AE2BBC9B-4A6B-D541-8D58-AFB9167ED03A.root'],\n",
       " 'UL16NanoAODAPVv9_DYJetsToLL_M-50_HT-200to400_TuneCP5_PSweights_13TeV-madgraphMLM-pythia8': ['root://cmsxrootd.fnal.gov//store/mc/RunIISummer20UL16NanoAODAPVv9/DYJetsToLL_M-50_HT-200to400_TuneCP5_PSweights_13TeV-madgraphMLM-pythia8/NANOAODSIM/106X_mcRun2_asymptotic_preVFP_v11-v2/230000/7FCF7CD9-6B06-7346-B49F-FFC8284B33FE.root',\n",
       "  'root://cmsxrootd.fnal.gov//store/mc/RunIISummer20UL16NanoAODAPVv9/DYJetsToLL_M-50_HT-200to400_TuneCP5_PSweights_13TeV-madgraphMLM-pythia8/NANOAODSIM/106X_mcRun2_asymptotic_preVFP_v11-v2/230000/A276027B-CDEA-3C45-A134-A2A1E03BD313.root',\n",
       "  'root://cmsxrootd.fnal.gov//store/mc/RunIISummer20UL16NanoAODAPVv9/DYJetsToLL_M-50_HT-200to400_TuneCP5_PSweights_13TeV-madgraphMLM-pythia8/NANOAODSIM/106X_mcRun2_asymptotic_preVFP_v11-v2/230000/AD4BAF16-7D33-C242-9261-809B360AC678.root',\n",
       "  'root://cmsxrootd.fnal.gov//store/mc/RunIISummer20UL16NanoAODAPVv9/DYJetsToLL_M-50_HT-200to400_TuneCP5_PSweights_13TeV-madgraphMLM-pythia8/NANOAODSIM/106X_mcRun2_asymptotic_preVFP_v11-v2/230000/D4EA97D5-0575-FD47-AC10-0E5FD36EEDB0.root',\n",
       "  'root://cmsxrootd.fnal.gov//store/mc/RunIISummer20UL16NanoAODAPVv9/DYJetsToLL_M-50_HT-200to400_TuneCP5_PSweights_13TeV-madgraphMLM-pythia8/NANOAODSIM/106X_mcRun2_asymptotic_preVFP_v11-v2/230000/ECBC2AF1-C6B6-B945-9EE1-00B7716D47B9.root',\n",
       "  'root://cmsxrootd.fnal.gov//store/mc/RunIISummer20UL16NanoAODAPVv9/DYJetsToLL_M-50_HT-200to400_TuneCP5_PSweights_13TeV-madgraphMLM-pythia8/NANOAODSIM/106X_mcRun2_asymptotic_preVFP_v11-v2/2430000/8E4858C1-D0B9-E048-BE4E-2A0D670C5E25.root',\n",
       "  'root://cmsxrootd.fnal.gov//store/mc/RunIISummer20UL16NanoAODAPVv9/DYJetsToLL_M-50_HT-200to400_TuneCP5_PSweights_13TeV-madgraphMLM-pythia8/NANOAODSIM/106X_mcRun2_asymptotic_preVFP_v11-v2/250000/2F01FFE9-FD5D-F34D-AC59-D471B3D5519D.root',\n",
       "  'root://cmsxrootd.fnal.gov//store/mc/RunIISummer20UL16NanoAODAPVv9/DYJetsToLL_M-50_HT-200to400_TuneCP5_PSweights_13TeV-madgraphMLM-pythia8/NANOAODSIM/106X_mcRun2_asymptotic_preVFP_v11-v2/250000/C6598D86-2600-404E-9924-0D52248ADCD4.root',\n",
       "  'root://cmsxrootd.fnal.gov//store/mc/RunIISummer20UL16NanoAODAPVv9/DYJetsToLL_M-50_HT-200to400_TuneCP5_PSweights_13TeV-madgraphMLM-pythia8/NANOAODSIM/106X_mcRun2_asymptotic_preVFP_v11-v2/2510000/80F16EEA-7CDB-A04B-AC8C-9B9639FB1CAD.root',\n",
       "  'root://cmsxrootd.fnal.gov//store/mc/RunIISummer20UL16NanoAODAPVv9/DYJetsToLL_M-50_HT-200to400_TuneCP5_PSweights_13TeV-madgraphMLM-pythia8/NANOAODSIM/106X_mcRun2_asymptotic_preVFP_v11-v2/40000/12E01E98-EA29-D541-A3FB-315598B12E70.root',\n",
       "  'root://cmsxrootd.fnal.gov//store/mc/RunIISummer20UL16NanoAODAPVv9/DYJetsToLL_M-50_HT-200to400_TuneCP5_PSweights_13TeV-madgraphMLM-pythia8/NANOAODSIM/106X_mcRun2_asymptotic_preVFP_v11-v2/40000/499DF347-C74F-AD43-A139-896D4DBAF5A0.root',\n",
       "  'root://cmsxrootd.fnal.gov//store/mc/RunIISummer20UL16NanoAODAPVv9/DYJetsToLL_M-50_HT-200to400_TuneCP5_PSweights_13TeV-madgraphMLM-pythia8/NANOAODSIM/106X_mcRun2_asymptotic_preVFP_v11-v2/40000/6E411092-AEDC-2A4F-B2DE-3267DD225F3E.root',\n",
       "  'root://cmsxrootd.fnal.gov//store/mc/RunIISummer20UL16NanoAODAPVv9/DYJetsToLL_M-50_HT-200to400_TuneCP5_PSweights_13TeV-madgraphMLM-pythia8/NANOAODSIM/106X_mcRun2_asymptotic_preVFP_v11-v2/40000/98F1F85A-DA6E-C040-8DE1-B61F71DC47BE.root',\n",
       "  'root://cmsxrootd.fnal.gov//store/mc/RunIISummer20UL16NanoAODAPVv9/DYJetsToLL_M-50_HT-200to400_TuneCP5_PSweights_13TeV-madgraphMLM-pythia8/NANOAODSIM/106X_mcRun2_asymptotic_preVFP_v11-v2/40000/A0CC00E9-9C9C-F246-BDB7-AEEC896CFAFF.root',\n",
       "  'root://cmsxrootd.fnal.gov//store/mc/RunIISummer20UL16NanoAODAPVv9/DYJetsToLL_M-50_HT-200to400_TuneCP5_PSweights_13TeV-madgraphMLM-pythia8/NANOAODSIM/106X_mcRun2_asymptotic_preVFP_v11-v2/40000/C00710C9-DF74-D349-BAD4-6AC6FEF793E0.root',\n",
       "  'root://cmsxrootd.fnal.gov//store/mc/RunIISummer20UL16NanoAODAPVv9/DYJetsToLL_M-50_HT-200to400_TuneCP5_PSweights_13TeV-madgraphMLM-pythia8/NANOAODSIM/106X_mcRun2_asymptotic_preVFP_v11-v2/40000/CED5C018-8613-9740-97D1-1C678C63F578.root',\n",
       "  'root://cmsxrootd.fnal.gov//store/mc/RunIISummer20UL16NanoAODAPVv9/DYJetsToLL_M-50_HT-200to400_TuneCP5_PSweights_13TeV-madgraphMLM-pythia8/NANOAODSIM/106X_mcRun2_asymptotic_preVFP_v11-v2/40000/F96E9E90-F69B-C348-BB8E-00860078DC77.root'],\n",
       " 'UL16NanoAODAPVv9_DYJetsToLL_M-50_HT-2500toInf_TuneCP5_PSweights_13TeV-madgraphMLM-pythia8': ['root://cmsxrootd.fnal.gov//store/mc/RunIISummer20UL16NanoAODAPVv9/DYJetsToLL_M-50_HT-2500toInf_TuneCP5_PSweights_13TeV-madgraphMLM-pythia8/NANOAODSIM/106X_mcRun2_asymptotic_preVFP_v11-v2/100000/19E72C8C-4308-2F4C-B84F-4018E54CEC4C.root',\n",
       "  'root://cmsxrootd.fnal.gov//store/mc/RunIISummer20UL16NanoAODAPVv9/DYJetsToLL_M-50_HT-2500toInf_TuneCP5_PSweights_13TeV-madgraphMLM-pythia8/NANOAODSIM/106X_mcRun2_asymptotic_preVFP_v11-v2/100000/2F4B2574-D158-AB45-BC99-0EDD006E1B6A.root',\n",
       "  'root://cmsxrootd.fnal.gov//store/mc/RunIISummer20UL16NanoAODAPVv9/DYJetsToLL_M-50_HT-2500toInf_TuneCP5_PSweights_13TeV-madgraphMLM-pythia8/NANOAODSIM/106X_mcRun2_asymptotic_preVFP_v11-v2/100000/42FD34AF-DFD4-3B44-8D5D-8D80D780DE13.root',\n",
       "  'root://cmsxrootd.fnal.gov//store/mc/RunIISummer20UL16NanoAODAPVv9/DYJetsToLL_M-50_HT-2500toInf_TuneCP5_PSweights_13TeV-madgraphMLM-pythia8/NANOAODSIM/106X_mcRun2_asymptotic_preVFP_v11-v2/100000/4F822E65-3111-5D4D-877F-6FE0292A3099.root',\n",
       "  'root://cmsxrootd.fnal.gov//store/mc/RunIISummer20UL16NanoAODAPVv9/DYJetsToLL_M-50_HT-2500toInf_TuneCP5_PSweights_13TeV-madgraphMLM-pythia8/NANOAODSIM/106X_mcRun2_asymptotic_preVFP_v11-v2/100000/604F95DC-F376-5D41-B80F-815A8030F735.root',\n",
       "  'root://cmsxrootd.fnal.gov//store/mc/RunIISummer20UL16NanoAODAPVv9/DYJetsToLL_M-50_HT-2500toInf_TuneCP5_PSweights_13TeV-madgraphMLM-pythia8/NANOAODSIM/106X_mcRun2_asymptotic_preVFP_v11-v2/100000/7E4F6B46-2D26-254C-BF56-4520FB033DC1.root',\n",
       "  'root://cmsxrootd.fnal.gov//store/mc/RunIISummer20UL16NanoAODAPVv9/DYJetsToLL_M-50_HT-2500toInf_TuneCP5_PSweights_13TeV-madgraphMLM-pythia8/NANOAODSIM/106X_mcRun2_asymptotic_preVFP_v11-v2/100000/D42F52BC-9863-0647-9362-8D89B9A23647.root',\n",
       "  'root://cmsxrootd.fnal.gov//store/mc/RunIISummer20UL16NanoAODAPVv9/DYJetsToLL_M-50_HT-2500toInf_TuneCP5_PSweights_13TeV-madgraphMLM-pythia8/NANOAODSIM/106X_mcRun2_asymptotic_preVFP_v11-v2/100000/D6ADB8B5-2AC8-A74C-8501-3A697968107B.root'],\n",
       " 'UL16NanoAODAPVv9_DYJetsToLL_M-50_HT-400to600_TuneCP5_PSweights_13TeV-madgraphMLM-pythia8': ['root://cmsxrootd.fnal.gov//store/mc/RunIISummer20UL16NanoAODAPVv9/DYJetsToLL_M-50_HT-400to600_TuneCP5_PSweights_13TeV-madgraphMLM-pythia8/NANOAODSIM/106X_mcRun2_asymptotic_preVFP_v11-v2/2550000/423200BB-5B93-F042-8FCC-932FA45AA39E.root',\n",
       "  'root://cmsxrootd.fnal.gov//store/mc/RunIISummer20UL16NanoAODAPVv9/DYJetsToLL_M-50_HT-400to600_TuneCP5_PSweights_13TeV-madgraphMLM-pythia8/NANOAODSIM/106X_mcRun2_asymptotic_preVFP_v11-v2/260000/15DAFCA6-68FF-3545-9E2B-CAC3E730600F.root',\n",
       "  'root://cmsxrootd.fnal.gov//store/mc/RunIISummer20UL16NanoAODAPVv9/DYJetsToLL_M-50_HT-400to600_TuneCP5_PSweights_13TeV-madgraphMLM-pythia8/NANOAODSIM/106X_mcRun2_asymptotic_preVFP_v11-v2/260000/17DDAA13-A779-0D4F-9E2E-34198BB04D48.root',\n",
       "  'root://cmsxrootd.fnal.gov//store/mc/RunIISummer20UL16NanoAODAPVv9/DYJetsToLL_M-50_HT-400to600_TuneCP5_PSweights_13TeV-madgraphMLM-pythia8/NANOAODSIM/106X_mcRun2_asymptotic_preVFP_v11-v2/260000/288CAE2D-77E2-F843-B381-E686BF61CBA5.root',\n",
       "  'root://cmsxrootd.fnal.gov//store/mc/RunIISummer20UL16NanoAODAPVv9/DYJetsToLL_M-50_HT-400to600_TuneCP5_PSweights_13TeV-madgraphMLM-pythia8/NANOAODSIM/106X_mcRun2_asymptotic_preVFP_v11-v2/260000/28C963FE-237F-DD43-AD4C-14F6BA524D76.root',\n",
       "  'root://cmsxrootd.fnal.gov//store/mc/RunIISummer20UL16NanoAODAPVv9/DYJetsToLL_M-50_HT-400to600_TuneCP5_PSweights_13TeV-madgraphMLM-pythia8/NANOAODSIM/106X_mcRun2_asymptotic_preVFP_v11-v2/260000/2B639A80-AE58-7741-818F-6A78C51FAC10.root',\n",
       "  'root://cmsxrootd.fnal.gov//store/mc/RunIISummer20UL16NanoAODAPVv9/DYJetsToLL_M-50_HT-400to600_TuneCP5_PSweights_13TeV-madgraphMLM-pythia8/NANOAODSIM/106X_mcRun2_asymptotic_preVFP_v11-v2/260000/312B3A42-16E2-2E4A-928B-70D937A07539.root',\n",
       "  'root://cmsxrootd.fnal.gov//store/mc/RunIISummer20UL16NanoAODAPVv9/DYJetsToLL_M-50_HT-400to600_TuneCP5_PSweights_13TeV-madgraphMLM-pythia8/NANOAODSIM/106X_mcRun2_asymptotic_preVFP_v11-v2/260000/345C87D2-FC62-1D41-A3CB-F2F868C24DD0.root',\n",
       "  'root://cmsxrootd.fnal.gov//store/mc/RunIISummer20UL16NanoAODAPVv9/DYJetsToLL_M-50_HT-400to600_TuneCP5_PSweights_13TeV-madgraphMLM-pythia8/NANOAODSIM/106X_mcRun2_asymptotic_preVFP_v11-v2/260000/50215791-2830-7447-B398-BBDD02A20535.root',\n",
       "  'root://cmsxrootd.fnal.gov//store/mc/RunIISummer20UL16NanoAODAPVv9/DYJetsToLL_M-50_HT-400to600_TuneCP5_PSweights_13TeV-madgraphMLM-pythia8/NANOAODSIM/106X_mcRun2_asymptotic_preVFP_v11-v2/260000/5B701219-1358-164B-93C7-F31B4CE11F3E.root',\n",
       "  'root://cmsxrootd.fnal.gov//store/mc/RunIISummer20UL16NanoAODAPVv9/DYJetsToLL_M-50_HT-400to600_TuneCP5_PSweights_13TeV-madgraphMLM-pythia8/NANOAODSIM/106X_mcRun2_asymptotic_preVFP_v11-v2/260000/67369568-61D3-B948-81DE-A7DC0C064084.root',\n",
       "  'root://cmsxrootd.fnal.gov//store/mc/RunIISummer20UL16NanoAODAPVv9/DYJetsToLL_M-50_HT-400to600_TuneCP5_PSweights_13TeV-madgraphMLM-pythia8/NANOAODSIM/106X_mcRun2_asymptotic_preVFP_v11-v2/260000/6C8EDC19-AB0A-F346-BABE-78A27C54BCE7.root',\n",
       "  'root://cmsxrootd.fnal.gov//store/mc/RunIISummer20UL16NanoAODAPVv9/DYJetsToLL_M-50_HT-400to600_TuneCP5_PSweights_13TeV-madgraphMLM-pythia8/NANOAODSIM/106X_mcRun2_asymptotic_preVFP_v11-v2/260000/6EF579A0-5034-4A4E-AC46-F3B5F03BA6FF.root',\n",
       "  'root://cmsxrootd.fnal.gov//store/mc/RunIISummer20UL16NanoAODAPVv9/DYJetsToLL_M-50_HT-400to600_TuneCP5_PSweights_13TeV-madgraphMLM-pythia8/NANOAODSIM/106X_mcRun2_asymptotic_preVFP_v11-v2/260000/7E853C60-0BB4-D04C-B432-CEE3FF596E65.root',\n",
       "  'root://cmsxrootd.fnal.gov//store/mc/RunIISummer20UL16NanoAODAPVv9/DYJetsToLL_M-50_HT-400to600_TuneCP5_PSweights_13TeV-madgraphMLM-pythia8/NANOAODSIM/106X_mcRun2_asymptotic_preVFP_v11-v2/260000/88BB4FFB-0366-7F4C-B95F-FD5725FA80A3.root',\n",
       "  'root://cmsxrootd.fnal.gov//store/mc/RunIISummer20UL16NanoAODAPVv9/DYJetsToLL_M-50_HT-400to600_TuneCP5_PSweights_13TeV-madgraphMLM-pythia8/NANOAODSIM/106X_mcRun2_asymptotic_preVFP_v11-v2/260000/88D8B951-71E3-2542-A467-D10D014EFFB1.root',\n",
       "  'root://cmsxrootd.fnal.gov//store/mc/RunIISummer20UL16NanoAODAPVv9/DYJetsToLL_M-50_HT-400to600_TuneCP5_PSweights_13TeV-madgraphMLM-pythia8/NANOAODSIM/106X_mcRun2_asymptotic_preVFP_v11-v2/260000/8B933291-C3AA-4841-8C17-8C77EB363E45.root',\n",
       "  'root://cmsxrootd.fnal.gov//store/mc/RunIISummer20UL16NanoAODAPVv9/DYJetsToLL_M-50_HT-400to600_TuneCP5_PSweights_13TeV-madgraphMLM-pythia8/NANOAODSIM/106X_mcRun2_asymptotic_preVFP_v11-v2/260000/8E9C967B-3277-2F46-9ED5-1728B29C5C9B.root',\n",
       "  'root://cmsxrootd.fnal.gov//store/mc/RunIISummer20UL16NanoAODAPVv9/DYJetsToLL_M-50_HT-400to600_TuneCP5_PSweights_13TeV-madgraphMLM-pythia8/NANOAODSIM/106X_mcRun2_asymptotic_preVFP_v11-v2/260000/9617AA2F-6E3F-BB48-9887-1D31424E39D3.root',\n",
       "  'root://cmsxrootd.fnal.gov//store/mc/RunIISummer20UL16NanoAODAPVv9/DYJetsToLL_M-50_HT-400to600_TuneCP5_PSweights_13TeV-madgraphMLM-pythia8/NANOAODSIM/106X_mcRun2_asymptotic_preVFP_v11-v2/260000/B24B5FC0-CD7D-9E42-83ED-FEA6C5FF1C3B.root',\n",
       "  'root://cmsxrootd.fnal.gov//store/mc/RunIISummer20UL16NanoAODAPVv9/DYJetsToLL_M-50_HT-400to600_TuneCP5_PSweights_13TeV-madgraphMLM-pythia8/NANOAODSIM/106X_mcRun2_asymptotic_preVFP_v11-v2/260000/B718149B-CDB6-8342-8590-15727682AEDD.root',\n",
       "  'root://cmsxrootd.fnal.gov//store/mc/RunIISummer20UL16NanoAODAPVv9/DYJetsToLL_M-50_HT-400to600_TuneCP5_PSweights_13TeV-madgraphMLM-pythia8/NANOAODSIM/106X_mcRun2_asymptotic_preVFP_v11-v2/260000/BA188A1C-D44A-F54A-A006-16B8B2A341BC.root',\n",
       "  'root://cmsxrootd.fnal.gov//store/mc/RunIISummer20UL16NanoAODAPVv9/DYJetsToLL_M-50_HT-400to600_TuneCP5_PSweights_13TeV-madgraphMLM-pythia8/NANOAODSIM/106X_mcRun2_asymptotic_preVFP_v11-v2/260000/C83842DA-972D-3449-ADFE-13A132DD754F.root',\n",
       "  'root://cmsxrootd.fnal.gov//store/mc/RunIISummer20UL16NanoAODAPVv9/DYJetsToLL_M-50_HT-400to600_TuneCP5_PSweights_13TeV-madgraphMLM-pythia8/NANOAODSIM/106X_mcRun2_asymptotic_preVFP_v11-v2/260000/CED42DF8-3440-104F-A777-4B26A0C1677D.root',\n",
       "  'root://cmsxrootd.fnal.gov//store/mc/RunIISummer20UL16NanoAODAPVv9/DYJetsToLL_M-50_HT-400to600_TuneCP5_PSweights_13TeV-madgraphMLM-pythia8/NANOAODSIM/106X_mcRun2_asymptotic_preVFP_v11-v2/270000/92BC8877-D780-E346-B6D2-FA9D93A75C1C.root'],\n",
       " 'UL16NanoAODAPVv9_DYJetsToLL_M-50_HT-70to100_TuneCP5_PSweights_13TeV-madgraphMLM-pythia8': [],\n",
       " 'UL16NanoAODAPVv9_DYJetsToLL_M-50_HT-800to1200_TuneCP5_PSweights_13TeV-madgraphMLM-pythia8': ['root://cmsxrootd.fnal.gov//store/mc/RunIISummer20UL16NanoAODAPVv9/DYJetsToLL_M-50_HT-800to1200_TuneCP5_PSweights_13TeV-madgraphMLM-pythia8/NANOAODSIM/106X_mcRun2_asymptotic_preVFP_v11-v2/100000/05DFD01C-8041-6040-80E2-6669926F38AB.root',\n",
       "  'root://cmsxrootd.fnal.gov//store/mc/RunIISummer20UL16NanoAODAPVv9/DYJetsToLL_M-50_HT-800to1200_TuneCP5_PSweights_13TeV-madgraphMLM-pythia8/NANOAODSIM/106X_mcRun2_asymptotic_preVFP_v11-v2/230000/04F32924-C3B5-0542-987A-71CC9AD44A39.root',\n",
       "  'root://cmsxrootd.fnal.gov//store/mc/RunIISummer20UL16NanoAODAPVv9/DYJetsToLL_M-50_HT-800to1200_TuneCP5_PSweights_13TeV-madgraphMLM-pythia8/NANOAODSIM/106X_mcRun2_asymptotic_preVFP_v11-v2/230000/35742CC5-B036-214B-AC4C-74250872B13D.root',\n",
       "  'root://cmsxrootd.fnal.gov//store/mc/RunIISummer20UL16NanoAODAPVv9/DYJetsToLL_M-50_HT-800to1200_TuneCP5_PSweights_13TeV-madgraphMLM-pythia8/NANOAODSIM/106X_mcRun2_asymptotic_preVFP_v11-v2/230000/3D1991E7-6060-FD4D-8BFA-3A42CFE26658.root',\n",
       "  'root://cmsxrootd.fnal.gov//store/mc/RunIISummer20UL16NanoAODAPVv9/DYJetsToLL_M-50_HT-800to1200_TuneCP5_PSweights_13TeV-madgraphMLM-pythia8/NANOAODSIM/106X_mcRun2_asymptotic_preVFP_v11-v2/230000/4347BE9A-766E-454F-8588-497B45B4C7AB.root',\n",
       "  'root://cmsxrootd.fnal.gov//store/mc/RunIISummer20UL16NanoAODAPVv9/DYJetsToLL_M-50_HT-800to1200_TuneCP5_PSweights_13TeV-madgraphMLM-pythia8/NANOAODSIM/106X_mcRun2_asymptotic_preVFP_v11-v2/230000/43E30722-5DDC-214C-AC63-ED9D990D9CEE.root',\n",
       "  'root://cmsxrootd.fnal.gov//store/mc/RunIISummer20UL16NanoAODAPVv9/DYJetsToLL_M-50_HT-800to1200_TuneCP5_PSweights_13TeV-madgraphMLM-pythia8/NANOAODSIM/106X_mcRun2_asymptotic_preVFP_v11-v2/230000/62BE0AF7-4249-C94A-96F4-D61A9280BAAF.root',\n",
       "  'root://cmsxrootd.fnal.gov//store/mc/RunIISummer20UL16NanoAODAPVv9/DYJetsToLL_M-50_HT-800to1200_TuneCP5_PSweights_13TeV-madgraphMLM-pythia8/NANOAODSIM/106X_mcRun2_asymptotic_preVFP_v11-v2/230000/6AA6E712-CD70-F44D-9DAF-22BFDFF72B89.root',\n",
       "  'root://cmsxrootd.fnal.gov//store/mc/RunIISummer20UL16NanoAODAPVv9/DYJetsToLL_M-50_HT-800to1200_TuneCP5_PSweights_13TeV-madgraphMLM-pythia8/NANOAODSIM/106X_mcRun2_asymptotic_preVFP_v11-v2/230000/A433B161-166F-E84A-A49F-61C58364FD18.root',\n",
       "  'root://cmsxrootd.fnal.gov//store/mc/RunIISummer20UL16NanoAODAPVv9/DYJetsToLL_M-50_HT-800to1200_TuneCP5_PSweights_13TeV-madgraphMLM-pythia8/NANOAODSIM/106X_mcRun2_asymptotic_preVFP_v11-v2/230000/BEBAEF07-6D2B-8042-B025-D187B9FB56DB.root',\n",
       "  'root://cmsxrootd.fnal.gov//store/mc/RunIISummer20UL16NanoAODAPVv9/DYJetsToLL_M-50_HT-800to1200_TuneCP5_PSweights_13TeV-madgraphMLM-pythia8/NANOAODSIM/106X_mcRun2_asymptotic_preVFP_v11-v2/230000/D67D710E-7FE3-6549-8E2A-A5D04F16C3B8.root',\n",
       "  'root://cmsxrootd.fnal.gov//store/mc/RunIISummer20UL16NanoAODAPVv9/DYJetsToLL_M-50_HT-800to1200_TuneCP5_PSweights_13TeV-madgraphMLM-pythia8/NANOAODSIM/106X_mcRun2_asymptotic_preVFP_v11-v2/2430000/F8DD31EC-5C62-1248-A8B9-BB47F8E0E091.root',\n",
       "  'root://cmsxrootd.fnal.gov//store/mc/RunIISummer20UL16NanoAODAPVv9/DYJetsToLL_M-50_HT-800to1200_TuneCP5_PSweights_13TeV-madgraphMLM-pythia8/NANOAODSIM/106X_mcRun2_asymptotic_preVFP_v11-v2/250000/1AC37F50-D8DB-DB49-89C8-482D0CA70368.root',\n",
       "  'root://cmsxrootd.fnal.gov//store/mc/RunIISummer20UL16NanoAODAPVv9/DYJetsToLL_M-50_HT-800to1200_TuneCP5_PSweights_13TeV-madgraphMLM-pythia8/NANOAODSIM/106X_mcRun2_asymptotic_preVFP_v11-v2/250000/3E16DEB9-81DD-284F-8B2E-940328BD9A18.root',\n",
       "  'root://cmsxrootd.fnal.gov//store/mc/RunIISummer20UL16NanoAODAPVv9/DYJetsToLL_M-50_HT-800to1200_TuneCP5_PSweights_13TeV-madgraphMLM-pythia8/NANOAODSIM/106X_mcRun2_asymptotic_preVFP_v11-v2/250000/5A1FEE20-11AB-0C4D-A821-D39C365E40E4.root',\n",
       "  'root://cmsxrootd.fnal.gov//store/mc/RunIISummer20UL16NanoAODAPVv9/DYJetsToLL_M-50_HT-800to1200_TuneCP5_PSweights_13TeV-madgraphMLM-pythia8/NANOAODSIM/106X_mcRun2_asymptotic_preVFP_v11-v2/250000/72AC2D0B-F7C2-364B-AACD-FF6AB22A79A5.root',\n",
       "  'root://cmsxrootd.fnal.gov//store/mc/RunIISummer20UL16NanoAODAPVv9/DYJetsToLL_M-50_HT-800to1200_TuneCP5_PSweights_13TeV-madgraphMLM-pythia8/NANOAODSIM/106X_mcRun2_asymptotic_preVFP_v11-v2/250000/79C507A0-D545-5A4F-9148-2B13A0B9A214.root',\n",
       "  'root://cmsxrootd.fnal.gov//store/mc/RunIISummer20UL16NanoAODAPVv9/DYJetsToLL_M-50_HT-800to1200_TuneCP5_PSweights_13TeV-madgraphMLM-pythia8/NANOAODSIM/106X_mcRun2_asymptotic_preVFP_v11-v2/250000/FFB810AB-B158-9B4A-9A41-5A8AAD56C129.root',\n",
       "  'root://cmsxrootd.fnal.gov//store/mc/RunIISummer20UL16NanoAODAPVv9/DYJetsToLL_M-50_HT-800to1200_TuneCP5_PSweights_13TeV-madgraphMLM-pythia8/NANOAODSIM/106X_mcRun2_asymptotic_preVFP_v11-v2/2510000/997DE895-008E-8F45-AD95-A8E41D8F3D87.root',\n",
       "  'root://cmsxrootd.fnal.gov//store/mc/RunIISummer20UL16NanoAODAPVv9/DYJetsToLL_M-50_HT-800to1200_TuneCP5_PSweights_13TeV-madgraphMLM-pythia8/NANOAODSIM/106X_mcRun2_asymptotic_preVFP_v11-v2/40000/1000551A-1351-D84E-9501-8B0503853045.root',\n",
       "  'root://cmsxrootd.fnal.gov//store/mc/RunIISummer20UL16NanoAODAPVv9/DYJetsToLL_M-50_HT-800to1200_TuneCP5_PSweights_13TeV-madgraphMLM-pythia8/NANOAODSIM/106X_mcRun2_asymptotic_preVFP_v11-v2/40000/1DD90F25-7D4A-2442-8EB3-0FF17BFD90EE.root',\n",
       "  'root://cmsxrootd.fnal.gov//store/mc/RunIISummer20UL16NanoAODAPVv9/DYJetsToLL_M-50_HT-800to1200_TuneCP5_PSweights_13TeV-madgraphMLM-pythia8/NANOAODSIM/106X_mcRun2_asymptotic_preVFP_v11-v2/40000/321F26C6-F56F-F54A-B486-2F99DD55E47D.root',\n",
       "  'root://cmsxrootd.fnal.gov//store/mc/RunIISummer20UL16NanoAODAPVv9/DYJetsToLL_M-50_HT-800to1200_TuneCP5_PSweights_13TeV-madgraphMLM-pythia8/NANOAODSIM/106X_mcRun2_asymptotic_preVFP_v11-v2/40000/39B8C4F5-52B2-334D-8DBA-E6AFC224EE73.root',\n",
       "  'root://cmsxrootd.fnal.gov//store/mc/RunIISummer20UL16NanoAODAPVv9/DYJetsToLL_M-50_HT-800to1200_TuneCP5_PSweights_13TeV-madgraphMLM-pythia8/NANOAODSIM/106X_mcRun2_asymptotic_preVFP_v11-v2/40000/6C3ACFAA-15F8-B64B-B665-1A95572AB208.root',\n",
       "  'root://cmsxrootd.fnal.gov//store/mc/RunIISummer20UL16NanoAODAPVv9/DYJetsToLL_M-50_HT-800to1200_TuneCP5_PSweights_13TeV-madgraphMLM-pythia8/NANOAODSIM/106X_mcRun2_asymptotic_preVFP_v11-v2/40000/7578FB36-9DA0-F24E-9A6F-677F7C4F2810.root',\n",
       "  'root://cmsxrootd.fnal.gov//store/mc/RunIISummer20UL16NanoAODAPVv9/DYJetsToLL_M-50_HT-800to1200_TuneCP5_PSweights_13TeV-madgraphMLM-pythia8/NANOAODSIM/106X_mcRun2_asymptotic_preVFP_v11-v2/40000/8C5313FB-C1CB-AE4D-924B-D0401B0A2783.root',\n",
       "  'root://cmsxrootd.fnal.gov//store/mc/RunIISummer20UL16NanoAODAPVv9/DYJetsToLL_M-50_HT-800to1200_TuneCP5_PSweights_13TeV-madgraphMLM-pythia8/NANOAODSIM/106X_mcRun2_asymptotic_preVFP_v11-v2/40000/8F4A243F-7C99-DF45-93C7-24F6480FB108.root',\n",
       "  'root://cmsxrootd.fnal.gov//store/mc/RunIISummer20UL16NanoAODAPVv9/DYJetsToLL_M-50_HT-800to1200_TuneCP5_PSweights_13TeV-madgraphMLM-pythia8/NANOAODSIM/106X_mcRun2_asymptotic_preVFP_v11-v2/40000/AC5DE3B0-439D-0147-9D2B-C7CB7CF98E60.root',\n",
       "  'root://cmsxrootd.fnal.gov//store/mc/RunIISummer20UL16NanoAODAPVv9/DYJetsToLL_M-50_HT-800to1200_TuneCP5_PSweights_13TeV-madgraphMLM-pythia8/NANOAODSIM/106X_mcRun2_asymptotic_preVFP_v11-v2/40000/B696AFDA-A5AA-DE42-822C-24594782880F.root',\n",
       "  'root://cmsxrootd.fnal.gov//store/mc/RunIISummer20UL16NanoAODAPVv9/DYJetsToLL_M-50_HT-800to1200_TuneCP5_PSweights_13TeV-madgraphMLM-pythia8/NANOAODSIM/106X_mcRun2_asymptotic_preVFP_v11-v2/40000/BEEDD4F8-A5AD-2043-A8BC-D7D57B17B37A.root',\n",
       "  'root://cmsxrootd.fnal.gov//store/mc/RunIISummer20UL16NanoAODAPVv9/DYJetsToLL_M-50_HT-800to1200_TuneCP5_PSweights_13TeV-madgraphMLM-pythia8/NANOAODSIM/106X_mcRun2_asymptotic_preVFP_v11-v2/40000/F79AFD49-BE59-704C-A88D-819B2DECF094.root',\n",
       "  'root://cmsxrootd.fnal.gov//store/mc/RunIISummer20UL16NanoAODAPVv9/DYJetsToLL_M-50_HT-800to1200_TuneCP5_PSweights_13TeV-madgraphMLM-pythia8/NANOAODSIM/106X_mcRun2_asymptotic_preVFP_v11-v2/40000/F7C61204-75D8-3C45-83FE-C1062B5EFD7A.root']}"
      ]
     },
     "execution_count": 11,
     "metadata": {},
     "output_type": "execute_result"
    }
   ],
   "source": [
    "fileset"
   ]
  },
  {
   "cell_type": "code",
   "execution_count": 12,
   "id": "d6751bd2-4f5d-46c2-9cf8-fee74d098ff9",
   "metadata": {},
   "outputs": [
    {
     "name": "stdout",
     "output_type": "stream",
     "text": [
      "UL16NanoAODAPVv9_DYJetsToLL_M-50_HT-100to200_TuneCP5_PSweights_13TeV-madgraphMLM-pythia8\n",
      "44\n"
     ]
    },
    {
     "ename": "OSError",
     "evalue": "[ERROR] Server responded with an error: [3000] Unable to open - cannot determine the prefix path to use for the given filesystem id /store/mc/RunIISummer20UL16NanoAODAPVv9/DYJetsToLL_M-50_HT-100to200_TuneCP5_PSweights_13TeV-madgraphMLM-pythia8/NANOAODSIM/106X_mcRun2_asymptotic_preVFP_v11-v2/2430000/6B53607D-8E04-C04B-A5ED-48188E252268.root; invalid argument\n",
     "output_type": "error",
     "traceback": [
      "\u001b[0;31m---------------------------------------------------------------------------\u001b[0m",
      "\u001b[0;31mKeyError\u001b[0m                                  Traceback (most recent call last)",
      "File \u001b[0;32m/opt/conda/lib/python3.10/site-packages/cachetools/__init__.py:68\u001b[0m, in \u001b[0;36mCache.__getitem__\u001b[0;34m(self, key)\u001b[0m\n\u001b[1;32m     67\u001b[0m \u001b[38;5;28;01mtry\u001b[39;00m:\n\u001b[0;32m---> 68\u001b[0m     \u001b[38;5;28;01mreturn\u001b[39;00m \u001b[38;5;28;43mself\u001b[39;49m\u001b[38;5;241;43m.\u001b[39;49m\u001b[43m__data\u001b[49m\u001b[43m[\u001b[49m\u001b[43mkey\u001b[49m\u001b[43m]\u001b[49m\n\u001b[1;32m     69\u001b[0m \u001b[38;5;28;01mexcept\u001b[39;00m \u001b[38;5;167;01mKeyError\u001b[39;00m:\n",
      "\u001b[0;31mKeyError\u001b[0m: 0",
      "\nDuring handling of the above exception, another exception occurred:\n",
      "\u001b[0;31mKeyError\u001b[0m                                  Traceback (most recent call last)",
      "File \u001b[0;32m/opt/conda/lib/python3.10/site-packages/uproot3/source/chunked.py:117\u001b[0m, in \u001b[0;36mChunkedSource.data\u001b[0;34m(self, start, stop, dtype)\u001b[0m\n\u001b[1;32m    116\u001b[0m \u001b[38;5;28;01mtry\u001b[39;00m:\n\u001b[0;32m--> 117\u001b[0m     chunk \u001b[38;5;241m=\u001b[39m \u001b[38;5;28;43mself\u001b[39;49m\u001b[38;5;241;43m.\u001b[39;49m\u001b[43mcache\u001b[49m\u001b[43m[\u001b[49m\u001b[43mchunkindex\u001b[49m\u001b[43m]\u001b[49m\n\u001b[1;32m    118\u001b[0m \u001b[38;5;28;01mexcept\u001b[39;00m \u001b[38;5;167;01mKeyError\u001b[39;00m:\n",
      "File \u001b[0;32m/opt/conda/lib/python3.10/site-packages/uproot3/cache.py:63\u001b[0m, in \u001b[0;36mThreadSafeArrayCache.__getitem__\u001b[0;34m(self, where)\u001b[0m\n\u001b[1;32m     62\u001b[0m \u001b[38;5;28;01mwith\u001b[39;00m \u001b[38;5;28mself\u001b[39m\u001b[38;5;241m.\u001b[39m_lock:\n\u001b[0;32m---> 63\u001b[0m     \u001b[38;5;28;01mreturn\u001b[39;00m \u001b[38;5;28;43mself\u001b[39;49m\u001b[38;5;241;43m.\u001b[39;49m\u001b[43m_cache\u001b[49m\u001b[43m[\u001b[49m\u001b[43mwhere\u001b[49m\u001b[43m]\u001b[49m\n",
      "File \u001b[0;32m/opt/conda/lib/python3.10/site-packages/cachetools/__init__.py:211\u001b[0m, in \u001b[0;36mLRUCache.__getitem__\u001b[0;34m(self, key, cache_getitem)\u001b[0m\n\u001b[1;32m    210\u001b[0m \u001b[38;5;28;01mdef\u001b[39;00m \u001b[38;5;21m__getitem__\u001b[39m(\u001b[38;5;28mself\u001b[39m, key, cache_getitem\u001b[38;5;241m=\u001b[39mCache\u001b[38;5;241m.\u001b[39m\u001b[38;5;21m__getitem__\u001b[39m):\n\u001b[0;32m--> 211\u001b[0m     value \u001b[38;5;241m=\u001b[39m \u001b[43mcache_getitem\u001b[49m\u001b[43m(\u001b[49m\u001b[38;5;28;43mself\u001b[39;49m\u001b[43m,\u001b[49m\u001b[43m \u001b[49m\u001b[43mkey\u001b[49m\u001b[43m)\u001b[49m\n\u001b[1;32m    212\u001b[0m     \u001b[38;5;28;01mif\u001b[39;00m key \u001b[38;5;129;01min\u001b[39;00m \u001b[38;5;28mself\u001b[39m:  \u001b[38;5;66;03m# __missing__ may not store item\u001b[39;00m\n",
      "File \u001b[0;32m/opt/conda/lib/python3.10/site-packages/cachetools/__init__.py:70\u001b[0m, in \u001b[0;36mCache.__getitem__\u001b[0;34m(self, key)\u001b[0m\n\u001b[1;32m     69\u001b[0m \u001b[38;5;28;01mexcept\u001b[39;00m \u001b[38;5;167;01mKeyError\u001b[39;00m:\n\u001b[0;32m---> 70\u001b[0m     \u001b[38;5;28;01mreturn\u001b[39;00m \u001b[38;5;28;43mself\u001b[39;49m\u001b[38;5;241;43m.\u001b[39;49m\u001b[38;5;21;43m__missing__\u001b[39;49m\u001b[43m(\u001b[49m\u001b[43mkey\u001b[49m\u001b[43m)\u001b[49m\n",
      "File \u001b[0;32m/opt/conda/lib/python3.10/site-packages/cachetools/__init__.py:97\u001b[0m, in \u001b[0;36mCache.__missing__\u001b[0;34m(self, key)\u001b[0m\n\u001b[1;32m     96\u001b[0m \u001b[38;5;28;01mdef\u001b[39;00m \u001b[38;5;21m__missing__\u001b[39m(\u001b[38;5;28mself\u001b[39m, key):\n\u001b[0;32m---> 97\u001b[0m     \u001b[38;5;28;01mraise\u001b[39;00m \u001b[38;5;167;01mKeyError\u001b[39;00m(key)\n",
      "\u001b[0;31mKeyError\u001b[0m: 0",
      "\nDuring handling of the above exception, another exception occurred:\n",
      "\u001b[0;31mOSError\u001b[0m                                   Traceback (most recent call last)",
      "Cell \u001b[0;32mIn[12], line 10\u001b[0m\n\u001b[1;32m      8\u001b[0m         \u001b[38;5;28msum\u001b[39m \u001b[38;5;241m=\u001b[39m \u001b[38;5;28msum\u001b[39m\u001b[38;5;241m+\u001b[39m \u001b[38;5;241m44846.0\u001b[39m\n\u001b[1;32m      9\u001b[0m     \u001b[38;5;28;01melse\u001b[39;00m:\n\u001b[0;32m---> 10\u001b[0m         \u001b[38;5;28msum\u001b[39m \u001b[38;5;241m=\u001b[39m \u001b[38;5;28msum\u001b[39m\u001b[38;5;241m+\u001b[39m\u001b[43muproot3\u001b[49m\u001b[38;5;241;43m.\u001b[39;49m\u001b[43mnumentries\u001b[49m\u001b[43m(\u001b[49m\u001b[43mfileset\u001b[49m\u001b[43m[\u001b[49m\u001b[43mproc\u001b[49m\u001b[43m]\u001b[49m\u001b[43m[\u001b[49m\u001b[43mi\u001b[49m\u001b[43m]\u001b[49m\u001b[43m,\u001b[49m\u001b[38;5;124;43m\"\u001b[39;49m\u001b[38;5;124;43mEvents\u001b[39;49m\u001b[38;5;124;43m\"\u001b[39;49m\u001b[43m)\u001b[49m\n\u001b[1;32m     11\u001b[0m     \u001b[38;5;66;03m#print(i)\u001b[39;00m\n\u001b[1;32m     12\u001b[0m \u001b[38;5;28mprint\u001b[39m(\u001b[38;5;28msum\u001b[39m)\n",
      "File \u001b[0;32m/opt/conda/lib/python3.10/site-packages/uproot3/tree.py:2094\u001b[0m, in \u001b[0;36mnumentries\u001b[0;34m(path, treepath, total, localsource, xrootdsource, httpsource, executor, blocking, **options)\u001b[0m\n\u001b[1;32m   2092\u001b[0m \u001b[38;5;28;01melse\u001b[39;00m:\n\u001b[1;32m   2093\u001b[0m     paths \u001b[38;5;241m=\u001b[39m [y \u001b[38;5;28;01mfor\u001b[39;00m x \u001b[38;5;129;01min\u001b[39;00m path \u001b[38;5;28;01mfor\u001b[39;00m y \u001b[38;5;129;01min\u001b[39;00m _filename_explode(x)]\n\u001b[0;32m-> 2094\u001b[0m \u001b[38;5;28;01mreturn\u001b[39;00m \u001b[43m_numentries\u001b[49m\u001b[43m(\u001b[49m\u001b[43mpaths\u001b[49m\u001b[43m,\u001b[49m\u001b[43m \u001b[49m\u001b[43mtreepath\u001b[49m\u001b[43m,\u001b[49m\u001b[43m \u001b[49m\u001b[43mtotal\u001b[49m\u001b[43m,\u001b[49m\u001b[43m \u001b[49m\u001b[43mlocalsource\u001b[49m\u001b[43m,\u001b[49m\u001b[43m \u001b[49m\u001b[43mxrootdsource\u001b[49m\u001b[43m,\u001b[49m\u001b[43m \u001b[49m\u001b[43mhttpsource\u001b[49m\u001b[43m,\u001b[49m\u001b[43m \u001b[49m\u001b[43mexecutor\u001b[49m\u001b[43m,\u001b[49m\u001b[43m \u001b[49m\u001b[43mblocking\u001b[49m\u001b[43m,\u001b[49m\u001b[43m \u001b[49m\u001b[43m[\u001b[49m\u001b[38;5;28;43;01mNone\u001b[39;49;00m\u001b[43m]\u001b[49m\u001b[43m \u001b[49m\u001b[38;5;241;43m*\u001b[39;49m\u001b[43m \u001b[49m\u001b[38;5;28;43mlen\u001b[39;49m\u001b[43m(\u001b[49m\u001b[43mpaths\u001b[49m\u001b[43m)\u001b[49m\u001b[43m,\u001b[49m\u001b[43m \u001b[49m\u001b[43moptions\u001b[49m\u001b[43m)\u001b[49m\n",
      "File \u001b[0;32m/opt/conda/lib/python3.10/site-packages/uproot3/tree.py:2134\u001b[0m, in \u001b[0;36m_numentries\u001b[0;34m(paths, treepath, total, localsource, xrootdsource, httpsource, executor, blocking, uuids, options)\u001b[0m\n\u001b[1;32m   2132\u001b[0m \u001b[38;5;28;01mif\u001b[39;00m executor \u001b[38;5;129;01mis\u001b[39;00m \u001b[38;5;28;01mNone\u001b[39;00m:\n\u001b[1;32m   2133\u001b[0m     \u001b[38;5;28;01mfor\u001b[39;00m i \u001b[38;5;129;01min\u001b[39;00m \u001b[38;5;28mrange\u001b[39m(\u001b[38;5;28mlen\u001b[39m(paths)):\n\u001b[0;32m-> 2134\u001b[0m         \u001b[43m_delayedraise\u001b[49m\u001b[43m(\u001b[49m\u001b[43mfill\u001b[49m\u001b[43m(\u001b[49m\u001b[43mi\u001b[49m\u001b[43m)\u001b[49m\u001b[43m)\u001b[49m\n\u001b[1;32m   2135\u001b[0m     excinfos \u001b[38;5;241m=\u001b[39m ()\n\u001b[1;32m   2136\u001b[0m \u001b[38;5;28;01melse\u001b[39;00m:\n",
      "File \u001b[0;32m/opt/conda/lib/python3.10/site-packages/uproot3/tree.py:59\u001b[0m, in \u001b[0;36m_delayedraise\u001b[0;34m(excinfo)\u001b[0m\n\u001b[1;32m     57\u001b[0m     exec(\u001b[38;5;124m\"\u001b[39m\u001b[38;5;124mraise cls, err, trc\u001b[39m\u001b[38;5;124m\"\u001b[39m)\n\u001b[1;32m     58\u001b[0m \u001b[38;5;28;01melse\u001b[39;00m:\n\u001b[0;32m---> 59\u001b[0m     \u001b[38;5;28;01mraise\u001b[39;00m err\u001b[38;5;241m.\u001b[39mwith_traceback(trc)\n",
      "File \u001b[0;32m/opt/conda/lib/python3.10/site-packages/uproot3/tree.py:2113\u001b[0m, in \u001b[0;36m_numentries.<locals>.fill\u001b[0;34m(i)\u001b[0m\n\u001b[1;32m   2111\u001b[0m \u001b[38;5;28;01mdef\u001b[39;00m \u001b[38;5;21mfill\u001b[39m(i):\n\u001b[1;32m   2112\u001b[0m     \u001b[38;5;28;01mtry\u001b[39;00m:\n\u001b[0;32m-> 2113\u001b[0m         file \u001b[38;5;241m=\u001b[39m \u001b[43muproot3\u001b[49m\u001b[38;5;241;43m.\u001b[39;49m\u001b[43mrootio\u001b[49m\u001b[38;5;241;43m.\u001b[39;49m\u001b[43mopen\u001b[49m\u001b[43m(\u001b[49m\u001b[43mpaths\u001b[49m\u001b[43m[\u001b[49m\u001b[43mi\u001b[49m\u001b[43m]\u001b[49m\u001b[43m,\u001b[49m\u001b[43m \u001b[49m\u001b[43mlocalsource\u001b[49m\u001b[38;5;241;43m=\u001b[39;49m\u001b[43mlocalsource\u001b[49m\u001b[43m,\u001b[49m\u001b[43m \u001b[49m\u001b[43mxrootdsource\u001b[49m\u001b[38;5;241;43m=\u001b[39;49m\u001b[43mxrootdsource\u001b[49m\u001b[43m,\u001b[49m\u001b[43m \u001b[49m\u001b[43mhttpsource\u001b[49m\u001b[38;5;241;43m=\u001b[39;49m\u001b[43mhttpsource\u001b[49m\u001b[43m,\u001b[49m\u001b[43m \u001b[49m\u001b[43mread_streamers\u001b[49m\u001b[38;5;241;43m=\u001b[39;49m\u001b[38;5;28;43;01mFalse\u001b[39;49;00m\u001b[43m,\u001b[49m\u001b[43m \u001b[49m\u001b[38;5;241;43m*\u001b[39;49m\u001b[38;5;241;43m*\u001b[39;49m\u001b[43moptions\u001b[49m\u001b[43m)\u001b[49m\n\u001b[1;32m   2114\u001b[0m     \u001b[38;5;28;01mexcept\u001b[39;00m \u001b[38;5;167;01mException\u001b[39;00m:\n\u001b[1;32m   2115\u001b[0m         \u001b[38;5;28;01mreturn\u001b[39;00m sys\u001b[38;5;241m.\u001b[39mexc_info()\n",
      "File \u001b[0;32m/opt/conda/lib/python3.10/site-packages/uproot3/rootio.py:58\u001b[0m, in \u001b[0;36mopen\u001b[0;34m(path, localsource, xrootdsource, httpsource, **options)\u001b[0m\n\u001b[1;32m     55\u001b[0m     \u001b[38;5;28;01mreturn\u001b[39;00m ROOTDirectory\u001b[38;5;241m.\u001b[39mread(openfcn(path), \u001b[38;5;241m*\u001b[39m\u001b[38;5;241m*\u001b[39moptions)\n\u001b[1;32m     57\u001b[0m \u001b[38;5;28;01melif\u001b[39;00m _bytesid(parsed\u001b[38;5;241m.\u001b[39mscheme) \u001b[38;5;241m==\u001b[39m \u001b[38;5;124mb\u001b[39m\u001b[38;5;124m\"\u001b[39m\u001b[38;5;124mroot\u001b[39m\u001b[38;5;124m\"\u001b[39m:\n\u001b[0;32m---> 58\u001b[0m     \u001b[38;5;28;01mreturn\u001b[39;00m \u001b[43mxrootd\u001b[49m\u001b[43m(\u001b[49m\u001b[43mpath\u001b[49m\u001b[43m,\u001b[49m\u001b[43m \u001b[49m\u001b[43mxrootdsource\u001b[49m\u001b[38;5;241;43m=\u001b[39;49m\u001b[43mxrootdsource\u001b[49m\u001b[43m,\u001b[49m\u001b[43m \u001b[49m\u001b[38;5;241;43m*\u001b[39;49m\u001b[38;5;241;43m*\u001b[39;49m\u001b[43moptions\u001b[49m\u001b[43m)\u001b[49m\n\u001b[1;32m     60\u001b[0m \u001b[38;5;28;01melif\u001b[39;00m _bytesid(parsed\u001b[38;5;241m.\u001b[39mscheme) \u001b[38;5;241m==\u001b[39m \u001b[38;5;124mb\u001b[39m\u001b[38;5;124m\"\u001b[39m\u001b[38;5;124mhttp\u001b[39m\u001b[38;5;124m\"\u001b[39m \u001b[38;5;129;01mor\u001b[39;00m _bytesid(parsed\u001b[38;5;241m.\u001b[39mscheme) \u001b[38;5;241m==\u001b[39m \u001b[38;5;124mb\u001b[39m\u001b[38;5;124m\"\u001b[39m\u001b[38;5;124mhttps\u001b[39m\u001b[38;5;124m\"\u001b[39m:\n\u001b[1;32m     61\u001b[0m     \u001b[38;5;28;01mreturn\u001b[39;00m http(path, httpsource\u001b[38;5;241m=\u001b[39mhttpsource, \u001b[38;5;241m*\u001b[39m\u001b[38;5;241m*\u001b[39moptions)\n",
      "File \u001b[0;32m/opt/conda/lib/python3.10/site-packages/uproot3/rootio.py:78\u001b[0m, in \u001b[0;36mxrootd\u001b[0;34m(path, xrootdsource, **options)\u001b[0m\n\u001b[1;32m     76\u001b[0m \u001b[38;5;28;01melse\u001b[39;00m:\n\u001b[1;32m     77\u001b[0m     openfcn \u001b[38;5;241m=\u001b[39m xrootdsource\n\u001b[0;32m---> 78\u001b[0m \u001b[38;5;28;01mreturn\u001b[39;00m \u001b[43mROOTDirectory\u001b[49m\u001b[38;5;241;43m.\u001b[39;49m\u001b[43mread\u001b[49m\u001b[43m(\u001b[49m\u001b[43mopenfcn\u001b[49m\u001b[43m(\u001b[49m\u001b[43mpath\u001b[49m\u001b[43m)\u001b[49m\u001b[43m,\u001b[49m\u001b[43m \u001b[49m\u001b[38;5;241;43m*\u001b[39;49m\u001b[38;5;241;43m*\u001b[39;49m\u001b[43moptions\u001b[49m\u001b[43m)\u001b[49m\n",
      "File \u001b[0;32m/opt/conda/lib/python3.10/site-packages/uproot3/rootio.py:123\u001b[0m, in \u001b[0;36mROOTDirectory.read\u001b[0;34m(source, *args, **options)\u001b[0m\n\u001b[1;32m    121\u001b[0m \u001b[38;5;66;03m# See https://root.cern/doc/master/classTFile.html\u001b[39;00m\n\u001b[1;32m    122\u001b[0m cursor \u001b[38;5;241m=\u001b[39m Cursor(\u001b[38;5;241m0\u001b[39m)\n\u001b[0;32m--> 123\u001b[0m magic, fVersion \u001b[38;5;241m=\u001b[39m \u001b[43mcursor\u001b[49m\u001b[38;5;241;43m.\u001b[39;49m\u001b[43mfields\u001b[49m\u001b[43m(\u001b[49m\u001b[43msource\u001b[49m\u001b[43m,\u001b[49m\u001b[43m \u001b[49m\u001b[43mROOTDirectory\u001b[49m\u001b[38;5;241;43m.\u001b[39;49m\u001b[43m_format1\u001b[49m\u001b[43m)\u001b[49m\n\u001b[1;32m    124\u001b[0m \u001b[38;5;28;01mif\u001b[39;00m magic \u001b[38;5;241m!=\u001b[39m \u001b[38;5;124mb\u001b[39m\u001b[38;5;124m\"\u001b[39m\u001b[38;5;124mroot\u001b[39m\u001b[38;5;124m\"\u001b[39m:\n\u001b[1;32m    125\u001b[0m     \u001b[38;5;28;01mraise\u001b[39;00m \u001b[38;5;167;01mValueError\u001b[39;00m(\u001b[38;5;124m\"\u001b[39m\u001b[38;5;124mnot a ROOT file (starts with \u001b[39m\u001b[38;5;132;01m{0}\u001b[39;00m\u001b[38;5;124m instead of \u001b[39m\u001b[38;5;124m'\u001b[39m\u001b[38;5;124mroot\u001b[39m\u001b[38;5;124m'\u001b[39m\u001b[38;5;124m)\u001b[39m\u001b[38;5;130;01m\\n\u001b[39;00m\u001b[38;5;124m   in file: \u001b[39m\u001b[38;5;132;01m{1}\u001b[39;00m\u001b[38;5;124m\"\u001b[39m\u001b[38;5;241m.\u001b[39mformat(\u001b[38;5;28mrepr\u001b[39m(magic), source\u001b[38;5;241m.\u001b[39mpath))\n",
      "File \u001b[0;32m/opt/conda/lib/python3.10/site-packages/uproot3/source/cursor.py:48\u001b[0m, in \u001b[0;36mCursor.fields\u001b[0;34m(self, source, format)\u001b[0m\n\u001b[1;32m     46\u001b[0m start \u001b[38;5;241m=\u001b[39m \u001b[38;5;28mself\u001b[39m\u001b[38;5;241m.\u001b[39mindex\n\u001b[1;32m     47\u001b[0m stop \u001b[38;5;241m=\u001b[39m \u001b[38;5;28mself\u001b[39m\u001b[38;5;241m.\u001b[39mindex \u001b[38;5;241m=\u001b[39m start \u001b[38;5;241m+\u001b[39m \u001b[38;5;28mformat\u001b[39m\u001b[38;5;241m.\u001b[39msize\n\u001b[0;32m---> 48\u001b[0m \u001b[38;5;28;01mreturn\u001b[39;00m \u001b[38;5;28mformat\u001b[39m\u001b[38;5;241m.\u001b[39munpack(\u001b[43msource\u001b[49m\u001b[38;5;241;43m.\u001b[39;49m\u001b[43mdata\u001b[49m\u001b[43m(\u001b[49m\u001b[43mstart\u001b[49m\u001b[43m,\u001b[49m\u001b[43m \u001b[49m\u001b[43mstop\u001b[49m\u001b[43m)\u001b[49m)\n",
      "File \u001b[0;32m/opt/conda/lib/python3.10/site-packages/uproot3/source/chunked.py:119\u001b[0m, in \u001b[0;36mChunkedSource.data\u001b[0;34m(self, start, stop, dtype)\u001b[0m\n\u001b[1;32m    117\u001b[0m         chunk \u001b[38;5;241m=\u001b[39m \u001b[38;5;28mself\u001b[39m\u001b[38;5;241m.\u001b[39mcache[chunkindex]\n\u001b[1;32m    118\u001b[0m     \u001b[38;5;28;01mexcept\u001b[39;00m \u001b[38;5;167;01mKeyError\u001b[39;00m:\n\u001b[0;32m--> 119\u001b[0m         \u001b[38;5;28;43mself\u001b[39;49m\u001b[38;5;241;43m.\u001b[39;49m\u001b[43m_open\u001b[49m\u001b[43m(\u001b[49m\u001b[43m)\u001b[49m\n\u001b[1;32m    120\u001b[0m         chunk \u001b[38;5;241m=\u001b[39m \u001b[38;5;28mself\u001b[39m\u001b[38;5;241m.\u001b[39m_read(chunkindex)\n\u001b[1;32m    122\u001b[0m cstart \u001b[38;5;241m=\u001b[39m \u001b[38;5;241m0\u001b[39m\n",
      "File \u001b[0;32m/opt/conda/lib/python3.10/site-packages/uproot3/source/xrootd.py:36\u001b[0m, in \u001b[0;36mXRootDSource._open\u001b[0;34m(self)\u001b[0m\n\u001b[1;32m     34\u001b[0m status, dummy \u001b[38;5;241m=\u001b[39m \u001b[38;5;28mself\u001b[39m\u001b[38;5;241m.\u001b[39m_source\u001b[38;5;241m.\u001b[39mopen(\u001b[38;5;28mself\u001b[39m\u001b[38;5;241m.\u001b[39mpath, timeout\u001b[38;5;241m=\u001b[39m(\u001b[38;5;241m0\u001b[39m \u001b[38;5;28;01mif\u001b[39;00m \u001b[38;5;28mself\u001b[39m\u001b[38;5;241m.\u001b[39mtimeout \u001b[38;5;129;01mis\u001b[39;00m \u001b[38;5;28;01mNone\u001b[39;00m \u001b[38;5;28;01melse\u001b[39;00m \u001b[38;5;28mself\u001b[39m\u001b[38;5;241m.\u001b[39mtimeout))\n\u001b[1;32m     35\u001b[0m \u001b[38;5;28;01mif\u001b[39;00m status\u001b[38;5;241m.\u001b[39mget(\u001b[38;5;124m\"\u001b[39m\u001b[38;5;124merror\u001b[39m\u001b[38;5;124m\"\u001b[39m, \u001b[38;5;28;01mNone\u001b[39;00m):\n\u001b[0;32m---> 36\u001b[0m     \u001b[38;5;28;01mraise\u001b[39;00m \u001b[38;5;167;01mOSError\u001b[39;00m(status[\u001b[38;5;124m\"\u001b[39m\u001b[38;5;124mmessage\u001b[39m\u001b[38;5;124m\"\u001b[39m])\n\u001b[1;32m     37\u001b[0m status, info \u001b[38;5;241m=\u001b[39m \u001b[38;5;28mself\u001b[39m\u001b[38;5;241m.\u001b[39m_source\u001b[38;5;241m.\u001b[39mstat(timeout\u001b[38;5;241m=\u001b[39m(\u001b[38;5;241m0\u001b[39m \u001b[38;5;28;01mif\u001b[39;00m \u001b[38;5;28mself\u001b[39m\u001b[38;5;241m.\u001b[39mtimeout \u001b[38;5;129;01mis\u001b[39;00m \u001b[38;5;28;01mNone\u001b[39;00m \u001b[38;5;28;01melse\u001b[39;00m \u001b[38;5;28mself\u001b[39m\u001b[38;5;241m.\u001b[39mtimeout))\n\u001b[1;32m     38\u001b[0m \u001b[38;5;28;01mif\u001b[39;00m status\u001b[38;5;241m.\u001b[39mget(\u001b[38;5;124m\"\u001b[39m\u001b[38;5;124merror\u001b[39m\u001b[38;5;124m\"\u001b[39m, \u001b[38;5;28;01mNone\u001b[39;00m):\n",
      "\u001b[0;31mOSError\u001b[0m: [ERROR] Server responded with an error: [3000] Unable to open - cannot determine the prefix path to use for the given filesystem id /store/mc/RunIISummer20UL16NanoAODAPVv9/DYJetsToLL_M-50_HT-100to200_TuneCP5_PSweights_13TeV-madgraphMLM-pythia8/NANOAODSIM/106X_mcRun2_asymptotic_preVFP_v11-v2/2430000/6B53607D-8E04-C04B-A5ED-48188E252268.root; invalid argument\n"
     ]
    }
   ],
   "source": [
    "num_dic = {}\n",
    "for proc in fileset.keys():\n",
    "    sum = 0\n",
    "    print(proc)\n",
    "    print(len(fileset[proc]))\n",
    "    for i in range(len(fileset[proc])):\n",
    "        if i==15312312312:\n",
    "            sum = sum+ 44846.0\n",
    "        else:\n",
    "            sum = sum+uproot3.numentries(fileset[proc][i],\"Events\")\n",
    "        #print(i)\n",
    "    print(sum)\n",
    "    num_dic[proc] = sum\n"
   ]
  },
  {
   "cell_type": "code",
   "execution_count": null,
   "id": "4ab19a96-bf10-4ff6-a4fb-23edb7beb000",
   "metadata": {},
   "outputs": [],
   "source": [
    "num_dic"
   ]
  },
  {
   "cell_type": "code",
   "execution_count": 114,
   "id": "2cb9fd3d-478b-4b35-acfc-907c9ae6bbfa",
   "metadata": {
    "scrolled": true
   },
   "outputs": [
    {
     "ename": "OSError",
     "evalue": "[ERROR] Server responded with an error: [3000] Unable to open - cannot determine the prefix path to use for the given filesystem id /store/mc/RunIISummer20UL16NanoAODv9/DYJetsToLL_M-50_HT-70to100_TuneCP5_PSweights_13TeV-madgraphMLM-pythia8/NANOAODSIM/106X_mcRun2_asymptotic_v17-v2/2430000/141FED6D-E376-684B-A10E-D3C8B574E623.root; invalid argument\n",
     "output_type": "error",
     "traceback": [
      "\u001b[0;31m---------------------------------------------------------------------------\u001b[0m",
      "\u001b[0;31mKeyError\u001b[0m                                  Traceback (most recent call last)",
      "File \u001b[0;32m/opt/conda/lib/python3.10/site-packages/cachetools/__init__.py:68\u001b[0m, in \u001b[0;36mCache.__getitem__\u001b[0;34m(self, key)\u001b[0m\n\u001b[1;32m     67\u001b[0m \u001b[38;5;28;01mtry\u001b[39;00m:\n\u001b[0;32m---> 68\u001b[0m     \u001b[38;5;28;01mreturn\u001b[39;00m \u001b[38;5;28;43mself\u001b[39;49m\u001b[38;5;241;43m.\u001b[39;49m\u001b[43m__data\u001b[49m\u001b[43m[\u001b[49m\u001b[43mkey\u001b[49m\u001b[43m]\u001b[49m\n\u001b[1;32m     69\u001b[0m \u001b[38;5;28;01mexcept\u001b[39;00m \u001b[38;5;167;01mKeyError\u001b[39;00m:\n",
      "\u001b[0;31mKeyError\u001b[0m: 0",
      "\nDuring handling of the above exception, another exception occurred:\n",
      "\u001b[0;31mKeyError\u001b[0m                                  Traceback (most recent call last)",
      "File \u001b[0;32m/opt/conda/lib/python3.10/site-packages/uproot3/source/chunked.py:117\u001b[0m, in \u001b[0;36mChunkedSource.data\u001b[0;34m(self, start, stop, dtype)\u001b[0m\n\u001b[1;32m    116\u001b[0m \u001b[38;5;28;01mtry\u001b[39;00m:\n\u001b[0;32m--> 117\u001b[0m     chunk \u001b[38;5;241m=\u001b[39m \u001b[38;5;28;43mself\u001b[39;49m\u001b[38;5;241;43m.\u001b[39;49m\u001b[43mcache\u001b[49m\u001b[43m[\u001b[49m\u001b[43mchunkindex\u001b[49m\u001b[43m]\u001b[49m\n\u001b[1;32m    118\u001b[0m \u001b[38;5;28;01mexcept\u001b[39;00m \u001b[38;5;167;01mKeyError\u001b[39;00m:\n",
      "File \u001b[0;32m/opt/conda/lib/python3.10/site-packages/uproot3/cache.py:63\u001b[0m, in \u001b[0;36mThreadSafeArrayCache.__getitem__\u001b[0;34m(self, where)\u001b[0m\n\u001b[1;32m     62\u001b[0m \u001b[38;5;28;01mwith\u001b[39;00m \u001b[38;5;28mself\u001b[39m\u001b[38;5;241m.\u001b[39m_lock:\n\u001b[0;32m---> 63\u001b[0m     \u001b[38;5;28;01mreturn\u001b[39;00m \u001b[38;5;28;43mself\u001b[39;49m\u001b[38;5;241;43m.\u001b[39;49m\u001b[43m_cache\u001b[49m\u001b[43m[\u001b[49m\u001b[43mwhere\u001b[49m\u001b[43m]\u001b[49m\n",
      "File \u001b[0;32m/opt/conda/lib/python3.10/site-packages/cachetools/__init__.py:211\u001b[0m, in \u001b[0;36mLRUCache.__getitem__\u001b[0;34m(self, key, cache_getitem)\u001b[0m\n\u001b[1;32m    210\u001b[0m \u001b[38;5;28;01mdef\u001b[39;00m \u001b[38;5;21m__getitem__\u001b[39m(\u001b[38;5;28mself\u001b[39m, key, cache_getitem\u001b[38;5;241m=\u001b[39mCache\u001b[38;5;241m.\u001b[39m\u001b[38;5;21m__getitem__\u001b[39m):\n\u001b[0;32m--> 211\u001b[0m     value \u001b[38;5;241m=\u001b[39m \u001b[43mcache_getitem\u001b[49m\u001b[43m(\u001b[49m\u001b[38;5;28;43mself\u001b[39;49m\u001b[43m,\u001b[49m\u001b[43m \u001b[49m\u001b[43mkey\u001b[49m\u001b[43m)\u001b[49m\n\u001b[1;32m    212\u001b[0m     \u001b[38;5;28;01mif\u001b[39;00m key \u001b[38;5;129;01min\u001b[39;00m \u001b[38;5;28mself\u001b[39m:  \u001b[38;5;66;03m# __missing__ may not store item\u001b[39;00m\n",
      "File \u001b[0;32m/opt/conda/lib/python3.10/site-packages/cachetools/__init__.py:70\u001b[0m, in \u001b[0;36mCache.__getitem__\u001b[0;34m(self, key)\u001b[0m\n\u001b[1;32m     69\u001b[0m \u001b[38;5;28;01mexcept\u001b[39;00m \u001b[38;5;167;01mKeyError\u001b[39;00m:\n\u001b[0;32m---> 70\u001b[0m     \u001b[38;5;28;01mreturn\u001b[39;00m \u001b[38;5;28;43mself\u001b[39;49m\u001b[38;5;241;43m.\u001b[39;49m\u001b[38;5;21;43m__missing__\u001b[39;49m\u001b[43m(\u001b[49m\u001b[43mkey\u001b[49m\u001b[43m)\u001b[49m\n",
      "File \u001b[0;32m/opt/conda/lib/python3.10/site-packages/cachetools/__init__.py:97\u001b[0m, in \u001b[0;36mCache.__missing__\u001b[0;34m(self, key)\u001b[0m\n\u001b[1;32m     96\u001b[0m \u001b[38;5;28;01mdef\u001b[39;00m \u001b[38;5;21m__missing__\u001b[39m(\u001b[38;5;28mself\u001b[39m, key):\n\u001b[0;32m---> 97\u001b[0m     \u001b[38;5;28;01mraise\u001b[39;00m \u001b[38;5;167;01mKeyError\u001b[39;00m(key)\n",
      "\u001b[0;31mKeyError\u001b[0m: 0",
      "\nDuring handling of the above exception, another exception occurred:\n",
      "\u001b[0;31mOSError\u001b[0m                                   Traceback (most recent call last)",
      "Cell \u001b[0;32mIn[114], line 1\u001b[0m\n\u001b[0;32m----> 1\u001b[0m \u001b[43muproot3\u001b[49m\u001b[38;5;241;43m.\u001b[39;49m\u001b[43mnumentries\u001b[49m\u001b[43m(\u001b[49m\u001b[43mfileset\u001b[49m\u001b[43m[\u001b[49m\u001b[43mproc\u001b[49m\u001b[43m]\u001b[49m\u001b[43m[\u001b[49m\u001b[43mi\u001b[49m\u001b[43m]\u001b[49m\u001b[43m,\u001b[49m\u001b[38;5;124;43m\"\u001b[39;49m\u001b[38;5;124;43mEvents\u001b[39;49m\u001b[38;5;124;43m\"\u001b[39;49m\u001b[43m)\u001b[49m\n",
      "File \u001b[0;32m/opt/conda/lib/python3.10/site-packages/uproot3/tree.py:2094\u001b[0m, in \u001b[0;36mnumentries\u001b[0;34m(path, treepath, total, localsource, xrootdsource, httpsource, executor, blocking, **options)\u001b[0m\n\u001b[1;32m   2092\u001b[0m \u001b[38;5;28;01melse\u001b[39;00m:\n\u001b[1;32m   2093\u001b[0m     paths \u001b[38;5;241m=\u001b[39m [y \u001b[38;5;28;01mfor\u001b[39;00m x \u001b[38;5;129;01min\u001b[39;00m path \u001b[38;5;28;01mfor\u001b[39;00m y \u001b[38;5;129;01min\u001b[39;00m _filename_explode(x)]\n\u001b[0;32m-> 2094\u001b[0m \u001b[38;5;28;01mreturn\u001b[39;00m \u001b[43m_numentries\u001b[49m\u001b[43m(\u001b[49m\u001b[43mpaths\u001b[49m\u001b[43m,\u001b[49m\u001b[43m \u001b[49m\u001b[43mtreepath\u001b[49m\u001b[43m,\u001b[49m\u001b[43m \u001b[49m\u001b[43mtotal\u001b[49m\u001b[43m,\u001b[49m\u001b[43m \u001b[49m\u001b[43mlocalsource\u001b[49m\u001b[43m,\u001b[49m\u001b[43m \u001b[49m\u001b[43mxrootdsource\u001b[49m\u001b[43m,\u001b[49m\u001b[43m \u001b[49m\u001b[43mhttpsource\u001b[49m\u001b[43m,\u001b[49m\u001b[43m \u001b[49m\u001b[43mexecutor\u001b[49m\u001b[43m,\u001b[49m\u001b[43m \u001b[49m\u001b[43mblocking\u001b[49m\u001b[43m,\u001b[49m\u001b[43m \u001b[49m\u001b[43m[\u001b[49m\u001b[38;5;28;43;01mNone\u001b[39;49;00m\u001b[43m]\u001b[49m\u001b[43m \u001b[49m\u001b[38;5;241;43m*\u001b[39;49m\u001b[43m \u001b[49m\u001b[38;5;28;43mlen\u001b[39;49m\u001b[43m(\u001b[49m\u001b[43mpaths\u001b[49m\u001b[43m)\u001b[49m\u001b[43m,\u001b[49m\u001b[43m \u001b[49m\u001b[43moptions\u001b[49m\u001b[43m)\u001b[49m\n",
      "File \u001b[0;32m/opt/conda/lib/python3.10/site-packages/uproot3/tree.py:2134\u001b[0m, in \u001b[0;36m_numentries\u001b[0;34m(paths, treepath, total, localsource, xrootdsource, httpsource, executor, blocking, uuids, options)\u001b[0m\n\u001b[1;32m   2132\u001b[0m \u001b[38;5;28;01mif\u001b[39;00m executor \u001b[38;5;129;01mis\u001b[39;00m \u001b[38;5;28;01mNone\u001b[39;00m:\n\u001b[1;32m   2133\u001b[0m     \u001b[38;5;28;01mfor\u001b[39;00m i \u001b[38;5;129;01min\u001b[39;00m \u001b[38;5;28mrange\u001b[39m(\u001b[38;5;28mlen\u001b[39m(paths)):\n\u001b[0;32m-> 2134\u001b[0m         \u001b[43m_delayedraise\u001b[49m\u001b[43m(\u001b[49m\u001b[43mfill\u001b[49m\u001b[43m(\u001b[49m\u001b[43mi\u001b[49m\u001b[43m)\u001b[49m\u001b[43m)\u001b[49m\n\u001b[1;32m   2135\u001b[0m     excinfos \u001b[38;5;241m=\u001b[39m ()\n\u001b[1;32m   2136\u001b[0m \u001b[38;5;28;01melse\u001b[39;00m:\n",
      "File \u001b[0;32m/opt/conda/lib/python3.10/site-packages/uproot3/tree.py:59\u001b[0m, in \u001b[0;36m_delayedraise\u001b[0;34m(excinfo)\u001b[0m\n\u001b[1;32m     57\u001b[0m     exec(\u001b[38;5;124m\"\u001b[39m\u001b[38;5;124mraise cls, err, trc\u001b[39m\u001b[38;5;124m\"\u001b[39m)\n\u001b[1;32m     58\u001b[0m \u001b[38;5;28;01melse\u001b[39;00m:\n\u001b[0;32m---> 59\u001b[0m     \u001b[38;5;28;01mraise\u001b[39;00m err\u001b[38;5;241m.\u001b[39mwith_traceback(trc)\n",
      "File \u001b[0;32m/opt/conda/lib/python3.10/site-packages/uproot3/tree.py:2113\u001b[0m, in \u001b[0;36m_numentries.<locals>.fill\u001b[0;34m(i)\u001b[0m\n\u001b[1;32m   2111\u001b[0m \u001b[38;5;28;01mdef\u001b[39;00m \u001b[38;5;21mfill\u001b[39m(i):\n\u001b[1;32m   2112\u001b[0m     \u001b[38;5;28;01mtry\u001b[39;00m:\n\u001b[0;32m-> 2113\u001b[0m         file \u001b[38;5;241m=\u001b[39m \u001b[43muproot3\u001b[49m\u001b[38;5;241;43m.\u001b[39;49m\u001b[43mrootio\u001b[49m\u001b[38;5;241;43m.\u001b[39;49m\u001b[43mopen\u001b[49m\u001b[43m(\u001b[49m\u001b[43mpaths\u001b[49m\u001b[43m[\u001b[49m\u001b[43mi\u001b[49m\u001b[43m]\u001b[49m\u001b[43m,\u001b[49m\u001b[43m \u001b[49m\u001b[43mlocalsource\u001b[49m\u001b[38;5;241;43m=\u001b[39;49m\u001b[43mlocalsource\u001b[49m\u001b[43m,\u001b[49m\u001b[43m \u001b[49m\u001b[43mxrootdsource\u001b[49m\u001b[38;5;241;43m=\u001b[39;49m\u001b[43mxrootdsource\u001b[49m\u001b[43m,\u001b[49m\u001b[43m \u001b[49m\u001b[43mhttpsource\u001b[49m\u001b[38;5;241;43m=\u001b[39;49m\u001b[43mhttpsource\u001b[49m\u001b[43m,\u001b[49m\u001b[43m \u001b[49m\u001b[43mread_streamers\u001b[49m\u001b[38;5;241;43m=\u001b[39;49m\u001b[38;5;28;43;01mFalse\u001b[39;49;00m\u001b[43m,\u001b[49m\u001b[43m \u001b[49m\u001b[38;5;241;43m*\u001b[39;49m\u001b[38;5;241;43m*\u001b[39;49m\u001b[43moptions\u001b[49m\u001b[43m)\u001b[49m\n\u001b[1;32m   2114\u001b[0m     \u001b[38;5;28;01mexcept\u001b[39;00m \u001b[38;5;167;01mException\u001b[39;00m:\n\u001b[1;32m   2115\u001b[0m         \u001b[38;5;28;01mreturn\u001b[39;00m sys\u001b[38;5;241m.\u001b[39mexc_info()\n",
      "File \u001b[0;32m/opt/conda/lib/python3.10/site-packages/uproot3/rootio.py:58\u001b[0m, in \u001b[0;36mopen\u001b[0;34m(path, localsource, xrootdsource, httpsource, **options)\u001b[0m\n\u001b[1;32m     55\u001b[0m     \u001b[38;5;28;01mreturn\u001b[39;00m ROOTDirectory\u001b[38;5;241m.\u001b[39mread(openfcn(path), \u001b[38;5;241m*\u001b[39m\u001b[38;5;241m*\u001b[39moptions)\n\u001b[1;32m     57\u001b[0m \u001b[38;5;28;01melif\u001b[39;00m _bytesid(parsed\u001b[38;5;241m.\u001b[39mscheme) \u001b[38;5;241m==\u001b[39m \u001b[38;5;124mb\u001b[39m\u001b[38;5;124m\"\u001b[39m\u001b[38;5;124mroot\u001b[39m\u001b[38;5;124m\"\u001b[39m:\n\u001b[0;32m---> 58\u001b[0m     \u001b[38;5;28;01mreturn\u001b[39;00m \u001b[43mxrootd\u001b[49m\u001b[43m(\u001b[49m\u001b[43mpath\u001b[49m\u001b[43m,\u001b[49m\u001b[43m \u001b[49m\u001b[43mxrootdsource\u001b[49m\u001b[38;5;241;43m=\u001b[39;49m\u001b[43mxrootdsource\u001b[49m\u001b[43m,\u001b[49m\u001b[43m \u001b[49m\u001b[38;5;241;43m*\u001b[39;49m\u001b[38;5;241;43m*\u001b[39;49m\u001b[43moptions\u001b[49m\u001b[43m)\u001b[49m\n\u001b[1;32m     60\u001b[0m \u001b[38;5;28;01melif\u001b[39;00m _bytesid(parsed\u001b[38;5;241m.\u001b[39mscheme) \u001b[38;5;241m==\u001b[39m \u001b[38;5;124mb\u001b[39m\u001b[38;5;124m\"\u001b[39m\u001b[38;5;124mhttp\u001b[39m\u001b[38;5;124m\"\u001b[39m \u001b[38;5;129;01mor\u001b[39;00m _bytesid(parsed\u001b[38;5;241m.\u001b[39mscheme) \u001b[38;5;241m==\u001b[39m \u001b[38;5;124mb\u001b[39m\u001b[38;5;124m\"\u001b[39m\u001b[38;5;124mhttps\u001b[39m\u001b[38;5;124m\"\u001b[39m:\n\u001b[1;32m     61\u001b[0m     \u001b[38;5;28;01mreturn\u001b[39;00m http(path, httpsource\u001b[38;5;241m=\u001b[39mhttpsource, \u001b[38;5;241m*\u001b[39m\u001b[38;5;241m*\u001b[39moptions)\n",
      "File \u001b[0;32m/opt/conda/lib/python3.10/site-packages/uproot3/rootio.py:78\u001b[0m, in \u001b[0;36mxrootd\u001b[0;34m(path, xrootdsource, **options)\u001b[0m\n\u001b[1;32m     76\u001b[0m \u001b[38;5;28;01melse\u001b[39;00m:\n\u001b[1;32m     77\u001b[0m     openfcn \u001b[38;5;241m=\u001b[39m xrootdsource\n\u001b[0;32m---> 78\u001b[0m \u001b[38;5;28;01mreturn\u001b[39;00m \u001b[43mROOTDirectory\u001b[49m\u001b[38;5;241;43m.\u001b[39;49m\u001b[43mread\u001b[49m\u001b[43m(\u001b[49m\u001b[43mopenfcn\u001b[49m\u001b[43m(\u001b[49m\u001b[43mpath\u001b[49m\u001b[43m)\u001b[49m\u001b[43m,\u001b[49m\u001b[43m \u001b[49m\u001b[38;5;241;43m*\u001b[39;49m\u001b[38;5;241;43m*\u001b[39;49m\u001b[43moptions\u001b[49m\u001b[43m)\u001b[49m\n",
      "File \u001b[0;32m/opt/conda/lib/python3.10/site-packages/uproot3/rootio.py:123\u001b[0m, in \u001b[0;36mROOTDirectory.read\u001b[0;34m(source, *args, **options)\u001b[0m\n\u001b[1;32m    121\u001b[0m \u001b[38;5;66;03m# See https://root.cern/doc/master/classTFile.html\u001b[39;00m\n\u001b[1;32m    122\u001b[0m cursor \u001b[38;5;241m=\u001b[39m Cursor(\u001b[38;5;241m0\u001b[39m)\n\u001b[0;32m--> 123\u001b[0m magic, fVersion \u001b[38;5;241m=\u001b[39m \u001b[43mcursor\u001b[49m\u001b[38;5;241;43m.\u001b[39;49m\u001b[43mfields\u001b[49m\u001b[43m(\u001b[49m\u001b[43msource\u001b[49m\u001b[43m,\u001b[49m\u001b[43m \u001b[49m\u001b[43mROOTDirectory\u001b[49m\u001b[38;5;241;43m.\u001b[39;49m\u001b[43m_format1\u001b[49m\u001b[43m)\u001b[49m\n\u001b[1;32m    124\u001b[0m \u001b[38;5;28;01mif\u001b[39;00m magic \u001b[38;5;241m!=\u001b[39m \u001b[38;5;124mb\u001b[39m\u001b[38;5;124m\"\u001b[39m\u001b[38;5;124mroot\u001b[39m\u001b[38;5;124m\"\u001b[39m:\n\u001b[1;32m    125\u001b[0m     \u001b[38;5;28;01mraise\u001b[39;00m \u001b[38;5;167;01mValueError\u001b[39;00m(\u001b[38;5;124m\"\u001b[39m\u001b[38;5;124mnot a ROOT file (starts with \u001b[39m\u001b[38;5;132;01m{0}\u001b[39;00m\u001b[38;5;124m instead of \u001b[39m\u001b[38;5;124m'\u001b[39m\u001b[38;5;124mroot\u001b[39m\u001b[38;5;124m'\u001b[39m\u001b[38;5;124m)\u001b[39m\u001b[38;5;130;01m\\n\u001b[39;00m\u001b[38;5;124m   in file: \u001b[39m\u001b[38;5;132;01m{1}\u001b[39;00m\u001b[38;5;124m\"\u001b[39m\u001b[38;5;241m.\u001b[39mformat(\u001b[38;5;28mrepr\u001b[39m(magic), source\u001b[38;5;241m.\u001b[39mpath))\n",
      "File \u001b[0;32m/opt/conda/lib/python3.10/site-packages/uproot3/source/cursor.py:48\u001b[0m, in \u001b[0;36mCursor.fields\u001b[0;34m(self, source, format)\u001b[0m\n\u001b[1;32m     46\u001b[0m start \u001b[38;5;241m=\u001b[39m \u001b[38;5;28mself\u001b[39m\u001b[38;5;241m.\u001b[39mindex\n\u001b[1;32m     47\u001b[0m stop \u001b[38;5;241m=\u001b[39m \u001b[38;5;28mself\u001b[39m\u001b[38;5;241m.\u001b[39mindex \u001b[38;5;241m=\u001b[39m start \u001b[38;5;241m+\u001b[39m \u001b[38;5;28mformat\u001b[39m\u001b[38;5;241m.\u001b[39msize\n\u001b[0;32m---> 48\u001b[0m \u001b[38;5;28;01mreturn\u001b[39;00m \u001b[38;5;28mformat\u001b[39m\u001b[38;5;241m.\u001b[39munpack(\u001b[43msource\u001b[49m\u001b[38;5;241;43m.\u001b[39;49m\u001b[43mdata\u001b[49m\u001b[43m(\u001b[49m\u001b[43mstart\u001b[49m\u001b[43m,\u001b[49m\u001b[43m \u001b[49m\u001b[43mstop\u001b[49m\u001b[43m)\u001b[49m)\n",
      "File \u001b[0;32m/opt/conda/lib/python3.10/site-packages/uproot3/source/chunked.py:119\u001b[0m, in \u001b[0;36mChunkedSource.data\u001b[0;34m(self, start, stop, dtype)\u001b[0m\n\u001b[1;32m    117\u001b[0m         chunk \u001b[38;5;241m=\u001b[39m \u001b[38;5;28mself\u001b[39m\u001b[38;5;241m.\u001b[39mcache[chunkindex]\n\u001b[1;32m    118\u001b[0m     \u001b[38;5;28;01mexcept\u001b[39;00m \u001b[38;5;167;01mKeyError\u001b[39;00m:\n\u001b[0;32m--> 119\u001b[0m         \u001b[38;5;28;43mself\u001b[39;49m\u001b[38;5;241;43m.\u001b[39;49m\u001b[43m_open\u001b[49m\u001b[43m(\u001b[49m\u001b[43m)\u001b[49m\n\u001b[1;32m    120\u001b[0m         chunk \u001b[38;5;241m=\u001b[39m \u001b[38;5;28mself\u001b[39m\u001b[38;5;241m.\u001b[39m_read(chunkindex)\n\u001b[1;32m    122\u001b[0m cstart \u001b[38;5;241m=\u001b[39m \u001b[38;5;241m0\u001b[39m\n",
      "File \u001b[0;32m/opt/conda/lib/python3.10/site-packages/uproot3/source/xrootd.py:36\u001b[0m, in \u001b[0;36mXRootDSource._open\u001b[0;34m(self)\u001b[0m\n\u001b[1;32m     34\u001b[0m status, dummy \u001b[38;5;241m=\u001b[39m \u001b[38;5;28mself\u001b[39m\u001b[38;5;241m.\u001b[39m_source\u001b[38;5;241m.\u001b[39mopen(\u001b[38;5;28mself\u001b[39m\u001b[38;5;241m.\u001b[39mpath, timeout\u001b[38;5;241m=\u001b[39m(\u001b[38;5;241m0\u001b[39m \u001b[38;5;28;01mif\u001b[39;00m \u001b[38;5;28mself\u001b[39m\u001b[38;5;241m.\u001b[39mtimeout \u001b[38;5;129;01mis\u001b[39;00m \u001b[38;5;28;01mNone\u001b[39;00m \u001b[38;5;28;01melse\u001b[39;00m \u001b[38;5;28mself\u001b[39m\u001b[38;5;241m.\u001b[39mtimeout))\n\u001b[1;32m     35\u001b[0m \u001b[38;5;28;01mif\u001b[39;00m status\u001b[38;5;241m.\u001b[39mget(\u001b[38;5;124m\"\u001b[39m\u001b[38;5;124merror\u001b[39m\u001b[38;5;124m\"\u001b[39m, \u001b[38;5;28;01mNone\u001b[39;00m):\n\u001b[0;32m---> 36\u001b[0m     \u001b[38;5;28;01mraise\u001b[39;00m \u001b[38;5;167;01mOSError\u001b[39;00m(status[\u001b[38;5;124m\"\u001b[39m\u001b[38;5;124mmessage\u001b[39m\u001b[38;5;124m\"\u001b[39m])\n\u001b[1;32m     37\u001b[0m status, info \u001b[38;5;241m=\u001b[39m \u001b[38;5;28mself\u001b[39m\u001b[38;5;241m.\u001b[39m_source\u001b[38;5;241m.\u001b[39mstat(timeout\u001b[38;5;241m=\u001b[39m(\u001b[38;5;241m0\u001b[39m \u001b[38;5;28;01mif\u001b[39;00m \u001b[38;5;28mself\u001b[39m\u001b[38;5;241m.\u001b[39mtimeout \u001b[38;5;129;01mis\u001b[39;00m \u001b[38;5;28;01mNone\u001b[39;00m \u001b[38;5;28;01melse\u001b[39;00m \u001b[38;5;28mself\u001b[39m\u001b[38;5;241m.\u001b[39mtimeout))\n\u001b[1;32m     38\u001b[0m \u001b[38;5;28;01mif\u001b[39;00m status\u001b[38;5;241m.\u001b[39mget(\u001b[38;5;124m\"\u001b[39m\u001b[38;5;124merror\u001b[39m\u001b[38;5;124m\"\u001b[39m, \u001b[38;5;28;01mNone\u001b[39;00m):\n",
      "\u001b[0;31mOSError\u001b[0m: [ERROR] Server responded with an error: [3000] Unable to open - cannot determine the prefix path to use for the given filesystem id /store/mc/RunIISummer20UL16NanoAODv9/DYJetsToLL_M-50_HT-70to100_TuneCP5_PSweights_13TeV-madgraphMLM-pythia8/NANOAODSIM/106X_mcRun2_asymptotic_v17-v2/2430000/141FED6D-E376-684B-A10E-D3C8B574E623.root; invalid argument\n"
     ]
    }
   ],
   "source": [
    "uproot3.numentries(fileset[proc][i],\"Events\")"
   ]
  },
  {
   "cell_type": "code",
   "execution_count": null,
   "id": "a31de40f-5c0d-4537-b050-f421eb75dacc",
   "metadata": {},
   "outputs": [],
   "source": [
    "numentries = {\n",
    "    'UL16NanoAODv9_DYJetsToLL_M-50_HT-100to200_TuneCP5_PSweights_13TeV-madgraphMLM-pythia8':8316351,\n",
    "    'UL16NanoAODv9_DYJetsToLL_M-50_HT-1200to2500_TuneCP5_PSweights_13TeV-madgraphMLM-pythia8':1970857,\n",
    "    'UL16NanoAODv9_DYJetsToLL_M-50_HT-200to400_TuneCP5_PSweights_13TeV-madgraphMLM-pythia8':5653782,\n",
    "    'UL16NanoAODv9_DYJetsToLL_M-50_HT-2500toInf_TuneCP5_PSweights_13TeV-madgraphMLM-pythia8':696811,\n",
    "    'UL16NanoAODv9_DYJetsToLL_M-50_HT-400to600_TuneCP5_PSweights_13TeV-madgraphMLM-pythia8': 2491416,\n",
    "    'UL16NanoAODv9_DYJetsToLL_M-50_HT-70to100_TuneCP5_PSweights_13TeV-madgraphMLM-pythia8': 5893910,\n",
    "    'UL16NanoAODv9_DYJetsToLL_M-50_HT-800to1200_TuneCP5_PSweights_13TeV-madgraphMLM-pythia8': 2393976,\n",
    "    'UL17NanoAODv9_DYJetsToLL_M-50_HT-100to200_TuneCP5_PSweights_13TeV-madgraphMLM-pythia8': 18648544,\n",
    "    'UL17NanoAODv9_DYJetsToLL_M-50_HT-1200to2500_TuneCP5_PSweights_13TeV-madgraphMLM-pythia8': 4725936,\n",
    "    'UL17NanoAODv9_DYJetsToLL_M-50_HT-200to400_TuneCP5_PSweights_13TeV-madgraphMLM-pythia8': 12451701,\n",
    "    'UL17NanoAODv9_DYJetsToLL_M-50_HT-2500toInf_TuneCP5_PSweights_13TeV-madgraphMLM-pythia8': 1480047,\n",
    "    'UL17NanoAODv9_DYJetsToLL_M-50_HT-400to600_TuneCP5_PSweights_13TeV-madgraphMLM-pythia8': 5384252,\n",
    "    'UL17NanoAODv9_DYJetsToLL_M-50_HT-70to100_TuneCP5_PSweights_13TeV-madgraphMLM-pythia8': 12205958,\n",
    "    'UL17NanoAODv9_DYJetsToLL_M-50_HT-800to1200_TuneCP5_PSweights_13TeV-madgraphMLM-pythia8': 4347168,\n",
    "    'UL18NanoAODv9_DYJetsToLL_M-50_HT-100to200_TuneCP5_PSweights_13TeV-madgraphMLM-pythia8': 26202328,\n",
    "    'UL18NanoAODv9_DYJetsToLL_M-50_HT-1200to2500_TuneCP5_PSweights_13TeV-madgraphMLM-pythia8': 5966661,\n",
    "    'UL18NanoAODv9_DYJetsToLL_M-50_HT-200to400_TuneCP5_PSweights_13TeV-madgraphMLM-pythia8': 18455718,\n",
    "    'UL18NanoAODv9_DYJetsToLL_M-50_HT-2500toInf_TuneCP5_PSweights_13TeV-madgraphMLM-pythia8': 1978203,\n",
    "    'UL18NanoAODv9_DYJetsToLL_M-50_HT-400to600_TuneCP5_PSweights_13TeV-madgraphMLM-pythia8': 8682257,\n",
    "    'UL18NanoAODv9_DYJetsToLL_M-50_HT-70to100_TuneCP5_PSweights_13TeV-madgraphMLM-pythia8': 17004433,\n",
    "    'UL18NanoAODv9_DYJetsToLL_M-50_HT-800to1200_TuneCP5_PSweights_13TeV-madgraphMLM-pythia8': 6554679\n",
    "    \n",
    "}"
   ]
  },
  {
   "cell_type": "code",
   "execution_count": 150,
   "id": "2f59f180-9b3b-4ae1-ac38-e864bcee19ac",
   "metadata": {},
   "outputs": [
    {
     "name": "stdout",
     "output_type": "stream",
     "text": [
      "27417103\n"
     ]
    }
   ],
   "source": [
    "total = 0\n",
    "for key in numentries.keys():\n",
    "    if 'UL16' in key:\n",
    "        total += numentries[key]\n",
    "print(total)"
   ]
  },
  {
   "cell_type": "code",
   "execution_count": null,
   "id": "d75cba9e-1218-494e-8464-75e28fe4afcb",
   "metadata": {},
   "outputs": [],
   "source": [
    "xsdb = {\n",
    "    'DYJetsToLL_M-50_HT-100to200_TuneCP5_PSweights_13TeV-madgraphMLM-pythia8': 139.2,\n",
    "    'DYJetsToLL_M-50_HT-1200to2500_TuneCP5_PSweights_13TeV-madgraphMLM-pythia8': 0.1305,\n",
    "    'DYJetsToLL_M-50_HT-200to400_TuneCP5_PSweights_13TeV-madgraphMLM-pythia8': 38.4,\n",
    "    'DYJetsToLL_M-50_HT-2500toInf_TuneCP5_PSweights_13TeV-madgraphMLM-pythia8': 0.002997,\n",
    "    'DYJetsToLL_M-50_HT-400to600_TuneCP5_PSweights_13TeV-madgraphMLM-pythia8': 5.174,\n",
    "    'DYJetsToLL_M-50_HT-70to100_TuneCP5_PSweights_13TeV-madgraphMLM-pythia8': 140.0\t,\n",
    "    'DYJetsToLL_M-50_HT-800to1200_TuneCP5_PSweights_13TeV-madgraphMLM-pythia8': 0.5598\n",
    "}"
   ]
  },
  {
   "cell_type": "code",
   "execution_count": null,
   "id": "e3736a0b-43d6-4e25-b907-0326af7d1482",
   "metadata": {},
   "outputs": [],
   "source": [
    "process_list"
   ]
  },
  {
   "cell_type": "code",
   "execution_count": 1,
   "id": "96ec4f9b-4d04-4bbb-bd3d-4b32afbfd8a6",
   "metadata": {},
   "outputs": [],
   "source": [
    "from coffea.nanoevents import NanoEventsFactory, NanoAODSchema\n",
    "\n",
    "NanoAODSchema.warn_missing_crossrefs = False\n",
    "#fname = fileset[proc][i]\n",
    "#fname = 'root://cmsxrootd.fnal.gov//store/mc/RunIISummer20UL16NanoAODv9/DYJetsToLL_M-50_HT-70to100_TuneCP5_PSweights_13TeV-madgraphMLM-pythia8/NANOAODSIM/106X_mcRun2_asymptotic_v17-v2/2430000/141FED6D-E376-684B-A10E-D3C8B574E623.root'\n",
    "fname = 'root://cmsxrootd.fnal.gov//store/mc/RunIISummer20UL18NanoAODv9/DYJetsToLL_M-50_HT-200to400_TuneCP5_PSweights_13TeV-madgraphMLM-pythia8/NANOAODSIM/106X_upgrade2018_realistic_v16_L1v1-v1/270000/42C39ABF-7352-5547-A226-E3FA9DD0E72B.root'\n",
    "#fname = 'root://cmsxrootd.fnal.gov//store/mc/RunIISummer20UL16NanoAODv9/DYJetsToLL_M-50_HT-1200to2500_TuneCP5_PSweights_13TeV-madgraphMLM-pythia8/NANOAODSIM/106X_mcRun2_asymptotic_v17-v2/2510000/09FD0207-04DE-5645-90D3-505984FB0E4A.root'\n",
    "events = NanoEventsFactory.from_root(\n",
    "    fname,\n",
    "    schemaclass=NanoAODSchema,\n",
    "    metadata={\"dataset\": \"DYJets\"},\n",
    ").events()"
   ]
  },
  {
   "cell_type": "code",
   "execution_count": null,
   "id": "7e80e385-f36f-4868-b13c-929c74b940c4",
   "metadata": {},
   "outputs": [],
   "source": []
  },
  {
   "cell_type": "code",
   "execution_count": 10,
   "id": "72d87bba-0fe1-4f10-9f0d-fb188591bcb2",
   "metadata": {},
   "outputs": [],
   "source": [
    "events1 = events"
   ]
  },
  {
   "cell_type": "code",
   "execution_count": 11,
   "id": "16095b18-6cd0-46b1-aec2-c7326251f122",
   "metadata": {},
   "outputs": [],
   "source": [
    "weights = events1.LHEWeight.originalXWGTUP.to_numpy()"
   ]
  },
  {
   "cell_type": "code",
   "execution_count": 12,
   "id": "bff429fd-843e-4072-8a71-43fc67771891",
   "metadata": {},
   "outputs": [
    {
     "data": {
      "text/plain": [
       "(array([   908.,   6451.,  30815.,  87505., 113010., 132895.,  66136.,\n",
       "         31204.,   5389.,   2702.]),\n",
       " array([0.04116397, 0.04125355, 0.04134313, 0.04143271, 0.04152229,\n",
       "        0.04161187, 0.04170145, 0.04179103, 0.04188061, 0.04197019,\n",
       "        0.04205977]),\n",
       " <BarContainer object of 10 artists>)"
      ]
     },
     "execution_count": 12,
     "metadata": {},
     "output_type": "execute_result"
    },
    {
     "data": {
      "image/png": "[encoded data removed]",
      "text/plain": [
       "<Figure size 640x480 with 1 Axes>"
      ]
     },
     "metadata": {},
     "output_type": "display_data"
    }
   ],
   "source": [
    "import matplotlib.pyplot as plt\n",
    "plt.hist(weights)"
   ]
  },
  {
   "cell_type": "code",
   "execution_count": null,
   "id": "df918046-33c2-4e19-84ca-9617914417db",
   "metadata": {},
   "outputs": [],
   "source": []
  },
  {
   "cell_type": "code",
   "execution_count": 10,
   "id": "6fd227f7-1c2e-4f9e-a6d7-bfd05fce836a",
   "metadata": {},
   "outputs": [],
   "source": [
    "from coffea.nanoevents import NanoEventsFactory, NanoAODSchema\n",
    "\n",
    "NanoAODSchema.warn_missing_crossrefs = False\n",
    "#fname = fileset[proc][i]\n",
    "fname = 'root://cmsxrootd.fnal.gov//store/mc/RunIISummer20UL16NanoAODv9/DYJetsToLL_M-50_HT-70to100_TuneCP5_PSweights_13TeV-madgraphMLM-pythia8/NANOAODSIM/106X_mcRun2_asymptotic_v17-v2/2430000/141FED6D-E376-684B-A10E-D3C8B574E623.root'\n",
    "#fname = 'root://cmsxrootd.fnal.gov//store/mc/RunIISummer20UL18NanoAODv9/DYJetsToLL_M-50_HT-200to400_TuneCP5_PSweights_13TeV-madgraphMLM-pythia8/NANOAODSIM/106X_upgrade2018_realistic_v16_L1v1-v1/270000/42C39ABF-7352-5547-A226-E3FA9DD0E72B.root'\n",
    "#fname = 'root://cmsxrootd.fnal.gov//store/mc/RunIISummer20UL16NanoAODv9/DYJetsToLL_M-50_HT-1200to2500_TuneCP5_PSweights_13TeV-madgraphMLM-pythia8/NANOAODSIM/106X_mcRun2_asymptotic_v17-v2/2510000/09FD0207-04DE-5645-90D3-505984FB0E4A.root'\n",
    "events2 = NanoEventsFactory.from_root(\n",
    "    fname,\n",
    "    schemaclass=NanoAODSchema,\n",
    "    metadata={\"dataset\": \"DYJets\"},\n",
    ").events()"
   ]
  },
  {
   "cell_type": "code",
   "execution_count": 11,
   "id": "00e385c8-c116-43c3-a666-6647771c3150",
   "metadata": {},
   "outputs": [
    {
     "data": {
      "text/plain": [
       "(array([10638.,  4259.,  4323., 14881., 19119., 18827., 14633., 16933.,\n",
       "        10721.,  8500.]),\n",
       " array([0.0659666 , 0.06604095, 0.0661153 , 0.06618965, 0.066264  ,\n",
       "        0.06633835, 0.0664127 , 0.06648705, 0.0665614 , 0.06663575,\n",
       "        0.0667101 ]),\n",
       " <BarContainer object of 10 artists>)"
      ]
     },
     "execution_count": 11,
     "metadata": {},
     "output_type": "execute_result"
    },
    {
     "data": {
      "image/png": "[encoded data removed]",
      "text/plain": [
       "<Figure size 640x480 with 1 Axes>"
      ]
     },
     "metadata": {},
     "output_type": "display_data"
    }
   ],
   "source": [
    "events1 = events2\n",
    "weights = events1.LHEWeight.originalXWGTUP.to_numpy()\n",
    "\n",
    "import matplotlib.pyplot as plt\n",
    "plt.hist(weights)"
   ]
  },
  {
   "cell_type": "code",
   "execution_count": 5,
   "id": "bfd13f06-c650-4c94-b161-4adf02432f3c",
   "metadata": {},
   "outputs": [
    {
     "data": {
      "text/plain": [
       "(array([   880.,      0.,      0.,    892.,   8054.,  46532., 157652.,\n",
       "        144369.,  44227.,   7942.]),\n",
       " array([7.99213982, 8.06463337, 8.13712692, 8.20961952, 8.28211308,\n",
       "        8.35460663, 8.42710018, 8.49959373, 8.57208633, 8.64457989,\n",
       "        8.71707344]),\n",
       " <BarContainer object of 10 artists>)"
      ]
     },
     "execution_count": 5,
     "metadata": {},
     "output_type": "execute_result"
    },
    {
     "data": {
      "image/png": "[encoded data removed]",
      "text/plain": [
       "<Figure size 640x480 with 1 Axes>"
      ]
     },
     "metadata": {},
     "output_type": "display_data"
    }
   ],
   "source": [
    "from coffea.nanoevents import NanoEventsFactory, NanoAODSchema\n",
    "\n",
    "NanoAODSchema.warn_missing_crossrefs = False\n",
    "#fname = fileset[proc][i]\n",
    "#fname = 'root://cmsxrootd.fnal.gov//store/mc/RunIISummer20UL16NanoAODv9/DYJetsToLL_M-50_HT-70to100_TuneCP5_PSweights_13TeV-madgraphMLM-pythia8/NANOAODSIM/106X_mcRun2_asymptotic_v17-v2/2430000/141FED6D-E376-684B-A10E-D3C8B574E623.root'\n",
    "fname = 'root://cmsxrootd.fnal.gov//store/mc/RunIISummer20UL16NanoAODAPVv9/DYJetsToLL_M-50_TuneCH3_13TeV-madgraphMLM-herwig7/NANOAODSIM/20UL16APVJMENano_HerwigJetPartonBugFix_106X_mcRun2_asymptotic_preVFP_v11-v1/40000/017851BE-0B3B-2B43-BF5D-39E6E182ED2B.root'\n",
    "#fname = 'root://cmsxrootd.fnal.gov//store/mc/RunIISummer20UL16NanoAODv9/DYJetsToLL_M-50_HT-1200to2500_TuneCP5_PSweights_13TeV-madgraphMLM-pythia8/NANOAODSIM/106X_mcRun2_asymptotic_v17-v2/2510000/09FD0207-04DE-5645-90D3-505984FB0E4A.root'\n",
    "events = NanoEventsFactory.from_root(\n",
    "    fname,\n",
    "    schemaclass=NanoAODSchema,\n",
    "    metadata={\"dataset\": \"DYJets\"},\n",
    ").events()\n",
    "events1 = events\n",
    "weights = events1.LHEWeight.originalXWGTUP.to_numpy()\n",
    "\n",
    "import matplotlib.pyplot as plt\n",
    "plt.hist(weights)"
   ]
  },
  {
   "cell_type": "code",
   "execution_count": 3,
   "id": "5e7a13d4-3a0e-4ee9-b068-87f377960a69",
   "metadata": {},
   "outputs": [
    {
     "name": "stdout",
     "output_type": "stream",
     "text": [
      "[2.53e+04, 2.53e+04, 2.53e+04, 2.53e+04, ... 2.53e+04, 2.53e+04, 2.53e+04, 2.53e+04]\n"
     ]
    },
    {
     "data": {
      "text/plain": [
       "(array([0., 0., 0.]),\n",
       " array([686., 687., 688., 689.]),\n",
       " <BarContainer object of 3 artists>)"
      ]
     },
     "execution_count": 3,
     "metadata": {},
     "output_type": "execute_result"
    },
    {
     "data": {
      "image/png": "[encoded data removed]",
      "text/plain": [
       "<Figure size 640x480 with 1 Axes>"
      ]
     },
     "metadata": {},
     "output_type": "display_data"
    }
   ],
   "source": [
    "from coffea.nanoevents import NanoEventsFactory, NanoAODSchema\n",
    "\n",
    "NanoAODSchema.warn_missing_crossrefs = False\n",
    "#fname = fileset[proc][i]\n",
    "#fname = 'root://cmsxrootd.fnal.gov//store/mc/RunIISummer20UL16NanoAODv9/DYJetsToLL_M-50_HT-70to100_TuneCP5_PSweights_13TeV-madgraphMLM-pythia8/NANOAODSIM/106X_mcRun2_asymptotic_v17-v2/2430000/141FED6D-E376-684B-A10E-D3C8B574E623.root'\n",
    "fname = 'root://cmsxrootd.fnal.gov//store/mc/RunIISummer20UL16NanoAODAPVv9/TT_Mtt-700to1000_TuneCP5_13TeV-powheg-pythia8/NANOAODSIM/106X_mcRun2_asymptotic_preVFP_v11-v1/2520000/0243D863-E63B-2B4D-AB85-3F33CCEEBF95.root'\n",
    "fname = 'root://cmsxrootd.fnal.gov//store/mc/RunIISummer20UL17NanoAODv2/DYJetsToLL_M-50_TuneCP5_13TeV-amcatnloFXFX-pythia8/NANOAODSIM/106X_mc2017_realistic_v8-v1/100000/A920036B-AD34-6245-88E0-73B9FCF7977D.root'\n",
    "events = NanoEventsFactory.from_root(\n",
    "    fname,\n",
    "    schemaclass=NanoAODSchema,\n",
    "    metadata={\"dataset\": \"DYJets\"},\n",
    ").events()\n",
    "events1 = events\n",
    "weights = events1.genWeight\n",
    "print(weights)\n",
    "import matplotlib.pyplot as plt\n",
    "plt.hist(weights, range(686, 690))"
   ]
  },
  {
   "cell_type": "code",
   "execution_count": 10,
   "id": "460d7cf6-b9bc-4b3c-bfe0-4133c0864b24",
   "metadata": {},
   "outputs": [
    {
     "data": {
      "text/plain": [
       "(array([    0.,     0.,     0., 28088., 26912., 16672., 10548.,  7006.,\n",
       "         4769.,  3381.]),\n",
       " array([ 50.,  65.,  80.,  95., 110., 125., 140., 155., 170., 185., 200.]),\n",
       " <BarContainer object of 10 artists>)"
      ]
     },
     "execution_count": 10,
     "metadata": {},
     "output_type": "execute_result"
    },
    {
     "data": {
      "image/png": "[encoded data removed]",
      "text/plain": [
       "<Figure size 640x480 with 1 Axes>"
      ]
     },
     "metadata": {},
     "output_type": "display_data"
    }
   ],
   "source": [
    "import awkward as ak\n",
    "plt.hist(ak.flatten(events.GenJetAK8.pt), range=(50,200))"
   ]
  },
  {
   "cell_type": "code",
   "execution_count": 11,
   "id": "59779144-28d7-48e0-b2b6-647e616b6e3c",
   "metadata": {},
   "outputs": [
    {
     "data": {
      "text/plain": [
       "100.000114"
      ]
     },
     "execution_count": 11,
     "metadata": {},
     "output_type": "execute_result"
    }
   ],
   "source": [
    "import numpy as np\n",
    "np.min(ak.flatten(events.GenJetAK8.pt))"
   ]
  },
  {
   "cell_type": "code",
   "execution_count": 24,
   "id": "74670234-33fc-410e-a03e-cab2277fadaf",
   "metadata": {},
   "outputs": [],
   "source": [
    "from coffea.nanoevents import NanoEventsFactory, NanoAODSchema\n",
    "\n",
    "NanoAODSchema.warn_missing_crossrefs = False\n",
    "#fname = fileset[proc][i]\n",
    "fname = 'root://cmsxrootd.fnal.gov//store/mc/RunIISummer20UL16NanoAODv2/DYJetsToLL_M-50_TuneCP5_13TeV-amcatnloFXFX-pythia8/NANOAODSIM/106X_mcRun2_asymptotic_v15-v1/230000/0183DF72-B96C-F440-BDCE-FED03D2A4B8B.root'\n",
    "#fname = 'root://cmsxrootd.fnal.gov//store/mc/RunIISummer20UL17NanoAODv9/DYJetsToLL_M-50_TuneCH3_13TeV-madgraphMLM-herwig7/NANOAODSIM/20UL17JMENano_HerwigJetPartonBugFix_106X_mc2017_realistic_v9-v1/50000/CD8B7AA6-0217-A642-B866-A5F95F93EDB6.root'\n",
    "fname = 'root://cmsxrootd.fnal.gov//store/mc/RunIISummer20UL17NanoAODv2/DYJetsToLL_M-50_TuneCP5_13TeV-amcatnloFXFX-pythia8/NANOAODSIM/106X_mc2017_realistic_v8-v1/100000/A920036B-AD34-6245-88E0-73B9FCF7977D.root'\n",
    "events = NanoEventsFactory.from_root(\n",
    "    fname,\n",
    "    schemaclass=NanoAODSchema,\n",
    "    metadata={\"dataset\": \"DYJets\"},\n",
    ").events()\n"
   ]
  },
  {
   "cell_type": "code",
   "execution_count": 25,
   "id": "16e29b80-a7d7-420c-9cb2-211d68067977",
   "metadata": {},
   "outputs": [
    {
     "name": "stdout",
     "output_type": "stream",
     "text": [
      "[25259.674 25259.674 25259.674 ... 25259.674 25259.674 25259.674]\n"
     ]
    }
   ],
   "source": [
    "events1 = events\n",
    "weights = events1.LHEWeight.originalXWGTUP.to_numpy()\n",
    "print(weights)\n",
    "import matplotlib.pyplot as plt\n"
   ]
  },
  {
   "cell_type": "code",
   "execution_count": 26,
   "id": "e44c4be6-6682-46be-89a5-b5438cd08306",
   "metadata": {},
   "outputs": [
    {
     "data": {
      "text/plain": [
       "(array([      0.,       0.,       0.,       0.,       0.,       0.,\n",
       "              0.,       0.,       0., 1203673.]),\n",
       " array([25250., 25251., 25252., 25253., 25254., 25255., 25256., 25257.,\n",
       "        25258., 25259., 25260.]),\n",
       " <BarContainer object of 10 artists>)"
      ]
     },
     "execution_count": 26,
     "metadata": {},
     "output_type": "execute_result"
    },
    {
     "data": {
      "image/png": "[encoded data removed]",
      "text/plain": [
       "<Figure size 640x480 with 1 Axes>"
      ]
     },
     "metadata": {},
     "output_type": "display_data"
    }
   ],
   "source": [
    "plt.hist(weights, range = (25250, 25260))"
   ]
  },
  {
   "cell_type": "code",
   "execution_count": 141,
   "id": "de20935b-bca4-461c-a784-7c83635b84a6",
   "metadata": {},
   "outputs": [],
   "source": [
    "def getXSweight(dataset, IOV):\n",
    "    if IOV=='2016APV' or IOV=='2016':\n",
    "        lum_val = lumi['2016']\n",
    "    else:\n",
    "        lum_val = lumi[IOV]\n",
    "    process = [process for process in xsdb.keys() if process in dataset][0]\n",
    "    print(process)\n",
    "    \n",
    "    weight  = (lum_val*1000*xsdb[process])/numentries[dataset]\n",
    "    return weight"
   ]
  },
  {
   "cell_type": "code",
   "execution_count": 2,
   "id": "0c76d5e1-8363-451c-be65-f9647be57dae",
   "metadata": {},
   "outputs": [],
   "source": [
    "xsdb = {\n",
    "    'DYJetsToLL_M-50_HT-100to200_TuneCP5_PSweights_13TeV-madgraphMLM-pythia8': 139.2,\n",
    "    'DYJetsToLL_M-50_HT-1200to2500_TuneCP5_PSweights_13TeV-madgraphMLM-pythia8': 0.1305,\n",
    "    'DYJetsToLL_M-50_HT-200to400_TuneCP5_PSweights_13TeV-madgraphMLM-pythia8': 38.4,\n",
    "    'DYJetsToLL_M-50_HT-2500toInf_TuneCP5_PSweights_13TeV-madgraphMLM-pythia8': 0.002997,\n",
    "    'DYJetsToLL_M-50_HT-400to600_TuneCP5_PSweights_13TeV-madgraphMLM-pythia8': 5.174,\n",
    "    'DYJetsToLL_M-50_HT-70to100_TuneCP5_PSweights_13TeV-madgraphMLM-pythia8': 140.0\t,\n",
    "    'DYJetsToLL_M-50_HT-800to1200_TuneCP5_PSweights_13TeV-madgraphMLM-pythia8': 0.5598\n",
    "}\n",
    "\n",
    "lumi = {'2018' : 59.74,\n",
    "        '2017': 41.48,\n",
    "        '2016': 36.33 \n",
    "       }\n",
    "\n",
    "numentries = {\n",
    "    'UL16NanoAODv9_DYJetsToLL_M-50_HT-100to200_TuneCP5_PSweights_13TeV-madgraphMLM-pythia8':8316351,\n",
    "    'UL16NanoAODv9_DYJetsToLL_M-50_HT-1200to2500_TuneCP5_PSweights_13TeV-madgraphMLM-pythia8':1970857,\n",
    "    'UL16NanoAODv9_DYJetsToLL_M-50_HT-200to400_TuneCP5_PSweights_13TeV-madgraphMLM-pythia8':5653782,\n",
    "    'UL16NanoAODv9_DYJetsToLL_M-50_HT-2500toInf_TuneCP5_PSweights_13TeV-madgraphMLM-pythia8':696811,\n",
    "    'UL16NanoAODv9_DYJetsToLL_M-50_HT-400to600_TuneCP5_PSweights_13TeV-madgraphMLM-pythia8': 2491416,\n",
    "    'UL16NanoAODv9_DYJetsToLL_M-50_HT-70to100_TuneCP5_PSweights_13TeV-madgraphMLM-pythia8': 5893910,\n",
    "    'UL16NanoAODv9_DYJetsToLL_M-50_HT-800to1200_TuneCP5_PSweights_13TeV-madgraphMLM-pythia8': 2393976,\n",
    "    'UL17NanoAODv9_DYJetsToLL_M-50_HT-100to200_TuneCP5_PSweights_13TeV-madgraphMLM-pythia8': 18648544,\n",
    "    'UL17NanoAODv9_DYJetsToLL_M-50_HT-1200to2500_TuneCP5_PSweights_13TeV-madgraphMLM-pythia8': 4725936,\n",
    "    'UL17NanoAODv9_DYJetsToLL_M-50_HT-200to400_TuneCP5_PSweights_13TeV-madgraphMLM-pythia8': 12451701,\n",
    "    'UL17NanoAODv9_DYJetsToLL_M-50_HT-2500toInf_TuneCP5_PSweights_13TeV-madgraphMLM-pythia8': 1480047,\n",
    "    'UL17NanoAODv9_DYJetsToLL_M-50_HT-400to600_TuneCP5_PSweights_13TeV-madgraphMLM-pythia8': 5384252,\n",
    "    'UL17NanoAODv9_DYJetsToLL_M-50_HT-70to100_TuneCP5_PSweights_13TeV-madgraphMLM-pythia8': 12205958,\n",
    "    'UL17NanoAODv9_DYJetsToLL_M-50_HT-800to1200_TuneCP5_PSweights_13TeV-madgraphMLM-pythia8': 4347168,\n",
    "    'UL18NanoAODv9_DYJetsToLL_M-50_HT-100to200_TuneCP5_PSweights_13TeV-madgraphMLM-pythia8': 26202328,\n",
    "    'UL18NanoAODv9_DYJetsToLL_M-50_HT-1200to2500_TuneCP5_PSweights_13TeV-madgraphMLM-pythia8': 5966661,\n",
    "    'UL18NanoAODv9_DYJetsToLL_M-50_HT-200to400_TuneCP5_PSweights_13TeV-madgraphMLM-pythia8': 18455718,\n",
    "    'UL18NanoAODv9_DYJetsToLL_M-50_HT-2500toInf_TuneCP5_PSweights_13TeV-madgraphMLM-pythia8': 1978203,\n",
    "    'UL18NanoAODv9_DYJetsToLL_M-50_HT-400to600_TuneCP5_PSweights_13TeV-madgraphMLM-pythia8': 8682257,\n",
    "    'UL18NanoAODv9_DYJetsToLL_M-50_HT-70to100_TuneCP5_PSweights_13TeV-madgraphMLM-pythia8': 17004433,\n",
    "    'UL18NanoAODv9_DYJetsToLL_M-50_HT-800to1200_TuneCP5_PSweights_13TeV-madgraphMLM-pythia8': 6554679\n",
    "    \n",
    "}"
   ]
  },
  {
   "cell_type": "code",
   "execution_count": 3,
   "id": "01891bbd-d7ca-4665-80f6-50e4f6181a98",
   "metadata": {},
   "outputs": [
    {
     "ename": "NameError",
     "evalue": "name 'getXSweight' is not defined",
     "output_type": "error",
     "traceback": [
      "\u001b[0;31m---------------------------------------------------------------------------\u001b[0m",
      "\u001b[0;31mNameError\u001b[0m                                 Traceback (most recent call last)",
      "Cell \u001b[0;32mIn[3], line 3\u001b[0m\n\u001b[1;32m      1\u001b[0m dataset \u001b[38;5;241m=\u001b[39m \u001b[38;5;124m'\u001b[39m\u001b[38;5;124mUL18NanoAODv9_DYJetsToLL_M-50_HT-800to1200_TuneCP5_PSweights_13TeV-madgraphMLM-pythia8\u001b[39m\u001b[38;5;124m'\u001b[39m\n\u001b[1;32m      2\u001b[0m numentries\u001b[38;5;241m.\u001b[39mkeys()\n\u001b[0;32m----> 3\u001b[0m \u001b[43mgetXSweight\u001b[49m(dataset, \u001b[38;5;124m'\u001b[39m\u001b[38;5;124m2018\u001b[39m\u001b[38;5;124m'\u001b[39m)\n",
      "\u001b[0;31mNameError\u001b[0m: name 'getXSweight' is not defined"
     ]
    }
   ],
   "source": [
    "dataset = 'UL18NanoAODv9_DYJetsToLL_M-50_HT-800to1200_TuneCP5_PSweights_13TeV-madgraphMLM-pythia8'\n",
    "getXSweight(dataset, '2018')"
   ]
  },
  {
   "cell_type": "code",
   "execution_count": 95,
   "id": "c2fc4d9c-1b44-44e6-a0aa-42045f4b37fe",
   "metadata": {},
   "outputs": [
    {
     "data": {
      "text/plain": [
       "0.02296551724137931"
      ]
     },
     "execution_count": 95,
     "metadata": {},
     "output_type": "execute_result"
    }
   ],
   "source": [
    "0.002997/0.1305"
   ]
  },
  {
   "cell_type": "code",
   "execution_count": 115,
   "id": "e5638c19-66df-4f9e-98a1-e7eec02f12b9",
   "metadata": {},
   "outputs": [
    {
     "data": {
      "text/plain": [
       "'root://cmsxrootd.fnal.gov//store/mc/RunIISummer20UL16NanoAODv9/DYJetsToLL_M-50_HT-70to100_TuneCP5_PSweights_13TeV-madgraphMLM-pythia8/NANOAODSIM/106X_mcRun2_asymptotic_v17-v2/2430000/141FED6D-E376-684B-A10E-D3C8B574E623.root'"
      ]
     },
     "execution_count": 115,
     "metadata": {},
     "output_type": "execute_result"
    }
   ],
   "source": [
    "fileset[proc][i]"
   ]
  },
  {
   "cell_type": "code",
   "execution_count": 165,
   "id": "fce4e5b9-09f5-40d5-9119-deacc9e4438b",
   "metadata": {},
   "outputs": [
    {
     "data": {
      "text/plain": [
       "array([  0.,   1.,   2.,   3.,   4.,   5.,   6.,   7.,   8.,   9.,  10.,\n",
       "        11.,  12.,  13.,  14.,  15.,  16.,  17.,  18.,  19.,  20.,  21.,\n",
       "        22.,  23.,  24.,  25.,  26.,  27.,  28.,  29.,  30.,  31.,  32.,\n",
       "        33.,  34.,  35.,  36.,  37.,  38.,  39.,  40.,  41.,  42.,  43.,\n",
       "        44.,  45.,  46.,  47.,  48.,  49.,  50.,  51.,  52.,  53.,  54.,\n",
       "        55.,  56.,  57.,  58.,  59.,  60.,  61.,  62.,  63.,  64.,  65.,\n",
       "        66.,  67.,  68.,  69.,  70.,  71.,  72.,  73.,  74.,  75.,  76.,\n",
       "        77.,  78.,  79.,  80.,  81.,  82.,  83.,  84.,  85.,  86.,  87.,\n",
       "        88.,  89.,  90.,  91.,  92.,  93.,  94.,  95.,  96.,  97.,  98.,\n",
       "        99., 100.])"
      ]
     },
     "execution_count": 165,
     "metadata": {},
     "output_type": "execute_result"
    }
   ],
   "source": [
    "import hist\n",
    "a = hist.axis.Regular(100, 0, 100, name = 'a', label = 'a')\n",
    "a.edges"
   ]
  },
  {
   "cell_type": "code",
   "execution_count": 166,
   "id": "140c2457-8980-47c0-b058-fd7d8f1739f1",
   "metadata": {},
   "outputs": [],
   "source": [
    "hhh = hist.Hist(a)"
   ]
  },
  {
   "cell_type": "code",
   "execution_count": 173,
   "id": "1a8ed064-2d3e-45b6-b1f6-161382e4d23b",
   "metadata": {},
   "outputs": [
    {
     "data": {
      "text/html": [
       "<html>\n",
       "<div style=\"display:flex; align-items:center;\">\n",
       "<div style=\"width:290px;\">\n",
       "<svg xmlns=\"http://www.w3.org/2000/svg\" viewBox=\"-10 -105 270 120\">\n",
       "<line x1=\"-5\" y1=\"0\" x2=\"255\" y2=\"0\" style=\"fill:none;stroke-width:2;stroke:currentColor\"/>\n",
       "<text text-anchor=\"middle\" x=\"0\" y=\"15\" style=\"fill:currentColor;\">\n",
       "0\n",
       "</text>\n",
       "<text text-anchor=\"middle\" x=\"250\" y=\"15\" style=\"fill:currentColor;\">\n",
       "100\n",
       "</text>\n",
       "<text text-anchor=\"middle\" x=\"125.0\" y=\"15\" style=\"fill:currentColor;\">\n",
       "a\n",
       "</text>\n",
       "<polyline points=\"  0,0   0,-50 2.5,-50 2.5,-50   5,-50   5,-100 7.5,-100 7.5,-50  10,-50  10,-0 12.5,-0 12.5,-0  15,-0  15,-0 17.5,-0 17.5,-0  20,-0  20,-0 22.5,-0 22.5,-0  25,-0  25,-0 27.5,-0 27.5,-0  30,-0  30,-0 32.5,-0 32.5,-0  35,-0  35,-0 37.5,-0 37.5,-0  40,-0  40,-0 42.5,-0 42.5,-0  45,-0  45,-0 47.5,-0 47.5,-0  50,-0  50,-0 52.5,-0 52.5,-0  55,-0  55,-0 57.5,-0 57.5,-0  60,-0  60,-0 62.5,-0 62.5,-0  65,-0  65,-0 67.5,-0 67.5,-0  70,-0  70,-0 72.5,-0 72.5,-0  75,-0  75,-0 77.5,-0 77.5,-0  80,-0  80,-0 82.5,-0 82.5,-0  85,-0  85,-0 87.5,-0 87.5,-0  90,-0  90,-0 92.5,-0 92.5,-0  95,-0  95,-0 97.5,-0 97.5,-0 100,-0 100,-0 102.5,-0 102.5,-0 105,-0 105,-0 107.5,-0 107.5,-0 110,-0 110,-0 112.5,-0 112.5,-0 115,-0 115,-0 117.5,-0 117.5,-0 120,-0 120,-0 122.5,-0 122.5,-0 125,-0 125,-0 127.5,-0 127.5,-0 130,-0 130,-0 132.5,-0 132.5,-0 135,-0 135,-0 137.5,-0 137.5,-0 140,-0 140,-0 142.5,-0 142.5,-0 145,-0 145,-0 147.5,-0 147.5,-0 150,-0 150,-0 152.5,-0 152.5,-0 155,-0 155,-0 157.5,-0 157.5,-0 160,-0 160,-0 162.5,-0 162.5,-0 165,-0 165,-0 167.5,-0 167.5,-0 170,-0 170,-0 172.5,-0 172.5,-0 175,-0 175,-0 177.5,-0 177.5,-0 180,-0 180,-0 182.5,-0 182.5,-0 185,-0 185,-0 187.5,-0 187.5,-0 190,-0 190,-0 192.5,-0 192.5,-0 195,-0 195,-0 197.5,-0 197.5,-0 200,-0 200,-0 202.5,-0 202.5,-0 205,-0 205,-0 207.5,-0 207.5,-0 210,-0 210,-0 212.5,-0 212.5,-0 215,-0 215,-0 217.5,-0 217.5,-0 220,-0 220,-0 222.5,-0 222.5,-0 225,-0 225,-0 227.5,-0 227.5,-0 230,-0 230,-0 232.5,-0 232.5,-0 235,-0 235,-0 237.5,-0 237.5,-0 240,-0 240,-0 242.5,-0 242.5,-0 245,-0 245,-0 247.5,-0 247.5,-0 250,-0 250,0\" style=\"fill:none; stroke:currentColor;\"/>\n",
       "</svg>\n",
       "</div>\n",
       "<div style=\"flex=grow:1;\">\n",
       "Regular(100, 0, 100, name='a')<br/>\n",
       "<hr style=\"margin-top:.2em; margin-bottom:.2em;\"/>\n",
       "Double() Σ=5.0\n",
       "\n",
       "</div>\n",
       "</div>\n",
       "</html>"
      ],
      "text/plain": [
       "Hist(Regular(100, 0, 100, name='a'), storage=Double()) # Sum: 5.0"
      ]
     },
     "execution_count": 173,
     "metadata": {},
     "output_type": "execute_result"
    }
   ],
   "source": [
    "hhh.fill(a = 1-0.5)"
   ]
  },
  {
   "cell_type": "code",
   "execution_count": 174,
   "id": "d78d625b-cbb3-4f15-9186-f520f3647cf5",
   "metadata": {},
   "outputs": [
    {
     "data": {
      "text/plain": [
       "array([1., 1., 2., 1., 0., 0., 0., 0., 0., 0., 0., 0., 0., 0., 0., 0., 0.,\n",
       "       0., 0., 0., 0., 0., 0., 0., 0., 0., 0., 0., 0., 0., 0., 0., 0., 0.,\n",
       "       0., 0., 0., 0., 0., 0., 0., 0., 0., 0., 0., 0., 0., 0., 0., 0., 0.,\n",
       "       0., 0., 0., 0., 0., 0., 0., 0., 0., 0., 0., 0., 0., 0., 0., 0., 0.,\n",
       "       0., 0., 0., 0., 0., 0., 0., 0., 0., 0., 0., 0., 0., 0., 0., 0., 0.,\n",
       "       0., 0., 0., 0., 0., 0., 0., 0., 0., 0., 0., 0., 0., 0., 0.])"
      ]
     },
     "execution_count": 174,
     "metadata": {},
     "output_type": "execute_result"
    }
   ],
   "source": [
    "hhh.values()"
   ]
  },
  {
   "cell_type": "code",
   "execution_count": 175,
   "id": "f381cce2-a91d-4a8e-95e1-6126652ab086",
   "metadata": {},
   "outputs": [],
   "source": [
    "import numpy as np"
   ]
  },
  {
   "cell_type": "code",
   "execution_count": 178,
   "id": "c1895b86-d725-44d2-ae6c-ef0481772ebb",
   "metadata": {},
   "outputs": [
    {
     "name": "stdout",
     "output_type": "stream",
     "text": [
      "[False  True  True  True  True  True  True  True  True  True False  True\n",
      "  True  True  True  True  True  True  True  True False  True  True  True\n",
      "  True]\n",
      "[ True False  True  True  True  True  True  True  True  True  True False\n",
      "  True  True  True  True  True  True  True  True  True False  True  True\n",
      "  True]\n"
     ]
    }
   ],
   "source": [
    "final_len = 25\n",
    "index_list = np.arange(final_len)\n",
    "            \n",
    "for jk_index in range(2):\n",
    "    print(np.where(index_list%10 == jk_index, False, True))"
   ]
  },
  {
   "cell_type": "code",
   "execution_count": 9,
   "id": "0d217a43-5f41-42af-afa4-2dddd05980fa",
   "metadata": {},
   "outputs": [],
   "source": [
    "filename = '/store/mc/RunIISummer20UL16NanoAODv9/DYJetsToLL_M-50_HT-70to100_TuneCP5_PSweights_13TeV-madgraphMLM-pythia8/NANOAODSIM/106X_mcRun2_asymptotic_v17-v2/230000/CCA62794-66FF-9741-B9E0-05F9029698E8.root'\n",
    "firstidx = filename.find( \"store/mc/\" )\n",
    "fname2 = filename[firstidx:]\n",
    "fname_toks = fname2.split(\"/\")\n",
    "era = fname_toks[ fname_toks.index(\"mc\") + 1]\n",
    "ht_bin = fname_toks[ fname_toks.index(\"mc\") + 2]"
   ]
  },
  {
   "cell_type": "code",
   "execution_count": 10,
   "id": "47fe4cd2-ce0e-46f4-a8a5-055806d7e56b",
   "metadata": {},
   "outputs": [
    {
     "data": {
      "text/plain": [
       "'DYJetsToLL_M-50_HT-70to100_TuneCP5_PSweights_13TeV-madgraphMLM-pythia8'"
      ]
     },
     "execution_count": 10,
     "metadata": {},
     "output_type": "execute_result"
    }
   ],
   "source": [
    "ht_bin"
   ]
  },
  {
   "cell_type": "raw",
   "id": "2b1368f2-6d34-4399-8271-f73a3942225f",
   "metadata": {},
   "source": []
  },
  {
   "cell_type": "code",
   "execution_count": 8,
   "id": "244bdba5-a3bb-471e-a63b-f339f0c8c179",
   "metadata": {},
   "outputs": [],
   "source": [
    "fileset = {}\n",
    "filedir = \"samples/\"\n",
    "dy_mc_filestr = \"DYJetsToLL_M-50_TuneCH3_13TeV-madgraphMLM-herwig7_%s.txt\"\n",
    "era = 'UL17NanoAODv9'\n",
    "\n",
    "prependstr=\"root://cmsxrootd.fnal.gov/\"\n",
    "\n",
    "filename = filedir + dy_mc_filestr % (era)\n",
    "#filename =  'samples/subset2016mc.txt'\n",
    "\n",
    "with open(filename) as f:\n",
    "    dy_mc_files_all = [prependstr + i.rstrip() for i in f.readlines() if i[0] != \"#\"  ]  \n",
    "\n",
    "            \n",
    "    dy_mc_files = [file for file in dy_mc_files_all]\n",
    "    fileset[era] = dy_mc_files"
   ]
  },
  {
   "cell_type": "code",
   "execution_count": 6,
   "id": "9308a9a7-df8d-42ec-8c5c-f7871f9414ef",
   "metadata": {},
   "outputs": [
    {
     "data": {
      "text/plain": [
       "29382595"
      ]
     },
     "execution_count": 6,
     "metadata": {},
     "output_type": "execute_result"
    }
   ],
   "source": [
    "uproot3.numentries(fileset['UL18NanoAODv9'],\"Events\")"
   ]
  },
  {
   "cell_type": "code",
   "execution_count": 9,
   "id": "2d0ba727-7891-41d9-8b07-c6fe989c11ad",
   "metadata": {},
   "outputs": [
    {
     "data": {
      "text/plain": [
       "29578468"
      ]
     },
     "execution_count": 9,
     "metadata": {},
     "output_type": "execute_result"
    }
   ],
   "source": [
    "uproot3.numentries(fileset['UL17NanoAODv9'],\"Events\")"
   ]
  },
  {
   "cell_type": "code",
   "execution_count": null,
   "id": "444d9bb5-d06c-4e93-936d-17ea14c3d152",
   "metadata": {},
   "outputs": [],
   "source": []
  }
 ],
 "metadata": {
  "kernelspec": {
   "display_name": "Python 3 (ipykernel)",
   "language": "python",
   "name": "python3"
  },
  "language_info": {
   "codemirror_mode": {
    "name": "ipython",
    "version": 3
   },
   "file_extension": ".py",
   "mimetype": "text/x-python",
   "name": "python",
   "nbconvert_exporter": "python",
   "pygments_lexer": "ipython3",
   "version": "3.10.8"
  }
 },
 "nbformat": 4,
 "nbformat_minor": 5
}
