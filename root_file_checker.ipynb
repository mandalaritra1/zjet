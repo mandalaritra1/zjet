{
 "cells": [
  {
   "cell_type": "code",
   "execution_count": 1,
   "id": "1dfaae20-bba3-49e3-aecb-c54964e90220",
   "metadata": {},
   "outputs": [],
   "source": [
    "import coffea\n",
    "from coffea.nanoevents import NanoAODSchema, NanoEventsFactory\n",
    "import awkward as ak\n",
    "import numpy as np\n",
    "from python.cms_utils import GetMuonSF\n",
    "import correctionlib\n",
    "import matplotlib.pyplot as plt"
   ]
  },
  {
   "cell_type": "code",
   "execution_count": 2,
   "id": "c0af6ed8-70c8-4684-b657-17a5eff9a68f",
   "metadata": {},
   "outputs": [],
   "source": [
    "from python.cms_utils import getLumiMaskRun2"
   ]
  },
  {
   "cell_type": "code",
   "execution_count": 3,
   "id": "a2b75251-ad75-4ec6-a349-fbc88f8c8415",
   "metadata": {},
   "outputs": [
    {
     "data": {
      "text/plain": [
       "'0906'"
      ]
     },
     "execution_count": 3,
     "metadata": {},
     "output_type": "execute_result"
    }
   ],
   "source": [
    "from datetime import datetime\n",
    "datetime.today().strftime('%d%m')"
   ]
  },
  {
   "cell_type": "code",
   "execution_count": 103,
   "id": "cb812221-acaf-49b9-8242-6100700a94f0",
   "metadata": {},
   "outputs": [
    {
     "data": {
      "text/plain": [
       "0.9996145084763732"
      ]
     },
     "execution_count": 103,
     "metadata": {},
     "output_type": "execute_result"
    }
   ],
   "source": [
    "IOV = '2016APV'\n",
    "fname = \"correctionFiles/muonSF/UL\"+IOV+\"/muon_Z.json.gz\"\n",
    "\n",
    "evaluator = correctionlib.CorrectionSet.from_file(fname)\n",
    "evaluator[\"NUM_GlobalMuons_DEN_genTracks\"].evaluate(1.1, 50.0,  'nominal') ## Reconstruction\n",
    "evaluator[\"NUM_MediumID_DEN_TrackerMuons\"].evaluate(1.1, 50.0,  'nominal') ## MediumID efficiency\n",
    "evaluator[\"NUM_TightRelIso_DEN_MediumID\"].evaluate(1.1, 50.0,  'nominal') ## Tight ISO ID efficiency\n",
    "#evaluator[\"NUM_IsoMu24_DEN_CutBasedIdTight_and_PFIsoTight\"].evaluate(1.1, 100.0,  'nominal')"
   ]
  },
  {
   "cell_type": "code",
   "execution_count": 7,
   "id": "b919ed0b-cc11-40ef-955e-c96613a407b1",
   "metadata": {},
   "outputs": [
    {
     "ename": "IndexError",
     "evalue": "map::at",
     "output_type": "error",
     "traceback": [
      "\u001b[0;31m---------------------------------------------------------------------------\u001b[0m",
      "\u001b[0;31mIndexError\u001b[0m                                Traceback (most recent call last)",
      "Cell \u001b[0;32mIn[7], line 1\u001b[0m\n\u001b[0;32m----> 1\u001b[0m \u001b[43mevaluator\u001b[49m\u001b[43m[\u001b[49m\u001b[38;5;124;43m\"\u001b[39;49m\u001b[38;5;124;43mNUM_IsoMu24_or_IsoTkMu24_DEN_CutBasedIdTight_and_PFIsoTight\u001b[39;49m\u001b[38;5;124;43m\"\u001b[39;49m\u001b[43m]\u001b[49m\u001b[38;5;241m.\u001b[39mevaluate(\u001b[38;5;241m1.1\u001b[39m, \u001b[38;5;241m100.0\u001b[39m,  \u001b[38;5;124m'\u001b[39m\u001b[38;5;124mnominal\u001b[39m\u001b[38;5;124m'\u001b[39m)\n",
      "File \u001b[0;32m/opt/conda/lib/python3.10/site-packages/correctionlib/highlevel.py:321\u001b[0m, in \u001b[0;36mCorrectionSet.__getitem__\u001b[0;34m(self, key)\u001b[0m\n\u001b[1;32m    320\u001b[0m \u001b[38;5;28;01mdef\u001b[39;00m \u001b[38;5;21m__getitem__\u001b[39m(\u001b[38;5;28mself\u001b[39m, key: \u001b[38;5;28mstr\u001b[39m) \u001b[38;5;241m-\u001b[39m\u001b[38;5;241m>\u001b[39m Correction:\n\u001b[0;32m--> 321\u001b[0m     corr \u001b[38;5;241m=\u001b[39m \u001b[38;5;28;43mself\u001b[39;49m\u001b[38;5;241;43m.\u001b[39;49m\u001b[43m_base\u001b[49m\u001b[38;5;241;43m.\u001b[39;49m\u001b[38;5;21;43m__getitem__\u001b[39;49m\u001b[43m(\u001b[49m\u001b[43mkey\u001b[49m\u001b[43m)\u001b[49m\n\u001b[1;32m    322\u001b[0m     \u001b[38;5;28;01mreturn\u001b[39;00m Correction(corr, \u001b[38;5;28mself\u001b[39m)\n",
      "\u001b[0;31mIndexError\u001b[0m: map::at"
     ]
    }
   ],
   "source": [
    "evaluator[\"NUM_IsoMu24_or_IsoTkMu24_DEN_CutBasedIdTight_and_PFIsoTight\"].evaluate(1.1, 100.0,  'nominal')"
   ]
  },
  {
   "cell_type": "code",
   "execution_count": 15,
   "id": "cca3620c-a657-4e24-a851-997236839af5",
   "metadata": {},
   "outputs": [
    {
     "name": "stdout",
     "output_type": "stream",
     "text": [
      "correctionFiles/muonSF/UL2016APV/muon_Z.json.gz\n"
     ]
    },
    {
     "data": {
      "text/plain": [
       "<Array [[0.945, 0.979]] type='1 * var * float64'>"
      ]
     },
     "execution_count": 15,
     "metadata": {},
     "output_type": "execute_result"
    }
   ],
   "source": [
    "GetMuonSF(IOV, 'HLT', np.array([[1., 2.]]), np.array([[10., 140.]]), var=\"sfdown\")"
   ]
  },
  {
   "cell_type": "code",
   "execution_count": 8,
   "id": "d2ca8ec1-8d9d-4f5a-adca-6a8c60ef5a83",
   "metadata": {},
   "outputs": [
    {
     "data": {
      "text/plain": [
       "0.9955082832064152"
      ]
     },
     "execution_count": 8,
     "metadata": {},
     "output_type": "execute_result"
    }
   ],
   "source": [
    "evaluator[\"NUM_MediumID_DEN_TrackerMuons\"].evaluate(1.1, 50.0,  'nominal') ## MediumID efficiency"
   ]
  },
  {
   "cell_type": "code",
   "execution_count": 57,
   "id": "31b9e87e-463d-437b-aab7-6bc1d49ac5d5",
   "metadata": {},
   "outputs": [
    {
     "data": {
      "text/plain": [
       "0.9709748540182914"
      ]
     },
     "execution_count": 57,
     "metadata": {},
     "output_type": "execute_result"
    }
   ],
   "source": [
    "evaluator[\"NUM_IsoMu24_DEN_CutBasedIdTight_and_PFIsoTight\"].evaluate(1.1, 30.1,  'nominal')"
   ]
  },
  {
   "cell_type": "code",
   "execution_count": 43,
   "id": "da49ae8a-c3d6-4dd6-9b6a-f4f14a1ff294",
   "metadata": {},
   "outputs": [
    {
     "data": {
      "text/plain": [
       "0.0005968894742857178"
      ]
     },
     "execution_count": 43,
     "metadata": {},
     "output_type": "execute_result"
    }
   ],
   "source": [
    "evaluator[\"NUM_IsoMu24_DEN_CutBasedIdTight_and_PFIsoTight\"].evaluate(1.1, 100.0,  'syst')"
   ]
  },
  {
   "cell_type": "code",
   "execution_count": 44,
   "id": "71e010be-dee9-4e61-9834-2b902e2316d2",
   "metadata": {},
   "outputs": [
    {
     "data": {
      "text/plain": [
       "0.9698119577070924"
      ]
     },
     "execution_count": 44,
     "metadata": {},
     "output_type": "execute_result"
    }
   ],
   "source": [
    "evaluator[\"NUM_IsoMu24_DEN_CutBasedIdTight_and_PFIsoTight\"].evaluate(1.1, 100.0,  'systup')"
   ]
  },
  {
   "cell_type": "code",
   "execution_count": 52,
   "id": "4187374c-6d19-43f3-b88c-d785fe497434",
   "metadata": {},
   "outputs": [
    {
     "data": {
      "text/plain": [
       "0.000851056846733679"
      ]
     },
     "execution_count": 52,
     "metadata": {},
     "output_type": "execute_result"
    }
   ],
   "source": [
    "np.sqrt(evaluator[\"NUM_IsoMu24_DEN_CutBasedIdTight_and_PFIsoTight\"].evaluate(1.1, 100.0,  'stat')**2 + evaluator[\"NUM_IsoMu24_DEN_CutBasedIdTight_and_PFIsoTight\"].evaluate(1.1, 100.0,  'syst')**2)"
   ]
  },
  {
   "cell_type": "code",
   "execution_count": 53,
   "id": "2ec9b4b9-7964-480a-96f4-c43f8ba4aea3",
   "metadata": {},
   "outputs": [
    {
     "data": {
      "text/plain": [
       "0.0008510568467335888"
      ]
     },
     "execution_count": 53,
     "metadata": {},
     "output_type": "execute_result"
    }
   ],
   "source": [
    "0.9698119577070924 - 0.9689609008603588"
   ]
  },
  {
   "cell_type": "code",
   "execution_count": null,
   "id": "f688d8e3-65d2-4cb1-b002-f1080874e156",
   "metadata": {},
   "outputs": [],
   "source": []
  },
  {
   "cell_type": "code",
   "execution_count": 45,
   "id": "fe1bd534-ec9f-48af-a65f-240e9f8d652b",
   "metadata": {},
   "outputs": [
    {
     "data": {
      "text/plain": [
       "0.9695577903346445"
      ]
     },
     "execution_count": 45,
     "metadata": {},
     "output_type": "execute_result"
    }
   ],
   "source": [
    "0.9689609008603588+0.0005968894742857178"
   ]
  },
  {
   "cell_type": "code",
   "execution_count": 2,
   "id": "f5be1184-7a56-44cf-b254-f1d41cf176fc",
   "metadata": {},
   "outputs": [],
   "source": [
    "sample_filename = \"samples/SingleElectron_UL2017_NanoAODv9_files.txt\""
   ]
  },
  {
   "cell_type": "code",
   "execution_count": 162,
   "id": "c8740976-28f1-4c38-9693-98eeb222e4b8",
   "metadata": {},
   "outputs": [],
   "source": [
    "with open(sample_filename) as f:\n",
    "    filenames = [ i.rstrip() for i in f.readlines() if i[0] != \"#\"  ] \n",
    "\n",
    "\n",
    "#filename = \"/store/data/Run2017H/SingleMuon/NANOAOD/UL2017_MiniAODv2_NanoAODv9_GT36-v1/2530000/D8402BC3-3095-4C42-8497-4B28A3DD7ADD.root\""
   ]
  },
  {
   "cell_type": "code",
   "execution_count": 4,
   "id": "080aa759-e605-4ebe-9a5c-681956b1fd8e",
   "metadata": {},
   "outputs": [],
   "source": [
    "prestring = \"root://cmsxrootd.fnal.gov/\""
   ]
  },
  {
   "cell_type": "code",
   "execution_count": 163,
   "id": "2e536325-9b54-4d64-b3cf-ab2934e560d4",
   "metadata": {},
   "outputs": [],
   "source": [
    "#file_path = 'root://cmsxrootd.fnal.gov//store/mc/RunIISummer20UL18NanoAODv9/TTJets_HT-600to800_TuneCP5_13TeV-madgraphMLM-pythia8/NANOAODSIM/106X_upgrade2018_realistic_v16_L1v1-v1/2530000/AF653D77-1645-6A4A-AF3B-7397F36C6F36.root'"
   ]
  },
  {
   "cell_type": "code",
   "execution_count": 3,
   "id": "54dde3cc-acb2-41e1-ab27-1b123c622cd4",
   "metadata": {
    "scrolled": true
   },
   "outputs": [
    {
     "ename": "NameError",
     "evalue": "name 'filenames' is not defined",
     "output_type": "error",
     "traceback": [
      "\u001b[0;31m---------------------------------------------------------------------------\u001b[0m",
      "\u001b[0;31mNameError\u001b[0m                                 Traceback (most recent call last)",
      "Cell \u001b[0;32mIn[3], line 1\u001b[0m\n\u001b[0;32m----> 1\u001b[0m \u001b[38;5;28;01mfor\u001b[39;00m filename \u001b[38;5;129;01min\u001b[39;00m \u001b[43mfilenames\u001b[49m:\n\u001b[1;32m      2\u001b[0m     prestring \u001b[38;5;241m=\u001b[39m \u001b[38;5;124m\"\u001b[39m\u001b[38;5;124mroot://cmsxrootd.fnal.gov/\u001b[39m\u001b[38;5;124m\"\u001b[39m\n\u001b[1;32m      3\u001b[0m     \u001b[38;5;66;03m#prestring = \"root://cms-xrd-global.cern.ch/\"\u001b[39;00m\n\u001b[1;32m      4\u001b[0m     \u001b[38;5;66;03m#prestring = \"root://xrootd-cms.infn.it\"\u001b[39;00m\n",
      "\u001b[0;31mNameError\u001b[0m: name 'filenames' is not defined"
     ]
    }
   ],
   "source": [
    "for filename in filenames:\n",
    "    prestring = \"root://cmsxrootd.fnal.gov/\"\n",
    "    #prestring = \"root://cms-xrd-global.cern.ch/\"\n",
    "    #prestring = \"root://xrootd-cms.infn.it\"\n",
    "    file_path = prestring  + filename\n",
    "    events = NanoEventsFactory.from_root(\n",
    "        file_path, \n",
    "        treepath=\"Events\", \n",
    "        schemaclass=NanoAODSchema\n",
    "    ).events()\n",
    "    print(filename)\n",
    "    del events\n",
    "\n"
   ]
  },
  {
   "cell_type": "code",
   "execution_count": null,
   "id": "f3d31534-6840-45d0-a1e8-81329950a1dc",
   "metadata": {},
   "outputs": [],
   "source": []
  },
  {
   "cell_type": "code",
   "execution_count": 5,
   "id": "5cc516b8-c569-4948-b736-b17868de5248",
   "metadata": {},
   "outputs": [],
   "source": [
    "file_path = prestring  + '/store/mc/RunIISummer20UL18NanoAODv9/DYJetsToLL_M-50_HT-400to600_TuneCP5_PSweights_13TeV-madgraphMLM-pythia8/NANOAODSIM/106X_upgrade2018_realistic_v16_L1v1-v1/280000/B952BD0D-8ED3-4947-9950-14558DD49DF4.root'\n",
    "events = NanoEventsFactory.from_root(\n",
    "    file_path, \n",
    "    treepath=\"Events\", \n",
    "    schemaclass=NanoAODSchema\n",
    ").events()"
   ]
  },
  {
   "cell_type": "code",
   "execution_count": 41,
   "id": "2345ac5c-3c65-4577-bf8f-3757508a83d8",
   "metadata": {},
   "outputs": [],
   "source": [
    "ev1 = events[events.event == 9335221 ]\n"
   ]
  },
  {
   "cell_type": "code",
   "execution_count": 46,
   "id": "98ba0b79-b0b4-4bcd-85f5-2d0a9a341473",
   "metadata": {},
   "outputs": [
    {
     "data": {
      "text/plain": [
       "<Array [[True, True]] type='1 * var * bool[parameters={\"__doc__\": \"cut-based ID,...'>"
      ]
     },
     "execution_count": 46,
     "metadata": {},
     "output_type": "execute_result"
    }
   ],
   "source": [
    "ev1.Muon[ev1.Muon.mediumId == 1].mediumId"
   ]
  },
  {
   "cell_type": "code",
   "execution_count": 36,
   "id": "87b6cfb5-b7aa-42bc-ba49-83f9df42f392",
   "metadata": {},
   "outputs": [
    {
     "data": {
      "text/plain": [
       "<Array [[False]] type='1 * var * bool'>"
      ]
     },
     "execution_count": 36,
     "metadata": {},
     "output_type": "execute_result"
    }
   ],
   "source": [
    "ev1.Electron.isTight"
   ]
  },
  {
   "cell_type": "code",
   "execution_count": 37,
   "id": "e9facbaf-4868-4e7b-8853-4749261a5499",
   "metadata": {},
   "outputs": [
    {
     "data": {
      "text/plain": [
       "<Array [[-0.063]] type='1 * var * float32[parameters={\"__doc__\": \"eta\"}]'>"
      ]
     },
     "execution_count": 37,
     "metadata": {},
     "output_type": "execute_result"
    }
   ],
   "source": [
    "ev1.Electron.eta"
   ]
  },
  {
   "cell_type": "code",
   "execution_count": 12,
   "id": "5c732753-274d-48c0-974a-fabd293703b7",
   "metadata": {},
   "outputs": [
    {
     "data": {
      "text/plain": [
       "<Array [[2.23, -0.999, -0.732]] type='1 * var * float32[parameters={\"__doc__\": \"...'>"
      ]
     },
     "execution_count": 12,
     "metadata": {},
     "output_type": "execute_result"
    }
   ],
   "source": [
    "ev1.FatJet.phi"
   ]
  },
  {
   "cell_type": "code",
   "execution_count": 50,
   "id": "8a4a4c04-60d3-48f2-adb0-b28460010a48",
   "metadata": {},
   "outputs": [
    {
     "data": {
      "text/plain": [
       "<Array [[208, 37]] type='1 * var * float32[parameters={\"__doc__\": \"pt\"}]'>"
      ]
     },
     "execution_count": 50,
     "metadata": {},
     "output_type": "execute_result"
    }
   ],
   "source": [
    "ev1.GenDressedLepton.pt"
   ]
  },
  {
   "cell_type": "code",
   "execution_count": 51,
   "id": "2657e5fb-b62d-489b-a188-7ac2b444d37d",
   "metadata": {},
   "outputs": [
    {
     "data": {
      "text/plain": [
       "<Array [[16.5]] type='1 * var * float32[parameters={\"__doc__\": \"p_{T}\"}]'>"
      ]
     },
     "execution_count": 51,
     "metadata": {},
     "output_type": "execute_result"
    }
   ],
   "source": [
    "ev1.Electron.pt"
   ]
  },
  {
   "cell_type": "code",
   "execution_count": 58,
   "id": "07decd7e-ff8c-4075-8293-336cbc212fd1",
   "metadata": {},
   "outputs": [
    {
     "data": {
      "text/plain": [
       "<Array [[False]] type='1 * var * bool[parameters={\"__doc__\": \"MVA Iso ID V2 WP90\"}]'>"
      ]
     },
     "execution_count": 58,
     "metadata": {},
     "output_type": "execute_result"
    }
   ],
   "source": [
    "ev1.Electron.mvaFall17V2Iso_WP90"
   ]
  },
  {
   "cell_type": "code",
   "execution_count": 52,
   "id": "3c755ba8-1f06-40fb-8b94-ecc3213e8892",
   "metadata": {},
   "outputs": [
    {
     "data": {
      "text/plain": [
       "<Array [[206, 37.2]] type='1 * var * float32[parameters={\"__doc__\": \"pt\"}]'>"
      ]
     },
     "execution_count": 52,
     "metadata": {},
     "output_type": "execute_result"
    }
   ],
   "source": [
    "ev1.Muon.pt"
   ]
  },
  {
   "cell_type": "code",
   "execution_count": 53,
   "id": "1f820b62-bdf6-4cf5-8c5b-149a7d652a13",
   "metadata": {},
   "outputs": [
    {
     "data": {
      "text/plain": [
       "<Array [[6, 0]] type='1 * var * uint8[parameters={\"__doc__\": \"PFIso ID from mini...'>"
      ]
     },
     "execution_count": 53,
     "metadata": {},
     "output_type": "execute_result"
    }
   ],
   "source": [
    "ev1.Muon.pfIsoId"
   ]
  },
  {
   "cell_type": "code",
   "execution_count": 54,
   "id": "6aee6eb6-b5d8-4adb-82b4-8a93cd97a5c5",
   "metadata": {},
   "outputs": [
    {
     "data": {
      "text/plain": [
       "<Array [[4, 4]] type='1 * var * uint8[parameters={\"__doc__\": \"MiniIso ID from mi...'>"
      ]
     },
     "execution_count": 54,
     "metadata": {},
     "output_type": "execute_result"
    }
   ],
   "source": [
    "ev1.Muon.miniIsoId"
   ]
  },
  {
   "cell_type": "code",
   "execution_count": 29,
   "id": "12fef993-00c6-4d10-b219-a8ad09fdf362",
   "metadata": {},
   "outputs": [
    {
     "data": {
      "text/plain": [
       "<Array [[183]] type='1 * var * float32[parameters={\"__doc__\": \"pt\"}]'>"
      ]
     },
     "execution_count": 29,
     "metadata": {},
     "output_type": "execute_result"
    }
   ],
   "source": [
    "ev1.FatJet.pt"
   ]
  },
  {
   "cell_type": "code",
   "execution_count": 5,
   "id": "29d6bd46-6d9f-41cc-bce8-f3eed611a20c",
   "metadata": {},
   "outputs": [
    {
     "data": {
      "text/plain": [
       "<Array [461, 612, 928, 436, ... 481, 286, 408] type='88374 * ?float32[parameters...'>"
      ]
     },
     "execution_count": 5,
     "metadata": {},
     "output_type": "execute_result"
    }
   ],
   "source": [
    "import awkward as ak\n",
    "ak.firsts(events.FatJet).pt"
   ]
  },
  {
   "cell_type": "code",
   "execution_count": 126,
   "id": "dcb5668f-c648-4bab-aa5d-627bef6670f1",
   "metadata": {},
   "outputs": [
    {
     "data": {
      "text/plain": [
       "<Array [2, 2, 2, 2, 2, 2, ... 2, 2, 2, 3, 3, 5] type='88374 * int64'>"
      ]
     },
     "execution_count": 126,
     "metadata": {},
     "output_type": "execute_result"
    }
   ],
   "source": [
    "ak.num(events.FatJet)"
   ]
  },
  {
   "cell_type": "code",
   "execution_count": 108,
   "id": "81c92345-8591-4d74-a4df-20aa50945ba3",
   "metadata": {},
   "outputs": [
    {
     "ename": "NameError",
     "evalue": "name 'ev' is not defined",
     "output_type": "error",
     "traceback": [
      "\u001b[0;31m---------------------------------------------------------------------------\u001b[0m",
      "\u001b[0;31mNameError\u001b[0m                                 Traceback (most recent call last)",
      "Cell \u001b[0;32mIn[108], line 1\u001b[0m\n\u001b[0;32m----> 1\u001b[0m \u001b[43mev\u001b[49m\n",
      "\u001b[0;31mNameError\u001b[0m: name 'ev' is not defined"
     ]
    }
   ],
   "source": [
    "ev"
   ]
  },
  {
   "cell_type": "code",
   "execution_count": 200,
   "id": "a4ed4159-d4b2-493b-a35c-ab887df49af5",
   "metadata": {},
   "outputs": [],
   "source": [
    "events_2J = events[ak.num(events.FatJet)>0]\n",
    "#plt.hist(events.FatJet[:,0].nConstituents)"
   ]
  },
  {
   "cell_type": "code",
   "execution_count": 186,
   "id": "fc664f7c-52a1-42c7-aaaa-fc7e1256db7e",
   "metadata": {},
   "outputs": [
    {
     "data": {
      "text/plain": [
       "<NanoEventsArray [<event 1:36:257579>, ... ] type='88095 * event'>"
      ]
     },
     "execution_count": 186,
     "metadata": {},
     "output_type": "execute_result"
    }
   ],
   "source": [
    "events_2J =  events[ak.num(events.FatJet)>1]\n",
    "events_2J"
   ]
  },
  {
   "cell_type": "code",
   "execution_count": null,
   "id": "ebb00dfd-9480-4d9d-aa6e-4e475c48d8ae",
   "metadata": {},
   "outputs": [],
   "source": []
  },
  {
   "cell_type": "code",
   "execution_count": 187,
   "id": "e019dbec-8ca0-4302-a7c4-306e3f188386",
   "metadata": {},
   "outputs": [
    {
     "data": {
      "text/plain": [
       "32509"
      ]
     },
     "execution_count": 187,
     "metadata": {},
     "output_type": "execute_result"
    }
   ],
   "source": [
    "ak.sum(events_2J.FatJet[:, 1].muonIdx3SJ > -1)"
   ]
  },
  {
   "cell_type": "code",
   "execution_count": 201,
   "id": "6fe8245b-eaad-4b4b-9f50-a5fcf348a834",
   "metadata": {},
   "outputs": [],
   "source": [
    "events_2J = ak.with_field(\n",
    "                events_2J,\n",
    "                events_2J.FatJet[(events_2J.FatJet.jetId == 6) \n",
    "\n",
    "                \n",
    "                ],\n",
    "                \"FatJet\"\n",
    "            )"
   ]
  },
  {
   "cell_type": "code",
   "execution_count": 202,
   "id": "34b950e4-8ebc-409c-9311-33b2fe17719e",
   "metadata": {},
   "outputs": [],
   "source": [
    "events_2J = ak.with_field(\n",
    "                events_2J,\n",
    "                events_2J.Muon[(events_2J.Muon.pt > 20) \n",
    "                            &(np.abs(events_2J.Muon.eta) < 2.5)\n",
    "                            &(events_2J.Muon.pfIsoId > 2) #medium iso, pfIso04 < 0.2 , 2 = loose\n",
    "                            &(events_2J.Muon.mediumId\t == True)\n",
    "                            #&(events0.Muon.looseId\t == True)\n",
    "                \n",
    "                ],\n",
    "                \"Muon\"\n",
    "            )"
   ]
  },
  {
   "cell_type": "code",
   "execution_count": 203,
   "id": "47da12cd-9c44-4d73-a79d-8feb6c30ab44",
   "metadata": {},
   "outputs": [],
   "source": [
    "fj = events_2J.FatJet\n",
    "mu = events_2J.Muon\n",
    "\n",
    "matched_mu, dr_thresh = fj.nearest(mu, threshold=None, return_metric=True)\n",
    "# ‣ For any fatjet with min‐ΔR < 0.4 to some muon, dr_thresh[i][j] is that ΔR (<0.4).\n",
    "# ‣ For any fatjet with no muon within 0.4, dr_thresh[i][j] is None.\n",
    "\n",
    "#   a) Again, fill None→999 so that “no match within 0.4” becomes dr=999:\n",
    "dr_filled2 = ak.fill_none(dr_thresh, 999.0)\n",
    "\n",
    "#   b) Keep where dr_filled2 ≥ 0.4 (i.e. either no muon in event ⇒ dr=None⇒999,\n",
    "#      or nearest muon was actually ≥0.4 away):\n",
    "keep2      = dr_filled2 >= 0.4\n",
    "\n",
    "filtered_fatjets = fj[keep2]\n"
   ]
  },
  {
   "cell_type": "code",
   "execution_count": null,
   "id": "c0343876-3b08-447f-9717-a4ba51f30c0d",
   "metadata": {},
   "outputs": [],
   "source": []
  },
  {
   "cell_type": "code",
   "execution_count": 204,
   "id": "1089a4b4-1d0e-4579-96de-c82817094120",
   "metadata": {},
   "outputs": [],
   "source": [
    "import mplhep as hep\n",
    "hep.style.use(\"CMS\")"
   ]
  },
  {
   "cell_type": "code",
   "execution_count": 205,
   "id": "6465ff6a-431e-4c70-af9e-385636d6eda4",
   "metadata": {},
   "outputs": [
    {
     "data": {
      "text/plain": [
       "Text(1, 0, 'delta_R')"
      ]
     },
     "execution_count": 205,
     "metadata": {},
     "output_type": "execute_result"
    },
    {
     "data": {
      "image/png": "[encoded data removed]",
      "text/plain": [
       "<Figure size 1000x1000 with 1 Axes>"
      ]
     },
     "metadata": {},
     "output_type": "display_data"
    }
   ],
   "source": [
    "plt.hist(ak.flatten(dr_filled2), range = (0,7), bins = 100)\n",
    "plt.xlabel('delta_R')"
   ]
  },
  {
   "cell_type": "code",
   "execution_count": 206,
   "id": "def6c3b9-27bb-4e45-82f0-8c5250e05612",
   "metadata": {},
   "outputs": [
    {
     "data": {
      "text/plain": [
       "Text(1, 0, 'delta_R')"
      ]
     },
     "execution_count": 206,
     "metadata": {},
     "output_type": "execute_result"
    },
    {
     "data": {
      "image/png": "[encoded data removed]",
      "text/plain": [
       "<Figure size 1000x1000 with 1 Axes>"
      ]
     },
     "metadata": {},
     "output_type": "display_data"
    }
   ],
   "source": [
    "plt.hist(ak.flatten(dr_filled2), range = (0,7), bins = 100)\n",
    "plt.xlabel('delta_R')"
   ]
  },
  {
   "cell_type": "code",
   "execution_count": 147,
   "id": "bced3c9a-3224-4c09-8027-68dcbf13ca14",
   "metadata": {},
   "outputs": [
    {
     "data": {
      "text/plain": [
       "<Array [2, 2, 1, 2, 2, 1, ... 2, 2, 2, 3, 3, 5] type='88095 * int64'>"
      ]
     },
     "execution_count": 147,
     "metadata": {},
     "output_type": "execute_result"
    }
   ],
   "source": [
    "ak.num(filtered_fatjets)"
   ]
  },
  {
   "cell_type": "code",
   "execution_count": 148,
   "id": "4a736bcd-b2aa-4ee6-b91c-ebb06fd6a054",
   "metadata": {},
   "outputs": [
    {
     "data": {
      "text/plain": [
       "<Array [True, True, False, ... True, True] type='88095 * bool'>"
      ]
     },
     "execution_count": 148,
     "metadata": {},
     "output_type": "execute_result"
    }
   ],
   "source": [
    "\n",
    "\n",
    "keep3 = ak.num(filtered_fatjets) > 1\n",
    "events_filtered = events_2J[keep3]\n",
    "keep3"
   ]
  },
  {
   "cell_type": "code",
   "execution_count": 149,
   "id": "36e7c8cc-a6e9-48f8-89e0-d9996b5da280",
   "metadata": {},
   "outputs": [
    {
     "data": {
      "text/plain": [
       "(array([6.870e+02, 6.910e+02, 7.000e+02, 6.500e+02, 4.260e+02, 2.390e+02,\n",
       "        5.500e+01, 3.450e+02, 4.060e+02, 4.180e+02, 4.550e+02, 5.720e+02,\n",
       "        5.760e+02, 5.430e+02, 5.790e+02, 5.680e+02, 5.970e+02, 6.220e+02,\n",
       "        6.400e+02, 7.520e+02, 7.390e+02, 7.570e+02, 7.900e+02, 8.800e+02,\n",
       "        8.910e+02, 9.710e+02, 8.970e+02, 9.240e+02, 1.043e+03, 1.080e+03,\n",
       "        1.158e+03, 1.235e+03, 1.299e+03, 1.445e+03, 1.449e+03, 1.627e+03,\n",
       "        1.738e+03, 1.660e+03, 1.885e+03, 1.984e+03, 1.896e+03, 1.933e+03,\n",
       "        2.161e+03, 2.061e+03, 2.165e+03, 2.032e+03, 2.050e+03, 1.973e+03,\n",
       "        2.045e+03, 1.668e+03, 1.352e+03, 1.200e+03, 1.015e+03, 9.920e+02,\n",
       "        8.470e+02, 7.390e+02, 6.570e+02, 5.410e+02, 5.670e+02, 4.950e+02,\n",
       "        4.630e+02, 4.450e+02, 3.810e+02, 3.540e+02, 2.820e+02, 3.340e+02,\n",
       "        2.770e+02, 2.590e+02, 1.960e+02, 1.760e+02, 1.410e+02, 1.070e+02,\n",
       "        1.290e+02, 1.210e+02, 9.800e+01, 1.150e+02, 5.500e+01, 6.700e+01,\n",
       "        5.800e+01, 6.100e+01, 3.600e+01, 3.300e+01, 2.600e+01, 3.400e+01,\n",
       "        1.500e+01, 1.800e+01, 1.900e+01, 1.600e+01, 5.000e+00, 8.000e+00,\n",
       "        1.500e+01, 5.000e+00, 1.000e+00, 2.000e+00, 0.000e+00, 4.000e+00,\n",
       "        0.000e+00, 0.000e+00, 0.000e+00, 2.000e+00]),\n",
       " array([0.40006804, 0.45577869, 0.51148933, 0.56719995, 0.62291056,\n",
       "        0.67862123, 0.73433185, 0.79004246, 0.84575313, 0.90146375,\n",
       "        0.95717436, 1.01288497, 1.06859565, 1.12430632, 1.18001688,\n",
       "        1.23572755, 1.29143822, 1.34714878, 1.40285945, 1.45857012,\n",
       "        1.51428068, 1.56999135, 1.62570202, 1.68141258, 1.73712325,\n",
       "        1.79283381, 1.84854448, 1.90425515, 1.95996571, 2.0156765 ,\n",
       "        2.07138705, 2.12709761, 2.1828084 , 2.23851895, 2.29422951,\n",
       "        2.3499403 , 2.40565085, 2.46136141, 2.5170722 , 2.57278275,\n",
       "        2.62849331, 2.6842041 , 2.73991466, 2.79562521, 2.851336  ,\n",
       "        2.90704656, 2.96275711, 3.0184679 , 3.07417846, 3.12988901,\n",
       "        3.1855998 , 3.24131036, 3.29702091, 3.35273147, 3.40844226,\n",
       "        3.46415281, 3.51986337, 3.57557416, 3.63128471, 3.68699527,\n",
       "        3.74270606, 3.79841661, 3.85412717, 3.90983796, 3.96554852,\n",
       "        4.02125931, 4.07696962, 4.13268042, 4.18839121, 4.24410152,\n",
       "        4.29981232, 4.35552311, 4.41123343, 4.46694422, 4.52265501,\n",
       "        4.57836533, 4.63407612, 4.68978691, 4.74549723, 4.80120802,\n",
       "        4.85691881, 4.91262913, 4.96833992, 5.02405071, 5.07976103,\n",
       "        5.13547182, 5.19118261, 5.24689293, 5.30260372, 5.35831451,\n",
       "        5.41402483, 5.46973562, 5.52544641, 5.58115673, 5.63686752,\n",
       "        5.69257832, 5.74828863, 5.80399942, 5.85971022, 5.91542053,\n",
       "        5.97113132]),\n",
       " <BarContainer object of 100 artists>)"
      ]
     },
     "execution_count": 149,
     "metadata": {},
     "output_type": "execute_result"
    },
    {
     "data": {
      "image/png": "[encoded data removed]",
      "text/plain": [
       "<Figure size 1000x1000 with 1 Axes>"
      ]
     },
     "metadata": {},
     "output_type": "display_data"
    }
   ],
   "source": [
    "plt.hist(ak.flatten(filtered_fatjets[keep3][:,0].delta_r(matched_mu[keep3])), bins = 100)\n"
   ]
  },
  {
   "cell_type": "code",
   "execution_count": 59,
   "id": "013be59c-b84b-44de-aeb3-143f300ca737",
   "metadata": {},
   "outputs": [
    {
     "data": {
      "text/plain": [
       "(array([6.9474e+04, 1.2608e+04, 3.6160e+03, 1.8460e+03, 4.1500e+02,\n",
       "        9.0000e+01, 3.1000e+01, 9.0000e+00, 5.0000e+00, 1.0000e+00]),\n",
       " array([-1. , -0.1,  0.8,  1.7,  2.6,  3.5,  4.4,  5.3,  6.2,  7.1,  8. ]),\n",
       " <BarContainer object of 10 artists>)"
      ]
     },
     "execution_count": 59,
     "metadata": {},
     "output_type": "execute_result"
    },
    {
     "data": {
      "image/png": "[encoded data removed]",
      "text/plain": [
       "<Figure size 640x480 with 1 Axes>"
      ]
     },
     "metadata": {},
     "output_type": "display_data"
    }
   ],
   "source": [
    "plt.hist(events_2J.FatJet[:,0].muonIdx3SJ)"
   ]
  },
  {
   "cell_type": "code",
   "execution_count": 22,
   "id": "6b716b8e-629c-46d1-9ed1-2157053e254d",
   "metadata": {},
   "outputs": [],
   "source": [
    "events_muon = events_2J[events_2J.FatJet[:, 0].muonIdx3SJ > -1]"
   ]
  },
  {
   "cell_type": "code",
   "execution_count": 58,
   "id": "580df077-6061-4ccf-80f9-cbcfaccb2f46",
   "metadata": {},
   "outputs": [
    {
     "data": {
      "text/plain": [
       "(array([1.2608e+04, 3.6160e+03, 1.8460e+03, 4.1500e+02, 0.0000e+00,\n",
       "        9.0000e+01, 3.1000e+01, 9.0000e+00, 5.0000e+00, 1.0000e+00]),\n",
       " array([0. , 0.8, 1.6, 2.4, 3.2, 4. , 4.8, 5.6, 6.4, 7.2, 8. ]),\n",
       " <BarContainer object of 10 artists>)"
      ]
     },
     "execution_count": 58,
     "metadata": {},
     "output_type": "execute_result"
    },
    {
     "data": {
      "image/png": "[encoded data removed]",
      "text/plain": [
       "<Figure size 640x480 with 1 Axes>"
      ]
     },
     "metadata": {},
     "output_type": "display_data"
    }
   ],
   "source": [
    "plt.hist(events_muon.FatJet[:,0].muonIdx3SJ)"
   ]
  },
  {
   "cell_type": "code",
   "execution_count": 55,
   "id": "1c8d8644-d48c-4320-b882-a40f22d6b113",
   "metadata": {},
   "outputs": [
    {
     "data": {
      "text/plain": [
       "(array([7.140e+02, 3.160e+02, 2.150e+02, 1.600e+02, 1.230e+02, 8.400e+01,\n",
       "        7.900e+01, 5.100e+01, 5.700e+01, 4.200e+01, 2.400e+01, 1.600e+01,\n",
       "        5.500e+01, 1.340e+02, 1.000e+02, 1.260e+02, 9.500e+01, 9.600e+01,\n",
       "        1.100e+02, 1.100e+02, 1.020e+02, 1.010e+02, 9.300e+01, 9.600e+01,\n",
       "        1.070e+02, 1.200e+02, 1.220e+02, 1.240e+02, 1.120e+02, 1.080e+02,\n",
       "        1.010e+02, 1.240e+02, 1.230e+02, 1.450e+02, 1.250e+02, 1.570e+02,\n",
       "        1.670e+02, 1.970e+02, 2.170e+02, 2.730e+02, 2.910e+02, 3.690e+02,\n",
       "        4.180e+02, 5.050e+02, 6.200e+02, 7.500e+02, 9.070e+02, 1.099e+03,\n",
       "        1.293e+03, 1.159e+03, 7.980e+02, 6.690e+02, 5.450e+02, 4.930e+02,\n",
       "        4.480e+02, 3.520e+02, 3.200e+02, 2.650e+02, 2.610e+02, 2.060e+02,\n",
       "        2.060e+02, 1.890e+02, 1.360e+02, 1.180e+02, 1.050e+02, 9.400e+01,\n",
       "        8.700e+01, 7.900e+01, 5.800e+01, 4.700e+01, 5.400e+01, 4.000e+01,\n",
       "        3.700e+01, 3.900e+01, 2.000e+01, 2.200e+01, 2.100e+01, 1.900e+01,\n",
       "        1.500e+01, 1.400e+01, 8.000e+00, 6.000e+00, 4.000e+00, 3.000e+00,\n",
       "        4.000e+00, 1.000e+00, 1.000e+00, 1.000e+00, 0.000e+00, 1.000e+00,\n",
       "        1.000e+00, 0.000e+00, 1.000e+00, 0.000e+00, 0.000e+00, 0.000e+00,\n",
       "        0.000e+00, 0.000e+00, 0.000e+00, 1.000e+00]),\n",
       " array([0.        , 0.06388224, 0.12776448, 0.19164671, 0.25552896,\n",
       "        0.31941119, 0.38329342, 0.44717565, 0.51105791, 0.57494015,\n",
       "        0.63882238, 0.70270461, 0.76658684, 0.83046907, 0.8943513 ,\n",
       "        0.95823354, 1.02211583, 1.08599806, 1.14988029, 1.21376252,\n",
       "        1.27764475, 1.34152699, 1.40540922, 1.46929145, 1.53317368,\n",
       "        1.59705591, 1.66093814, 1.72482038, 1.78870261, 1.85258484,\n",
       "        1.91646707, 1.9803493 , 2.04423165, 2.10811377, 2.17199612,\n",
       "        2.23587823, 2.29976058, 2.36364269, 2.42752504, 2.49140716,\n",
       "        2.55528951, 2.61917162, 2.68305397, 2.74693608, 2.81081843,\n",
       "        2.87470055, 2.9385829 , 3.00246501, 3.06634736, 3.13022947,\n",
       "        3.19411182, 3.25799417, 3.32187629, 3.38575864, 3.44964075,\n",
       "        3.5135231 , 3.57740521, 3.64128757, 3.70516968, 3.76905203,\n",
       "        3.83293414, 3.89681649, 3.9606986 , 4.02458096, 4.08846331,\n",
       "        4.15234518, 4.21622753, 4.28010988, 4.34399223, 4.40787411,\n",
       "        4.47175646, 4.53563881, 4.59952116, 4.66340303, 4.72728539,\n",
       "        4.79116774, 4.85505009, 4.91893244, 4.98281431, 5.04669666,\n",
       "        5.11057901, 5.17446136, 5.23834324, 5.30222559, 5.36610794,\n",
       "        5.42999029, 5.49387217, 5.55775452, 5.62163687, 5.68551922,\n",
       "        5.74940109, 5.81328344, 5.87716579, 5.94104815, 6.00493002,\n",
       "        6.06881237, 6.13269472, 6.19657707, 6.26045895, 6.3243413 ,\n",
       "        6.38822365]),\n",
       " <BarContainer object of 100 artists>)"
      ]
     },
     "execution_count": 55,
     "metadata": {},
     "output_type": "execute_result"
    },
    {
     "data": {
      "image/png": "[encoded data removed]",
      "text/plain": [
       "<Figure size 640x480 with 1 Axes>"
      ]
     },
     "metadata": {},
     "output_type": "display_data"
    }
   ],
   "source": [
    "plt.hist(events_muon.Muon[:,0].delta_r(events_muon.FatJet[:,1]), bins = 100)"
   ]
  },
  {
   "cell_type": "code",
   "execution_count": 51,
   "id": "3388afc2-3e55-4a6e-8103-e1e668f54790",
   "metadata": {},
   "outputs": [
    {
     "data": {
      "text/plain": [
       "4.687643903658689"
      ]
     },
     "execution_count": 51,
     "metadata": {},
     "output_type": "execute_result"
    }
   ],
   "source": [
    "i = 3424\n",
    "events_muon.Muon[i, 0].delta_r(events_muon.FatJet[i,0])"
   ]
  },
  {
   "cell_type": "code",
   "execution_count": 38,
   "id": "44e049e7-750b-437c-8adb-fdc968a47fda",
   "metadata": {},
   "outputs": [
    {
     "data": {
      "text/plain": [
       "(array([ 3521.,  9225., 13480., 16019., 16895., 13997.,  4371.,  1174.,\n",
       "          364.,    53.]),\n",
       " array([3.96728516e-03, 5.57847261e-01, 1.11172724e+00, 1.66560721e+00,\n",
       "        2.21948719e+00, 2.77336717e+00, 3.32724714e+00, 3.88112712e+00,\n",
       "        4.43500710e+00, 4.98888683e+00, 5.54276705e+00]),\n",
       " <BarContainer object of 10 artists>)"
      ]
     },
     "execution_count": 38,
     "metadata": {},
     "output_type": "execute_result"
    },
    {
     "data": {
      "image/png": "[encoded data removed]",
      "text/plain": [
       "<Figure size 640x480 with 1 Axes>"
      ]
     },
     "metadata": {},
     "output_type": "display_data"
    }
   ],
   "source": [
    "plt.hist(ak.flatten(events_muon.Muon[events_muon.FatJet[:, 0].muonIdx3SJ].delta_r(events_muon.FatJet[:,0])))"
   ]
  },
  {
   "cell_type": "code",
   "execution_count": 24,
   "id": "b2ad9574-2f06-4248-b5aa-0bc6f0da9007",
   "metadata": {},
   "outputs": [
    {
     "data": {
      "text/plain": [
       "(array([ 3521.,  9225., 13480., 16019., 16895., 13997.,  4371.,  1174.,\n",
       "          364.,    53.]),\n",
       " array([3.96728516e-03, 5.57847261e-01, 1.11172724e+00, 1.66560721e+00,\n",
       "        2.21948719e+00, 2.77336717e+00, 3.32724714e+00, 3.88112712e+00,\n",
       "        4.43500710e+00, 4.98888683e+00, 5.54276705e+00]),\n",
       " <BarContainer object of 10 artists>)"
      ]
     },
     "execution_count": 24,
     "metadata": {},
     "output_type": "execute_result"
    },
    {
     "data": {
      "image/png": "[encoded data removed]",
      "text/plain": [
       "<Figure size 640x480 with 1 Axes>"
      ]
     },
     "metadata": {},
     "output_type": "display_data"
    }
   ],
   "source": [
    "plt.hist(ak.flatten(events_muon.FatJet[:,0].delta_r(events_muon.Muon[events_muon.FatJet[:, 0].muonIdx3SJ])))"
   ]
  },
  {
   "cell_type": "code",
   "execution_count": 134,
   "id": "4756366f-81ed-4980-9c72-58e05a32b7e2",
   "metadata": {},
   "outputs": [],
   "source": [
    "\n",
    "\n",
    "events = events[(events.FatJet.mass[:,0] > 20) & (events.FatJet.matched_gen.mass[:,0] < 20) ]"
   ]
  },
  {
   "cell_type": "code",
   "execution_count": 93,
   "id": "b4261415-a667-459c-b325-07f21e7ec98c",
   "metadata": {},
   "outputs": [],
   "source": [
    "events_wmuon = events[ak.num(events.Muon)==2]"
   ]
  },
  {
   "cell_type": "code",
   "execution_count": 130,
   "id": "e46f297c-13fc-4a7f-8eba-dc3be5184870",
   "metadata": {},
   "outputs": [
    {
     "data": {
      "text/plain": [
       "masked_array(data=[ 38.03125 ,  43.09375 ,  32.21875 ,  68.9375  ,\n",
       "                    34.34375 ,  37.96875 ,  31.8125  ,  39.03125 ,\n",
       "                   249.125   ,  45.0625  ,  36.625   ,  36.34375 ,\n",
       "                    30.578125,  34.625   ,  42.0625  ,  31.78125 ,\n",
       "                    39.375   ,  35.25    ,  32.5     ,  34.      ,\n",
       "                    30.6875  ,  41.5625  ,  30.015625,  46.5     ,\n",
       "                    34.5     ,  48.6875  ,  37.375   ,  32.75    ,\n",
       "                    32.71875 ,  36.75    ],\n",
       "             mask=False,\n",
       "       fill_value=1e+20,\n",
       "            dtype=float32)"
      ]
     },
     "execution_count": 130,
     "metadata": {},
     "output_type": "execute_result"
    }
   ],
   "source": [
    "events_wmuon.FatJet[:,0].mass.to_numpy()"
   ]
  },
  {
   "cell_type": "code",
   "execution_count": 131,
   "id": "44243cba-c259-47f5-8334-a4861ee65d8d",
   "metadata": {},
   "outputs": [
    {
     "data": {
      "text/plain": [
       "masked_array(data=[18.84375  , 18.75     , 19.53125  , 19.796875 ,\n",
       "                   19.765625 , 14.96875  , 19.546875 , 18.890625 ,\n",
       "                    5.9609375, 17.953125 ,  1.9707031, 19.234375 ,\n",
       "                   15.7890625, 18.78125  , 12.7578125, 18.0625   ,\n",
       "                   19.953125 , 18.078125 , 18.84375  , 18.734375 ,\n",
       "                   19.28125  , 19.671875 , 16.59375  , 14.0546875,\n",
       "                   13.65625  , 13.296875 , 15.84375  , 18.375    ,\n",
       "                   16.8125   , 17.21875  ],\n",
       "             mask=False,\n",
       "       fill_value=1e+20,\n",
       "            dtype=float32)"
      ]
     },
     "execution_count": 131,
     "metadata": {},
     "output_type": "execute_result"
    }
   ],
   "source": [
    "events_wmuon.FatJet[:,0].matched_gen.mass.to_numpy()"
   ]
  },
  {
   "cell_type": "code",
   "execution_count": 96,
   "id": "b047da81-63b9-4c7d-861c-d83ea1cfad49",
   "metadata": {},
   "outputs": [
    {
     "data": {
      "text/plain": [
       "masked_array(data=[6, 6, 6, 6, 6, 6, 6, 6, 6, 6, 2, 6, 6, 6, 6, 6, 6, 6,\n",
       "                   6, 6, 6, 6, 6, 6, 6, 6, 6, 6, 0, 6],\n",
       "             mask=False,\n",
       "       fill_value=999999,\n",
       "            dtype=int32)"
      ]
     },
     "execution_count": 96,
     "metadata": {},
     "output_type": "execute_result"
    }
   ],
   "source": [
    "events_wmuon.FatJet[:,0].jetId.to_numpy()"
   ]
  },
  {
   "cell_type": "code",
   "execution_count": 113,
   "id": "7e5501d9-d08c-4ccf-a942-3e942f9ccd7f",
   "metadata": {},
   "outputs": [
    {
     "data": {
      "text/plain": [
       "masked_array(data=[0.9975586 , 0.99853516, 0.9682617 , 0.9614258 ,\n",
       "                   0.9970703 , 0.99853516, 0.99609375, 0.99853516,\n",
       "                   0.98828125, 0.9941406 , 0.9873047 , 0.9980469 ,\n",
       "                   0.9980469 , 0.99365234, 0.8676758 , 0.9970703 ,\n",
       "                   0.9711914 , 0.9980469 , 0.9814453 , 0.9536133 ,\n",
       "                   0.99853516, 0.99365234, 0.99609375, 0.9980469 ,\n",
       "                   0.9916992 , 0.9970703 , 0.8466797 , 0.99853516,\n",
       "                   0.9277344 , 0.99853516],\n",
       "             mask=False,\n",
       "       fill_value=1e+20,\n",
       "            dtype=float32)"
      ]
     },
     "execution_count": 113,
     "metadata": {},
     "output_type": "execute_result"
    }
   ],
   "source": [
    "events_wmuon.Jet[:,0].puIdDisc.to_numpy()"
   ]
  },
  {
   "cell_type": "code",
   "execution_count": 140,
   "id": "e2faf59d-ea2c-4e1f-a796-a1517f3e5f2b",
   "metadata": {},
   "outputs": [
    {
     "data": {
      "text/plain": [
       "Text(0, 0.5, 'counts')"
      ]
     },
     "execution_count": 140,
     "metadata": {},
     "output_type": "execute_result"
    },
    {
     "data": {
      "image/png": "[encoded data removed]",
      "text/plain": [
       "<Figure size 640x480 with 1 Axes>"
      ]
     },
     "metadata": {},
     "output_type": "display_data"
    }
   ],
   "source": [
    "import matplotlib.pyplot as plt\n",
    "plt.hist(np.abs(events_wmuon.Jet[:,0].eta), bins = 20, )\n",
    "plt.xlabel('|eta|')\n",
    "plt.ylabel('counts')"
   ]
  },
  {
   "cell_type": "code",
   "execution_count": 98,
   "id": "badc6c5e-074e-4b6f-af32-291a4a8690c9",
   "metadata": {},
   "outputs": [
    {
     "data": {
      "text/plain": [
       "masked_array(data=[7, 7, 3, 3, 7, 7, 7, 7, 7, 7, 7, 7, 7, 7, 7, 7, 7, 7,\n",
       "                   7, 3, 7, 7, 7, 7, 7, 7, 7, 7, 1, 7],\n",
       "             mask=False,\n",
       "       fill_value=999999,\n",
       "            dtype=int32)"
      ]
     },
     "execution_count": 98,
     "metadata": {},
     "output_type": "execute_result"
    }
   ],
   "source": [
    "events_wmuon.Jet[:,0].puId.to_numpy()"
   ]
  },
  {
   "cell_type": "code",
   "execution_count": 99,
   "id": "f2e1772a-bb5f-4548-aa39-0e0aa4c8ffc1",
   "metadata": {},
   "outputs": [
    {
     "data": {
      "text/html": [
       "<div>\n",
       "<style scoped>\n",
       "    .dataframe tbody tr th:only-of-type {\n",
       "        vertical-align: middle;\n",
       "    }\n",
       "\n",
       "    .dataframe tbody tr th {\n",
       "        vertical-align: top;\n",
       "    }\n",
       "\n",
       "    .dataframe thead th {\n",
       "        text-align: right;\n",
       "    }\n",
       "</style>\n",
       "<table border=\"1\" class=\"dataframe\">\n",
       "  <thead>\n",
       "    <tr style=\"text-align: right;\">\n",
       "      <th></th>\n",
       "      <th>Reco_mass</th>\n",
       "      <th>Gen_mass</th>\n",
       "      <th>event</th>\n",
       "      <th>lumi</th>\n",
       "      <th>JetID</th>\n",
       "      <th>PUIdDisc</th>\n",
       "      <th>PUId(AK4)</th>\n",
       "      <th>Ak4jet_eta</th>\n",
       "      <th>Ak8jet_eta</th>\n",
       "      <th>number of muon</th>\n",
       "    </tr>\n",
       "  </thead>\n",
       "  <tbody>\n",
       "    <tr>\n",
       "      <th>0</th>\n",
       "      <td>38.031250</td>\n",
       "      <td>18.843750</td>\n",
       "      <td>717358</td>\n",
       "      <td>98</td>\n",
       "      <td>6</td>\n",
       "      <td>0.997559</td>\n",
       "      <td>7</td>\n",
       "      <td>-1.687744</td>\n",
       "      <td>-1.687744</td>\n",
       "      <td>2</td>\n",
       "    </tr>\n",
       "    <tr>\n",
       "      <th>1</th>\n",
       "      <td>43.093750</td>\n",
       "      <td>18.750000</td>\n",
       "      <td>1282740</td>\n",
       "      <td>175</td>\n",
       "      <td>6</td>\n",
       "      <td>0.998535</td>\n",
       "      <td>7</td>\n",
       "      <td>-1.235596</td>\n",
       "      <td>-1.234375</td>\n",
       "      <td>2</td>\n",
       "    </tr>\n",
       "    <tr>\n",
       "      <th>2</th>\n",
       "      <td>32.218750</td>\n",
       "      <td>19.531250</td>\n",
       "      <td>1283127</td>\n",
       "      <td>175</td>\n",
       "      <td>6</td>\n",
       "      <td>0.968262</td>\n",
       "      <td>3</td>\n",
       "      <td>1.815430</td>\n",
       "      <td>1.810791</td>\n",
       "      <td>2</td>\n",
       "    </tr>\n",
       "    <tr>\n",
       "      <th>3</th>\n",
       "      <td>68.937500</td>\n",
       "      <td>19.796875</td>\n",
       "      <td>2296221</td>\n",
       "      <td>313</td>\n",
       "      <td>6</td>\n",
       "      <td>0.961426</td>\n",
       "      <td>3</td>\n",
       "      <td>-1.373291</td>\n",
       "      <td>-1.373779</td>\n",
       "      <td>2</td>\n",
       "    </tr>\n",
       "    <tr>\n",
       "      <th>4</th>\n",
       "      <td>34.343750</td>\n",
       "      <td>19.765625</td>\n",
       "      <td>4428909</td>\n",
       "      <td>602</td>\n",
       "      <td>6</td>\n",
       "      <td>0.997070</td>\n",
       "      <td>7</td>\n",
       "      <td>-1.604736</td>\n",
       "      <td>-1.609375</td>\n",
       "      <td>2</td>\n",
       "    </tr>\n",
       "    <tr>\n",
       "      <th>5</th>\n",
       "      <td>37.968750</td>\n",
       "      <td>14.968750</td>\n",
       "      <td>4438114</td>\n",
       "      <td>604</td>\n",
       "      <td>6</td>\n",
       "      <td>0.998535</td>\n",
       "      <td>7</td>\n",
       "      <td>0.192657</td>\n",
       "      <td>0.192505</td>\n",
       "      <td>2</td>\n",
       "    </tr>\n",
       "    <tr>\n",
       "      <th>6</th>\n",
       "      <td>31.812500</td>\n",
       "      <td>19.546875</td>\n",
       "      <td>4498563</td>\n",
       "      <td>612</td>\n",
       "      <td>6</td>\n",
       "      <td>0.996094</td>\n",
       "      <td>7</td>\n",
       "      <td>-0.986816</td>\n",
       "      <td>-0.986694</td>\n",
       "      <td>2</td>\n",
       "    </tr>\n",
       "    <tr>\n",
       "      <th>7</th>\n",
       "      <td>39.031250</td>\n",
       "      <td>18.890625</td>\n",
       "      <td>1378635</td>\n",
       "      <td>188</td>\n",
       "      <td>6</td>\n",
       "      <td>0.998535</td>\n",
       "      <td>7</td>\n",
       "      <td>1.188232</td>\n",
       "      <td>1.191895</td>\n",
       "      <td>2</td>\n",
       "    </tr>\n",
       "    <tr>\n",
       "      <th>8</th>\n",
       "      <td>249.125000</td>\n",
       "      <td>5.960938</td>\n",
       "      <td>21328088</td>\n",
       "      <td>2899</td>\n",
       "      <td>6</td>\n",
       "      <td>0.988281</td>\n",
       "      <td>7</td>\n",
       "      <td>0.043114</td>\n",
       "      <td>-1.426514</td>\n",
       "      <td>2</td>\n",
       "    </tr>\n",
       "    <tr>\n",
       "      <th>9</th>\n",
       "      <td>45.062500</td>\n",
       "      <td>17.953125</td>\n",
       "      <td>1820635</td>\n",
       "      <td>248</td>\n",
       "      <td>6</td>\n",
       "      <td>0.994141</td>\n",
       "      <td>7</td>\n",
       "      <td>-1.261719</td>\n",
       "      <td>-1.267822</td>\n",
       "      <td>2</td>\n",
       "    </tr>\n",
       "    <tr>\n",
       "      <th>10</th>\n",
       "      <td>36.625000</td>\n",
       "      <td>1.970703</td>\n",
       "      <td>22040535</td>\n",
       "      <td>2996</td>\n",
       "      <td>2</td>\n",
       "      <td>0.987305</td>\n",
       "      <td>7</td>\n",
       "      <td>0.821899</td>\n",
       "      <td>0.822144</td>\n",
       "      <td>2</td>\n",
       "    </tr>\n",
       "    <tr>\n",
       "      <th>11</th>\n",
       "      <td>36.343750</td>\n",
       "      <td>19.234375</td>\n",
       "      <td>24867615</td>\n",
       "      <td>3380</td>\n",
       "      <td>6</td>\n",
       "      <td>0.998047</td>\n",
       "      <td>7</td>\n",
       "      <td>-0.047096</td>\n",
       "      <td>-0.048782</td>\n",
       "      <td>2</td>\n",
       "    </tr>\n",
       "    <tr>\n",
       "      <th>12</th>\n",
       "      <td>30.578125</td>\n",
       "      <td>15.789062</td>\n",
       "      <td>451389</td>\n",
       "      <td>62</td>\n",
       "      <td>6</td>\n",
       "      <td>0.998047</td>\n",
       "      <td>7</td>\n",
       "      <td>0.890991</td>\n",
       "      <td>0.889648</td>\n",
       "      <td>2</td>\n",
       "    </tr>\n",
       "    <tr>\n",
       "      <th>13</th>\n",
       "      <td>34.625000</td>\n",
       "      <td>18.781250</td>\n",
       "      <td>1796466</td>\n",
       "      <td>245</td>\n",
       "      <td>6</td>\n",
       "      <td>0.993652</td>\n",
       "      <td>7</td>\n",
       "      <td>-0.809448</td>\n",
       "      <td>-0.809326</td>\n",
       "      <td>2</td>\n",
       "    </tr>\n",
       "    <tr>\n",
       "      <th>14</th>\n",
       "      <td>42.062500</td>\n",
       "      <td>12.757812</td>\n",
       "      <td>21346876</td>\n",
       "      <td>2902</td>\n",
       "      <td>6</td>\n",
       "      <td>0.867676</td>\n",
       "      <td>7</td>\n",
       "      <td>-3.263184</td>\n",
       "      <td>-3.257812</td>\n",
       "      <td>2</td>\n",
       "    </tr>\n",
       "    <tr>\n",
       "      <th>15</th>\n",
       "      <td>31.781250</td>\n",
       "      <td>18.062500</td>\n",
       "      <td>24177236</td>\n",
       "      <td>3286</td>\n",
       "      <td>6</td>\n",
       "      <td>0.997070</td>\n",
       "      <td>7</td>\n",
       "      <td>1.346436</td>\n",
       "      <td>1.345215</td>\n",
       "      <td>2</td>\n",
       "    </tr>\n",
       "    <tr>\n",
       "      <th>16</th>\n",
       "      <td>39.375000</td>\n",
       "      <td>19.953125</td>\n",
       "      <td>483724</td>\n",
       "      <td>66</td>\n",
       "      <td>6</td>\n",
       "      <td>0.971191</td>\n",
       "      <td>7</td>\n",
       "      <td>-1.729492</td>\n",
       "      <td>-1.729736</td>\n",
       "      <td>2</td>\n",
       "    </tr>\n",
       "    <tr>\n",
       "      <th>17</th>\n",
       "      <td>35.250000</td>\n",
       "      <td>18.078125</td>\n",
       "      <td>2507450</td>\n",
       "      <td>341</td>\n",
       "      <td>6</td>\n",
       "      <td>0.998047</td>\n",
       "      <td>7</td>\n",
       "      <td>-1.250244</td>\n",
       "      <td>-1.252197</td>\n",
       "      <td>2</td>\n",
       "    </tr>\n",
       "    <tr>\n",
       "      <th>18</th>\n",
       "      <td>32.500000</td>\n",
       "      <td>18.843750</td>\n",
       "      <td>15103254</td>\n",
       "      <td>2053</td>\n",
       "      <td>6</td>\n",
       "      <td>0.981445</td>\n",
       "      <td>7</td>\n",
       "      <td>-1.176270</td>\n",
       "      <td>-1.179688</td>\n",
       "      <td>2</td>\n",
       "    </tr>\n",
       "    <tr>\n",
       "      <th>19</th>\n",
       "      <td>34.000000</td>\n",
       "      <td>18.734375</td>\n",
       "      <td>16012389</td>\n",
       "      <td>2177</td>\n",
       "      <td>6</td>\n",
       "      <td>0.953613</td>\n",
       "      <td>3</td>\n",
       "      <td>-0.518799</td>\n",
       "      <td>-0.518677</td>\n",
       "      <td>2</td>\n",
       "    </tr>\n",
       "    <tr>\n",
       "      <th>20</th>\n",
       "      <td>30.687500</td>\n",
       "      <td>19.281250</td>\n",
       "      <td>16050964</td>\n",
       "      <td>2182</td>\n",
       "      <td>6</td>\n",
       "      <td>0.998535</td>\n",
       "      <td>7</td>\n",
       "      <td>-1.629883</td>\n",
       "      <td>-1.629150</td>\n",
       "      <td>2</td>\n",
       "    </tr>\n",
       "    <tr>\n",
       "      <th>21</th>\n",
       "      <td>41.562500</td>\n",
       "      <td>19.671875</td>\n",
       "      <td>17352429</td>\n",
       "      <td>2359</td>\n",
       "      <td>6</td>\n",
       "      <td>0.993652</td>\n",
       "      <td>7</td>\n",
       "      <td>-2.066895</td>\n",
       "      <td>-2.066895</td>\n",
       "      <td>2</td>\n",
       "    </tr>\n",
       "    <tr>\n",
       "      <th>22</th>\n",
       "      <td>30.015625</td>\n",
       "      <td>16.593750</td>\n",
       "      <td>25059281</td>\n",
       "      <td>3406</td>\n",
       "      <td>6</td>\n",
       "      <td>0.996094</td>\n",
       "      <td>7</td>\n",
       "      <td>-1.069092</td>\n",
       "      <td>-1.068848</td>\n",
       "      <td>2</td>\n",
       "    </tr>\n",
       "    <tr>\n",
       "      <th>23</th>\n",
       "      <td>46.500000</td>\n",
       "      <td>14.054688</td>\n",
       "      <td>26219328</td>\n",
       "      <td>3564</td>\n",
       "      <td>6</td>\n",
       "      <td>0.998047</td>\n",
       "      <td>7</td>\n",
       "      <td>0.124481</td>\n",
       "      <td>0.134033</td>\n",
       "      <td>2</td>\n",
       "    </tr>\n",
       "    <tr>\n",
       "      <th>24</th>\n",
       "      <td>34.500000</td>\n",
       "      <td>13.656250</td>\n",
       "      <td>26735722</td>\n",
       "      <td>3634</td>\n",
       "      <td>6</td>\n",
       "      <td>0.991699</td>\n",
       "      <td>7</td>\n",
       "      <td>1.447754</td>\n",
       "      <td>1.448242</td>\n",
       "      <td>2</td>\n",
       "    </tr>\n",
       "    <tr>\n",
       "      <th>25</th>\n",
       "      <td>48.687500</td>\n",
       "      <td>13.296875</td>\n",
       "      <td>26738961</td>\n",
       "      <td>3634</td>\n",
       "      <td>6</td>\n",
       "      <td>0.997070</td>\n",
       "      <td>7</td>\n",
       "      <td>1.722412</td>\n",
       "      <td>1.727783</td>\n",
       "      <td>2</td>\n",
       "    </tr>\n",
       "    <tr>\n",
       "      <th>26</th>\n",
       "      <td>37.375000</td>\n",
       "      <td>15.843750</td>\n",
       "      <td>5932159</td>\n",
       "      <td>807</td>\n",
       "      <td>6</td>\n",
       "      <td>0.846680</td>\n",
       "      <td>7</td>\n",
       "      <td>3.072266</td>\n",
       "      <td>3.071289</td>\n",
       "      <td>2</td>\n",
       "    </tr>\n",
       "    <tr>\n",
       "      <th>27</th>\n",
       "      <td>32.750000</td>\n",
       "      <td>18.375000</td>\n",
       "      <td>15747746</td>\n",
       "      <td>2141</td>\n",
       "      <td>6</td>\n",
       "      <td>0.998535</td>\n",
       "      <td>7</td>\n",
       "      <td>-0.235199</td>\n",
       "      <td>-0.235840</td>\n",
       "      <td>2</td>\n",
       "    </tr>\n",
       "    <tr>\n",
       "      <th>28</th>\n",
       "      <td>32.718750</td>\n",
       "      <td>16.812500</td>\n",
       "      <td>15790518</td>\n",
       "      <td>2147</td>\n",
       "      <td>0</td>\n",
       "      <td>0.927734</td>\n",
       "      <td>1</td>\n",
       "      <td>1.455322</td>\n",
       "      <td>1.455078</td>\n",
       "      <td>2</td>\n",
       "    </tr>\n",
       "    <tr>\n",
       "      <th>29</th>\n",
       "      <td>36.750000</td>\n",
       "      <td>17.218750</td>\n",
       "      <td>19618899</td>\n",
       "      <td>2667</td>\n",
       "      <td>6</td>\n",
       "      <td>0.998535</td>\n",
       "      <td>7</td>\n",
       "      <td>-1.548340</td>\n",
       "      <td>-1.551270</td>\n",
       "      <td>2</td>\n",
       "    </tr>\n",
       "  </tbody>\n",
       "</table>\n",
       "</div>"
      ],
      "text/plain": [
       "     Reco_mass   Gen_mass     event  lumi  JetID  PUIdDisc  PUId(AK4)  \\\n",
       "0    38.031250  18.843750    717358    98      6  0.997559          7   \n",
       "1    43.093750  18.750000   1282740   175      6  0.998535          7   \n",
       "2    32.218750  19.531250   1283127   175      6  0.968262          3   \n",
       "3    68.937500  19.796875   2296221   313      6  0.961426          3   \n",
       "4    34.343750  19.765625   4428909   602      6  0.997070          7   \n",
       "5    37.968750  14.968750   4438114   604      6  0.998535          7   \n",
       "6    31.812500  19.546875   4498563   612      6  0.996094          7   \n",
       "7    39.031250  18.890625   1378635   188      6  0.998535          7   \n",
       "8   249.125000   5.960938  21328088  2899      6  0.988281          7   \n",
       "9    45.062500  17.953125   1820635   248      6  0.994141          7   \n",
       "10   36.625000   1.970703  22040535  2996      2  0.987305          7   \n",
       "11   36.343750  19.234375  24867615  3380      6  0.998047          7   \n",
       "12   30.578125  15.789062    451389    62      6  0.998047          7   \n",
       "13   34.625000  18.781250   1796466   245      6  0.993652          7   \n",
       "14   42.062500  12.757812  21346876  2902      6  0.867676          7   \n",
       "15   31.781250  18.062500  24177236  3286      6  0.997070          7   \n",
       "16   39.375000  19.953125    483724    66      6  0.971191          7   \n",
       "17   35.250000  18.078125   2507450   341      6  0.998047          7   \n",
       "18   32.500000  18.843750  15103254  2053      6  0.981445          7   \n",
       "19   34.000000  18.734375  16012389  2177      6  0.953613          3   \n",
       "20   30.687500  19.281250  16050964  2182      6  0.998535          7   \n",
       "21   41.562500  19.671875  17352429  2359      6  0.993652          7   \n",
       "22   30.015625  16.593750  25059281  3406      6  0.996094          7   \n",
       "23   46.500000  14.054688  26219328  3564      6  0.998047          7   \n",
       "24   34.500000  13.656250  26735722  3634      6  0.991699          7   \n",
       "25   48.687500  13.296875  26738961  3634      6  0.997070          7   \n",
       "26   37.375000  15.843750   5932159   807      6  0.846680          7   \n",
       "27   32.750000  18.375000  15747746  2141      6  0.998535          7   \n",
       "28   32.718750  16.812500  15790518  2147      0  0.927734          1   \n",
       "29   36.750000  17.218750  19618899  2667      6  0.998535          7   \n",
       "\n",
       "    Ak4jet_eta  Ak8jet_eta  number of muon  \n",
       "0    -1.687744   -1.687744               2  \n",
       "1    -1.235596   -1.234375               2  \n",
       "2     1.815430    1.810791               2  \n",
       "3    -1.373291   -1.373779               2  \n",
       "4    -1.604736   -1.609375               2  \n",
       "5     0.192657    0.192505               2  \n",
       "6    -0.986816   -0.986694               2  \n",
       "7     1.188232    1.191895               2  \n",
       "8     0.043114   -1.426514               2  \n",
       "9    -1.261719   -1.267822               2  \n",
       "10    0.821899    0.822144               2  \n",
       "11   -0.047096   -0.048782               2  \n",
       "12    0.890991    0.889648               2  \n",
       "13   -0.809448   -0.809326               2  \n",
       "14   -3.263184   -3.257812               2  \n",
       "15    1.346436    1.345215               2  \n",
       "16   -1.729492   -1.729736               2  \n",
       "17   -1.250244   -1.252197               2  \n",
       "18   -1.176270   -1.179688               2  \n",
       "19   -0.518799   -0.518677               2  \n",
       "20   -1.629883   -1.629150               2  \n",
       "21   -2.066895   -2.066895               2  \n",
       "22   -1.069092   -1.068848               2  \n",
       "23    0.124481    0.134033               2  \n",
       "24    1.447754    1.448242               2  \n",
       "25    1.722412    1.727783               2  \n",
       "26    3.072266    3.071289               2  \n",
       "27   -0.235199   -0.235840               2  \n",
       "28    1.455322    1.455078               2  \n",
       "29   -1.548340   -1.551270               2  "
      ]
     },
     "execution_count": 99,
     "metadata": {},
     "output_type": "execute_result"
    }
   ],
   "source": [
    "import pandas as pd\n",
    "\n",
    "# Assuming you already have these arrays\n",
    "fatjet_mass = events_wmuon.FatJet[:, 0].mass.to_numpy()\n",
    "matched_gen_mass = events_wmuon.FatJet[:, 0].matched_gen.mass.to_numpy()\n",
    "jet_id = events_wmuon.FatJet[:, 0].jetId.to_numpy()\n",
    "pu_id_disc = events_wmuon.Jet[:, 0].puIdDisc.to_numpy()\n",
    "pu_id = events_wmuon.Jet[:, 0].puId.to_numpy()\n",
    "jet_eta = events_wmuon.Jet[:, 0].eta.to_numpy()\n",
    "eta = events_wmuon.FatJet[:, 0].eta.to_numpy()\n",
    "event_number = events_wmuon.event.to_numpy()\n",
    "lumi = events_wmuon.luminosityBlock.to_numpy()\n",
    "n_muon = ak.num(events_wmuon.Muon, axis = 1)\n",
    "# Create DataFrame\n",
    "df = pd.DataFrame({\n",
    "    'Reco_mass': fatjet_mass,\n",
    "    'Gen_mass': matched_gen_mass,\n",
    "    'event': event_number,\n",
    "    'lumi' : lumi,\n",
    "    'JetID': jet_id,\n",
    "    'PUIdDisc': pu_id_disc,\n",
    "    'PUId(AK4)': pu_id,\n",
    "    'Ak4jet_eta': jet_eta,\n",
    "    'Ak8jet_eta': eta,\n",
    "    'number of muon': n_muon\n",
    "    \n",
    "})\n",
    "\n",
    "# Show table\n",
    "df"
   ]
  },
  {
   "cell_type": "code",
   "execution_count": 56,
   "id": "be2d5cc1-2f13-42db-a5fc-3e01389f12c5",
   "metadata": {},
   "outputs": [],
   "source": [
    "e = 306\n",
    "m = 20"
   ]
  },
  {
   "cell_type": "code",
   "execution_count": 57,
   "id": "baa0d78d-7c78-4a45-b9ba-b28ca5dc6bac",
   "metadata": {},
   "outputs": [
    {
     "data": {
      "text/plain": [
       "299.994059274513"
      ]
     },
     "execution_count": 57,
     "metadata": {},
     "output_type": "execute_result"
    }
   ],
   "source": [
    "e = 300.66\n",
    "np.sqrt(e**2 - m**2)"
   ]
  },
  {
   "cell_type": "code",
   "execution_count": 31,
   "id": "7b07620a-7aef-4169-a0bc-4a227212e942",
   "metadata": {},
   "outputs": [
    {
     "data": {
      "text/plain": [
       "<Array [-1.69, -1.23, 1.81, ... 1.46, -1.55] type='30 * ?float32[parameters={\"__...'>"
      ]
     },
     "execution_count": 31,
     "metadata": {},
     "output_type": "execute_result"
    }
   ],
   "source": [
    "events_wmuon.FatJet[:,0].eta"
   ]
  },
  {
   "cell_type": "code",
   "execution_count": 32,
   "id": "8a046277-cb87-4c2f-a6fe-038bced55c48",
   "metadata": {},
   "outputs": [
    {
     "data": {
      "text/plain": [
       "[717358,\n",
       " 1282740,\n",
       " 1283127,\n",
       " 2296221,\n",
       " 4428909,\n",
       " 4438114,\n",
       " 4498563,\n",
       " 1378635,\n",
       " 21328088,\n",
       " 1820635,\n",
       " 22040535,\n",
       " 24867615,\n",
       " 451389,\n",
       " 1796466,\n",
       " 21346876,\n",
       " 24177236,\n",
       " 483724,\n",
       " 2507450,\n",
       " 15103254,\n",
       " 16012389,\n",
       " 16050964,\n",
       " 17352429,\n",
       " 25059281,\n",
       " 26219328,\n",
       " 26735722,\n",
       " 26738961,\n",
       " 5932159,\n",
       " 15747746,\n",
       " 15790518,\n",
       " 19618899]"
      ]
     },
     "execution_count": 32,
     "metadata": {},
     "output_type": "execute_result"
    }
   ],
   "source": [
    "events_wmuon.event.to_list()"
   ]
  },
  {
   "cell_type": "code",
   "execution_count": 40,
   "id": "99da727d-c24e-40a7-9099-2d547df58f26",
   "metadata": {},
   "outputs": [
    {
     "data": {
      "text/plain": [
       "[98,\n",
       " 175,\n",
       " 175,\n",
       " 313,\n",
       " 602,\n",
       " 604,\n",
       " 612,\n",
       " 188,\n",
       " 2899,\n",
       " 248,\n",
       " 2996,\n",
       " 3380,\n",
       " 62,\n",
       " 245,\n",
       " 2902,\n",
       " 3286,\n",
       " 66,\n",
       " 341,\n",
       " 2053,\n",
       " 2177,\n",
       " 2182,\n",
       " 2359,\n",
       " 3406,\n",
       " 3564,\n",
       " 3634,\n",
       " 3634,\n",
       " 807,\n",
       " 2141,\n",
       " 2147,\n",
       " 2667]"
      ]
     },
     "execution_count": 40,
     "metadata": {},
     "output_type": "execute_result"
    }
   ],
   "source": [
    "events_wmuon.luminosityBlock.to_list()"
   ]
  },
  {
   "cell_type": "code",
   "execution_count": 14,
   "id": "00fccbbc-a398-4431-88aa-6becfc244be3",
   "metadata": {},
   "outputs": [
    {
     "data": {
      "text/plain": [
       "<Array [41.6, 38, 43.1, ... 39.4, 205, 31.2] type='113 * ?float32[parameters={\"_...'>"
      ]
     },
     "execution_count": 14,
     "metadata": {},
     "output_type": "execute_result"
    }
   ],
   "source": [
    "events.FatJet[:,0].mass"
   ]
  },
  {
   "cell_type": "code",
   "execution_count": 18,
   "id": "d116209d-8d5a-468b-b540-b0271afbaefb",
   "metadata": {},
   "outputs": [
    {
     "data": {
      "text/plain": [
       "<Array [1, 1, 1, 1, 1, 1, ... 1, 1, 1, 1, 1, 1] type='113 * ?uint32[parameters={...'>"
      ]
     },
     "execution_count": 18,
     "metadata": {},
     "output_type": "execute_result"
    }
   ],
   "source": [
    "events.run"
   ]
  },
  {
   "cell_type": "code",
   "execution_count": 16,
   "id": "2e39af17-24c2-4a99-8ada-9c2a426e5c32",
   "metadata": {},
   "outputs": [
    {
     "data": {
      "text/plain": [
       "<Array [715154, 717358, ... 12013440, 12015346] type='113 * ?uint64[parameters={...'>"
      ]
     },
     "execution_count": 16,
     "metadata": {},
     "output_type": "execute_result"
    }
   ],
   "source": [
    "events.event"
   ]
  },
  {
   "cell_type": "code",
   "execution_count": 17,
   "id": "aa520d63-fc63-48ad-acc4-f442b26443ea",
   "metadata": {},
   "outputs": [
    {
     "data": {
      "text/plain": [
       "<Array [98, 98, 175, 175, ... 1633, 1633, 1633] type='113 * ?uint32[parameters={...'>"
      ]
     },
     "execution_count": 17,
     "metadata": {},
     "output_type": "execute_result"
    }
   ],
   "source": [
    "events.luminosityBlock"
   ]
  },
  {
   "cell_type": "code",
   "execution_count": 15,
   "id": "7469ac11-43f3-4339-9de2-22e2082e6010",
   "metadata": {},
   "outputs": [
    {
     "data": {
      "text/plain": [
       "<Array [15.7, 18.8, 18.8, ... 19.2, 17.9, 18.8] type='113 * ?float32[parameters=...'>"
      ]
     },
     "execution_count": 15,
     "metadata": {},
     "output_type": "execute_result"
    }
   ],
   "source": [
    "events.FatJet[:,0].matched_gen.mass"
   ]
  },
  {
   "cell_type": "code",
   "execution_count": 11,
   "id": "2156f587-3621-44e3-83a8-2c5d7b6e9ad5",
   "metadata": {},
   "outputs": [
    {
     "data": {
      "text/plain": [
       "<Array [0, 0, 0, 0, 2, 0, ... 0, 0, 0, -1, 0] type='239 * ?int32[parameters={\"__...'>"
      ]
     },
     "execution_count": 11,
     "metadata": {},
     "output_type": "execute_result"
    }
   ],
   "source": [
    "events.FatJet[:,0].subJetIdx1"
   ]
  },
  {
   "cell_type": "code",
   "execution_count": 261,
   "id": "ffcea7ea-a744-4729-9ac9-2f594f602315",
   "metadata": {},
   "outputs": [
    {
     "data": {
      "text/plain": [
       "(array([115.,  51.,  31.,  17.,   8.,   4.,   5.,   2.,   0.,   0.,   0.,\n",
       "          1.,   0.,   0.,   0.,   0.,   0.,   0.,   0.,   0.,   0.,   0.,\n",
       "          0.,   0.,   0.,   0.,   0.,   0.,   0.,   0.,   0.,   0.,   0.,\n",
       "          0.,   0.,   0.,   0.,   0.,   0.,   0.,   0.,   0.,   0.,   0.,\n",
       "          0.,   0.,   0.,   0.,   0.,   0.,   0.,   0.,   0.,   0.,   0.,\n",
       "          0.,   1.,   0.,   0.,   0.,   0.,   0.,   0.,   0.,   1.,   0.,\n",
       "          0.,   0.,   0.,   0.,   1.,   0.,   0.,   0.,   0.,   0.,   0.,\n",
       "          0.,   0.,   0.,   0.,   0.,   0.,   0.,   0.,   1.,   0.,   0.,\n",
       "          0.,   0.,   0.,   0.,   0.,   0.,   0.,   0.,   0.,   0.,   0.,\n",
       "          1.]),\n",
       " array([0.00069053, 0.00499708, 0.00930362, 0.01361016, 0.0179167 ,\n",
       "        0.02222325, 0.02652979, 0.03083633, 0.03514287, 0.03944941,\n",
       "        0.04375596, 0.0480625 , 0.05236904, 0.05667558, 0.06098212,\n",
       "        0.06528866, 0.06959521, 0.07390175, 0.07820829, 0.08251484,\n",
       "        0.08682138, 0.09112792, 0.09543446, 0.099741  , 0.10404754,\n",
       "        0.10835408, 0.11266063, 0.11696717, 0.12127371, 0.12558025,\n",
       "        0.12988679, 0.13419335, 0.13849989, 0.14280643, 0.14711297,\n",
       "        0.15141951, 0.15572605, 0.1600326 , 0.16433914, 0.16864568,\n",
       "        0.17295222, 0.17725876, 0.1815653 , 0.18587184, 0.19017839,\n",
       "        0.19448493, 0.19879147, 0.20309801, 0.20740455, 0.21171109,\n",
       "        0.21601763, 0.22032419, 0.22463073, 0.22893727, 0.23324381,\n",
       "        0.23755035, 0.24185689, 0.24616344, 0.25046998, 0.25477651,\n",
       "        0.25908306, 0.26338962, 0.26769614, 0.2720027 , 0.27630922,\n",
       "        0.28061578, 0.2849223 , 0.28922886, 0.29353541, 0.29784194,\n",
       "        0.30214849, 0.30645502, 0.31076157, 0.3150681 , 0.31937465,\n",
       "        0.32368121, 0.32798773, 0.33229429, 0.33660081, 0.34090737,\n",
       "        0.34521389, 0.34952044, 0.353827  , 0.35813352, 0.36244008,\n",
       "        0.3667466 , 0.37105316, 0.37535971, 0.37966624, 0.38397279,\n",
       "        0.38827932, 0.39258587, 0.3968924 , 0.40119895, 0.40550551,\n",
       "        0.40981203, 0.41411859, 0.41842511, 0.42273167, 0.42703819,\n",
       "        0.43134475]),\n",
       " <BarContainer object of 100 artists>)"
      ]
     },
     "execution_count": 261,
     "metadata": {},
     "output_type": "execute_result"
    },
    {
     "data": {
      "image/png": "[encoded data removed]",
      "text/plain": [
       "<Figure size 640x480 with 1 Axes>"
      ]
     },
     "metadata": {},
     "output_type": "display_data"
    }
   ],
   "source": [
    "plt.hist(events.FatJet[:,0].delta_r(events.FatJet[:,0].matched_gen), bins = 100)"
   ]
  },
  {
   "cell_type": "code",
   "execution_count": 250,
   "id": "0a2bd149-6a9f-4963-b17b-138437a84c5c",
   "metadata": {},
   "outputs": [],
   "source": [
    "from python.smp_utils import find_closest_dr"
   ]
  },
  {
   "cell_type": "code",
   "execution_count": 251,
   "id": "bbc371af-6c63-46cb-af8e-192d83546a9e",
   "metadata": {},
   "outputs": [
    {
     "data": {
      "text/plain": [
       "<Array [[-1.01, -1.04, ... -0.938, -0.945]] type='88371 * var * float32[paramete...'>"
      ]
     },
     "execution_count": 251,
     "metadata": {},
     "output_type": "execute_result"
    }
   ],
   "source": [
    "subjet1 = events.SubJet[events.FatJet[:,0].subJetIdx1]\n",
    "subjet1.eta"
   ]
  },
  {
   "cell_type": "code",
   "execution_count": 252,
   "id": "a0f3fb49-8bf7-4518-b0aa-06a31dfa5efd",
   "metadata": {},
   "outputs": [],
   "source": [
    "closest_jet, dr = find_closest_dr(subjet1, events.Jet)"
   ]
  },
  {
   "cell_type": "code",
   "execution_count": 253,
   "id": "1cafe140-7760-4101-b60d-37f3a90c6985",
   "metadata": {},
   "outputs": [
    {
     "data": {
      "text/plain": [
       "<Array [-0.935, 0.454, ... -0.891, -1.08] type='88371 * ?float32[parameters={\"__...'>"
      ]
     },
     "execution_count": 253,
     "metadata": {},
     "output_type": "execute_result"
    }
   ],
   "source": [
    "closest_jet.eta"
   ]
  },
  {
   "cell_type": "code",
   "execution_count": 254,
   "id": "0abb9f4f-b79b-4ec1-b6a8-5426352703fe",
   "metadata": {},
   "outputs": [
    {
     "data": {
      "text/plain": [
       "<Array [[-1.01, -1.04, ... -0.938, -0.945]] type='88371 * var * float32[paramete...'>"
      ]
     },
     "execution_count": 254,
     "metadata": {},
     "output_type": "execute_result"
    }
   ],
   "source": [
    "subjet1.eta"
   ]
  },
  {
   "cell_type": "code",
   "execution_count": 256,
   "id": "a1d572ae-e8ae-443a-83fd-b1940ee914d4",
   "metadata": {},
   "outputs": [
    {
     "data": {
      "text/plain": [
       "(array([3.3670e+03, 8.8630e+03, 1.2030e+04, 1.2810e+04, 1.2194e+04,\n",
       "        1.0789e+04, 8.8320e+03, 6.8840e+03, 4.6040e+03, 3.1010e+03,\n",
       "        1.9480e+03, 1.1910e+03, 7.9100e+02, 4.2300e+02, 2.6700e+02,\n",
       "        1.4200e+02, 7.4000e+01, 3.7000e+01, 1.8000e+01, 6.0000e+00]),\n",
       " array([0.        , 0.15000001, 0.30000001, 0.44999999, 0.60000002,\n",
       "        0.75      , 0.89999998, 1.04999995, 1.20000005, 1.35000002,\n",
       "        1.5       , 1.64999998, 1.79999995, 1.95000005, 2.0999999 ,\n",
       "        2.25      , 2.4000001 , 2.54999995, 2.70000005, 2.8499999 ,\n",
       "        3.        ]),\n",
       " <BarContainer object of 20 artists>)"
      ]
     },
     "execution_count": 256,
     "metadata": {},
     "output_type": "execute_result"
    },
    {
     "data": {
      "image/png": "[encoded data removed]",
      "text/plain": [
       "<Figure size 640x480 with 1 Axes>"
      ]
     },
     "metadata": {},
     "output_type": "display_data"
    }
   ],
   "source": [
    "plt.hist(dr, bins = 20, range = (0,3))\n",
    "\n",
    "\n",
    "## Look at jets when d"
   ]
  },
  {
   "cell_type": "code",
   "execution_count": 230,
   "id": "fc189b2f-cfcc-4c55-9662-ec008406e785",
   "metadata": {},
   "outputs": [
    {
     "data": {
      "text/plain": [
       "Text(0.5, 0, 'puIdDisc')"
      ]
     },
     "execution_count": 230,
     "metadata": {},
     "output_type": "execute_result"
    },
    {
     "data": {
      "image/png": "[encoded data removed]",
      "text/plain": [
       "<Figure size 640x480 with 1 Axes>"
      ]
     },
     "metadata": {},
     "output_type": "display_data"
    }
   ],
   "source": [
    "plt.hist(closest_jet.puIdDisc)\n",
    "plt.xlabel(\"puIdDisc\")"
   ]
  },
  {
   "cell_type": "code",
   "execution_count": null,
   "id": "4d7e850f-1b2b-4ec1-8f21-a7a48c33a728",
   "metadata": {},
   "outputs": [],
   "source": [
    "plt.hist(.mass)"
   ]
  },
  {
   "cell_type": "code",
   "execution_count": 231,
   "id": "502df561-f3c8-4219-9006-ce50ee787293",
   "metadata": {},
   "outputs": [
    {
     "data": {
      "text/plain": [
       "(array([90., 42., 41., 36., 15.,  6.,  6.,  0.,  2.,  1.]),\n",
       " array([ 0.11151123,  8.73785973, 17.36420822, 25.99055862, 34.61690521,\n",
       "        43.24325562, 51.86960602, 60.49595261, 69.12229919, 77.7486496 ,\n",
       "        86.375     ]),\n",
       " <BarContainer object of 10 artists>)"
      ]
     },
     "execution_count": 231,
     "metadata": {},
     "output_type": "execute_result"
    },
    {
     "data": {
      "image/png": "[encoded data removed]",
      "text/plain": [
       "<Figure size 640x480 with 1 Axes>"
      ]
     },
     "metadata": {},
     "output_type": "display_data"
    }
   ],
   "source": [
    "plt.hist(closest_jet.mass)"
   ]
  },
  {
   "cell_type": "code",
   "execution_count": 246,
   "id": "2478f236-08b8-4ccd-b924-127725467bdc",
   "metadata": {},
   "outputs": [
    {
     "data": {
      "text/plain": [
       "<matplotlib.legend.Legend at 0x7fbd6c2dea10>"
      ]
     },
     "execution_count": 246,
     "metadata": {},
     "output_type": "execute_result"
    },
    {
     "data": {
      "image/png": "[encoded data removed]",
      "text/plain": [
       "<Figure size 640x480 with 1 Axes>"
      ]
     },
     "metadata": {},
     "output_type": "display_data"
    }
   ],
   "source": [
    "plt.hist(events.FatJet[:,0].mass, bins = 100, label = \"no dr cut\")\n",
    "plt.hist(events[(dr < 0.1)  ].FatJet[:,0].mass, bins = 100, label = \"matched \")\n",
    "plt.hist(events[(dr < 0.1) & (closest_jet.puId > 0  ) ].FatJet[:,0].mass, bins = 100, label = \"matched and non pileup\")\n",
    "\n",
    "plt.legend()"
   ]
  },
  {
   "cell_type": "code",
   "execution_count": 244,
   "id": "382afc0d-5ef7-4028-9b14-604d8ed11bfc",
   "metadata": {},
   "outputs": [
    {
     "data": {
      "text/plain": [
       "(array([ 2.,  9., 14., 23., 27., 18., 19., 17., 18., 10.]),\n",
       " array([0.        , 0.1       , 0.2       , 0.30000001, 0.40000001,\n",
       "        0.5       , 0.60000002, 0.69999999, 0.80000001, 0.89999998,\n",
       "        1.        ]),\n",
       " <BarContainer object of 10 artists>)"
      ]
     },
     "execution_count": 244,
     "metadata": {},
     "output_type": "execute_result"
    },
    {
     "data": {
      "image/png": "[encoded data removed]",
      "text/plain": [
       "<Figure size 640x480 with 1 Axes>"
      ]
     },
     "metadata": {},
     "output_type": "display_data"
    }
   ],
   "source": [
    "sel = closest_jet.puId > 0\n",
    "plt.hist(np.abs(events[sel].FatJet[:,0].mass - events[sel].FatJet[:,0].matched_gen.mass )/events[sel].FatJet[:,0].matched_gen.mass, range  = (0,1))"
   ]
  },
  {
   "cell_type": "code",
   "execution_count": 245,
   "id": "3aebfc67-1048-4752-9bc8-27a699bb9ee9",
   "metadata": {},
   "outputs": [
    {
     "data": {
      "text/plain": [
       "(array([0., 0., 0., 0., 0., 0., 0., 1., 2., 1.]),\n",
       " array([0.        , 0.1       , 0.2       , 0.30000001, 0.40000001,\n",
       "        0.5       , 0.60000002, 0.69999999, 0.80000001, 0.89999998,\n",
       "        1.        ]),\n",
       " <BarContainer object of 10 artists>)"
      ]
     },
     "execution_count": 245,
     "metadata": {},
     "output_type": "execute_result"
    },
    {
     "data": {
      "image/png": "[encoded data removed]",
      "text/plain": [
       "<Figure size 640x480 with 1 Axes>"
      ]
     },
     "metadata": {},
     "output_type": "display_data"
    }
   ],
   "source": [
    "sel = closest_jet.puId == 0\n",
    "plt.hist(np.abs(events[sel].FatJet[:,0].mass - events[sel].FatJet[:,0].matched_gen.mass )/events[sel].FatJet[:,0].matched_gen.mass, range  = (0,1))"
   ]
  },
  {
   "cell_type": "code",
   "execution_count": null,
   "id": "5d5607f7-c3b0-4dbc-8825-cca1ba6a2e4b",
   "metadata": {},
   "outputs": [],
   "source": [
    "plt.hist(events.FatJet[:,0].mass, bins = 100, label = \"no dr cut\")\n",
    "plt.hist(events[(dr < 0.4) & * ].FatJet[:,0].mass, bins = 100, label = \"matched\")\n",
    "\n",
    "plt.legend()"
   ]
  },
  {
   "cell_type": "code",
   "execution_count": 229,
   "id": "d1c70b4c-611a-4ea3-957c-b0f096353358",
   "metadata": {},
   "outputs": [
    {
     "data": {
      "text/plain": [
       "Text(0.5, 0, 'puIdDisc')"
      ]
     },
     "execution_count": 229,
     "metadata": {},
     "output_type": "execute_result"
    },
    {
     "data": {
      "image/png": "[encoded data removed]",
      "text/plain": [
       "<Figure size 640x480 with 1 Axes>"
      ]
     },
     "metadata": {},
     "output_type": "display_data"
    }
   ],
   "source": [
    "plt.hist(closest_jet[dr < 0.4].puIdDisc)\n",
    "plt.xlabel(\"puIdDisc\")"
   ]
  },
  {
   "cell_type": "code",
   "execution_count": 225,
   "id": "e76cf591-d967-4d92-b498-dd698099f0d4",
   "metadata": {},
   "outputs": [
    {
     "data": {
      "text/plain": [
       "Text(0.5, 0, 'puId')"
      ]
     },
     "execution_count": 225,
     "metadata": {},
     "output_type": "execute_result"
    },
    {
     "data": {
      "image/png": "[encoded data removed]",
      "text/plain": [
       "<Figure size 640x480 with 1 Axes>"
      ]
     },
     "metadata": {},
     "output_type": "display_data"
    }
   ],
   "source": [
    "plt.hist(closest_jet[dr < 0.4].puId)\n",
    "plt.xlabel(\"puId\")"
   ]
  },
  {
   "cell_type": "code",
   "execution_count": 226,
   "id": "8fd44891-94b6-496e-82b2-351542f0704b",
   "metadata": {},
   "outputs": [
    {
     "data": {
      "text/plain": [
       "Text(0.5, 0, 'neHEF')"
      ]
     },
     "execution_count": 226,
     "metadata": {},
     "output_type": "execute_result"
    },
    {
     "data": {
      "image/png": "[encoded data removed]",
      "text/plain": [
       "<Figure size 640x480 with 1 Axes>"
      ]
     },
     "metadata": {},
     "output_type": "display_data"
    }
   ],
   "source": [
    "plt.hist(closest_jet[dr < 0.4].neHEF)\n",
    "plt.xlabel(\"neHEF\")"
   ]
  },
  {
   "cell_type": "code",
   "execution_count": 227,
   "id": "e070c88f-97cf-4151-83f4-fa3c1e54acf9",
   "metadata": {},
   "outputs": [
    {
     "data": {
      "text/plain": [
       "Text(0.5, 0, 'neHEF')"
      ]
     },
     "execution_count": 227,
     "metadata": {},
     "output_type": "execute_result"
    },
    {
     "data": {
      "image/png": "[encoded data removed]",
      "text/plain": [
       "<Figure size 640x480 with 1 Axes>"
      ]
     },
     "metadata": {},
     "output_type": "display_data"
    }
   ],
   "source": [
    "plt.hist(closest_jet[dr < 0.4].neEmEF)\n",
    "plt.xlabel(\"neHEF\")"
   ]
  },
  {
   "cell_type": "code",
   "execution_count": null,
   "id": "0634701c-58dd-4e71-8d3f-0eb2c15187bb",
   "metadata": {},
   "outputs": [],
   "source": [
    "def find_closest_dr( a, coll , verbose = False):\n",
    "    '''\n",
    "    Find the objects within coll that are closest to a. \n",
    "    Return it and the delta R between it and a.\n",
    "    '''\n",
    "    combs = ak.cartesian( (a, coll), axis=1 )\n",
    "    dr = combs['0'].delta_r(combs['1'])\n",
    "    dr_min = ak.singletons( ak.argmin( dr, axis=1 ) )\n",
    "    sel = combs[dr_min]['1']\n",
    "    return ak.firsts(sel),ak.firsts(dr[dr_min])"
   ]
  },
  {
   "cell_type": "code",
   "execution_count": 182,
   "id": "05486c2c-6e33-4198-8611-88c98c5778e4",
   "metadata": {},
   "outputs": [
    {
     "data": {
      "text/plain": [
       "<Array [[2.91, 2.94, 0.245, ... -0.15, -0.181]] type='239 * option[var * float32...'>"
      ]
     },
     "execution_count": 182,
     "metadata": {},
     "output_type": "execute_result"
    }
   ],
   "source": [
    "subjet1.phi"
   ]
  },
  {
   "cell_type": "code",
   "execution_count": 185,
   "id": "287acc50-261a-41ee-8525-0a617397a3d6",
   "metadata": {},
   "outputs": [
    {
     "data": {
      "text/plain": [
       "<Array [[2.92, 0.389, -2.35, ... 0.668, -2.25]] type='239 * option[var * float32...'>"
      ]
     },
     "execution_count": 185,
     "metadata": {},
     "output_type": "execute_result"
    }
   ],
   "source": [
    "events.Jet.phi"
   ]
  },
  {
   "cell_type": "code",
   "execution_count": 175,
   "id": "3234aea1-827f-487a-8611-59d48f56e7c3",
   "metadata": {},
   "outputs": [
    {
     "data": {
      "text/plain": [
       "<Array [1, 1, 1, 1, 3, -1, ... 1, 1, 1, -1, 1] type='239 * ?int32[parameters={\"_...'>"
      ]
     },
     "execution_count": 175,
     "metadata": {},
     "output_type": "execute_result"
    }
   ],
   "source": [
    "events.FatJet[:,0].subJetIdx2"
   ]
  },
  {
   "cell_type": "code",
   "execution_count": null,
   "id": "ecaf0ddf-f222-41a9-bb85-96df5251453e",
   "metadata": {},
   "outputs": [],
   "source": [
    "events.FatJet[:,0]."
   ]
  },
  {
   "cell_type": "code",
   "execution_count": 134,
   "id": "b2f65219-c08d-4a8f-8f0f-90bb349296ea",
   "metadata": {},
   "outputs": [
    {
     "data": {
      "text/plain": [
       "(array([ 15.,  28., 118.,  70.,   0.,   3.,   2.,   1.,   0.,   0.,   1.,\n",
       "          0.,   0.,   0.,   0.,   0.,   0.,   1.,   0.,   0.]),\n",
       " array([  0.,   5.,  10.,  15.,  20.,  25.,  30.,  35.,  40.,  45.,  50.,\n",
       "         55.,  60.,  65.,  70.,  75.,  80.,  85.,  90.,  95., 100.]),\n",
       " <BarContainer object of 20 artists>)"
      ]
     },
     "execution_count": 134,
     "metadata": {},
     "output_type": "execute_result"
    },
    {
     "data": {
      "image/png": "[encoded data removed]",
      "text/plain": [
       "<Figure size 640x480 with 1 Axes>"
      ]
     },
     "metadata": {},
     "output_type": "display_data"
    }
   ],
   "source": [
    "import matplotlib.pyplot as plt\n",
    "plt.hist(events.Jet[:,0].mass, range = (0, 100), alpha = 1, bins = 20)\n",
    "plt.hist(events.Jet[:,0].matched_gen.mass, range = (0, 100), alpha = 1, bins = 20)"
   ]
  },
  {
   "cell_type": "code",
   "execution_count": 136,
   "id": "5554df75-1194-4b41-9b69-25754a3fcea3",
   "metadata": {},
   "outputs": [
    {
     "data": {
      "text/plain": [
       "(array([  3.,   5.,  38., 193.,   0.,   0.,   0.,   0.,   0.,   0.,   0.,\n",
       "          0.,   0.,   0.,   0.,   0.,   0.,   0.,   0.,   0.]),\n",
       " array([  0.,   5.,  10.,  15.,  20.,  25.,  30.,  35.,  40.,  45.,  50.,\n",
       "         55.,  60.,  65.,  70.,  75.,  80.,  85.,  90.,  95., 100.]),\n",
       " <BarContainer object of 20 artists>)"
      ]
     },
     "execution_count": 136,
     "metadata": {},
     "output_type": "execute_result"
    },
    {
     "data": {
      "image/png": "[encoded data removed]",
      "text/plain": [
       "<Figure size 640x480 with 1 Axes>"
      ]
     },
     "metadata": {},
     "output_type": "display_data"
    }
   ],
   "source": [
    "import matplotlib.pyplot as plt\n",
    "plt.hist(events.FatJet[:,0].mass, range = (0, 100), alpha = 1, bins = 20)\n",
    "plt.hist(events.FatJet[:,0].matched_gen.mass, range = (0, 100), alpha = 1, bins = 20)"
   ]
  },
  {
   "cell_type": "code",
   "execution_count": 155,
   "id": "714d289a-6771-4138-9941-788c36a2d5f5",
   "metadata": {},
   "outputs": [
    {
     "name": "stdout",
     "output_type": "stream",
     "text": [
      "[-1.53] [1.39] [760] [1.83e+03] [1.83e+03] [22.8]\n",
      "[-1.53] [1.39] [673] [1.62e+03] [1.62e+03] [0.357]\n"
     ]
    }
   ],
   "source": [
    "\n",
    "i = 13\n",
    "eta = events.FatJet[i:i+1,0].eta\n",
    "phi = events.FatJet[i:i+1,0].phi\n",
    "pt = events.FatJet[i:i+1,0].pt\n",
    "m = events.FatJet[i:i+1,0].mass\n",
    "p = events.FatJet[i:i+1,0].p\n",
    "e = events.FatJet[i:i+1,0].E\n",
    "\n",
    "print(eta, phi, pt, p,e, m)\n",
    "\n",
    "eta = events.FatJet[i:i+1,0].matched_gen.eta\n",
    "phi = events.FatJet[i:i+1,0].matched_gen.phi\n",
    "pt = events.FatJet[i:i+1,0].matched_gen.pt\n",
    "m = events.FatJet[i:i+1,0].matched_gen.mass\n",
    "p = events.FatJet[i:i+1,0].matched_gen.p\n",
    "e = events.FatJet[i:i+1,0].matched_gen.E\n",
    "\n",
    "print(eta, phi, pt,p, e, m)"
   ]
  },
  {
   "cell_type": "code",
   "execution_count": 153,
   "id": "f92eeb54-7969-4526-9550-837e582b3e81",
   "metadata": {},
   "outputs": [
    {
     "name": "stdout",
     "output_type": "stream",
     "text": [
      "[-1.76] [-1.08] [353] [1.05e+03] [1.05e+03] [31]\n",
      "[-1.74] [-1.09] [347] [1.02e+03] [1.02e+03] [16.9]\n"
     ]
    }
   ],
   "source": []
  },
  {
   "cell_type": "code",
   "execution_count": 103,
   "id": "f711b9df-7d16-4cf1-a21c-3fa560ca9620",
   "metadata": {},
   "outputs": [
    {
     "data": {
      "text/plain": [
       "(array([15., 34., 74., 69., 36.,  8.,  3.,  0.,  0.,  2.]),\n",
       " array([ 3.,  9., 15., 21., 27., 33., 39., 45., 51., 57., 63.]),\n",
       " <BarContainer object of 10 artists>)"
      ]
     },
     "execution_count": 103,
     "metadata": {},
     "output_type": "execute_result"
    },
    {
     "data": {
      "image/png": "[encoded data removed]",
      "text/plain": [
       "<Figure size 640x480 with 1 Axes>"
      ]
     },
     "metadata": {},
     "output_type": "display_data"
    }
   ],
   "source": [
    "plt.hist(events.FatJet[:,0].nConstituents)"
   ]
  },
  {
   "cell_type": "code",
   "execution_count": 105,
   "id": "06cf7ac2-f76f-4bcc-a773-812d254aa14c",
   "metadata": {},
   "outputs": [
    {
     "data": {
      "text/plain": [
       "(array([  4.,   0.,   0.,  14.,   0.,   0.,   0.,   0.,   0., 223.]),\n",
       " array([0. , 0.6, 1.2, 1.8, 2.4, 3. , 3.6, 4.2, 4.8, 5.4, 6. ]),\n",
       " <BarContainer object of 10 artists>)"
      ]
     },
     "execution_count": 105,
     "metadata": {},
     "output_type": "execute_result"
    },
    {
     "data": {
      "image/png": "[encoded data removed]",
      "text/plain": [
       "<Figure size 640x480 with 1 Axes>"
      ]
     },
     "metadata": {},
     "output_type": "display_data"
    }
   ],
   "source": [
    "plt.hist(events.FatJet[:,0].jetId)"
   ]
  },
  {
   "cell_type": "code",
   "execution_count": 116,
   "id": "fd9a6ce4-8917-4af9-95f8-28229dd2e222",
   "metadata": {},
   "outputs": [
    {
     "data": {
      "text/plain": [
       "<Array [] type='0 * option[var * {}]'>"
      ]
     },
     "execution_count": 116,
     "metadata": {},
     "output_type": "execute_result"
    }
   ],
   "source": [
    "events.FatJet.systematics"
   ]
  },
  {
   "cell_type": "code",
   "execution_count": 123,
   "id": "28dae9da-67eb-43e5-9ca7-d821890210d0",
   "metadata": {},
   "outputs": [
    {
     "data": {
      "text/plain": [
       "(array([210.,  22.,   2.,   2.,   2.,   0.,   0.,   1.,   0.,   1.]),\n",
       " array([-3.05175781e-05,  3.86559749e+00,  7.73122549e+00,  1.15968533e+01,\n",
       "         1.54624815e+01,  1.93281097e+01,  2.31937370e+01,  2.70593662e+01,\n",
       "         3.09249935e+01,  3.47906227e+01,  3.86562500e+01]),\n",
       " <BarContainer object of 10 artists>)"
      ]
     },
     "execution_count": 123,
     "metadata": {},
     "output_type": "execute_result"
    },
    {
     "data": {
      "image/png": "[encoded data removed]",
      "text/plain": [
       "<Figure size 640x480 with 1 Axes>"
      ]
     },
     "metadata": {},
     "output_type": "display_data"
    }
   ],
   "source": []
  },
  {
   "cell_type": "code",
   "execution_count": 115,
   "id": "6da85924-244f-493f-972a-ef2a4bdac067",
   "metadata": {},
   "outputs": [
    {
     "data": {
      "text/plain": [
       "(array([233.,   4.,   0.,   0.,   0.,   2.,   0.,   0.,   0.,   2.]),\n",
       " array([ -1.        ,  24.14999962,  49.29999924,  74.44999695,\n",
       "         99.59999847, 124.75      , 149.8999939 , 175.05000305,\n",
       "        200.19999695, 225.3500061 , 250.5       ]),\n",
       " <BarContainer object of 10 artists>)"
      ]
     },
     "execution_count": 115,
     "metadata": {},
     "output_type": "execute_result"
    },
    {
     "data": {
      "image/png": "[encoded data removed]",
      "text/plain": [
       "<Figure size 640x480 with 1 Axes>"
      ]
     },
     "metadata": {},
     "output_type": "display_data"
    }
   ],
   "source": [
    "plt.hist(events.FatJet[:,0].msoftdrop)"
   ]
  },
  {
   "cell_type": "code",
   "execution_count": 68,
   "id": "58dba78c-562c-4d12-bf1b-da706412ecde",
   "metadata": {},
   "outputs": [],
   "source": [
    "import uproot\n",
    "file = uproot.open(file_path)\n",
    "events = file['Events']"
   ]
  },
  {
   "cell_type": "code",
   "execution_count": null,
   "id": "a44ff0ff-0d4e-40be-ae24-86df54da0113",
   "metadata": {},
   "outputs": [],
   "source": []
  },
  {
   "cell_type": "code",
   "execution_count": 74,
   "id": "ce5ae787-6a46-4b93-8c8c-85b91b045d03",
   "metadata": {},
   "outputs": [
    {
     "data": {
      "text/plain": [
       "<Array [[26, 25], [30, ... 30, 36, 58, 39, 41]] type='88374 * var * uint8'>"
      ]
     },
     "execution_count": 74,
     "metadata": {},
     "output_type": "execute_result"
    }
   ],
   "source": [
    "events['FatJet_nConstituents'].array()"
   ]
  },
  {
   "cell_type": "code",
   "execution_count": 27,
   "id": "f0a8c286-895e-4d47-818a-05db9fb93d79",
   "metadata": {
    "scrolled": true
   },
   "outputs": [],
   "source": [
    "mask = np.array(masks['2017'](events.run, events.luminosityBlock))"
   ]
  },
  {
   "cell_type": "code",
   "execution_count": 30,
   "id": "514be240-ec77-4148-85ab-2ca70dacdbd5",
   "metadata": {},
   "outputs": [
    {
     "data": {
      "text/plain": [
       "<Array [305064, 305064, ... 306459, 306459] type='2041396 * uint32[parameters={\"...'>"
      ]
     },
     "execution_count": 30,
     "metadata": {},
     "output_type": "execute_result"
    }
   ],
   "source": [
    "events.run"
   ]
  },
  {
   "cell_type": "code",
   "execution_count": 29,
   "id": "198e1556-d542-4026-8513-2323d4baefdb",
   "metadata": {},
   "outputs": [
    {
     "data": {
      "text/plain": [
       "<Array [1145, 1145, 1145, ... 764, 764, 764] type='2041396 * uint32[parameters={...'>"
      ]
     },
     "execution_count": 29,
     "metadata": {},
     "output_type": "execute_result"
    }
   ],
   "source": [
    "events.luminosityBlock"
   ]
  },
  {
   "cell_type": "code",
   "execution_count": 31,
   "id": "c11a1319-5154-44e8-bd3b-3f16ec0b3435",
   "metadata": {},
   "outputs": [
    {
     "data": {
      "text/plain": [
       "<NanoEventsArray [<event 305064:1145:1579364524>, ... ] type='1942640 * event'>"
      ]
     },
     "execution_count": 31,
     "metadata": {},
     "output_type": "execute_result"
    }
   ],
   "source": [
    "events[mask]"
   ]
  },
  {
   "cell_type": "code",
   "execution_count": 34,
   "id": "f40067ae-cad7-4a43-8c9d-764a3a7e6887",
   "metadata": {},
   "outputs": [
    {
     "name": "stdout",
     "output_type": "stream",
     "text": [
      "Len of all events 2041396\n",
      "len of masked events 1942640\n"
     ]
    }
   ],
   "source": [
    "print(\"Len of all events\", len(events))\n",
    "print(\"len of masked events\", len(events[mask]))"
   ]
  },
  {
   "cell_type": "code",
   "execution_count": 15,
   "id": "cc65a332-3ffa-4631-80b8-848a5cccf636",
   "metadata": {},
   "outputs": [],
   "source": [
    "sel = (ak.sum(events.GenJetAK8.pt > 200, axis  = 1) > 0 ) \n",
    "\n"
   ]
  },
  {
   "cell_type": "code",
   "execution_count": 16,
   "id": "dd3f8b1e-c575-4dff-b00d-907ef59b44ad",
   "metadata": {},
   "outputs": [],
   "source": [
    "filtered_events = events[ sel ] [5:10]\n",
    "\n",
    "fe = filtered_events"
   ]
  },
  {
   "cell_type": "code",
   "execution_count": 17,
   "id": "013f47f8-d204-4989-a6ff-64ffd94c7b1a",
   "metadata": {},
   "outputs": [
    {
     "name": "stdout",
     "output_type": "stream",
     "text": [
      "[0.143, 0.143, 0.143, 0.143, 0.143, 0.143, 0.143, 0.143, 0.143, 0.143]\n"
     ]
    }
   ],
   "source": [
    "print(events[:10].LHEWeight.originalXWGTUP)"
   ]
  },
  {
   "cell_type": "code",
   "execution_count": 19,
   "id": "263e172c-c97c-483b-bb9f-16910261079a",
   "metadata": {},
   "outputs": [
    {
     "data": {
      "text/plain": [
       "3746932.9039999996"
      ]
     },
     "execution_count": 19,
     "metadata": {},
     "output_type": "execute_result"
    }
   ],
   "source": [
    "26202328*0.143"
   ]
  },
  {
   "cell_type": "code",
   "execution_count": null,
   "id": "db8183dd-056a-4819-bded-673244ce2dc7",
   "metadata": {},
   "outputs": [],
   "source": [
    "print(events[:10].LHEWeight.originalXWGTUP)"
   ]
  },
  {
   "cell_type": "code",
   "execution_count": 52,
   "id": "cb654b41-c0cd-4b62-88c7-7ace1ef84e42",
   "metadata": {},
   "outputs": [
    {
     "name": "stdout",
     "output_type": "stream",
     "text": [
      "Fatjet pt [[358.25], [305.75, 179.75], [265.75, 189.25], [218.375, 205.0], [234.0]]\n",
      "Electron pt [[109.0477294921875, 17.337961196899414], [45.84010696411133], [], [], []]\n",
      "Muon pt [[], [3721.96240234375, 33.4672966003418, 22.563199996948242], [], [31.33032989501953], [34.57164764404297]]\n"
     ]
    }
   ],
   "source": [
    "print(\"Fatjet pt\", fe.FatJet.pt.to_list())\n",
    "print(\"Electron pt\", fe.Electron.pt.to_list())\n",
    "print(\"Muon pt\", fe.Muon.pt.to_list())"
   ]
  },
  {
   "cell_type": "code",
   "execution_count": 69,
   "id": "4a371942-4fb3-4ac8-9979-5861ea4751e8",
   "metadata": {},
   "outputs": [
    {
     "name": "stdout",
     "output_type": "stream",
     "text": [
      "[[358, 358], [306, 180], [], [], []]\n",
      "D phi [[-2.74, 2.4], [-2.73, 0.587], [], [], []]\n",
      "[[-2.74, 2.4], [-2.73, 0.587], [500, 500], [500, 500], [500]]\n",
      "[[False, True], [False, True], [], [], []]\n",
      "after correction [[False, True], [False, True], [True, True], [True, True], [True]]\n"
     ]
    }
   ],
   "source": [
    "comb = ak.cartesian((fe.FatJet, fe.Electron))\n",
    "print(comb['0'].pt)\n",
    "print(\"D phi\", comb['0'].delta_phi(comb['1']))\n",
    "delta_phi = comb['0'].delta_phi(comb['1'])\n",
    "sel = delta_phi > 0\n",
    "print(ak.where(ak.num(delta_phi, axis = 1) == 0 , ak.full_like(fe.FatJet.pt, 500 ), delta_phi ))\n",
    "print(sel > 0)\n",
    "print('after correction', ak.where(ak.num(sel, axis = 1) == 0 , ak.full_like(fe.FatJet.pt, True , dtype=bool), sel ))"
   ]
  },
  {
   "cell_type": "code",
   "execution_count": 81,
   "id": "092e45a0-8348-4b2a-9dea-766ff4095ab9",
   "metadata": {},
   "outputs": [
    {
     "name": "stdout",
     "output_type": "stream",
     "text": [
      "[[False], [False, True], None, None, None]\n",
      "[[False], [False, True], [True, True], [True, True], [True]]\n"
     ]
    }
   ],
   "source": [
    "leading_lepton = ak.firsts(fe.Electron)\n",
    "delta_phi_mask = fe.FatJet.delta_phi(leading_lepton) >0\n",
    "print(delta_phi_mask)\n",
    "\n",
    "delta_phi_mask = ak.where(ak.is_none(delta_phi_mask), ak.full_like(fe.FatJet.pt, True, dtype=bool), delta_phi_mask)\n",
    "print(delta_phi_mask)\n"
   ]
  },
  {
   "cell_type": "code",
   "execution_count": 80,
   "id": "c9d0c3d6-b97c-4ea9-a26d-7364d6a0cae8",
   "metadata": {},
   "outputs": [
    {
     "data": {
      "text/plain": [
       "<Array [[False], [False, ... None, None, None] type='5 * option[var * bool]'>"
      ]
     },
     "execution_count": 80,
     "metadata": {},
     "output_type": "execute_result"
    }
   ],
   "source": []
  },
  {
   "cell_type": "code",
   "execution_count": 57,
   "id": "eaf5fba6-21c8-4b17-bef3-2abb2f8cffa4",
   "metadata": {},
   "outputs": [],
   "source": [
    "from coffea.lookup_tools import extractor"
   ]
  },
  {
   "cell_type": "code",
   "execution_count": 63,
   "id": "13d3cf0f-9a5c-43fc-abd7-41333983fda9",
   "metadata": {},
   "outputs": [
    {
     "name": "stdout",
     "output_type": "stream",
     "text": [
      "In the DATA section\n",
      "File correctionFiles/JEC/Summer19UL17_RunF_V6_DATA/Summer19UL17_RunF_V6_DATA_L1FastJet_AK8PFPuppi.jec.txt exists:  True\n",
      "File correctionFiles/JEC/Summer19UL17_RunF_V6_DATA/Summer19UL17_RunF_V6_DATA_L2Relative_AK8PFPuppi.jec.txt exists:  True\n",
      "File correctionFiles/JEC/Summer19UL17_RunF_V6_DATA/Summer19UL17_RunF_V6_DATA_L3Absolute_AK8PFPuppi.jec.txt exists:  True\n",
      "File correctionFiles/JEC/Summer19UL17_RunF_V6_DATA/Summer19UL17_RunF_V6_DATA_L2L3Residual_AK8PFPuppi.jec.txt exists:  True\n"
     ]
    },
    {
     "ename": "FileNotFoundError",
     "evalue": "[Errno 2] No such file or directory: 'correctionFiles/JEC/Summer19UL17_RunF_V6_DATA/Summer19UL17_RunF_V6_DATA_L1FastJetg_AK8PFPuppi.jec.txt'",
     "output_type": "error",
     "traceback": [
      "\u001b[0;31m---------------------------------------------------------------------------\u001b[0m",
      "\u001b[0;31mFileNotFoundError\u001b[0m                         Traceback (most recent call last)",
      "Cell \u001b[0;32mIn[63], line 11\u001b[0m\n\u001b[1;32m      8\u001b[0m \u001b[38;5;28mprint\u001b[39m(\u001b[38;5;124m\"\u001b[39m\u001b[38;5;124mFile \u001b[39m\u001b[38;5;124m\"\u001b[39m\u001b[38;5;241m+\u001b[39m\u001b[38;5;124m'\u001b[39m\u001b[38;5;124mcorrectionFiles/JEC/\u001b[39m\u001b[38;5;132;01m{0}\u001b[39;00m\u001b[38;5;124m/\u001b[39m\u001b[38;5;132;01m{0}\u001b[39;00m\u001b[38;5;124m_L3Absolute_\u001b[39m\u001b[38;5;132;01m{1}\u001b[39;00m\u001b[38;5;124m.jec.txt\u001b[39m\u001b[38;5;124m'\u001b[39m\u001b[38;5;241m.\u001b[39mformat(\u001b[38;5;124m\"\u001b[39m\u001b[38;5;124mSummer19UL17_RunF_V6_DATA\u001b[39m\u001b[38;5;124m\"\u001b[39m, AK_str)\u001b[38;5;241m+\u001b[39m\u001b[38;5;124m\"\u001b[39m\u001b[38;5;124m exists: \u001b[39m\u001b[38;5;124m\"\u001b[39m, os\u001b[38;5;241m.\u001b[39mpath\u001b[38;5;241m.\u001b[39mexists(\u001b[38;5;124m'\u001b[39m\u001b[38;5;124mcorrectionFiles/JEC/\u001b[39m\u001b[38;5;132;01m{0}\u001b[39;00m\u001b[38;5;124m/\u001b[39m\u001b[38;5;132;01m{0}\u001b[39;00m\u001b[38;5;124m_L3Absolute_\u001b[39m\u001b[38;5;132;01m{1}\u001b[39;00m\u001b[38;5;124m.jec.txt\u001b[39m\u001b[38;5;124m'\u001b[39m\u001b[38;5;241m.\u001b[39mformat(\u001b[38;5;124m\"\u001b[39m\u001b[38;5;124mSummer19UL17_RunF_V6_DATA\u001b[39m\u001b[38;5;124m\"\u001b[39m, AK_str)))\n\u001b[1;32m      9\u001b[0m \u001b[38;5;28mprint\u001b[39m(\u001b[38;5;124m\"\u001b[39m\u001b[38;5;124mFile \u001b[39m\u001b[38;5;124m\"\u001b[39m\u001b[38;5;241m+\u001b[39m\u001b[38;5;124m'\u001b[39m\u001b[38;5;124mcorrectionFiles/JEC/\u001b[39m\u001b[38;5;132;01m{0}\u001b[39;00m\u001b[38;5;124m/\u001b[39m\u001b[38;5;132;01m{0}\u001b[39;00m\u001b[38;5;124m_L2L3Residual_\u001b[39m\u001b[38;5;132;01m{1}\u001b[39;00m\u001b[38;5;124m.jec.txt\u001b[39m\u001b[38;5;124m'\u001b[39m\u001b[38;5;241m.\u001b[39mformat(\u001b[38;5;124m\"\u001b[39m\u001b[38;5;124mSummer19UL17_RunF_V6_DATA\u001b[39m\u001b[38;5;124m\"\u001b[39m, AK_str)\u001b[38;5;241m+\u001b[39m\u001b[38;5;124m\"\u001b[39m\u001b[38;5;124m exists: \u001b[39m\u001b[38;5;124m\"\u001b[39m, os\u001b[38;5;241m.\u001b[39mpath\u001b[38;5;241m.\u001b[39mexists(\u001b[38;5;124m'\u001b[39m\u001b[38;5;124mcorrectionFiles/JEC/\u001b[39m\u001b[38;5;132;01m{0}\u001b[39;00m\u001b[38;5;124m/\u001b[39m\u001b[38;5;132;01m{0}\u001b[39;00m\u001b[38;5;124m_L2L3Residual_\u001b[39m\u001b[38;5;132;01m{1}\u001b[39;00m\u001b[38;5;124m.jec.txt\u001b[39m\u001b[38;5;124m'\u001b[39m\u001b[38;5;241m.\u001b[39mformat(\u001b[38;5;124m\"\u001b[39m\u001b[38;5;124mSummer19UL17_RunF_V6_DATA\u001b[39m\u001b[38;5;124m\"\u001b[39m, AK_str)))\n\u001b[0;32m---> 11\u001b[0m \u001b[43mext\u001b[49m\u001b[38;5;241;43m.\u001b[39;49m\u001b[43madd_weight_sets\u001b[49m\u001b[43m(\u001b[49m\u001b[43m[\u001b[49m\n\u001b[1;32m     12\u001b[0m \u001b[38;5;124;43m'\u001b[39;49m\u001b[38;5;124;43m* * \u001b[39;49m\u001b[38;5;124;43m'\u001b[39;49m\u001b[38;5;241;43m+\u001b[39;49m\u001b[38;5;124;43m'\u001b[39;49m\u001b[38;5;124;43mcorrectionFiles/JEC/\u001b[39;49m\u001b[38;5;132;43;01m{0}\u001b[39;49;00m\u001b[38;5;124;43m/\u001b[39;49m\u001b[38;5;132;43;01m{0}\u001b[39;49;00m\u001b[38;5;124;43m_L1FastJetg_\u001b[39;49m\u001b[38;5;132;43;01m{1}\u001b[39;49;00m\u001b[38;5;124;43m.jec.txt\u001b[39;49m\u001b[38;5;124;43m'\u001b[39;49m\u001b[38;5;241;43m.\u001b[39;49m\u001b[43mformat\u001b[49m\u001b[43m(\u001b[49m\u001b[43mtag\u001b[49m\u001b[43m,\u001b[49m\u001b[43m \u001b[49m\u001b[43mAK_str\u001b[49m\u001b[43m)\u001b[49m\u001b[43m,\u001b[49m\n\u001b[1;32m     13\u001b[0m \u001b[38;5;124;43m'\u001b[39;49m\u001b[38;5;124;43m* * \u001b[39;49m\u001b[38;5;124;43m'\u001b[39;49m\u001b[38;5;241;43m+\u001b[39;49m\u001b[38;5;124;43m'\u001b[39;49m\u001b[38;5;124;43mcorrectionFiles/JEC/\u001b[39;49m\u001b[38;5;132;43;01m{0}\u001b[39;49;00m\u001b[38;5;124;43m/\u001b[39;49m\u001b[38;5;132;43;01m{0}\u001b[39;49;00m\u001b[38;5;124;43m_L2Relative_\u001b[39;49m\u001b[38;5;132;43;01m{1}\u001b[39;49;00m\u001b[38;5;124;43m.jec.txt\u001b[39;49m\u001b[38;5;124;43m'\u001b[39;49m\u001b[38;5;241;43m.\u001b[39;49m\u001b[43mformat\u001b[49m\u001b[43m(\u001b[49m\u001b[43mtag\u001b[49m\u001b[43m,\u001b[49m\u001b[43m \u001b[49m\u001b[43mAK_str\u001b[49m\u001b[43m)\u001b[49m\u001b[43m,\u001b[49m\n\u001b[1;32m     14\u001b[0m \u001b[38;5;124;43m'\u001b[39;49m\u001b[38;5;124;43m* * \u001b[39;49m\u001b[38;5;124;43m'\u001b[39;49m\u001b[38;5;241;43m+\u001b[39;49m\u001b[38;5;124;43m'\u001b[39;49m\u001b[38;5;124;43mcorrectionFiles/JEC/\u001b[39;49m\u001b[38;5;132;43;01m{0}\u001b[39;49;00m\u001b[38;5;124;43m/\u001b[39;49m\u001b[38;5;132;43;01m{0}\u001b[39;49;00m\u001b[38;5;124;43m_L3Absolute_\u001b[39;49m\u001b[38;5;132;43;01m{1}\u001b[39;49;00m\u001b[38;5;124;43m.jec.txt\u001b[39;49m\u001b[38;5;124;43m'\u001b[39;49m\u001b[38;5;241;43m.\u001b[39;49m\u001b[43mformat\u001b[49m\u001b[43m(\u001b[49m\u001b[43mtag\u001b[49m\u001b[43m,\u001b[49m\u001b[43m \u001b[49m\u001b[43mAK_str\u001b[49m\u001b[43m)\u001b[49m\u001b[43m,\u001b[49m\n\u001b[1;32m     15\u001b[0m \u001b[38;5;124;43m'\u001b[39;49m\u001b[38;5;124;43m* * \u001b[39;49m\u001b[38;5;124;43m'\u001b[39;49m\u001b[38;5;241;43m+\u001b[39;49m\u001b[38;5;124;43m'\u001b[39;49m\u001b[38;5;124;43mcorrectionFiles/JEC/\u001b[39;49m\u001b[38;5;132;43;01m{0}\u001b[39;49;00m\u001b[38;5;124;43m/\u001b[39;49m\u001b[38;5;132;43;01m{0}\u001b[39;49;00m\u001b[38;5;124;43m_L2L3Residual_\u001b[39;49m\u001b[38;5;132;43;01m{1}\u001b[39;49;00m\u001b[38;5;124;43m.jec.txt\u001b[39;49m\u001b[38;5;124;43m'\u001b[39;49m\u001b[38;5;241;43m.\u001b[39;49m\u001b[43mformat\u001b[49m\u001b[43m(\u001b[49m\u001b[43mtag\u001b[49m\u001b[43m,\u001b[49m\u001b[43m \u001b[49m\u001b[43mAK_str\u001b[49m\u001b[43m)\u001b[49m\u001b[43m,\u001b[49m\n\u001b[1;32m     16\u001b[0m \u001b[43m]\u001b[49m\u001b[43m)\u001b[49m\n\u001b[1;32m     18\u001b[0m \u001b[38;5;28mprint\u001b[39m(\u001b[38;5;124m\"\u001b[39m\u001b[38;5;124mAdded JEC weight sets\u001b[39m\u001b[38;5;124m\"\u001b[39m)\n",
      "File \u001b[0;32m/opt/conda/lib/python3.10/site-packages/coffea/lookup_tools/extractor.py:99\u001b[0m, in \u001b[0;36mextractor.add_weight_sets\u001b[0;34m(self, weightsdescs)\u001b[0m\n\u001b[1;32m     97\u001b[0m (local_name, name, thefile) \u001b[38;5;241m=\u001b[39m \u001b[38;5;28mtuple\u001b[39m(temp)\n\u001b[1;32m     98\u001b[0m \u001b[38;5;28;01mif\u001b[39;00m name \u001b[38;5;241m==\u001b[39m \u001b[38;5;124m\"\u001b[39m\u001b[38;5;124m*\u001b[39m\u001b[38;5;124m\"\u001b[39m:\n\u001b[0;32m---> 99\u001b[0m     \u001b[38;5;28;43mself\u001b[39;49m\u001b[38;5;241;43m.\u001b[39;49m\u001b[43mimport_file\u001b[49m\u001b[43m(\u001b[49m\u001b[43mthefile\u001b[49m\u001b[43m)\u001b[49m\n\u001b[1;32m    100\u001b[0m     weights \u001b[38;5;241m=\u001b[39m \u001b[38;5;28mself\u001b[39m\u001b[38;5;241m.\u001b[39m_filecache[thefile]\n\u001b[1;32m    101\u001b[0m     \u001b[38;5;28;01mfor\u001b[39;00m key, value \u001b[38;5;129;01min\u001b[39;00m weights\u001b[38;5;241m.\u001b[39mitems():\n",
      "File \u001b[0;32m/opt/conda/lib/python3.10/site-packages/coffea/lookup_tools/extractor.py:132\u001b[0m, in \u001b[0;36mextractor.import_file\u001b[0;34m(self, thefile)\u001b[0m\n\u001b[1;32m    130\u001b[0m \u001b[38;5;28;01mif\u001b[39;00m \u001b[38;5;124m\"\u001b[39m\u001b[38;5;124m_L5Flavor_\u001b[39m\u001b[38;5;124m\"\u001b[39m \u001b[38;5;129;01min\u001b[39;00m thefile \u001b[38;5;129;01mand\u001b[39;00m \u001b[38;5;124m\"\u001b[39m\u001b[38;5;124ml5flavor\u001b[39m\u001b[38;5;124m\"\u001b[39m \u001b[38;5;129;01min\u001b[39;00m file_converters[theformat]:\n\u001b[1;32m    131\u001b[0m     thetype \u001b[38;5;241m=\u001b[39m \u001b[38;5;124m\"\u001b[39m\u001b[38;5;124ml5flavor\u001b[39m\u001b[38;5;124m\"\u001b[39m\n\u001b[0;32m--> 132\u001b[0m \u001b[38;5;28mself\u001b[39m\u001b[38;5;241m.\u001b[39m_filecache[thefile] \u001b[38;5;241m=\u001b[39m \u001b[43mfile_converters\u001b[49m\u001b[43m[\u001b[49m\u001b[43mtheformat\u001b[49m\u001b[43m]\u001b[49m\u001b[43m[\u001b[49m\u001b[43mthetype\u001b[49m\u001b[43m]\u001b[49m\u001b[43m(\u001b[49m\u001b[43mthefile\u001b[49m\u001b[43m)\u001b[49m\n",
      "File \u001b[0;32m/opt/conda/lib/python3.10/site-packages/coffea/lookup_tools/txt_converters.py:249\u001b[0m, in \u001b[0;36m_convert_standard_jme_txt_file\u001b[0;34m(jmeFilePath)\u001b[0m\n\u001b[1;32m    248\u001b[0m \u001b[38;5;28;01mdef\u001b[39;00m \u001b[38;5;21m_convert_standard_jme_txt_file\u001b[39m(jmeFilePath):\n\u001b[0;32m--> 249\u001b[0m     \u001b[38;5;28;01mreturn\u001b[39;00m _build_standard_jme_lookup(\u001b[38;5;241m*\u001b[39m\u001b[43m_parse_jme_formatted_file\u001b[49m\u001b[43m(\u001b[49m\u001b[43mjmeFilePath\u001b[49m\u001b[43m)\u001b[49m)\n",
      "File \u001b[0;32m/opt/conda/lib/python3.10/site-packages/coffea/lookup_tools/txt_converters.py:27\u001b[0m, in \u001b[0;36m_parse_jme_formatted_file\u001b[0;34m(jmeFilePath, interpolatedFunc, parmsFromColumns, jme_f)\u001b[0m\n\u001b[1;32m     25\u001b[0m fopen \u001b[38;5;241m=\u001b[39m \u001b[38;5;28mopen\u001b[39m\n\u001b[1;32m     26\u001b[0m fmode \u001b[38;5;241m=\u001b[39m \u001b[38;5;124m\"\u001b[39m\u001b[38;5;124mrt\u001b[39m\u001b[38;5;124m\"\u001b[39m\n\u001b[0;32m---> 27\u001b[0m \u001b[38;5;28;01mif\u001b[39;00m \u001b[43mis_gz_file\u001b[49m\u001b[43m(\u001b[49m\u001b[43mjmeFilePath\u001b[49m\u001b[43m)\u001b[49m:\n\u001b[1;32m     28\u001b[0m     \u001b[38;5;28;01mimport\u001b[39;00m \u001b[38;5;21;01mgzip\u001b[39;00m\n\u001b[1;32m     30\u001b[0m     fopen \u001b[38;5;241m=\u001b[39m gzip\u001b[38;5;241m.\u001b[39mopen\n",
      "File \u001b[0;32m/opt/conda/lib/python3.10/site-packages/coffea/lookup_tools/txt_converters.py:17\u001b[0m, in \u001b[0;36mis_gz_file\u001b[0;34m(filename)\u001b[0m\n\u001b[1;32m     16\u001b[0m \u001b[38;5;28;01mdef\u001b[39;00m \u001b[38;5;21mis_gz_file\u001b[39m(filename):\n\u001b[0;32m---> 17\u001b[0m     \u001b[38;5;28;01mwith\u001b[39;00m \u001b[38;5;28;43mopen\u001b[39;49m\u001b[43m(\u001b[49m\u001b[43mfilename\u001b[49m\u001b[43m,\u001b[49m\u001b[43m \u001b[49m\u001b[38;5;124;43m\"\u001b[39;49m\u001b[38;5;124;43mrb\u001b[39;49m\u001b[38;5;124;43m\"\u001b[39;49m\u001b[43m)\u001b[49m \u001b[38;5;28;01mas\u001b[39;00m f:\n\u001b[1;32m     18\u001b[0m         \u001b[38;5;28;01mreturn\u001b[39;00m f\u001b[38;5;241m.\u001b[39mread(\u001b[38;5;241m2\u001b[39m) \u001b[38;5;241m==\u001b[39m \u001b[38;5;124mb\u001b[39m\u001b[38;5;124m\"\u001b[39m\u001b[38;5;130;01m\\x1f\u001b[39;00m\u001b[38;5;130;01m\\x8b\u001b[39;00m\u001b[38;5;124m\"\u001b[39m\n",
      "\u001b[0;31mFileNotFoundError\u001b[0m: [Errno 2] No such file or directory: 'correctionFiles/JEC/Summer19UL17_RunF_V6_DATA/Summer19UL17_RunF_V6_DATA_L1FastJetg_AK8PFPuppi.jec.txt'"
     ]
    }
   ],
   "source": [
    "import os\n",
    "ext = extractor()\n",
    "AK_str = \"AK8PFPuppi\"\n",
    "tag = \"Summer19UL17_RunF_V6_DATA\"\n",
    "print(\"In the DATA section\")\n",
    "print(\"File \"+'correctionFiles/JEC/{0}/{0}_L1FastJet_{1}.jec.txt'.format(\"Summer19UL17_RunF_V6_DATA\", AK_str)+\" exists: \", os.path.exists('correctionFiles/JEC/{0}/{0}_L1FastJet_{1}.jec.txt'.format(\"Summer19UL17_RunF_V6_DATA\", AK_str)))\n",
    "print(\"File \"+'correctionFiles/JEC/{0}/{0}_L2Relative_{1}.jec.txt'.format(\"Summer19UL17_RunF_V6_DATA\", AK_str)+\" exists: \", os.path.exists('correctionFiles/JEC/{0}/{0}_L2Relative_{1}.jec.txt'.format(\"Summer19UL17_RunF_V6_DATA\", AK_str)))\n",
    "print(\"File \"+'correctionFiles/JEC/{0}/{0}_L3Absolute_{1}.jec.txt'.format(\"Summer19UL17_RunF_V6_DATA\", AK_str)+\" exists: \", os.path.exists('correctionFiles/JEC/{0}/{0}_L3Absolute_{1}.jec.txt'.format(\"Summer19UL17_RunF_V6_DATA\", AK_str)))\n",
    "print(\"File \"+'correctionFiles/JEC/{0}/{0}_L2L3Residual_{1}.jec.txt'.format(\"Summer19UL17_RunF_V6_DATA\", AK_str)+\" exists: \", os.path.exists('correctionFiles/JEC/{0}/{0}_L2L3Residual_{1}.jec.txt'.format(\"Summer19UL17_RunF_V6_DATA\", AK_str)))\n",
    "\n",
    "ext.add_weight_sets([\n",
    "'* * '+'correctionFiles/JEC/{0}/{0}_L1FastJet_{1}.jec.txt'.format(tag, AK_str),\n",
    "'* * '+'correctionFiles/JEC/{0}/{0}_L2Relative_{1}.jec.txt'.format(tag, AK_str),\n",
    "'* * '+'correctionFiles/JEC/{0}/{0}_L3Absolute_{1}.jec.txt'.format(tag, AK_str),\n",
    "'* * '+'correctionFiles/JEC/{0}/{0}_L2L3Residual_{1}.jec.txt'.format(tag, AK_str),\n",
    "])\n",
    "\n",
    "print(\"Added JEC weight sets\")"
   ]
  },
  {
   "cell_type": "code",
   "execution_count": 61,
   "id": "9e983bcb-d450-47ad-ac08-b726b775f12e",
   "metadata": {},
   "outputs": [
    {
     "data": {
      "text/plain": [
       "<coffea.lookup_tools.extractor.extractor at 0x7f520c1c4190>"
      ]
     },
     "execution_count": 61,
     "metadata": {},
     "output_type": "execute_result"
    }
   ],
   "source": [
    "ext"
   ]
  },
  {
   "cell_type": "code",
   "execution_count": null,
   "id": "f7920027-ece2-4b5f-97bc-76db02cd4591",
   "metadata": {},
   "outputs": [],
   "source": []
  }
 ],
 "metadata": {
  "kernelspec": {
   "display_name": "Python 3 (ipykernel)",
   "language": "python",
   "name": "python3"
  },
  "language_info": {
   "codemirror_mode": {
    "name": "ipython",
    "version": 3
   },
   "file_extension": ".py",
   "mimetype": "text/x-python",
   "name": "python",
   "nbconvert_exporter": "python",
   "pygments_lexer": "ipython3",
   "version": "3.10.8"
  }
 },
 "nbformat": 4,
 "nbformat_minor": 5
}
