{
 "cells": [
  {
   "cell_type": "markdown",
   "metadata": {},
   "source": [
    "# Analysis for Differential Jet Mass in Z+Jets events with NanoAODv9"
   ]
  },
  {
   "cell_type": "code",
   "execution_count": 1,
   "metadata": {
    "tags": []
   },
   "outputs": [
    {
     "name": "stdout",
     "output_type": "stream",
     "text": [
      "awkward version  1.10.3\n",
      "coffea version  0.7.22\n",
      "numpy version 1.23.5\n",
      "dask version 2023.3.1\n"
     ]
    }
   ],
   "source": [
    "import awkward as ak\n",
    "import numpy as np\n",
    "import time\n",
    "import coffea\n",
    "import uproot\n",
    "import hist\n",
    "import vector\n",
    "print(\"awkward version \", ak.__version__)\n",
    "print(\"coffea version \", coffea.__version__)\n",
    "from coffea import util, processor\n",
    "from coffea.nanoevents import NanoEventsFactory, NanoAODSchema, BaseSchema\n",
    "from collections import defaultdict\n",
    "import pickle\n",
    "\n",
    "import dask\n",
    "#from distributed.diagnostics.plugin import UploadDirectory\n",
    "import os\n",
    "#from cms_utils import *\n",
    "print(\"numpy version\", np.__version__)\n",
    "print(\"dask version\", dask.__version__)"
   ]
  },
  {
   "cell_type": "markdown",
   "metadata": {},
   "source": [
    "### Automatically reload any modules used"
   ]
  },
  {
   "cell_type": "code",
   "execution_count": 2,
   "metadata": {
    "tags": []
   },
   "outputs": [],
   "source": [
    "%load_ext autoreload\n",
    "%autoreload 2"
   ]
  },
  {
   "cell_type": "code",
   "execution_count": 3,
   "metadata": {
    "tags": []
   },
   "outputs": [],
   "source": [
    "\n",
    "from python.response_maker_nanov9_lib import *\n",
    "from python.response_maker_nanov9 import *\n",
    "from python.smp_utils import *\n",
    "from python.cms_utils import *"
   ]
  },
  {
   "cell_type": "code",
   "execution_count": 4,
   "metadata": {
    "tags": []
   },
   "outputs": [],
   "source": [
    "#f = uproot.open(\"root://xcache//store/mc/RunIISummer20UL16NanoAODv9/DYJetsToLL_M-50_HT-100to200_TuneCP5_PSweights_13TeV-madgraphMLM-pythia8/NANOAODSIM/106X_mcRun2_asymptotic_v17-v2/260000/18D0A087-30BD-FE4E-B447-5F493C2D2794.root\")"
   ]
  },
  {
   "cell_type": "code",
   "execution_count": 5,
   "metadata": {
    "tags": []
   },
   "outputs": [],
   "source": [
    "#f[\"Events\"].keys()"
   ]
  },
  {
   "cell_type": "code",
   "execution_count": 6,
   "metadata": {
    "tags": []
   },
   "outputs": [],
   "source": [
    "# from dask.distributed import Client\n",
    "\n",
    "# client = Client(\"tls://192.168.86.46:8786\")\n",
    "# client\n",
    "\n",
    "# client.register_worker_plugin(UploadDirectory(\"/home/ZJet/QJetMassUproot/\", restart=True, update_path=True))\n",
    "# #print(client.run(os.listdir, \"dask-worker-space\") )\n",
    "# client.scheduler_info()['workers']"
   ]
  },
  {
   "cell_type": "code",
   "execution_count": 7,
   "metadata": {},
   "outputs": [
    {
     "data": {
      "text/html": [
       "<div>\n",
       "    <div style=\"width: 24px; height: 24px; background-color: #e1e1e1; border: 3px solid #9D9D9D; border-radius: 5px; position: absolute;\"> </div>\n",
       "    <div style=\"margin-left: 48px;\">\n",
       "        <h3 style=\"margin-bottom: 0px;\">Client</h3>\n",
       "        <p style=\"color: #9D9D9D; margin-bottom: 0px;\">Client-ad2941d0-3228-11ef-95c0-001a4afde1c3</p>\n",
       "        <table style=\"width: 100%; text-align: left;\">\n",
       "\n",
       "        <tr>\n",
       "        \n",
       "            <td style=\"text-align: left;\"><strong>Connection method:</strong> Cluster object</td>\n",
       "            <td style=\"text-align: left;\"><strong>Cluster type:</strong> lpcjobqueue.LPCCondorCluster</td>\n",
       "        \n",
       "        </tr>\n",
       "\n",
       "        \n",
       "            <tr>\n",
       "                <td style=\"text-align: left;\">\n",
       "                    <strong>Dashboard: </strong> <a href=\"http://131.225.191.74:2018/status\" target=\"_blank\">http://131.225.191.74:2018/status</a>\n",
       "                </td>\n",
       "                <td style=\"text-align: left;\"></td>\n",
       "            </tr>\n",
       "        \n",
       "\n",
       "        </table>\n",
       "\n",
       "        \n",
       "            <button style=\"margin-bottom: 12px;\" data-commandlinker-command=\"dask:populate-and-launch-layout\" data-commandlinker-args='{\"url\": \"http://131.225.191.74:2018/status\" }'>\n",
       "                Launch dashboard in JupyterLab\n",
       "            </button>\n",
       "        \n",
       "\n",
       "        \n",
       "            <details>\n",
       "            <summary style=\"margin-bottom: 20px;\"><h3 style=\"display: inline;\">Cluster Info</h3></summary>\n",
       "            <div class=\"jp-RenderedHTMLCommon jp-RenderedHTML jp-mod-trusted jp-OutputArea-output\">\n",
       "    <div style=\"width: 24px; height: 24px; background-color: #e1e1e1; border: 3px solid #9D9D9D; border-radius: 5px; position: absolute;\">\n",
       "    </div>\n",
       "    <div style=\"margin-left: 48px;\">\n",
       "        <h3 style=\"margin-bottom: 0px; margin-top: 0px;\">LPCCondorCluster</h3>\n",
       "        <p style=\"color: #9D9D9D; margin-bottom: 0px;\">c9dc2928</p>\n",
       "        <table style=\"width: 100%; text-align: left;\">\n",
       "            <tr>\n",
       "                <td style=\"text-align: left;\">\n",
       "                    <strong>Dashboard:</strong> <a href=\"http://131.225.191.74:2018/status\" target=\"_blank\">http://131.225.191.74:2018/status</a>\n",
       "                </td>\n",
       "                <td style=\"text-align: left;\">\n",
       "                    <strong>Workers:</strong> 0\n",
       "                </td>\n",
       "            </tr>\n",
       "            <tr>\n",
       "                <td style=\"text-align: left;\">\n",
       "                    <strong>Total threads:</strong> 0\n",
       "                </td>\n",
       "                <td style=\"text-align: left;\">\n",
       "                    <strong>Total memory:</strong> 0 B\n",
       "                </td>\n",
       "            </tr>\n",
       "            \n",
       "        </table>\n",
       "\n",
       "        <details>\n",
       "            <summary style=\"margin-bottom: 20px;\">\n",
       "                <h3 style=\"display: inline;\">Scheduler Info</h3>\n",
       "            </summary>\n",
       "\n",
       "            <div style=\"\">\n",
       "    <div>\n",
       "        <div style=\"width: 24px; height: 24px; background-color: #FFF7E5; border: 3px solid #FF6132; border-radius: 5px; position: absolute;\"> </div>\n",
       "        <div style=\"margin-left: 48px;\">\n",
       "            <h3 style=\"margin-bottom: 0px;\">Scheduler</h3>\n",
       "            <p style=\"color: #9D9D9D; margin-bottom: 0px;\">Scheduler-09456fe0-f250-4d69-9e43-fa579bf0aa53</p>\n",
       "            <table style=\"width: 100%; text-align: left;\">\n",
       "                <tr>\n",
       "                    <td style=\"text-align: left;\">\n",
       "                        <strong>Comm:</strong> tcp://131.225.191.74:10064\n",
       "                    </td>\n",
       "                    <td style=\"text-align: left;\">\n",
       "                        <strong>Workers:</strong> 0\n",
       "                    </td>\n",
       "                </tr>\n",
       "                <tr>\n",
       "                    <td style=\"text-align: left;\">\n",
       "                        <strong>Dashboard:</strong> <a href=\"http://131.225.191.74:2018/status\" target=\"_blank\">http://131.225.191.74:2018/status</a>\n",
       "                    </td>\n",
       "                    <td style=\"text-align: left;\">\n",
       "                        <strong>Total threads:</strong> 0\n",
       "                    </td>\n",
       "                </tr>\n",
       "                <tr>\n",
       "                    <td style=\"text-align: left;\">\n",
       "                        <strong>Started:</strong> Just now\n",
       "                    </td>\n",
       "                    <td style=\"text-align: left;\">\n",
       "                        <strong>Total memory:</strong> 0 B\n",
       "                    </td>\n",
       "                </tr>\n",
       "            </table>\n",
       "        </div>\n",
       "    </div>\n",
       "\n",
       "    <details style=\"margin-left: 48px;\">\n",
       "        <summary style=\"margin-bottom: 20px;\">\n",
       "            <h3 style=\"display: inline;\">Workers</h3>\n",
       "        </summary>\n",
       "\n",
       "        \n",
       "\n",
       "    </details>\n",
       "</div>\n",
       "\n",
       "        </details>\n",
       "    </div>\n",
       "</div>\n",
       "            </details>\n",
       "        \n",
       "\n",
       "    </div>\n",
       "</div>"
      ],
      "text/plain": [
       "<Client: 'tcp://131.225.191.74:10064' processes=0 threads=0, memory=0 B>"
      ]
     },
     "execution_count": 7,
     "metadata": {},
     "output_type": "execute_result"
    }
   ],
   "source": [
    "from distributed import Client\n",
    "from lpcjobqueue import LPCCondorCluster\n",
    "\n",
    "cluster = LPCCondorCluster(transfer_input_files = [ \"correctionFiles\", \"samples\", \"python\"], \n",
    "                           ship_env = False,\n",
    "                           memory = \"5GB\",\n",
    "                          scheduler_options={\"dashboard_address\": \":2018\"})\n",
    "cluster.adapt(minimum=0, maximum=10000)\n",
    "\n",
    "\n",
    "client = Client(cluster)\n",
    "client"
   ]
  },
  {
   "cell_type": "code",
   "execution_count": null,
   "metadata": {},
   "outputs": [],
   "source": []
  },
  {
   "cell_type": "code",
   "execution_count": 8,
   "metadata": {
    "tags": []
   },
   "outputs": [],
   "source": [
    "# client.register_worker_plugin(UploadDirectory(\"/home/ZJet/QJetMassUproot/\", restart=True, update_path=True), nanny=True)\n",
    "# #print(client.run(os.listdir, \"dask-worker-space\") )"
   ]
  },
  {
   "cell_type": "markdown",
   "metadata": {},
   "source": [
    "### If desired, uncomment these to move or remove old pkl files"
   ]
  },
  {
   "cell_type": "code",
   "execution_count": 9,
   "metadata": {
    "tags": []
   },
   "outputs": [],
   "source": [
    "#! mv qjetmass_zjets_gen.pkl qjetmass_zjets_gen_old.pkl\n",
    "#! mv qjetmass_zjets_reco.pkl qjetmass_zjets_reco_old.pkl"
   ]
  },
  {
   "cell_type": "code",
   "execution_count": 10,
   "metadata": {
    "tags": []
   },
   "outputs": [],
   "source": [
    "# client.scheduler_info()['workers']"
   ]
  },
  {
   "cell_type": "markdown",
   "metadata": {},
   "source": [
    "### If you want to rerun, here is the line. Otherwise keep it commented to just read the pkl file. "
   ]
  },
  {
   "cell_type": "code",
   "execution_count": 11,
   "metadata": {},
   "outputs": [],
   "source": [
    "#client = Client(cluster)\n",
    "#print(client.run(os.listdir) )\n",
    "#client.scheduler_info()['workers']"
   ]
  },
  {
   "cell_type": "code",
   "execution_count": 12,
   "metadata": {
    "tags": []
   },
   "outputs": [],
   "source": [
    "\n",
    "\n",
    "# eras_mc = ['UL16NanoAODv9']\n",
    "# for era in eras_mc:\n",
    "#     response_maker_nanov9(testing=False, do_gen=True, client=client, prependstr=\"root://cmsxrootd.fnal.gov/\", eras_mc=[era], jet_syst = 'nominal', dask = True)\n",
    "#     #response_maker_nanov9(testing=False, do_gen=False, client=client)\n",
    "#     print(\"Done running 2016\")\n",
    "    "
   ]
  },
  {
   "cell_type": "code",
   "execution_count": null,
   "metadata": {},
   "outputs": [],
   "source": []
  },
  {
   "cell_type": "code",
   "execution_count": 13,
   "metadata": {},
   "outputs": [
    {
     "name": "stdout",
     "output_type": "stream",
     "text": [
      "Chunk Size  100000\n",
      "Running...\n",
      "[##########                              ] | 25% Completed | 28min 42.2ss\u001b[2K"
     ]
    },
    {
     "name": "stderr",
     "output_type": "stream",
     "text": [
      "Failed to commit and disconnect from queue.\n"
     ]
    },
    {
     "name": "stdout",
     "output_type": "stream",
     "text": [
      "[###########                             ] | 28% Completed | 30min 38.6s"
     ]
    },
    {
     "name": "stderr",
     "output_type": "stream",
     "text": [
      "Task exception was never retrieved\n",
      "future: <Task finished name='Task-637171' coro=<_wrap_awaitable() done, defined at /opt/conda/lib/python3.10/site-packages/distributed/deploy/spec.py:118> exception=AssertionError()>\n",
      "Traceback (most recent call last):\n",
      "  File \"/opt/conda/lib/python3.10/site-packages/distributed/deploy/spec.py\", line 119, in _wrap_awaitable\n",
      "    return await aw\n",
      "  File \"/opt/conda/lib/python3.10/site-packages/distributed/deploy/spec.py\", line 69, in _\n",
      "    assert self.status == Status.running\n",
      "AssertionError\n"
     ]
    },
    {
     "name": "stdout",
     "output_type": "stream",
     "text": [
      "Done running#############################] | 100% Completed |  1hr 19min 54.7s\u001b[2K\n",
      "outputs/gen_with_asym_pt_fineMbin_jet_syst.pkl  was created.\n",
      "Done running All\n"
     ]
    }
   ],
   "source": [
    "eras_mc = ['UL16NanoAODv9','UL17NanoAODv9','UL18NanoAODv9']\n",
    "#client= None\n",
    "response_maker_nanov9(testing=False, do_gen=True, client=client, prependstr=\"root://cmsxrootd.fnal.gov/\", eras_mc=eras_mc, do_syst = True, do_jk = False, dask = True, fname_out = 'outputs/gen_with_asym_pt_fineMbin_jet_syst.pkl')\n",
    "#response_maker_nanov9(testing=False, do_gen=False, client=client)\n",
    "print(\"Done running All\")\n"
   ]
  },
  {
   "cell_type": "code",
   "execution_count": null,
   "metadata": {},
   "outputs": [],
   "source": [
    "import IPython\n",
    "app = IPython.Application.instance()\n",
    "app.kernel.do_shutdown(True)"
   ]
  },
  {
   "cell_type": "code",
   "execution_count": 1,
   "metadata": {
    "tags": []
   },
   "outputs": [],
   "source": [
    "import pickle\n",
    "with open(\"qjetmass_zjets_gen__all_syst.pkl\", \"rb\") as f:\n",
    "    output = pickle.load( f )"
   ]
  },
  {
   "cell_type": "code",
   "execution_count": 2,
   "metadata": {
    "scrolled": true
   },
   "outputs": [
    {
     "data": {
      "text/plain": [
       "{'UL16NanoAODv9': defaultdict(int,\n",
       "             {'DYJetsToLL_M-50_HT-100to200_TuneCP5_PSweights_13TeV-madgraphMLM-pythia8': defaultdict(int,\n",
       "                          {'all events': 7949477,\n",
       "                           'weights cut': 7649419,\n",
       "                           'npv': 7649419,\n",
       "                           'oneGenJet': 258087,\n",
       "                           'matches': 7632476,\n",
       "                           'misses': 16943,\n",
       "                           'twoGen_ee': 461523,\n",
       "                           'twoGen_mm': 920069,\n",
       "                           'twoGen_leptons': 1381592,\n",
       "                           'z_ptcut_gen': 652562,\n",
       "                           'z_mcut_gen': 1299279,\n",
       "                           'z_jet_dphi_sel_gen': 159504,\n",
       "                           'z_pt_asym_sel_gen': 172926,\n",
       "                           'kinsel_gen': 59576,\n",
       "                           'toposel_gen': 104392,\n",
       "                           'allsel_gen': 54547,\n",
       "                           'twoReco_ee': 239844,\n",
       "                           'twoReco_mm': 702288,\n",
       "                           'twoReco_leptons': 942132,\n",
       "                           'z_ptcut_reco': 447886,\n",
       "                           'z_mcut_reco': 885638,\n",
       "                           'oneRecoJet': 90118,\n",
       "                           'z_jet_dphi_sel_reco': 43307,\n",
       "                           'z_pt_asym_sel_reco': 54851,\n",
       "                           'kinsel_reco': 11007,\n",
       "                           'toposel_reco': 41807,\n",
       "                           'presel_reco': 9441,\n",
       "                           'allsel_reco': 8881,\n",
       "                           'jet_mass_groomed_sel': 121012,\n",
       "                           'fakes': 1804,\n",
       "                           'matched_reco': 7647615,\n",
       "                           'final selection': 8587}),\n",
       "              'DYJetsToLL_M-50_HT-800to1200_TuneCP5_PSweights_13TeV-madgraphMLM-pythia8': defaultdict(int,\n",
       "                          {'all events': 2393976,\n",
       "                           'weights cut': 2294285,\n",
       "                           'npv': 2294285,\n",
       "                           'oneGenJet': 2294152,\n",
       "                           'matches': 2170957,\n",
       "                           'misses': 123328,\n",
       "                           'twoGen_ee': 306286,\n",
       "                           'twoGen_mm': 415481,\n",
       "                           'twoGen_leptons': 721726,\n",
       "                           'z_ptcut_gen': 582787,\n",
       "                           'z_mcut_gen': 665404,\n",
       "                           'z_jet_dphi_sel_gen': 1510647,\n",
       "                           'z_pt_asym_sel_gen': 301319,\n",
       "                           'kinsel_gen': 534996,\n",
       "                           'toposel_gen': 194188,\n",
       "                           'allsel_gen': 122432,\n",
       "                           'twoReco_ee': 98379,\n",
       "                           'twoReco_mm': 191440,\n",
       "                           'twoReco_leptons': 289818,\n",
       "                           'z_ptcut_reco': 231766,\n",
       "                           'z_mcut_reco': 266363,\n",
       "                           'oneRecoJet': 2293499,\n",
       "                           'z_jet_dphi_sel_reco': 189658,\n",
       "                           'z_pt_asym_sel_reco': 92591,\n",
       "                           'kinsel_reco': 211886,\n",
       "                           'toposel_reco': 49795,\n",
       "                           'presel_reco': 53629,\n",
       "                           'allsel_reco': 39009,\n",
       "                           'jet_mass_groomed_sel': 2261028,\n",
       "                           'fakes': 3939,\n",
       "                           'matched_reco': 2290346,\n",
       "                           'final selection': 38712}),\n",
       "              'DYJetsToLL_M-50_HT-70to100_TuneCP5_PSweights_13TeV-madgraphMLM-pythia8': defaultdict(int,\n",
       "                          {'all events': 5766873,\n",
       "                           'weights cut': 5631923,\n",
       "                           'npv': 5631923,\n",
       "                           'oneGenJet': 3049,\n",
       "                           'matches': 5631815,\n",
       "                           'misses': 108,\n",
       "                           'twoGen_ee': 247820,\n",
       "                           'twoGen_mm': 616806,\n",
       "                           'twoGen_leptons': 864626,\n",
       "                           'z_ptcut_gen': 102191,\n",
       "                           'z_mcut_gen': 816188,\n",
       "                           'z_jet_dphi_sel_gen': 584,\n",
       "                           'z_pt_asym_sel_gen': 695,\n",
       "                           'kinsel_gen': 41,\n",
       "                           'toposel_gen': 98,\n",
       "                           'allsel_gen': 25,\n",
       "                           'twoReco_ee': 138924,\n",
       "                           'twoReco_mm': 485124,\n",
       "                           'twoReco_leptons': 624048,\n",
       "                           'z_ptcut_reco': 72088,\n",
       "                           'z_mcut_reco': 589207,\n",
       "                           'oneRecoJet': 2334,\n",
       "                           'z_jet_dphi_sel_reco': 214,\n",
       "                           'z_pt_asym_sel_reco': 252,\n",
       "                           'kinsel_reco': 14,\n",
       "                           'toposel_reco': 26,\n",
       "                           'presel_reco': 6,\n",
       "                           'allsel_reco': 4,\n",
       "                           'jet_mass_groomed_sel': 2672,\n",
       "                           'fakes': 1086,\n",
       "                           'matched_reco': 5630837,\n",
       "                           'final selection': 4}),\n",
       "              'DYJetsToLL_M-50_HT-400to600_TuneCP5_PSweights_13TeV-madgraphMLM-pythia8': defaultdict(int,\n",
       "                          {'all events': 2461741,\n",
       "                           'weights cut': 2363975,\n",
       "                           'npv': 2363975,\n",
       "                           'oneGenJet': 2245288,\n",
       "                           'matches': 2168735,\n",
       "                           'misses': 195240,\n",
       "                           'twoGen_ee': 256957,\n",
       "                           'twoGen_mm': 374492,\n",
       "                           'twoGen_leptons': 631441,\n",
       "                           'z_ptcut_gen': 468894,\n",
       "                           'z_mcut_gen': 586000,\n",
       "                           'z_jet_dphi_sel_gen': 1466517,\n",
       "                           'z_pt_asym_sel_gen': 559553,\n",
       "                           'kinsel_gen': 422480,\n",
       "                           'toposel_gen': 359782,\n",
       "                           'allsel_gen': 183059,\n",
       "                           'twoReco_ee': 96469,\n",
       "                           'twoReco_mm': 232217,\n",
       "                           'twoReco_leptons': 328684,\n",
       "                           'z_ptcut_reco': 243726,\n",
       "                           'z_mcut_reco': 304351,\n",
       "                           'oneRecoJet': 1984369,\n",
       "                           'z_jet_dphi_sel_reco': 195843,\n",
       "                           'z_pt_asym_sel_reco': 177118,\n",
       "                           'kinsel_reco': 207088,\n",
       "                           'toposel_reco': 90624,\n",
       "                           'presel_reco': 90787,\n",
       "                           'allsel_reco': 65222,\n",
       "                           'jet_mass_groomed_sel': 1996150,\n",
       "                           'fakes': 2093,\n",
       "                           'matched_reco': 2361882,\n",
       "                           'final selection': 64322}),\n",
       "              'DYJetsToLL_M-50_HT-600to800_TuneCP5_PSweights_13TeV-madgraphMLM-pythia8': defaultdict(int,\n",
       "                          {'all events': 2299853,\n",
       "                           'weights cut': 2219846,\n",
       "                           'npv': 2219846,\n",
       "                           'oneGenJet': 2216270,\n",
       "                           'matches': 2071053,\n",
       "                           'misses': 148793,\n",
       "                           'twoGen_ee': 271886,\n",
       "                           'twoGen_mm': 378429,\n",
       "                           'twoGen_leptons': 650293,\n",
       "                           'z_ptcut_gen': 507143,\n",
       "                           'z_mcut_gen': 601145,\n",
       "                           'z_jet_dphi_sel_gen': 1450029,\n",
       "                           'z_pt_asym_sel_gen': 405987,\n",
       "                           'kinsel_gen': 466207,\n",
       "                           'toposel_gen': 257698,\n",
       "                           'allsel_gen': 145365,\n",
       "                           'twoReco_ee': 92713,\n",
       "                           'twoReco_mm': 205975,\n",
       "                           'twoReco_leptons': 298688,\n",
       "                           'z_ptcut_reco': 231222,\n",
       "                           'z_mcut_reco': 275070,\n",
       "                           'oneRecoJet': 2198861,\n",
       "                           'z_jet_dphi_sel_reco': 187567,\n",
       "                           'z_pt_asym_sel_reco': 128736,\n",
       "                           'kinsel_reco': 210874,\n",
       "                           'toposel_reco': 64777,\n",
       "                           'presel_reco': 70275,\n",
       "                           'allsel_reco': 49522,\n",
       "                           'jet_mass_groomed_sel': 2146109,\n",
       "                           'fakes': 2628,\n",
       "                           'matched_reco': 2217218,\n",
       "                           'final selection': 48924}),\n",
       "              'DYJetsToLL_M-50_HT-2500toInf_TuneCP5_PSweights_13TeV-madgraphMLM-pythia8': defaultdict(int,\n",
       "                          {'all events': 696811,\n",
       "                           'weights cut': 669578,\n",
       "                           'npv': 669578,\n",
       "                           'oneGenJet': 669578,\n",
       "                           'matches': 644386,\n",
       "                           'misses': 25192,\n",
       "                           'twoGen_ee': 110594,\n",
       "                           'twoGen_mm': 141152,\n",
       "                           'twoGen_leptons': 251708,\n",
       "                           'z_ptcut_gen': 218799,\n",
       "                           'z_mcut_gen': 229819,\n",
       "                           'z_jet_dphi_sel_gen': 437289,\n",
       "                           'z_pt_asym_sel_gen': 13901,\n",
       "                           'kinsel_gen': 199221,\n",
       "                           'toposel_gen': 9496,\n",
       "                           'allsel_gen': 7278,\n",
       "                           'twoReco_ee': 33124,\n",
       "                           'twoReco_mm': 20484,\n",
       "                           'twoReco_leptons': 53608,\n",
       "                           'z_ptcut_reco': 46474,\n",
       "                           'z_mcut_reco': 48648,\n",
       "                           'oneRecoJet': 669578,\n",
       "                           'z_jet_dphi_sel_reco': 36097,\n",
       "                           'z_pt_asym_sel_reco': 2597,\n",
       "                           'kinsel_reco': 42072,\n",
       "                           'toposel_reco': 1870,\n",
       "                           'presel_reco': 1789,\n",
       "                           'allsel_reco': 1462,\n",
       "                           'jet_mass_groomed_sel': 665702,\n",
       "                           'fakes': 1534,\n",
       "                           'matched_reco': 668044,\n",
       "                           'final selection': 1458}),\n",
       "              'DYJetsToLL_M-50_HT-200to400_TuneCP5_PSweights_13TeV-madgraphMLM-pythia8': defaultdict(int,\n",
       "                          {'all events': 4843901,\n",
       "                           'weights cut': 4649142,\n",
       "                           'npv': 4649142,\n",
       "                           'oneGenJet': 1842267,\n",
       "                           'matches': 4545349,\n",
       "                           'misses': 103793,\n",
       "                           'twoGen_ee': 396299,\n",
       "                           'twoGen_mm': 645230,\n",
       "                           'twoGen_leptons': 1041523,\n",
       "                           'z_ptcut_gen': 676609,\n",
       "                           'z_mcut_gen': 972629,\n",
       "                           'z_jet_dphi_sel_gen': 1219242,\n",
       "                           'z_pt_asym_sel_gen': 839627,\n",
       "                           'kinsel_gen': 415905,\n",
       "                           'toposel_gen': 546475,\n",
       "                           'allsel_gen': 276169,\n",
       "                           'twoReco_ee': 176147,\n",
       "                           'twoReco_mm': 455643,\n",
       "                           'twoReco_leptons': 631789,\n",
       "                           'z_ptcut_reco': 413837,\n",
       "                           'z_mcut_reco': 589276,\n",
       "                           'oneRecoJet': 1098045,\n",
       "                           'z_jet_dphi_sel_reco': 211823,\n",
       "                           'z_pt_asym_sel_reco': 265041,\n",
       "                           'kinsel_reco': 182322,\n",
       "                           'toposel_reco': 160483,\n",
       "                           'presel_reco': 111411,\n",
       "                           'allsel_reco': 88067,\n",
       "                           'jet_mass_groomed_sel': 1228565,\n",
       "                           'fakes': 3110,\n",
       "                           'matched_reco': 4646032,\n",
       "                           'final selection': 86521}),\n",
       "              'DYJetsToLL_M-50_HT-1200to2500_TuneCP5_PSweights_13TeV-madgraphMLM-pythia8': defaultdict(int,\n",
       "                          {'all events': 1970857,\n",
       "                           'weights cut': 1900826,\n",
       "                           'npv': 1900826,\n",
       "                           'oneGenJet': 1900825,\n",
       "                           'matches': 1816614,\n",
       "                           'misses': 84212,\n",
       "                           'twoGen_ee': 282354,\n",
       "                           'twoGen_mm': 369551,\n",
       "                           'twoGen_leptons': 651847,\n",
       "                           'z_ptcut_gen': 546073,\n",
       "                           'z_mcut_gen': 598793,\n",
       "                           'z_jet_dphi_sel_gen': 1247921,\n",
       "                           'z_pt_asym_sel_gen': 141770,\n",
       "                           'kinsel_gen': 500040,\n",
       "                           'toposel_gen': 93437,\n",
       "                           'allsel_gen': 65811,\n",
       "                           'twoReco_ee': 85662,\n",
       "                           'twoReco_mm': 124082,\n",
       "                           'twoReco_leptons': 209742,\n",
       "                           'z_ptcut_reco': 173621,\n",
       "                           'z_mcut_reco': 191767,\n",
       "                           'oneRecoJet': 1900812,\n",
       "                           'z_jet_dphi_sel_reco': 140911,\n",
       "                           'z_pt_asym_sel_reco': 38549,\n",
       "                           'kinsel_reco': 158112,\n",
       "                           'toposel_reco': 22674,\n",
       "                           'presel_reco': 23839,\n",
       "                           'allsel_reco': 17959,\n",
       "                           'jet_mass_groomed_sel': 1890437,\n",
       "                           'fakes': 4163,\n",
       "                           'matched_reco': 1896663,\n",
       "                           'final selection': 17873})}),\n",
       " 'UL17NanoAODv9': defaultdict(int,\n",
       "             {'DYJetsToLL_M-50_HT-100to200_TuneCP5_PSweights_13TeV-madgraphMLM-pythia8': defaultdict(int,\n",
       "                          {'all events': 18488674,\n",
       "                           'weights cut': 17727620,\n",
       "                           'npv': 17727620,\n",
       "                           'oneGenJet': 597651,\n",
       "                           'matches': 17687520,\n",
       "                           'misses': 40100,\n",
       "                           'twoGen_ee': 1070920,\n",
       "                           'twoGen_mm': 2128924,\n",
       "                           'twoGen_leptons': 3199844,\n",
       "                           'z_ptcut_gen': 1512379,\n",
       "                           'z_mcut_gen': 3008731,\n",
       "                           'z_jet_dphi_sel_gen': 368041,\n",
       "                           'z_pt_asym_sel_gen': 400820,\n",
       "                           'kinsel_gen': 137471,\n",
       "                           'toposel_gen': 241116,\n",
       "                           'allsel_gen': 125453,\n",
       "                           'twoReco_ee': 580129,\n",
       "                           'twoReco_mm': 1503777,\n",
       "                           'twoReco_leptons': 2083905,\n",
       "                           'z_ptcut_reco': 1001350,\n",
       "                           'z_mcut_reco': 1957411,\n",
       "                           'oneRecoJet': 257495,\n",
       "                           'z_jet_dphi_sel_reco': 99394,\n",
       "                           'z_pt_asym_sel_reco': 128229,\n",
       "                           'kinsel_reco': 29380,\n",
       "                           'toposel_reco': 95663,\n",
       "                           'presel_reco': 24357,\n",
       "                           'allsel_reco': 22646,\n",
       "                           'jet_mass_groomed_sel': 277995,\n",
       "                           'fakes': 5702,\n",
       "                           'matched_reco': 17721918,\n",
       "                           'final selection': 20188}),\n",
       "              'DYJetsToLL_M-50_HT-1200to2500_TuneCP5_PSweights_13TeV-madgraphMLM-pythia8': defaultdict(int,\n",
       "                          {'all events': 4725936,\n",
       "                           'weights cut': 4510538,\n",
       "                           'npv': 4510538,\n",
       "                           'oneGenJet': 4510537,\n",
       "                           'matches': 4313220,\n",
       "                           'misses': 197318,\n",
       "                           'twoGen_ee': 667372,\n",
       "                           'twoGen_mm': 876891,\n",
       "                           'twoGen_leptons': 1544134,\n",
       "                           'z_ptcut_gen': 1292687,\n",
       "                           'z_mcut_gen': 1417964,\n",
       "                           'z_jet_dphi_sel_gen': 2962691,\n",
       "                           'z_pt_asym_sel_gen': 336756,\n",
       "                           'kinsel_gen': 1182960,\n",
       "                           'toposel_gen': 221498,\n",
       "                           'allsel_gen': 155421,\n",
       "                           'twoReco_ee': 215690,\n",
       "                           'twoReco_mm': 271289,\n",
       "                           'twoReco_leptons': 486976,\n",
       "                           'z_ptcut_reco': 405113,\n",
       "                           'z_mcut_reco': 445199,\n",
       "                           'oneRecoJet': 4510525,\n",
       "                           'z_jet_dphi_sel_reco': 325054,\n",
       "                           'z_pt_asym_sel_reco': 88426,\n",
       "                           'kinsel_reco': 368848,\n",
       "                           'toposel_reco': 50937,\n",
       "                           'presel_reco': 55826,\n",
       "                           'allsel_reco': 40645,\n",
       "                           'jet_mass_groomed_sel': 4485525,\n",
       "                           'fakes': 10379,\n",
       "                           'matched_reco': 4500159,\n",
       "                           'final selection': 40481}),\n",
       "              'DYJetsToLL_M-50_HT-800to1200_TuneCP5_PSweights_13TeV-madgraphMLM-pythia8': defaultdict(int,\n",
       "                          {'all events': 4347168,\n",
       "                           'weights cut': 4160129,\n",
       "                           'npv': 4160129,\n",
       "                           'oneGenJet': 4159903,\n",
       "                           'matches': 3939307,\n",
       "                           'misses': 220822,\n",
       "                           'twoGen_ee': 556893,\n",
       "                           'twoGen_mm': 753000,\n",
       "                           'twoGen_leptons': 1309838,\n",
       "                           'z_ptcut_gen': 1058274,\n",
       "                           'z_mcut_gen': 1207021,\n",
       "                           'z_jet_dphi_sel_gen': 2738509,\n",
       "                           'z_pt_asym_sel_gen': 545582,\n",
       "                           'kinsel_gen': 970836,\n",
       "                           'toposel_gen': 350933,\n",
       "                           'allsel_gen': 221433,\n",
       "                           'twoReco_ee': 190157,\n",
       "                           'twoReco_mm': 319738,\n",
       "                           'twoReco_leptons': 509894,\n",
       "                           'z_ptcut_reco': 409801,\n",
       "                           'z_mcut_reco': 467694,\n",
       "                           'oneRecoJet': 4158945,\n",
       "                           'z_jet_dphi_sel_reco': 330712,\n",
       "                           'z_pt_asym_sel_reco': 160353,\n",
       "                           'kinsel_reco': 373825,\n",
       "                           'toposel_reco': 83628,\n",
       "                           'presel_reco': 94830,\n",
       "                           'allsel_reco': 65930,\n",
       "                           'jet_mass_groomed_sel': 4102332,\n",
       "                           'fakes': 7750,\n",
       "                           'matched_reco': 4152379,\n",
       "                           'final selection': 65452}),\n",
       "              'DYJetsToLL_M-50_HT-70to100_TuneCP5_PSweights_13TeV-madgraphMLM-pythia8': defaultdict(int,\n",
       "                          {'all events': 12205958,\n",
       "                           'weights cut': 11842831,\n",
       "                           'npv': 11842831,\n",
       "                           'oneGenJet': 6451,\n",
       "                           'matches': 11842602,\n",
       "                           'misses': 229,\n",
       "                           'twoGen_ee': 520056,\n",
       "                           'twoGen_mm': 1293266,\n",
       "                           'twoGen_leptons': 1813322,\n",
       "                           'z_ptcut_gen': 214606,\n",
       "                           'z_mcut_gen': 1711964,\n",
       "                           'z_jet_dphi_sel_gen': 1275,\n",
       "                           'z_pt_asym_sel_gen': 1558,\n",
       "                           'kinsel_gen': 65,\n",
       "                           'toposel_gen': 222,\n",
       "                           'allsel_gen': 51,\n",
       "                           'twoReco_ee': 301058,\n",
       "                           'twoReco_mm': 940657,\n",
       "                           'twoReco_leptons': 1241715,\n",
       "                           'z_ptcut_reco': 145196,\n",
       "                           'z_mcut_reco': 1171756,\n",
       "                           'oneRecoJet': 6133,\n",
       "                           'z_jet_dphi_sel_reco': 498,\n",
       "                           'z_pt_asym_sel_reco': 528,\n",
       "                           'kinsel_reco': 20,\n",
       "                           'toposel_reco': 55,\n",
       "                           'presel_reco': 13,\n",
       "                           'allsel_reco': 12,\n",
       "                           'jet_mass_groomed_sel': 6101,\n",
       "                           'fakes': 3287,\n",
       "                           'matched_reco': 11839544,\n",
       "                           'final selection': 11}),\n",
       "              'DYJetsToLL_M-50_HT-600to800_TuneCP5_PSweights_13TeV-madgraphMLM-pythia8': defaultdict(int,\n",
       "                          {'all events': 5118706,\n",
       "                           'weights cut': 4894689,\n",
       "                           'npv': 4894689,\n",
       "                           'oneGenJet': 4886926,\n",
       "                           'matches': 4568775,\n",
       "                           'misses': 325914,\n",
       "                           'twoGen_ee': 597705,\n",
       "                           'twoGen_mm': 835050,\n",
       "                           'twoGen_leptons': 1432705,\n",
       "                           'z_ptcut_gen': 1118030,\n",
       "                           'z_mcut_gen': 1323278,\n",
       "                           'z_jet_dphi_sel_gen': 3202794,\n",
       "                           'z_pt_asym_sel_gen': 896566,\n",
       "                           'kinsel_gen': 1026747,\n",
       "                           'toposel_gen': 570884,\n",
       "                           'allsel_gen': 322190,\n",
       "                           'twoReco_ee': 218194,\n",
       "                           'twoReco_mm': 418099,\n",
       "                           'twoReco_leptons': 636291,\n",
       "                           'z_ptcut_reco': 496541,\n",
       "                           'z_mcut_reco': 585386,\n",
       "                           'oneRecoJet': 4851061,\n",
       "                           'z_jet_dphi_sel_reco': 396179,\n",
       "                           'z_pt_asym_sel_reco': 272572,\n",
       "                           'kinsel_reco': 452235,\n",
       "                           'toposel_reco': 133770,\n",
       "                           'presel_reco': 152239,\n",
       "                           'allsel_reco': 103128,\n",
       "                           'jet_mass_groomed_sel': 4738452,\n",
       "                           'fakes': 6317,\n",
       "                           'matched_reco': 4888372,\n",
       "                           'final selection': 101953}),\n",
       "              'DYJetsToLL_M-50_HT-400to600_TuneCP5_PSweights_13TeV-madgraphMLM-pythia8': defaultdict(int,\n",
       "                          {'all events': 5384252,\n",
       "                           'weights cut': 5155586,\n",
       "                           'npv': 5155586,\n",
       "                           'oneGenJet': 4896451,\n",
       "                           'matches': 4734412,\n",
       "                           'misses': 421174,\n",
       "                           'twoGen_ee': 560889,\n",
       "                           'twoGen_mm': 817547,\n",
       "                           'twoGen_leptons': 1378412,\n",
       "                           'z_ptcut_gen': 1022987,\n",
       "                           'z_mcut_gen': 1278865,\n",
       "                           'z_jet_dphi_sel_gen': 3197712,\n",
       "                           'z_pt_asym_sel_gen': 1219067,\n",
       "                           'kinsel_gen': 921398,\n",
       "                           'toposel_gen': 782841,\n",
       "                           'allsel_gen': 398142,\n",
       "                           'twoReco_ee': 225053,\n",
       "                           'twoReco_mm': 467984,\n",
       "                           'twoReco_leptons': 693035,\n",
       "                           'z_ptcut_reco': 517327,\n",
       "                           'z_mcut_reco': 641230,\n",
       "                           'oneRecoJet': 4364532,\n",
       "                           'z_jet_dphi_sel_reco': 406795,\n",
       "                           'z_pt_asym_sel_reco': 372783,\n",
       "                           'kinsel_reco': 441024,\n",
       "                           'toposel_reco': 184540,\n",
       "                           'presel_reco': 193502,\n",
       "                           'allsel_reco': 133732,\n",
       "                           'jet_mass_groomed_sel': 4340748,\n",
       "                           'fakes': 5128,\n",
       "                           'matched_reco': 5150458,\n",
       "                           'final selection': 131416}),\n",
       "              'DYJetsToLL_M-50_HT-200to400_TuneCP5_PSweights_13TeV-madgraphMLM-pythia8': defaultdict(int,\n",
       "                          {'all events': 12451701,\n",
       "                           'weights cut': 11906889,\n",
       "                           'npv': 11906889,\n",
       "                           'oneGenJet': 4718606,\n",
       "                           'matches': 11639462,\n",
       "                           'misses': 267427,\n",
       "                           'twoGen_ee': 1017682,\n",
       "                           'twoGen_mm': 1652400,\n",
       "                           'twoGen_leptons': 2670069,\n",
       "                           'z_ptcut_gen': 1737500,\n",
       "                           'z_mcut_gen': 2493302,\n",
       "                           'z_jet_dphi_sel_gen': 3124002,\n",
       "                           'z_pt_asym_sel_gen': 2153874,\n",
       "                           'kinsel_gen': 1068480,\n",
       "                           'toposel_gen': 1401679,\n",
       "                           'allsel_gen': 708594,\n",
       "                           'twoReco_ee': 479767,\n",
       "                           'twoReco_mm': 1080847,\n",
       "                           'twoReco_leptons': 1560609,\n",
       "                           'z_ptcut_reco': 1032776,\n",
       "                           'z_mcut_reco': 1454753,\n",
       "                           'oneRecoJet': 2963607,\n",
       "                           'z_jet_dphi_sel_reco': 522764,\n",
       "                           'z_pt_asym_sel_reco': 665820,\n",
       "                           'kinsel_reco': 471768,\n",
       "                           'toposel_reco': 393523,\n",
       "                           'presel_reco': 287750,\n",
       "                           'allsel_reco': 222441,\n",
       "                           'jet_mass_groomed_sel': 3109843,\n",
       "                           'fakes': 9414,\n",
       "                           'matched_reco': 11897475,\n",
       "                           'final selection': 214476}),\n",
       "              'DYJetsToLL_M-50_HT-2500toInf_TuneCP5_PSweights_13TeV-madgraphMLM-pythia8': defaultdict(int,\n",
       "                          {'all events': 1480047,\n",
       "                           'weights cut': 1419679,\n",
       "                           'npv': 1419679,\n",
       "                           'oneGenJet': 1419679,\n",
       "                           'matches': 1367720,\n",
       "                           'misses': 51959,\n",
       "                           'twoGen_ee': 236052,\n",
       "                           'twoGen_mm': 298029,\n",
       "                           'twoGen_leptons': 534014,\n",
       "                           'z_ptcut_gen': 464434,\n",
       "                           'z_mcut_gen': 488107,\n",
       "                           'z_jet_dphi_sel_gen': 925649,\n",
       "                           'z_pt_asym_sel_gen': 29875,\n",
       "                           'kinsel_gen': 423503,\n",
       "                           'toposel_gen': 20441,\n",
       "                           'allsel_gen': 15672,\n",
       "                           'twoReco_ee': 73790,\n",
       "                           'twoReco_mm': 39374,\n",
       "                           'twoReco_leptons': 113164,\n",
       "                           'z_ptcut_reco': 98785,\n",
       "                           'z_mcut_reco': 102815,\n",
       "                           'oneRecoJet': 1419679,\n",
       "                           'z_jet_dphi_sel_reco': 75638,\n",
       "                           'z_pt_asym_sel_reco': 5457,\n",
       "                           'kinsel_reco': 89504,\n",
       "                           'toposel_reco': 3753,\n",
       "                           'presel_reco': 3787,\n",
       "                           'allsel_reco': 2934,\n",
       "                           'jet_mass_groomed_sel': 1411276,\n",
       "                           'fakes': 3454,\n",
       "                           'matched_reco': 1416225,\n",
       "                           'final selection': 2921})}),\n",
       " 'UL18NanoAODv9': defaultdict(int,\n",
       "             {'DYJetsToLL_M-50_HT-100to200_TuneCP5_PSweights_13TeV-madgraphMLM-pythia8': defaultdict(int,\n",
       "                          {'all events': 26202328,\n",
       "                           'weights cut': 25291113,\n",
       "                           'npv': 25291113,\n",
       "                           'oneGenJet': 853919,\n",
       "                           'matches': 25228682,\n",
       "                           'misses': 62431,\n",
       "                           'twoGen_ee': 1525020,\n",
       "                           'twoGen_mm': 3037835,\n",
       "                           'twoGen_leptons': 4562851,\n",
       "                           'z_ptcut_gen': 2155883,\n",
       "                           'z_mcut_gen': 4289566,\n",
       "                           'z_jet_dphi_sel_gen': 526509,\n",
       "                           'z_pt_asym_sel_gen': 573695,\n",
       "                           'kinsel_gen': 196941,\n",
       "                           'toposel_gen': 345534,\n",
       "                           'allsel_gen': 179755,\n",
       "                           'twoReco_ee': 825622,\n",
       "                           'twoReco_mm': 2175847,\n",
       "                           'twoReco_leptons': 3001467,\n",
       "                           'z_ptcut_reco': 1437880,\n",
       "                           'z_mcut_reco': 2819937,\n",
       "                           'oneRecoJet': 309706,\n",
       "                           'z_jet_dphi_sel_reco': 130373,\n",
       "                           'z_pt_asym_sel_reco': 166745,\n",
       "                           'kinsel_reco': 35477,\n",
       "                           'toposel_reco': 125847,\n",
       "                           'presel_reco': 29912,\n",
       "                           'allsel_reco': 27956,\n",
       "                           'jet_mass_groomed_sel': 395830,\n",
       "                           'fakes': 7175,\n",
       "                           'matched_reco': 25283938,\n",
       "                           'final selection': 26987}),\n",
       "              'DYJetsToLL_M-50_HT-800to1200_TuneCP5_PSweights_13TeV-madgraphMLM-pythia8': defaultdict(int,\n",
       "                          {'all events': 6554679,\n",
       "                           'weights cut': 6305722,\n",
       "                           'npv': 6305722,\n",
       "                           'oneGenJet': 6305337,\n",
       "                           'matches': 5931995,\n",
       "                           'misses': 373727,\n",
       "                           'twoGen_ee': 841901,\n",
       "                           'twoGen_mm': 1142903,\n",
       "                           'twoGen_leptons': 1984713,\n",
       "                           'z_ptcut_gen': 1602063,\n",
       "                           'z_mcut_gen': 1830106,\n",
       "                           'z_jet_dphi_sel_gen': 4151077,\n",
       "                           'z_pt_asym_sel_gen': 826322,\n",
       "                           'kinsel_gen': 1470774,\n",
       "                           'toposel_gen': 531888,\n",
       "                           'allsel_gen': 333265,\n",
       "                           'twoReco_ee': 282550,\n",
       "                           'twoReco_mm': 490301,\n",
       "                           'twoReco_leptons': 772846,\n",
       "                           'z_ptcut_reco': 619881,\n",
       "                           'z_mcut_reco': 710247,\n",
       "                           'oneRecoJet': 6303521,\n",
       "                           'z_jet_dphi_sel_reco': 500977,\n",
       "                           'z_pt_asym_sel_reco': 248740,\n",
       "                           'kinsel_reco': 566642,\n",
       "                           'toposel_reco': 131701,\n",
       "                           'presel_reco': 142916,\n",
       "                           'allsel_reco': 102202,\n",
       "                           'jet_mass_groomed_sel': 6212432,\n",
       "                           'fakes': 11252,\n",
       "                           'matched_reco': 6294470,\n",
       "                           'final selection': 101467}),\n",
       "              'DYJetsToLL_M-50_HT-70to100_TuneCP5_PSweights_13TeV-madgraphMLM-pythia8': defaultdict(int,\n",
       "                          {'all events': 17004433,\n",
       "                           'weights cut': 16526374,\n",
       "                           'npv': 16526374,\n",
       "                           'oneGenJet': 8863,\n",
       "                           'matches': 16526042,\n",
       "                           'misses': 332,\n",
       "                           'twoGen_ee': 726889,\n",
       "                           'twoGen_mm': 1809997,\n",
       "                           'twoGen_leptons': 2536886,\n",
       "                           'z_ptcut_gen': 300723,\n",
       "                           'z_mcut_gen': 2394899,\n",
       "                           'z_jet_dphi_sel_gen': 1781,\n",
       "                           'z_pt_asym_sel_gen': 2048,\n",
       "                           'kinsel_gen': 108,\n",
       "                           'toposel_gen': 290,\n",
       "                           'allsel_gen': 70,\n",
       "                           'twoReco_ee': 423064,\n",
       "                           'twoReco_mm': 1335352,\n",
       "                           'twoReco_leptons': 1758416,\n",
       "                           'z_ptcut_reco': 205083,\n",
       "                           'z_mcut_reco': 1659578,\n",
       "                           'oneRecoJet': 7511,\n",
       "                           'z_jet_dphi_sel_reco': 686,\n",
       "                           'z_pt_asym_sel_reco': 626,\n",
       "                           'kinsel_reco': 40,\n",
       "                           'toposel_reco': 65,\n",
       "                           'presel_reco': 13,\n",
       "                           'allsel_reco': 12,\n",
       "                           'jet_mass_groomed_sel': 8337,\n",
       "                           'fakes': 4103,\n",
       "                           'matched_reco': 16522271,\n",
       "                           'final selection': 10}),\n",
       "              'DYJetsToLL_M-50_HT-600to800_TuneCP5_PSweights_13TeV-madgraphMLM-pythia8': defaultdict(int,\n",
       "                          {'all events': 7035971,\n",
       "                           'weights cut': 6748210,\n",
       "                           'npv': 6748210,\n",
       "                           'oneGenJet': 6737634,\n",
       "                           'matches': 6248285,\n",
       "                           'misses': 499925,\n",
       "                           'twoGen_ee': 824601,\n",
       "                           'twoGen_mm': 1150228,\n",
       "                           'twoGen_leptons': 1974776,\n",
       "                           'z_ptcut_gen': 1541213,\n",
       "                           'z_mcut_gen': 1825026,\n",
       "                           'z_jet_dphi_sel_gen': 4413213,\n",
       "                           'z_pt_asym_sel_gen': 1232242,\n",
       "                           'kinsel_gen': 1416391,\n",
       "                           'toposel_gen': 783394,\n",
       "                           'allsel_gen': 439621,\n",
       "                           'twoReco_ee': 294592,\n",
       "                           'twoReco_mm': 582994,\n",
       "                           'twoReco_leptons': 877583,\n",
       "                           'z_ptcut_reco': 682962,\n",
       "                           'z_mcut_reco': 808181,\n",
       "                           'oneRecoJet': 6678479,\n",
       "                           'z_jet_dphi_sel_reco': 548612,\n",
       "                           'z_pt_asym_sel_reco': 381986,\n",
       "                           'kinsel_reco': 622314,\n",
       "                           'toposel_reco': 191233,\n",
       "                           'presel_reco': 206914,\n",
       "                           'allsel_reco': 144401,\n",
       "                           'jet_mass_groomed_sel': 6519756,\n",
       "                           'fakes': 7956,\n",
       "                           'matched_reco': 6740254,\n",
       "                           'final selection': 142777}),\n",
       "              'DYJetsToLL_M-50_HT-400to600_TuneCP5_PSweights_13TeV-madgraphMLM-pythia8': defaultdict(int,\n",
       "                          {'all events': 8682257,\n",
       "                           'weights cut': 8308219,\n",
       "                           'npv': 8308219,\n",
       "                           'oneGenJet': 7890716,\n",
       "                           'matches': 7546754,\n",
       "                           'misses': 761465,\n",
       "                           'twoGen_ee': 901914,\n",
       "                           'twoGen_mm': 1313546,\n",
       "                           'twoGen_leptons': 2215413,\n",
       "                           'z_ptcut_gen': 1644449,\n",
       "                           'z_mcut_gen': 2054124,\n",
       "                           'z_jet_dphi_sel_gen': 5151586,\n",
       "                           'z_pt_asym_sel_gen': 1960301,\n",
       "                           'kinsel_gen': 1480135,\n",
       "                           'toposel_gen': 1258009,\n",
       "                           'allsel_gen': 633050,\n",
       "                           'twoReco_ee': 355724,\n",
       "                           'twoReco_mm': 760746,\n",
       "                           'twoReco_leptons': 1116466,\n",
       "                           'z_ptcut_reco': 832955,\n",
       "                           'z_mcut_reco': 1032175,\n",
       "                           'oneRecoJet': 6907863,\n",
       "                           'z_jet_dphi_sel_reco': 655638,\n",
       "                           'z_pt_asym_sel_reco': 606560,\n",
       "                           'kinsel_reco': 703722,\n",
       "                           'toposel_reco': 304576,\n",
       "                           'presel_reco': 305069,\n",
       "                           'allsel_reco': 215315,\n",
       "                           'jet_mass_groomed_sel': 6974477,\n",
       "                           'fakes': 7542,\n",
       "                           'matched_reco': 8300677,\n",
       "                           'final selection': 212355}),\n",
       "              'DYJetsToLL_M-50_HT-2500toInf_TuneCP5_PSweights_13TeV-madgraphMLM-pythia8': defaultdict(int,\n",
       "                          {'all events': 1978203,\n",
       "                           'weights cut': 1905550,\n",
       "                           'npv': 1905550,\n",
       "                           'oneGenJet': 1905550,\n",
       "                           'matches': 1828095,\n",
       "                           'misses': 77455,\n",
       "                           'twoGen_ee': 316769,\n",
       "                           'twoGen_mm': 401204,\n",
       "                           'twoGen_leptons': 717862,\n",
       "                           'z_ptcut_gen': 623628,\n",
       "                           'z_mcut_gen': 656261,\n",
       "                           'z_jet_dphi_sel_gen': 1242555,\n",
       "                           'z_pt_asym_sel_gen': 39905,\n",
       "                           'kinsel_gen': 568443,\n",
       "                           'toposel_gen': 27261,\n",
       "                           'allsel_gen': 20856,\n",
       "                           'twoReco_ee': 97959,\n",
       "                           'twoReco_mm': 53726,\n",
       "                           'twoReco_leptons': 151685,\n",
       "                           'z_ptcut_reco': 132248,\n",
       "                           'z_mcut_reco': 137957,\n",
       "                           'oneRecoJet': 1905550,\n",
       "                           'z_jet_dphi_sel_reco': 101134,\n",
       "                           'z_pt_asym_sel_reco': 7465,\n",
       "                           'kinsel_reco': 119943,\n",
       "                           'toposel_reco': 5168,\n",
       "                           'presel_reco': 4960,\n",
       "                           'allsel_reco': 3953,\n",
       "                           'jet_mass_groomed_sel': 1894573,\n",
       "                           'fakes': 4638,\n",
       "                           'matched_reco': 1900912,\n",
       "                           'final selection': 3927}),\n",
       "              'DYJetsToLL_M-50_HT-200to400_TuneCP5_PSweights_13TeV-madgraphMLM-pythia8': defaultdict(int,\n",
       "                          {'all events': 16839627,\n",
       "                           'weights cut': 16104991,\n",
       "                           'npv': 16104991,\n",
       "                           'oneGenJet': 6386826,\n",
       "                           'matches': 15713656,\n",
       "                           'misses': 391335,\n",
       "                           'twoGen_ee': 1374563,\n",
       "                           'twoGen_mm': 2236536,\n",
       "                           'twoGen_leptons': 3611087,\n",
       "                           'z_ptcut_gen': 2348002,\n",
       "                           'z_mcut_gen': 3372083,\n",
       "                           'z_jet_dphi_sel_gen': 4224638,\n",
       "                           'z_pt_asym_sel_gen': 2912559,\n",
       "                           'kinsel_gen': 1442984,\n",
       "                           'toposel_gen': 1894424,\n",
       "                           'allsel_gen': 954281,\n",
       "                           'twoReco_ee': 643057,\n",
       "                           'twoReco_mm': 1480265,\n",
       "                           'twoReco_leptons': 2123320,\n",
       "                           'z_ptcut_reco': 1401751,\n",
       "                           'z_mcut_reco': 1979137,\n",
       "                           'oneRecoJet': 3768830,\n",
       "                           'z_jet_dphi_sel_reco': 690210,\n",
       "                           'z_pt_asym_sel_reco': 887860,\n",
       "                           'kinsel_reco': 613479,\n",
       "                           'toposel_reco': 526454,\n",
       "                           'presel_reco': 370132,\n",
       "                           'allsel_reco': 287343,\n",
       "                           'jet_mass_groomed_sel': 4194630,\n",
       "                           'fakes': 11401,\n",
       "                           'matched_reco': 16093590,\n",
       "                           'final selection': 283029}),\n",
       "              'DYJetsToLL_M-50_HT-1200to2500_TuneCP5_PSweights_13TeV-madgraphMLM-pythia8': defaultdict(int,\n",
       "                          {'all events': 5966661,\n",
       "                           'weights cut': 5720565,\n",
       "                           'npv': 5720565,\n",
       "                           'oneGenJet': 5720562,\n",
       "                           'matches': 5443683,\n",
       "                           'misses': 276882,\n",
       "                           'twoGen_ee': 848007,\n",
       "                           'twoGen_mm': 1114649,\n",
       "                           'twoGen_leptons': 1962494,\n",
       "                           'z_ptcut_gen': 1643181,\n",
       "                           'z_mcut_gen': 1803048,\n",
       "                           'z_jet_dphi_sel_gen': 3760103,\n",
       "                           'z_pt_asym_sel_gen': 427976,\n",
       "                           'kinsel_gen': 1504669,\n",
       "                           'toposel_gen': 281507,\n",
       "                           'allsel_gen': 196935,\n",
       "                           'twoReco_ee': 268711,\n",
       "                           'twoReco_mm': 348713,\n",
       "                           'twoReco_leptons': 617422,\n",
       "                           'z_ptcut_reco': 513209,\n",
       "                           'z_mcut_reco': 564708,\n",
       "                           'oneRecoJet': 5720541,\n",
       "                           'z_jet_dphi_sel_reco': 413158,\n",
       "                           'z_pt_asym_sel_reco': 115157,\n",
       "                           'kinsel_reco': 467448,\n",
       "                           'toposel_reco': 67346,\n",
       "                           'presel_reco': 70494,\n",
       "                           'allsel_reco': 52581,\n",
       "                           'jet_mass_groomed_sel': 5687951,\n",
       "                           'fakes': 13087,\n",
       "                           'matched_reco': 5707478,\n",
       "                           'final selection': 52319})})}"
      ]
     },
     "execution_count": 2,
     "metadata": {},
     "output_type": "execute_result"
    }
   ],
   "source": [
    "output['cutflow']"
   ]
  },
  {
   "cell_type": "code",
   "execution_count": null,
   "metadata": {},
   "outputs": [],
   "source": [
    "import pickle\n",
    "with open(\"jackknife_output_5to9.pkl\", \"rb\") as f:\n",
    "    output_jk = pickle.load( f )\n",
    "for i in range(5):\n",
    "    output_jk[\"jackknife_response_g\"].project('jk', 'bin_reco')[i,:].plot()"
   ]
  },
  {
   "cell_type": "code",
   "execution_count": null,
   "metadata": {},
   "outputs": [],
   "source": [
    "output_jk[\"tunfold_migration_u\"]"
   ]
  },
  {
   "cell_type": "code",
   "execution_count": 4,
   "metadata": {},
   "outputs": [],
   "source": [
    "import pickle\n",
    "with open(\"qjetmass_zjets_reco.pkl\", \"rb\") as f:\n",
    "    output = pickle.load( f )"
   ]
  },
  {
   "cell_type": "code",
   "execution_count": 8,
   "metadata": {},
   "outputs": [
    {
     "ename": "KeyError",
     "evalue": "\"'nominal' not in axis\"",
     "output_type": "error",
     "traceback": [
      "\u001b[0;31m---------------------------------------------------------------------------\u001b[0m",
      "\u001b[0;31mKeyError\u001b[0m                                  Traceback (most recent call last)",
      "Cell \u001b[0;32mIn[8], line 1\u001b[0m\n\u001b[0;32m----> 1\u001b[0m \u001b[43moutput\u001b[49m\u001b[43m[\u001b[49m\u001b[38;5;124;43m\"\u001b[39;49m\u001b[38;5;124;43mtunfold_migration_u\u001b[39;49m\u001b[38;5;124;43m\"\u001b[39;49m\u001b[43m]\u001b[49m\u001b[43m[\u001b[49m\u001b[43m{\u001b[49m\u001b[38;5;124;43m'\u001b[39;49m\u001b[38;5;124;43msystematic\u001b[39;49m\u001b[38;5;124;43m'\u001b[39;49m\u001b[43m:\u001b[49m\u001b[43m \u001b[49m\u001b[38;5;124;43m'\u001b[39;49m\u001b[38;5;124;43mnominal\u001b[39;49m\u001b[38;5;124;43m'\u001b[39;49m\u001b[43m}\u001b[49m\u001b[43m]\u001b[49m\u001b[38;5;241m.\u001b[39mproject(\u001b[38;5;124m'\u001b[39m\u001b[38;5;124mbin_reco\u001b[39m\u001b[38;5;124m'\u001b[39m)\n",
      "File \u001b[0;32m/opt/conda/lib/python3.10/site-packages/hist/basehist.py:400\u001b[0m, in \u001b[0;36mBaseHist.__getitem__\u001b[0;34m(self, index)\u001b[0m\n\u001b[1;32m    393\u001b[0m \u001b[38;5;28;01mdef\u001b[39;00m \u001b[38;5;21m__getitem__\u001b[39m(  \u001b[38;5;66;03m# type: ignore[override]\u001b[39;00m\n\u001b[1;32m    394\u001b[0m     \u001b[38;5;28mself\u001b[39m, index: IndexingExpr\n\u001b[1;32m    395\u001b[0m ) \u001b[38;5;241m-\u001b[39m\u001b[38;5;241m>\u001b[39m Self \u001b[38;5;241m|\u001b[39m \u001b[38;5;28mfloat\u001b[39m \u001b[38;5;241m|\u001b[39m bh\u001b[38;5;241m.\u001b[39maccumulators\u001b[38;5;241m.\u001b[39mAccumulator:\n\u001b[1;32m    396\u001b[0m \u001b[38;5;250m    \u001b[39m\u001b[38;5;124;03m\"\"\"\u001b[39;00m\n\u001b[1;32m    397\u001b[0m \u001b[38;5;124;03m    Get histogram item.\u001b[39;00m\n\u001b[1;32m    398\u001b[0m \u001b[38;5;124;03m    \"\"\"\u001b[39;00m\n\u001b[0;32m--> 400\u001b[0m     \u001b[38;5;28;01mreturn\u001b[39;00m \u001b[38;5;28;43msuper\u001b[39;49m\u001b[43m(\u001b[49m\u001b[43m)\u001b[49m\u001b[38;5;241;43m.\u001b[39;49m\u001b[38;5;21;43m__getitem__\u001b[39;49m\u001b[43m(\u001b[49m\u001b[38;5;28;43mself\u001b[39;49m\u001b[38;5;241;43m.\u001b[39;49m\u001b[43m_index_transform\u001b[49m\u001b[43m(\u001b[49m\u001b[43mindex\u001b[49m\u001b[43m)\u001b[49m\u001b[43m)\u001b[49m\n",
      "File \u001b[0;32m/opt/conda/lib/python3.10/site-packages/boost_histogram/_internal/hist.py:812\u001b[0m, in \u001b[0;36mHistogram.__getitem__\u001b[0;34m(self, index)\u001b[0m\n\u001b[1;32m    811\u001b[0m \u001b[38;5;28;01mdef\u001b[39;00m \u001b[38;5;21m__getitem__\u001b[39m(\u001b[38;5;28mself\u001b[39m: H, index: IndexingExpr) \u001b[38;5;241m-\u001b[39m\u001b[38;5;241m>\u001b[39m H \u001b[38;5;241m|\u001b[39m \u001b[38;5;28mfloat\u001b[39m \u001b[38;5;241m|\u001b[39m Accumulator:\n\u001b[0;32m--> 812\u001b[0m     indexes \u001b[38;5;241m=\u001b[39m \u001b[38;5;28;43mself\u001b[39;49m\u001b[38;5;241;43m.\u001b[39;49m\u001b[43m_compute_commonindex\u001b[49m\u001b[43m(\u001b[49m\u001b[43mindex\u001b[49m\u001b[43m)\u001b[49m\n\u001b[1;32m    814\u001b[0m     \u001b[38;5;66;03m# If this is (now) all integers, return the bin contents\u001b[39;00m\n\u001b[1;32m    815\u001b[0m     \u001b[38;5;66;03m# But don't try *dict!\u001b[39;00m\n\u001b[1;32m    816\u001b[0m     \u001b[38;5;28;01mif\u001b[39;00m \u001b[38;5;129;01mnot\u001b[39;00m \u001b[38;5;28mhasattr\u001b[39m(indexes, \u001b[38;5;124m\"\u001b[39m\u001b[38;5;124mitems\u001b[39m\u001b[38;5;124m\"\u001b[39m) \u001b[38;5;129;01mand\u001b[39;00m \u001b[38;5;28mall\u001b[39m(\n\u001b[1;32m    817\u001b[0m         \u001b[38;5;28misinstance\u001b[39m(a, SupportsIndex) \u001b[38;5;28;01mfor\u001b[39;00m a \u001b[38;5;129;01min\u001b[39;00m indexes\n\u001b[1;32m    818\u001b[0m     ):\n",
      "File \u001b[0;32m/opt/conda/lib/python3.10/site-packages/boost_histogram/_internal/hist.py:726\u001b[0m, in \u001b[0;36mHistogram._compute_commonindex\u001b[0;34m(self, index)\u001b[0m\n\u001b[1;32m    724\u001b[0m         indexes[i] \u001b[38;5;241m=\u001b[39m [\u001b[38;5;28mself\u001b[39m\u001b[38;5;241m.\u001b[39m_compute_uhi_index(ind, i) \u001b[38;5;28;01mfor\u001b[39;00m ind \u001b[38;5;129;01min\u001b[39;00m indexes[i]]\n\u001b[1;32m    725\u001b[0m     \u001b[38;5;28;01melse\u001b[39;00m:\n\u001b[0;32m--> 726\u001b[0m         indexes[i] \u001b[38;5;241m=\u001b[39m \u001b[38;5;28;43mself\u001b[39;49m\u001b[38;5;241;43m.\u001b[39;49m\u001b[43m_compute_uhi_index\u001b[49m\u001b[43m(\u001b[49m\u001b[43mindexes\u001b[49m\u001b[43m[\u001b[49m\u001b[43mi\u001b[49m\u001b[43m]\u001b[49m\u001b[43m,\u001b[49m\u001b[43m \u001b[49m\u001b[43mi\u001b[49m\u001b[43m)\u001b[49m\n\u001b[1;32m    728\u001b[0m \u001b[38;5;28;01mreturn\u001b[39;00m indexes\n",
      "File \u001b[0;32m/opt/conda/lib/python3.10/site-packages/boost_histogram/_internal/hist.py:678\u001b[0m, in \u001b[0;36mHistogram._compute_uhi_index\u001b[0;34m(self, index, axis)\u001b[0m\n\u001b[1;32m    674\u001b[0m \u001b[38;5;66;03m# General locators\u001b[39;00m\n\u001b[1;32m    675\u001b[0m \u001b[38;5;66;03m# Note that MyPy doesn't like these very much - the fix\u001b[39;00m\n\u001b[1;32m    676\u001b[0m \u001b[38;5;66;03m# will be to properly set input types\u001b[39;00m\n\u001b[1;32m    677\u001b[0m \u001b[38;5;28;01mif\u001b[39;00m \u001b[38;5;28mcallable\u001b[39m(index):\n\u001b[0;32m--> 678\u001b[0m     \u001b[38;5;28;01mreturn\u001b[39;00m \u001b[43mindex\u001b[49m\u001b[43m(\u001b[49m\u001b[38;5;28;43mself\u001b[39;49m\u001b[38;5;241;43m.\u001b[39;49m\u001b[43maxes\u001b[49m\u001b[43m[\u001b[49m\u001b[43maxis\u001b[49m\u001b[43m]\u001b[49m\u001b[43m)\u001b[49m\n\u001b[1;32m    680\u001b[0m \u001b[38;5;28;01mif\u001b[39;00m \u001b[38;5;28misinstance\u001b[39m(index, \u001b[38;5;28mfloat\u001b[39m):\n\u001b[1;32m    681\u001b[0m     \u001b[38;5;28;01mraise\u001b[39;00m \u001b[38;5;167;01mTypeError\u001b[39;00m(\u001b[38;5;124mf\u001b[39m\u001b[38;5;124m\"\u001b[39m\u001b[38;5;124mIndex \u001b[39m\u001b[38;5;132;01m{\u001b[39;00mindex\u001b[38;5;132;01m}\u001b[39;00m\u001b[38;5;124m must be an integer, not float\u001b[39m\u001b[38;5;124m\"\u001b[39m)\n",
      "File \u001b[0;32m/opt/conda/lib/python3.10/site-packages/boost_histogram/tag.py:75\u001b[0m, in \u001b[0;36mloc.__call__\u001b[0;34m(self, axis)\u001b[0m\n\u001b[1;32m     74\u001b[0m \u001b[38;5;28;01mdef\u001b[39;00m \u001b[38;5;21m__call__\u001b[39m(\u001b[38;5;28mself\u001b[39m, axis: AxisLike) \u001b[38;5;241m-\u001b[39m\u001b[38;5;241m>\u001b[39m \u001b[38;5;28mint\u001b[39m:\n\u001b[0;32m---> 75\u001b[0m     \u001b[38;5;28;01mreturn\u001b[39;00m \u001b[43maxis\u001b[49m\u001b[38;5;241;43m.\u001b[39;49m\u001b[43mindex\u001b[49m\u001b[43m(\u001b[49m\u001b[38;5;28;43mself\u001b[39;49m\u001b[38;5;241;43m.\u001b[39;49m\u001b[43mvalue\u001b[49m\u001b[43m)\u001b[49m \u001b[38;5;241m+\u001b[39m \u001b[38;5;28mself\u001b[39m\u001b[38;5;241m.\u001b[39moffset\n",
      "File \u001b[0;32m/opt/conda/lib/python3.10/site-packages/boost_histogram/_internal/axis.py:652\u001b[0m, in \u001b[0;36mStrCategory.index\u001b[0;34m(self, value)\u001b[0m\n\u001b[1;32m    647\u001b[0m \u001b[38;5;250m\u001b[39m\u001b[38;5;124;03m\"\"\"\u001b[39;00m\n\u001b[1;32m    648\u001b[0m \u001b[38;5;124;03mReturn the fractional index(es) given a value (or values) on the axis.\u001b[39;00m\n\u001b[1;32m    649\u001b[0m \u001b[38;5;124;03m\"\"\"\u001b[39;00m\n\u001b[1;32m    651\u001b[0m \u001b[38;5;28;01mif\u001b[39;00m _isstr(value):\n\u001b[0;32m--> 652\u001b[0m     \u001b[38;5;28;01mreturn\u001b[39;00m \u001b[38;5;28;43mself\u001b[39;49m\u001b[38;5;241;43m.\u001b[39;49m\u001b[43m_ax\u001b[49m\u001b[38;5;241;43m.\u001b[39;49m\u001b[43mindex\u001b[49m\u001b[43m(\u001b[49m\u001b[43mvalue\u001b[49m\u001b[43m)\u001b[49m  \u001b[38;5;66;03m# type: ignore[no-any-return]\u001b[39;00m\n\u001b[1;32m    654\u001b[0m msg \u001b[38;5;241m=\u001b[39m \u001b[38;5;124mf\u001b[39m\u001b[38;5;124m\"\u001b[39m\u001b[38;5;124mindex(\u001b[39m\u001b[38;5;132;01m{\u001b[39;00mvalue\u001b[38;5;132;01m}\u001b[39;00m\u001b[38;5;124m) must be a string or iterable of strings for a StrCategory axis\u001b[39m\u001b[38;5;124m\"\u001b[39m\n\u001b[1;32m    655\u001b[0m \u001b[38;5;28;01mraise\u001b[39;00m \u001b[38;5;167;01mTypeError\u001b[39;00m(msg)\n",
      "\u001b[0;31mKeyError\u001b[0m: \"'nominal' not in axis\""
     ]
    }
   ],
   "source": [
    "output[\"tunfold_migration_u\"][{'systematic': 'nominal'}].project('bin_reco')"
   ]
  },
  {
   "cell_type": "code",
   "execution_count": 17,
   "metadata": {},
   "outputs": [
    {
     "data": {
      "text/plain": [
       "Regular(90, 0, 90, name='bin_reco', label='Detector')"
      ]
     },
     "execution_count": 17,
     "metadata": {},
     "output_type": "execute_result"
    }
   ],
   "source": [
    "output[\"tunfold_reco_g\"].project('bin_reco').axes['bin_reco']"
   ]
  },
  {
   "cell_type": "code",
   "execution_count": 6,
   "metadata": {},
   "outputs": [
    {
     "data": {
      "text/html": [
       "<html>\n",
       "<div style=\"display:flex; align-items:center;\">\n",
       "<div style=\"width:290px;\">\n",
       "<svg xmlns=\"http://www.w3.org/2000/svg\" viewBox=\"-10 -105 270 120\">\n",
       "<line x1=\"-5\" y1=\"0\" x2=\"255\" y2=\"0\" style=\"fill:none;stroke-width:2;stroke:currentColor\"/>\n",
       "<text text-anchor=\"middle\" x=\"0\" y=\"15\" style=\"fill:currentColor;\">\n",
       "0\n",
       "</text>\n",
       "<text text-anchor=\"middle\" x=\"250\" y=\"15\" style=\"fill:currentColor;\">\n",
       "90\n",
       "</text>\n",
       "<text text-anchor=\"middle\" x=\"125.0\" y=\"15\" style=\"fill:currentColor;\">\n",
       "Detector\n",
       "</text>\n",
       "<polyline points=\"  0,0   0,-0.0716 2.77778,-0.0716 2.77778,-0.0374 5.55556,-0.0374 5.55556,-0.0175 8.33333,-0.0175 8.33333,-0.0115 11.1111,-0.0115 11.1111,-0.0174 13.8889,-0.0174 13.8889,-0.0157 16.6667,-0.0157 16.6667,-0.017 19.4444,-0.017 19.4444,-0.0162 22.2222,-0.0162 22.2222,-0.0115  25,-0.0115  25,-0.00395 27.7778,-0.00395 27.7778,-0.00271 30.5556,-0.00271 30.5556,-0.000443 33.3333,-0.000443 33.3333,-0 36.1111,-0 36.1111,-0 38.8889,-0 38.8889,-0 41.6667,-0 41.6667,-0 44.4444,-0 44.4444,-0 47.2222,-0 47.2222,-0  50,-0  50,-100 52.7778,-100 52.7778,-40.6 55.5556,-40.6 55.5556,-19.1 58.3333,-19.1 58.3333,-12.9 61.1111,-12.9 61.1111,-17.5 63.8889,-17.5 63.8889,-13.1 66.6667,-13.1 66.6667,-12.7 69.4444,-12.7 69.4444,-12.7 72.2222,-12.7 72.2222,-10.8  75,-10.8  75,-7.74 77.7778,-7.74 77.7778,-4.69 80.5556,-4.69 80.5556,-2.22 83.3333,-2.22 83.3333,-0.991 86.1111,-0.991 86.1111,-0.0101 88.8889,-0.0101 88.8889,-0 91.6667,-0 91.6667,-0 94.4444,-0 94.4444,-0 97.2222,-0 97.2222,-0 100,-0 100,-28.5 102.778,-28.5 102.778,-10 105.556,-10 105.556,-4.62 108.333,-4.62 108.333,-3.22 111.111,-3.22 111.111,-4.59 113.889,-4.59 113.889,-3.38 116.667,-3.38 116.667,-2.9 119.444,-2.9 119.444,-2.71 122.222,-2.71 122.222,-2.76 125,-2.76 125,-2.49 127.778,-2.49 127.778,-2.08 130.556,-2.08 130.556,-1.57 133.333,-1.57 133.333,-2.04 136.111,-2.04 136.111,-0.399 138.889,-0.399 138.889,-0.0296 141.667,-0.0296 141.667,-0.000586 144.444,-0.000586 144.444,-1.99e-05 147.222,-1.99e-05 147.222,-0 150,-0 150,-5.97 152.778,-5.97 152.778,-2.05 155.556,-2.05 155.556,-0.886 158.333,-0.886 158.333,-0.621 161.111,-0.621 161.111,-0.915 163.889,-0.915 163.889,-0.734 166.667,-0.734 166.667,-0.599 169.444,-0.599 169.444,-0.536 172.222,-0.536 172.222,-0.47 175,-0.47 175,-0.447 177.778,-0.447 177.778,-0.426 180.556,-0.426 180.556,-0.401 183.333,-0.401 183.333,-0.801 186.111,-0.801 186.111,-0.447 188.889,-0.447 188.889,-0.19 191.667,-0.19 191.667,-0.0368 194.444,-0.0368 194.444,-0.00591 197.222,-0.00591 197.222,-0 200,-0 200,-2.02 202.778,-2.02 202.778,-0.814 205.556,-0.814 205.556,-0.358 208.333,-0.358 208.333,-0.236 211.111,-0.236 211.111,-0.353 213.889,-0.353 213.889,-0.282 216.667,-0.282 216.667,-0.23 219.444,-0.23 219.444,-0.203 222.222,-0.203 222.222,-0.166 225,-0.166 225,-0.152 227.778,-0.152 227.778,-0.142 230.556,-0.142 230.556,-0.137 233.333,-0.137 233.333,-0.298 236.111,-0.298 236.111,-0.251 238.889,-0.251 238.889,-0.186 241.667,-0.186 241.667,-0.127 244.444,-0.127 244.444,-0.158 247.222,-0.158 247.222,-0 250,-0 250,0\" style=\"fill:none; stroke:currentColor;\"/>\n",
       "</svg>\n",
       "</div>\n",
       "<div style=\"flex=grow:1;\">\n",
       "Regular(90, 0, 90, name='bin_reco', label='Detector')<br/>\n",
       "<hr style=\"margin-top:.2em; margin-bottom:.2em;\"/>\n",
       "Weight() Σ=WeightedSum(value=142379, variance=43557.4)\n",
       "\n",
       "</div>\n",
       "</div>\n",
       "</html>"
      ],
      "text/plain": [
       "Hist(Regular(90, 0, 90, name='bin_reco', label='Detector'), storage=Weight()) # Sum: WeightedSum(value=142379, variance=43557.4)"
      ]
     },
     "execution_count": 6,
     "metadata": {},
     "output_type": "execute_result"
    }
   ],
   "source": [
    "output[\"tunfold_reco_g\"][{'systematic': 'nominal'}].project('bin_reco')"
   ]
  },
  {
   "cell_type": "code",
   "execution_count": 19,
   "metadata": {},
   "outputs": [
    {
     "data": {
      "text/plain": [
       "Regular(77, 0, 77, name='bin_gen', label='Generator')"
      ]
     },
     "execution_count": 19,
     "metadata": {},
     "output_type": "execute_result"
    }
   ],
   "source": [
    "output[\"tunfold_migration_u\"][{'systematic': 'nominal'}].project('bin_gen').axes['bin_gen']"
   ]
  },
  {
   "cell_type": "code",
   "execution_count": 10,
   "metadata": {},
   "outputs": [
    {
     "data": {
      "text/plain": [
       "[StairsArtists(stairs=<matplotlib.patches.StepPatch object at 0x7f79e1115f60>, errorbar=<ErrorbarContainer object of 3 artists>, legend_artist=<ErrorbarContainer object of 3 artists>)]"
      ]
     },
     "execution_count": 10,
     "metadata": {},
     "output_type": "execute_result"
    },
    {
     "data": {
      "image/png": "[encoded data removed]",
      "text/plain": [
       "<Figure size 640x480 with 1 Axes>"
      ]
     },
     "metadata": {},
     "output_type": "display_data"
    }
   ],
   "source": [
    "output[\"tunfold_reco_u\"][{'systematic': 'nominal'}].project('bin_reco').plot()"
   ]
  },
  {
   "cell_type": "code",
   "execution_count": 21,
   "metadata": {},
   "outputs": [],
   "source": [
    "import pickle\n",
    "with open(\"qjetmass_zjets_reco.pkl\", \"rb\") as f:\n",
    "    output = pickle.load( f )"
   ]
  },
  {
   "cell_type": "code",
   "execution_count": 22,
   "metadata": {},
   "outputs": [
    {
     "data": {
      "text/html": [
       "<html>\n",
       "<div style=\"display:flex; align-items:center;\">\n",
       "<div style=\"width:290px;\">\n",
       "<svg xmlns=\"http://www.w3.org/2000/svg\" viewBox=\"-10 -105 270 120\">\n",
       "<line x1=\"-5\" y1=\"0\" x2=\"255\" y2=\"0\" style=\"fill:none;stroke-width:2;stroke:currentColor\"/>\n",
       "<text text-anchor=\"middle\" x=\"0\" y=\"15\" style=\"fill:currentColor;\">\n",
       "0\n",
       "</text>\n",
       "<text text-anchor=\"middle\" x=\"250\" y=\"15\" style=\"fill:currentColor;\">\n",
       "90\n",
       "</text>\n",
       "<text text-anchor=\"middle\" x=\"125.0\" y=\"15\" style=\"fill:currentColor;\">\n",
       "Detector\n",
       "</text>\n",
       "<polyline points=\"  0,0   0,-0 2.77778,-0 2.77778,-0 5.55556,-0 5.55556,-0 8.33333,-0 8.33333,-0 11.1111,-0 11.1111,-0 13.8889,-0 13.8889,-0 16.6667,-0 16.6667,-0 19.4444,-0 19.4444,-0 22.2222,-0 22.2222,-0  25,-0  25,-0 27.7778,-0 27.7778,-0 30.5556,-0 30.5556,-0 33.3333,-0 33.3333,-0 36.1111,-0 36.1111,-0 38.8889,-0 38.8889,-0 41.6667,-0 41.6667,-0 44.4444,-0 44.4444,-0 47.2222,-0 47.2222,-0  50,-0  50,-100 52.7778,-100 52.7778,-47.7 55.5556,-47.7 55.5556,-24.9 58.3333,-24.9 58.3333,-17.2 61.1111,-17.2 61.1111,-24.4 63.8889,-24.4 63.8889,-17.6 66.6667,-17.6 66.6667,-15.8 69.4444,-15.8 69.4444,-14.6 72.2222,-14.6 72.2222,-12.5  75,-12.5  75,-9.28 77.7778,-9.28 77.7778,-6.66 80.5556,-6.66 80.5556,-3.65 83.3333,-3.65 83.3333,-1.91 86.1111,-1.91 86.1111,-0.0429 88.8889,-0.0429 88.8889,-0 91.6667,-0 91.6667,-0 94.4444,-0 94.4444,-0 97.2222,-0 97.2222,-0 100,-0 100,-33.4 102.778,-33.4 102.778,-14.5 105.556,-14.5 105.556,-7.13 108.333,-7.13 108.333,-5.09 111.111,-5.09 111.111,-7.06 113.889,-7.06 113.889,-4.98 116.667,-4.98 116.667,-4.01 119.444,-4.01 119.444,-3.69 122.222,-3.69 122.222,-3.62 125,-3.62 125,-3.3 127.778,-3.3 127.778,-2.8 130.556,-2.8 130.556,-2.31 133.333,-2.31 133.333,-3.21 136.111,-3.21 136.111,-0.707 138.889,-0.707 138.889,-0.0505 141.667,-0.0505 141.667,-0 144.444,-0 144.444,-0 147.222,-0 147.222,-0 150,-0 150,-8.84 152.778,-8.84 152.778,-3.84 155.556,-3.84 155.556,-1.87 158.333,-1.87 158.333,-1.21 161.111,-1.21 161.111,-1.79 163.889,-1.79 163.889,-1.26 166.667,-1.26 166.667,-1.03 169.444,-1.03 169.444,-0.803 172.222,-0.803 172.222,-0.661 175,-0.661 175,-0.692 177.778,-0.692 177.778,-0.684 180.556,-0.684 180.556,-0.692 183.333,-0.692 183.333,-1.27 186.111,-1.27 186.111,-0.85 188.889,-0.85 188.889,-0.399 191.667,-0.399 191.667,-0.103 194.444,-0.103 194.444,-0.0177 197.222,-0.0177 197.222,-0 200,-0 200,-3.39 202.778,-3.39 202.778,-1.64 205.556,-1.64 205.556,-0.79 208.333,-0.79 208.333,-0.399 211.111,-0.399 211.111,-0.704 213.889,-0.704 213.889,-0.505 216.667,-0.505 216.667,-0.366 219.444,-0.366 219.444,-0.285 222.222,-0.285 222.222,-0.26 225,-0.26 225,-0.242 227.778,-0.242 227.778,-0.247 230.556,-0.247 230.556,-0.245 233.333,-0.245 233.333,-0.449 236.111,-0.449 236.111,-0.437 238.889,-0.437 238.889,-0.285 241.667,-0.285 241.667,-0.204 244.444,-0.204 244.444,-0.232 247.222,-0.232 247.222,-0 250,-0 250,0\" style=\"fill:none; stroke:currentColor;\"/>\n",
       "</svg>\n",
       "</div>\n",
       "<div style=\"flex=grow:1;\">\n",
       "Regular(90, 0, 90, name='bin_reco', label='Detector')<br/>\n",
       "<hr style=\"margin-top:.2em; margin-bottom:.2em;\"/>\n",
       "Weight() Σ=WeightedSum(value=169927, variance=169927)\n",
       "\n",
       "</div>\n",
       "</div>\n",
       "</html>"
      ],
      "text/plain": [
       "Hist(Regular(90, 0, 90, name='bin_reco', label='Detector'), storage=Weight()) # Sum: WeightedSum(value=169927, variance=169927)"
      ]
     },
     "execution_count": 22,
     "metadata": {},
     "output_type": "execute_result"
    }
   ],
   "source": [
    "output[\"tunfold_reco_g\"][{'systematic': 'nominal'}].project('bin_reco')"
   ]
  },
  {
   "cell_type": "code",
   "execution_count": 18,
   "metadata": {},
   "outputs": [],
   "source": [
    "#len(f[\"Events\"]['reco_jet_pt'].arrays())"
   ]
  },
  {
   "cell_type": "markdown",
   "metadata": {},
   "source": [
    "### Open pkl file for the output histograms"
   ]
  },
  {
   "cell_type": "code",
   "execution_count": 95,
   "metadata": {},
   "outputs": [],
   "source": [
    "import pickle\n",
    "with open(\"qjetmass_zjets_reco.pkl\", \"rb\") as f:\n",
    "    output = pickle.load( f )"
   ]
  },
  {
   "cell_type": "code",
   "execution_count": 116,
   "metadata": {},
   "outputs": [],
   "source": [
    "import pickle\n",
    "with open(\"qjetmass_zjets_gen__all_syst.pkl\", \"rb\") as f:\n",
    "    output = pickle.load( f )"
   ]
  },
  {
   "cell_type": "code",
   "execution_count": 117,
   "metadata": {},
   "outputs": [],
   "source": [
    "import pickle\n",
    "with open(\"test_qjetmass_zjets_gen_UL16NanoAODv9_all_syst.pkl\", \"rb\") as f:\n",
    "    output = pickle.load( f )"
   ]
  },
  {
   "cell_type": "code",
   "execution_count": 118,
   "metadata": {
    "tags": []
   },
   "outputs": [
    {
     "data": {
      "text/plain": [
       "dict_keys(['njet_gen', 'puweight', 'pdfweight', 'elerecoweight', 'murecoweight', 'muidweight', 'q2weight', 'mutrigweight', 'prefiringweight', 'njet_reco', 'ptjet_gen_pre', 'ptjet_mjet_u_gen', 'ptjet_mjet_u_reco', 'ptjet_mjet_g_gen', 'ptjet_mjet_g_reco', 'ptjet_reco_over_gen', 'drjet_reco_gen', 'ptz_gen', 'ptz_reco', 'mz_gen', 'mz_reco', 'mz_reco_over_gen', 'fakes', 'misses', 'dr_z_jet_gen', 'dr_z_jet_reco', 'dphi_z_jet_gen', 'dphi_z_jet_reco', 'ptasym_z_jet_gen', 'ptasym_z_jet_reco', 'ptfrac_z_jet_gen', 'ptfrac_z_jet_reco', 'm_u_jet_reco_over_gen', 'm_g_jet_reco_over_gen', 'dr_gen_subjet', 'dr_reco_to_gen_subjet', 'response_matrix_u', 'response_matrix_g', 'cutflow'])"
      ]
     },
     "execution_count": 118,
     "metadata": {},
     "output_type": "execute_result"
    }
   ],
   "source": [
    "output.keys()"
   ]
  },
  {
   "cell_type": "code",
   "execution_count": 15,
   "metadata": {},
   "outputs": [],
   "source": [
    "import pickle\n",
    "with open(\"test_qjetmass_zjets_gen_UL16NanoAODv9_all_syst.pkl\", \"rb\") as f:\n",
    "    output = pickle.load( f )"
   ]
  },
  {
   "cell_type": "code",
   "execution_count": 16,
   "metadata": {
    "scrolled": true
   },
   "outputs": [
    {
     "data": {
      "text/plain": [
       "{'UL16NanoAODv9': defaultdict(int,\n",
       "             {'all events': 1014,\n",
       "              'weights cut': 1014,\n",
       "              'npv': 1014,\n",
       "              'oneGenJet': 1013,\n",
       "              'matches': 869,\n",
       "              'misses': 145,\n",
       "              'twoGen_ee': 144,\n",
       "              'twoGen_mm': 162,\n",
       "              'twoGen_leptons': 306,\n",
       "              'z_ptcut_gen': 256,\n",
       "              'z_mcut_gen': 285,\n",
       "              'z_jet_dphi_sel_gen': 661,\n",
       "              'z_pt_asym_sel_gen': 124,\n",
       "              'kinsel_gen': 238,\n",
       "              'toposel_gen': 80,\n",
       "              'allsel_gen': 55,\n",
       "              'twoReco_ee': 41,\n",
       "              'twoReco_mm': 72,\n",
       "              'number of electron or muon is 2': 455,\n",
       "              'twoReco_leptons': 113,\n",
       "              'z_ptcut_reco': 281,\n",
       "              'z_mcut_reco': 199,\n",
       "              'oneRecoJet': 1013,\n",
       "              'z_jet_dphi_sel_reco': 76,\n",
       "              'z_pt_asym_sel_reco': 27,\n",
       "              'kinsel_reco': 83,\n",
       "              'toposel_reco': 15,\n",
       "              'presel_reco': 17,\n",
       "              'allsel_reco': 10,\n",
       "              'jet_mass_groomed_sel': 1000,\n",
       "              'fakes': 0,\n",
       "              'matched_reco': 1014})}"
      ]
     },
     "execution_count": 16,
     "metadata": {},
     "output_type": "execute_result"
    }
   ],
   "source": [
    "output[\"cutflow\"]"
   ]
  },
  {
   "cell_type": "code",
   "execution_count": 121,
   "metadata": {
    "tags": []
   },
   "outputs": [
    {
     "ename": "ZeroDivisionError",
     "evalue": "division by zero",
     "output_type": "error",
     "traceback": [
      "\u001b[0;31m---------------------------------------------------------------------------\u001b[0m",
      "\u001b[0;31mZeroDivisionError\u001b[0m                         Traceback (most recent call last)",
      "Cell \u001b[0;32mIn[121], line 5\u001b[0m\n\u001b[1;32m      3\u001b[0m cutflow_percent\u001b[38;5;241m.\u001b[39mupdate({era:{}})\n\u001b[1;32m      4\u001b[0m \u001b[38;5;28;01mfor\u001b[39;00m key \u001b[38;5;129;01min\u001b[39;00m output[\u001b[38;5;124m\"\u001b[39m\u001b[38;5;124mcutflow\u001b[39m\u001b[38;5;124m\"\u001b[39m][era]\u001b[38;5;241m.\u001b[39mkeys():\n\u001b[0;32m----> 5\u001b[0m     cutflow_percent[era]\u001b[38;5;241m.\u001b[39mupdate({key: \u001b[38;5;241;43m100\u001b[39;49m\u001b[38;5;241;43m*\u001b[39;49m\u001b[43moutput\u001b[49m\u001b[43m[\u001b[49m\u001b[38;5;124;43m'\u001b[39;49m\u001b[38;5;124;43mcutflow\u001b[39;49m\u001b[38;5;124;43m'\u001b[39;49m\u001b[43m]\u001b[49m\u001b[43m[\u001b[49m\u001b[43mera\u001b[49m\u001b[43m]\u001b[49m\u001b[43m[\u001b[49m\u001b[43mkey\u001b[49m\u001b[43m]\u001b[49m\u001b[38;5;241;43m/\u001b[39;49m\u001b[43moutput\u001b[49m\u001b[43m[\u001b[49m\u001b[38;5;124;43m'\u001b[39;49m\u001b[38;5;124;43mcutflow\u001b[39;49m\u001b[38;5;124;43m'\u001b[39;49m\u001b[43m]\u001b[49m\u001b[43m[\u001b[49m\u001b[43mera\u001b[49m\u001b[43m]\u001b[49m\u001b[43m[\u001b[49m\u001b[38;5;124;43m'\u001b[39;49m\u001b[38;5;124;43mtrigsel\u001b[39;49m\u001b[38;5;124;43m'\u001b[39;49m\u001b[43m]\u001b[49m})\n",
      "\u001b[0;31mZeroDivisionError\u001b[0m: division by zero"
     ]
    }
   ],
   "source": [
    "\n",
    "cutflow_percent = {}\n",
    "for era in output[\"cutflow\"].keys():\n",
    "    cutflow_percent.update({era:{}})\n",
    "    for key in output[\"cutflow\"][era].keys():\n",
    "        cutflow_percent[era].update({key: 100*output['cutflow'][era][key]/output['cutflow'][era]['trigsel']})"
   ]
  },
  {
   "cell_type": "code",
   "execution_count": 122,
   "metadata": {},
   "outputs": [],
   "source": [
    "cutflow = {}\n",
    "for sel in output[\"cutflow\"]['UL16NanoAODv9_DYJetsToLL_M-50_HT-100to200_TuneCP5_PSweights_13TeV-madgraphMLM-pythia8'].keys():\n",
    "    cutflow[sel] = 0\n",
    "\n",
    "for sel in output[\"cutflow\"]['UL16NanoAODv9_DYJetsToLL_M-50_HT-100to200_TuneCP5_PSweights_13TeV-madgraphMLM-pythia8'].keys():\n",
    "    for key in output[\"cutflow\"].keys():\n",
    "        cutflow[sel]+= output[\"cutflow\"][key][sel]"
   ]
  },
  {
   "cell_type": "code",
   "execution_count": 18,
   "metadata": {},
   "outputs": [
    {
     "data": {
      "text/plain": [
       "Hist(\n",
       "  StrCategory(['UL16NanoAODv9'], growth=True, name='dataset', label='Primary dataset'),\n",
       "  Variable([170, 200, 260, 350, 460, 13000], name='ptreco', label='p_{T,RECO} (GeV)'),\n",
       "  Variable([0, 5, 10, 15, 20, 30, 40, 50, 60, 70, 80, 90, 100, 125, 150, 175, 200, 6200, 13000], name='mreco', label='m_{RECO} (GeV)'),\n",
       "  StrCategory(['nominal', 'puUp', 'puDown'], growth=True, name='systematic', label='Systematic Uncertainty'),\n",
       "  storage=Weight()) # Sum: WeightedSum(value=151.086, variance=875.019)"
      ]
     },
     "execution_count": 18,
     "metadata": {},
     "output_type": "execute_result"
    }
   ],
   "source": [
    "output['ptjet_mjet_u_reco']"
   ]
  },
  {
   "cell_type": "code",
   "execution_count": 124,
   "metadata": {},
   "outputs": [
    {
     "data": {
      "text/plain": [
       "{'all events': 100.0,\n",
       " 'weights cut': 81.66860561741733,\n",
       " 'npv': 81.66860561741733,\n",
       " 'oneGenJet': 60.09639355160379,\n",
       " 'matches': 71.77995678909755,\n",
       " 'misses': 9.888648828319761,\n",
       " 'twoGen_ee': 9.041050357320925,\n",
       " 'twoGen_mm': 12.414824663453548,\n",
       " 'twoGen_leptons': 21.455875020774474,\n",
       " 'z_ptcut_gen': 15.539305301645337,\n",
       " 'z_mcut_gen': 19.710819345188632,\n",
       " 'z_jet_dphi_sel_gen': 39.30530164533821,\n",
       " 'z_pt_asym_sel_gen': 11.716802393219213,\n",
       " 'kinsel_gen': 12.813694532158884,\n",
       " 'toposel_gen': 7.711484128303141,\n",
       " 'allsel_gen': 3.805883330563404,\n",
       " 'twoReco_ee': 3.074621904603623,\n",
       " 'number of electron is 2': 20.824331061991025,\n",
       " 'ptcut_e2': 39.90360644839621,\n",
       " 'ptcut_e': 35.74871198271563,\n",
       " 'eta_cut_e': 81.25311617084925,\n",
       " 'opposite_signed_ee': 41.00049858733588,\n",
       " 'pfRelIso_cut_e': 44.80638191789929,\n",
       " 'cutBased_e': 38.80671430945654,\n",
       " 'twoReco_mm': 6.697689878677082,\n",
       " 'number of muon is 2': 18.03224198105368,\n",
       " 'ptcut_m2': 50.19112514542131,\n",
       " 'eta_cut_m': 81.60212730596643,\n",
       " 'opposite_signed_mm': 50.77281037061658,\n",
       " 'pfRelIso_cut_m': 54.5122153897291,\n",
       " 'looseId_m': 61.0769486455044,\n",
       " 'number of electron or muon is 2': 35.94814691706831,\n",
       " 'twoReco_leptons': 9.772311783280704,\n",
       " 'z_ptcut_reco': 19.41166694365963,\n",
       " 'z_mcut_reco': 15.904936014625228,\n",
       " 'oneRecoJet': 55.742064151570546,\n",
       " 'z_jet_dphi_sel_reco': 4.769818846601296,\n",
       " 'z_pt_asym_sel_reco': 3.074621904603623,\n",
       " 'kinsel_reco': 4.9858733588166855,\n",
       " 'toposel_reco': 1.9444906099385075,\n",
       " 'presel_reco': 1.6619577862722286,\n",
       " 'allsel_reco': 1.2797074954296161,\n",
       " 'jet_mass_groomed_sel': 51.68688715306631,\n",
       " 'fakes': 0.16619577862722287,\n",
       " 'matched_reco': 81.50240983879009}"
      ]
     },
     "execution_count": 124,
     "metadata": {},
     "output_type": "execute_result"
    }
   ],
   "source": [
    "cutflow_percent = {}\n",
    "for key in cutflow.keys():\n",
    "    cutflow_percent[key] = 100*(cutflow[key]/cutflow['all events'])\n",
    "cutflow_percent"
   ]
  },
  {
   "cell_type": "code",
   "execution_count": null,
   "metadata": {},
   "outputs": [],
   "source": []
  },
  {
   "cell_type": "code",
   "execution_count": 131,
   "metadata": {},
   "outputs": [],
   "source": [
    "import pickle\n",
    "with open(\"test_qjetmass_zjets_reco.pkl\", \"rb\") as f:\n",
    "    output = pickle.load( f )"
   ]
  },
  {
   "cell_type": "code",
   "execution_count": 132,
   "metadata": {},
   "outputs": [
    {
     "data": {
      "text/plain": [
       "{'UL2018': defaultdict(int,\n",
       "             {'trigsel': 82568,\n",
       "              'npv': 99077,\n",
       "              'twoReco_ee': 0,\n",
       "              'number of electron is 2': 2248,\n",
       "              'ptcut_e2': 84156,\n",
       "              'ptcut_e': 1748,\n",
       "              'eta_cut_e': 98733,\n",
       "              'opposite_signed_ee': 84169,\n",
       "              'pfRelIso_cut_e': 87252,\n",
       "              'cutBased_e': 84381,\n",
       "              'twoReco_mm': 3276,\n",
       "              'number of muon is 2': 21845,\n",
       "              'ptcut_m2': 57212,\n",
       "              'eta_cut_m': 99003,\n",
       "              'opposite_signed_mm': 13951,\n",
       "              'pfRelIso_cut_m': 74054,\n",
       "              'looseId_m': 85046,\n",
       "              'number of electron or muon is 2': 23422,\n",
       "              'twoReco_leptons': 3276,\n",
       "              'z_ptcut_reco': 4321,\n",
       "              'z_mcut_reco': 6411,\n",
       "              'oneRecoJet': 8039,\n",
       "              'z_jet_dphi_sel_reco': 14,\n",
       "              'z_pt_asym_sel_reco': 18,\n",
       "              'kinsel_reco': 13,\n",
       "              'toposel_reco': 5,\n",
       "              'presel_reco': 13,\n",
       "              'allsel_reco': 4,\n",
       "              'jet_mass_groomed_sel': 6095})}"
      ]
     },
     "execution_count": 132,
     "metadata": {},
     "output_type": "execute_result"
    }
   ],
   "source": [
    "output[\"cutflow\"]"
   ]
  },
  {
   "cell_type": "code",
   "execution_count": 133,
   "metadata": {},
   "outputs": [
    {
     "name": "stderr",
     "output_type": "stream",
     "text": [
      "2024-05-14 08:57:14,006 - tornado.application - ERROR - Uncaught exception GET /workers/ws (127.0.0.1)\n",
      "HTTPServerRequest(protocol='http', host='127.0.0.1:8883', method='GET', uri='/workers/ws', version='HTTP/1.1', remote_ip='127.0.0.1')\n",
      "Traceback (most recent call last):\n",
      "  File \"/opt/conda/lib/python3.10/site-packages/tornado/websocket.py\", line 937, in _accept_connection\n",
      "    open_result = handler.open(*handler.open_args, **handler.open_kwargs)\n",
      "  File \"/opt/conda/lib/python3.10/site-packages/tornado/web.py\", line 3290, in wrapper\n",
      "    return method(self, *args, **kwargs)\n",
      "  File \"/opt/conda/lib/python3.10/site-packages/bokeh/server/views/ws.py\", line 149, in open\n",
      "    raise ProtocolError(\"Token is expired.\")\n",
      "bokeh.protocol.exceptions.ProtocolError: Token is expired.\n",
      "ERROR:tornado.application:Uncaught exception GET /workers/ws (127.0.0.1)\n",
      "HTTPServerRequest(protocol='http', host='127.0.0.1:8883', method='GET', uri='/workers/ws', version='HTTP/1.1', remote_ip='127.0.0.1')\n",
      "Traceback (most recent call last):\n",
      "  File \"/opt/conda/lib/python3.10/site-packages/tornado/websocket.py\", line 937, in _accept_connection\n",
      "    open_result = handler.open(*handler.open_args, **handler.open_kwargs)\n",
      "  File \"/opt/conda/lib/python3.10/site-packages/tornado/web.py\", line 3290, in wrapper\n",
      "    return method(self, *args, **kwargs)\n",
      "  File \"/opt/conda/lib/python3.10/site-packages/bokeh/server/views/ws.py\", line 149, in open\n",
      "    raise ProtocolError(\"Token is expired.\")\n",
      "bokeh.protocol.exceptions.ProtocolError: Token is expired.\n",
      "2024-05-14 09:45:36,111 - tornado.application - ERROR - Uncaught exception GET /status/ws (127.0.0.1)\n",
      "HTTPServerRequest(protocol='http', host='127.0.0.1:8883', method='GET', uri='/status/ws', version='HTTP/1.1', remote_ip='127.0.0.1')\n",
      "Traceback (most recent call last):\n",
      "  File \"/opt/conda/lib/python3.10/site-packages/tornado/websocket.py\", line 937, in _accept_connection\n",
      "    open_result = handler.open(*handler.open_args, **handler.open_kwargs)\n",
      "  File \"/opt/conda/lib/python3.10/site-packages/tornado/web.py\", line 3290, in wrapper\n",
      "    return method(self, *args, **kwargs)\n",
      "  File \"/opt/conda/lib/python3.10/site-packages/bokeh/server/views/ws.py\", line 149, in open\n",
      "    raise ProtocolError(\"Token is expired.\")\n",
      "bokeh.protocol.exceptions.ProtocolError: Token is expired.\n",
      "ERROR:tornado.application:Uncaught exception GET /status/ws (127.0.0.1)\n",
      "HTTPServerRequest(protocol='http', host='127.0.0.1:8883', method='GET', uri='/status/ws', version='HTTP/1.1', remote_ip='127.0.0.1')\n",
      "Traceback (most recent call last):\n",
      "  File \"/opt/conda/lib/python3.10/site-packages/tornado/websocket.py\", line 937, in _accept_connection\n",
      "    open_result = handler.open(*handler.open_args, **handler.open_kwargs)\n",
      "  File \"/opt/conda/lib/python3.10/site-packages/tornado/web.py\", line 3290, in wrapper\n",
      "    return method(self, *args, **kwargs)\n",
      "  File \"/opt/conda/lib/python3.10/site-packages/bokeh/server/views/ws.py\", line 149, in open\n",
      "    raise ProtocolError(\"Token is expired.\")\n",
      "bokeh.protocol.exceptions.ProtocolError: Token is expired.\n"
     ]
    }
   ],
   "source": [
    "cutflow_percent = {}\n",
    "for era in output[\"cutflow\"].keys():\n",
    "    cutflow_percent.update({era:{}})\n",
    "    for key in output[\"cutflow\"][era].keys():\n",
    "        cutflow_percent[era].update({key: 100*output['cutflow'][era][key]/output['cutflow'][era]['npv']})"
   ]
  },
  {
   "cell_type": "code",
   "execution_count": 130,
   "metadata": {},
   "outputs": [
    {
     "data": {
      "text/plain": [
       "{'UL2018': {'trigsel': 83.33720237794846,\n",
       "  'npv': 100.0,\n",
       "  'twoReco_ee': 0.0,\n",
       "  'number of electron is 2': 2.268942337777688,\n",
       "  'ptcut_e2': 84.93999616459925,\n",
       "  'ptcut_e': 1.7642843444997325,\n",
       "  'eta_cut_e': 99.65279530062476,\n",
       "  'opposite_signed_ee': 84.95311727242448,\n",
       "  'pfRelIso_cut_e': 88.06483845897635,\n",
       "  'cutBased_e': 85.16709226157433,\n",
       "  'twoReco_mm': 3.3065191719571647,\n",
       "  'number of muon is 2': 22.048507726313876,\n",
       "  'ptcut_m2': 57.744986222836786,\n",
       "  'eta_cut_m': 99.92531061699486,\n",
       "  'opposite_signed_mm': 14.080967328441515,\n",
       "  'pfRelIso_cut_m': 74.74388606841144,\n",
       "  'looseId_m': 85.83828739263402,\n",
       "  'number of electron or muon is 2': 23.64019903711255,\n",
       "  'twoReco_leptons': 3.3065191719571647,\n",
       "  'z_ptcut_reco': 4.361254377908092,\n",
       "  'z_mcut_reco': 6.470724789809946,\n",
       "  'oneRecoJet': 8.113891215922969,\n",
       "  'z_jet_dphi_sel_reco': 0.014130423811782755,\n",
       "  'z_pt_asym_sel_reco': 0.0181676877580064,\n",
       "  'kinsel_reco': 0.013121107825226843,\n",
       "  'toposel_reco': 0.005046579932779556,\n",
       "  'presel_reco': 0.013121107825226843,\n",
       "  'allsel_reco': 0.004037263946223644,\n",
       "  'jet_mass_groomed_sel': 6.151780938058278}}"
      ]
     },
     "execution_count": 130,
     "metadata": {},
     "output_type": "execute_result"
    }
   ],
   "source": [
    "cutflow_percent"
   ]
  },
  {
   "cell_type": "code",
   "execution_count": 38,
   "metadata": {},
   "outputs": [
    {
     "data": {
      "text/plain": [
       "[StairsArtists(stairs=<matplotlib.patches.StepPatch object at 0x7f186a8f6e60>, errorbar=None, legend_artist=None)]"
      ]
     },
     "execution_count": 38,
     "metadata": {},
     "output_type": "execute_result"
    },
    {
     "data": {
      "image/png": "[encoded data removed]",
      "text/plain": [
       "<Figure size 640x480 with 1 Axes>"
      ]
     },
     "metadata": {},
     "output_type": "display_data"
    }
   ],
   "source": [
    "output['weight'].project('corrWeight').plot()"
   ]
  },
  {
   "cell_type": "code",
   "execution_count": 23,
   "metadata": {
    "scrolled": true
   },
   "outputs": [
    {
     "data": {
      "text/plain": [
       "Hist(\n",
       "  StrCategory([], growth=True, name='dataset', label='Primary dataset'),\n",
       "  Variable([170, 200, 260, 350, 460, 13000], name='ptreco', label='p_{T,RECO} (GeV)'),\n",
       "  Variable([0, 5, 10, 15, 20, 30, 40, 50, 60, 70, 80, 90, 100, 125, 150, 175, 200, 6200, 13000], name='mreco', label='m_{RECO} (GeV)'),\n",
       "  Variable([170, 200, 260, 350, 460, 13000], name='ptgen', label='p_{T,RECO} (GeV)'),\n",
       "  Variable([0, 10, 20, 40, 60, 80, 100, 150, 200, 13000], name='mgen', label='Mass (GeV)'),\n",
       "  StrCategory([], growth=True, name='systematic', label='Systematic Uncertainty'),\n",
       "  storage=Weight()) # Sum: WeightedSum(value=0, variance=0)"
      ]
     },
     "execution_count": 23,
     "metadata": {},
     "output_type": "execute_result"
    }
   ],
   "source": [
    "output['response_matrix_g']."
   ]
  },
  {
   "cell_type": "code",
   "execution_count": 18,
   "metadata": {},
   "outputs": [],
   "source": [
    "response_matrix_u_values = output['response_matrix_u'].project(\"ptreco\", \"mreco\", \"ptgen\", \"mgen\").values()\n",
    "response_matrix_g_values = output['response_matrix_g'].project(\"ptreco\", \"mreco\", \"ptgen\", \"mgen\").values()"
   ]
  },
  {
   "cell_type": "code",
   "execution_count": 19,
   "metadata": {},
   "outputs": [],
   "source": [
    "nptreco,nmassreco,nptgen,nmassgen = response_matrix_u_values.shape"
   ]
  },
  {
   "cell_type": "code",
   "execution_count": 20,
   "metadata": {},
   "outputs": [],
   "source": [
    "response_matrix_u_final = response_matrix_u_values.reshape( (nptreco)*(nmassreco), (nptgen)*(nmassgen) )"
   ]
  },
  {
   "cell_type": "code",
   "execution_count": 29,
   "metadata": {},
   "outputs": [],
   "source": [
    "response_matrix_g_final = response_matrix_g_values.reshape( (nptreco)*(nmassreco), (nptgen)*(nmassgen) )"
   ]
  },
  {
   "cell_type": "code",
   "execution_count": 30,
   "metadata": {
    "scrolled": true
   },
   "outputs": [
    {
     "data": {
      "image/png": "[encoded data removed]",
      "text/plain": [
       "<Figure size 4000x8000 with 1 Axes>"
      ]
     },
     "metadata": {},
     "output_type": "display_data"
    }
   ],
   "source": [
    "import matplotlib.pyplot as plt\n",
    "plt.figure(figsize = (40,80))\n",
    "plt.imshow( np.log(response_matrix_u_final+1), vmax=10, aspect=\"equal\", cmap=\"Blues\" )\n",
    "plt.xlabel(\"RECO\", fontsize=50)\n",
    "plt.ylabel(\"GEN\", fontsize=50)\n",
    "plt.tick_params(labelsize=40)"
   ]
  },
  {
   "cell_type": "code",
   "execution_count": 31,
   "metadata": {
    "scrolled": true
   },
   "outputs": [
    {
     "data": {
      "image/png": "[encoded data removed]",
      "text/plain": [
       "<Figure size 4000x8000 with 1 Axes>"
      ]
     },
     "metadata": {},
     "output_type": "display_data"
    }
   ],
   "source": [
    "plt.figure(figsize = (40,80))\n",
    "plt.imshow( np.log(response_matrix_g_final+1), vmax=10, aspect=\"equal\", cmap=\"Blues\" )\n",
    "plt.xlabel(\"RECO\", fontsize=50)\n",
    "plt.ylabel(\"GEN\", fontsize=50)\n",
    "plt.tick_params(labelsize=40)"
   ]
  },
  {
   "cell_type": "code",
   "execution_count": 25,
   "metadata": {},
   "outputs": [
    {
     "data": {
      "text/plain": [
       "array([0., 0., 0., 0., 0.])"
      ]
     },
     "execution_count": 25,
     "metadata": {},
     "output_type": "execute_result"
    }
   ],
   "source": [
    "output['ptjet_mjet_u_reco'].project(\"ptreco\").values()"
   ]
  },
  {
   "cell_type": "code",
   "execution_count": 51,
   "metadata": {},
   "outputs": [],
   "source": [
    "a = output['ptjet_mjet_u_reco'].project('ptreco', 'mreco').values()\n",
    "b = output['response_matrix_u'].project(\"ptreco\", \"mreco\").values()"
   ]
  },
  {
   "cell_type": "code",
   "execution_count": 53,
   "metadata": {},
   "outputs": [
    {
     "data": {
      "text/plain": [
       "[<matplotlib.lines.Line2D at 0x7fed1a4728f0>]"
      ]
     },
     "execution_count": 53,
     "metadata": {},
     "output_type": "execute_result"
    },
    {
     "data": {
      "image/png": "[encoded data removed]",
      "text/plain": [
       "<Figure size 640x480 with 1 Axes>"
      ]
     },
     "metadata": {},
     "output_type": "display_data"
    }
   ],
   "source": [
    "plt.plot(a.reshape(a.shape[0]*a.shape[1]), marker = 'o', linewidth = 0)\n",
    "plt.plot(b.reshape(a.shape[0]*a.shape[1]), marker = '*', linewidth = 0)"
   ]
  },
  {
   "cell_type": "code",
   "execution_count": 54,
   "metadata": {},
   "outputs": [
    {
     "data": {
      "text/plain": [
       "5"
      ]
     },
     "execution_count": 54,
     "metadata": {},
     "output_type": "execute_result"
    }
   ],
   "source": [
    "a.shape[0]"
   ]
  },
  {
   "cell_type": "code",
   "execution_count": 55,
   "metadata": {},
   "outputs": [
    {
     "data": {
      "text/plain": [
       "18"
      ]
     },
     "execution_count": 55,
     "metadata": {},
     "output_type": "execute_result"
    }
   ],
   "source": [
    "a.shape[1]"
   ]
  },
  {
   "cell_type": "code",
   "execution_count": 32,
   "metadata": {},
   "outputs": [],
   "source": [
    "c = output['response_matrix_u'].project('ptgen', 'mgen').values()"
   ]
  },
  {
   "cell_type": "code",
   "execution_count": 60,
   "metadata": {},
   "outputs": [
    {
     "data": {
      "text/plain": [
       "(5, 9)"
      ]
     },
     "execution_count": 60,
     "metadata": {},
     "output_type": "execute_result"
    }
   ],
   "source": [
    "c.shape"
   ]
  },
  {
   "cell_type": "code",
   "execution_count": 34,
   "metadata": {},
   "outputs": [
    {
     "data": {
      "text/plain": [
       "<Array [1, 1, 1] type='3 * float64'>"
      ]
     },
     "execution_count": 34,
     "metadata": {},
     "output_type": "execute_result"
    }
   ],
   "source": [
    "ak.ones_like([1,2,3], dtype = float)"
   ]
  },
  {
   "cell_type": "code",
   "execution_count": null,
   "metadata": {},
   "outputs": [],
   "source": []
  }
 ],
 "metadata": {
  "kernelspec": {
   "display_name": "Python 3 (ipykernel)",
   "language": "python",
   "name": "python3"
  },
  "language_info": {
   "codemirror_mode": {
    "name": "ipython",
    "version": 3
   },
   "file_extension": ".py",
   "mimetype": "text/x-python",
   "name": "python",
   "nbconvert_exporter": "python",
   "pygments_lexer": "ipython3",
   "version": "3.10.8"
  }
 },
 "nbformat": 4,
 "nbformat_minor": 4
}
