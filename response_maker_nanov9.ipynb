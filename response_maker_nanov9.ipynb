{
 "cells": [
  {
   "cell_type": "markdown",
   "metadata": {},
   "source": [
    "# Analysis for Differential Jet Mass in Z+Jets events with NanoAODv9"
   ]
  },
  {
   "cell_type": "code",
   "execution_count": 1,
   "metadata": {
    "tags": []
   },
   "outputs": [
    {
     "name": "stdout",
     "output_type": "stream",
     "text": [
      "awkward version  1.10.3\n",
      "coffea version  0.7.22\n",
      "numpy version 1.23.5\n",
      "dask version 2023.3.1\n"
     ]
    }
   ],
   "source": [
    "import awkward as ak\n",
    "import numpy as np\n",
    "import time\n",
    "import coffea\n",
    "import uproot\n",
    "import hist\n",
    "import vector\n",
    "print(\"awkward version \", ak.__version__)\n",
    "print(\"coffea version \", coffea.__version__)\n",
    "from coffea import util, processor\n",
    "from coffea.nanoevents import NanoEventsFactory, NanoAODSchema, BaseSchema\n",
    "from collections import defaultdict\n",
    "import pickle\n",
    "\n",
    "import dask\n",
    "#from distributed.diagnostics.plugin import UploadDirectory\n",
    "import os \n",
    "\n",
    "\n",
    "\n",
    "#from cms_utils import *\n",
    "print(\"numpy version\", np.__version__)\n",
    "print(\"dask version\", dask.__version__)"
   ]
  },
  {
   "cell_type": "markdown",
   "metadata": {},
   "source": [
    "### Automatically reload any modules used"
   ]
  },
  {
   "cell_type": "code",
   "execution_count": 2,
   "metadata": {
    "tags": []
   },
   "outputs": [],
   "source": [
    "%load_ext autoreload\n",
    "%autoreload 2"
   ]
  },
  {
   "cell_type": "code",
   "execution_count": 3,
   "metadata": {
    "tags": []
   },
   "outputs": [],
   "source": [
    "\n",
    "from python.response_maker_nanov9_lib import *\n",
    "from python.response_maker_nanov9 import *\n",
    "from python.smp_utils import *\n",
    "from python.cms_utils import *"
   ]
  },
  {
   "cell_type": "code",
   "execution_count": 4,
   "metadata": {
    "tags": []
   },
   "outputs": [],
   "source": [
    "#f = uproot.open(\"root://xcache//store/mc/RunIISummer20UL16NanoAODv9/DYJetsToLL_M-50_HT-100to200_TuneCP5_PSweights_13TeV-madgraphMLM-pythia8/NANOAODSIM/106X_mcRun2_asymptotic_v17-v2/260000/18D0A087-30BD-FE4E-B447-5F493C2D2794.root\")"
   ]
  },
  {
   "cell_type": "code",
   "execution_count": 5,
   "metadata": {
    "tags": []
   },
   "outputs": [],
   "source": [
    "#f[\"Events\"].keys()"
   ]
  },
  {
   "cell_type": "code",
   "execution_count": 6,
   "metadata": {
    "tags": []
   },
   "outputs": [],
   "source": [
    "# from dask.distributed import Client\n",
    "\n",
    "# client = Client(\"tls://192.168.86.46:8786\")\n",
    "# client\n",
    "\n",
    "# client.register_worker_plugin(UploadDirectory(\"/home/ZJet/QJetMassUproot/\", restart=True, update_path=True))\n",
    "# #print(client.run(os.listdir, \"dask-worker-space\") )\n",
    "# client.scheduler_info()['workers']"
   ]
  },
  {
   "cell_type": "code",
   "execution_count": 7,
   "metadata": {},
   "outputs": [
    {
     "data": {
      "text/html": [
       "<div>\n",
       "    <div style=\"width: 24px; height: 24px; background-color: #e1e1e1; border: 3px solid #9D9D9D; border-radius: 5px; position: absolute;\"> </div>\n",
       "    <div style=\"margin-left: 48px;\">\n",
       "        <h3 style=\"margin-bottom: 0px;\">Client</h3>\n",
       "        <p style=\"color: #9D9D9D; margin-bottom: 0px;\">Client-233bd663-4f3e-11ef-81d3-001a4ad0a809</p>\n",
       "        <table style=\"width: 100%; text-align: left;\">\n",
       "\n",
       "        <tr>\n",
       "        \n",
       "            <td style=\"text-align: left;\"><strong>Connection method:</strong> Cluster object</td>\n",
       "            <td style=\"text-align: left;\"><strong>Cluster type:</strong> lpcjobqueue.LPCCondorCluster</td>\n",
       "        \n",
       "        </tr>\n",
       "\n",
       "        \n",
       "            <tr>\n",
       "                <td style=\"text-align: left;\">\n",
       "                    <strong>Dashboard: </strong> <a href=\"http://131.225.191.97:2018/status\" target=\"_blank\">http://131.225.191.97:2018/status</a>\n",
       "                </td>\n",
       "                <td style=\"text-align: left;\"></td>\n",
       "            </tr>\n",
       "        \n",
       "\n",
       "        </table>\n",
       "\n",
       "        \n",
       "            <button style=\"margin-bottom: 12px;\" data-commandlinker-command=\"dask:populate-and-launch-layout\" data-commandlinker-args='{\"url\": \"http://131.225.191.97:2018/status\" }'>\n",
       "                Launch dashboard in JupyterLab\n",
       "            </button>\n",
       "        \n",
       "\n",
       "        \n",
       "            <details>\n",
       "            <summary style=\"margin-bottom: 20px;\"><h3 style=\"display: inline;\">Cluster Info</h3></summary>\n",
       "            <div class=\"jp-RenderedHTMLCommon jp-RenderedHTML jp-mod-trusted jp-OutputArea-output\">\n",
       "    <div style=\"width: 24px; height: 24px; background-color: #e1e1e1; border: 3px solid #9D9D9D; border-radius: 5px; position: absolute;\">\n",
       "    </div>\n",
       "    <div style=\"margin-left: 48px;\">\n",
       "        <h3 style=\"margin-bottom: 0px; margin-top: 0px;\">LPCCondorCluster</h3>\n",
       "        <p style=\"color: #9D9D9D; margin-bottom: 0px;\">291f6117</p>\n",
       "        <table style=\"width: 100%; text-align: left;\">\n",
       "            <tr>\n",
       "                <td style=\"text-align: left;\">\n",
       "                    <strong>Dashboard:</strong> <a href=\"http://131.225.191.97:2018/status\" target=\"_blank\">http://131.225.191.97:2018/status</a>\n",
       "                </td>\n",
       "                <td style=\"text-align: left;\">\n",
       "                    <strong>Workers:</strong> 0\n",
       "                </td>\n",
       "            </tr>\n",
       "            <tr>\n",
       "                <td style=\"text-align: left;\">\n",
       "                    <strong>Total threads:</strong> 0\n",
       "                </td>\n",
       "                <td style=\"text-align: left;\">\n",
       "                    <strong>Total memory:</strong> 0 B\n",
       "                </td>\n",
       "            </tr>\n",
       "            \n",
       "        </table>\n",
       "\n",
       "        <details>\n",
       "            <summary style=\"margin-bottom: 20px;\">\n",
       "                <h3 style=\"display: inline;\">Scheduler Info</h3>\n",
       "            </summary>\n",
       "\n",
       "            <div style=\"\">\n",
       "    <div>\n",
       "        <div style=\"width: 24px; height: 24px; background-color: #FFF7E5; border: 3px solid #FF6132; border-radius: 5px; position: absolute;\"> </div>\n",
       "        <div style=\"margin-left: 48px;\">\n",
       "            <h3 style=\"margin-bottom: 0px;\">Scheduler</h3>\n",
       "            <p style=\"color: #9D9D9D; margin-bottom: 0px;\">Scheduler-c459f7ee-d338-459f-be03-90e9395cd964</p>\n",
       "            <table style=\"width: 100%; text-align: left;\">\n",
       "                <tr>\n",
       "                    <td style=\"text-align: left;\">\n",
       "                        <strong>Comm:</strong> tcp://131.225.191.97:10074\n",
       "                    </td>\n",
       "                    <td style=\"text-align: left;\">\n",
       "                        <strong>Workers:</strong> 0\n",
       "                    </td>\n",
       "                </tr>\n",
       "                <tr>\n",
       "                    <td style=\"text-align: left;\">\n",
       "                        <strong>Dashboard:</strong> <a href=\"http://131.225.191.97:2018/status\" target=\"_blank\">http://131.225.191.97:2018/status</a>\n",
       "                    </td>\n",
       "                    <td style=\"text-align: left;\">\n",
       "                        <strong>Total threads:</strong> 0\n",
       "                    </td>\n",
       "                </tr>\n",
       "                <tr>\n",
       "                    <td style=\"text-align: left;\">\n",
       "                        <strong>Started:</strong> Just now\n",
       "                    </td>\n",
       "                    <td style=\"text-align: left;\">\n",
       "                        <strong>Total memory:</strong> 0 B\n",
       "                    </td>\n",
       "                </tr>\n",
       "            </table>\n",
       "        </div>\n",
       "    </div>\n",
       "\n",
       "    <details style=\"margin-left: 48px;\">\n",
       "        <summary style=\"margin-bottom: 20px;\">\n",
       "            <h3 style=\"display: inline;\">Workers</h3>\n",
       "        </summary>\n",
       "\n",
       "        \n",
       "\n",
       "    </details>\n",
       "</div>\n",
       "\n",
       "        </details>\n",
       "    </div>\n",
       "</div>\n",
       "            </details>\n",
       "        \n",
       "\n",
       "    </div>\n",
       "</div>"
      ],
      "text/plain": [
       "<Client: 'tcp://131.225.191.97:10074' processes=0 threads=0, memory=0 B>"
      ]
     },
     "execution_count": 7,
     "metadata": {},
     "output_type": "execute_result"
    }
   ],
   "source": [
    "from distributed import Client\n",
    "from lpcjobqueue import LPCCondorCluster\n",
    "\n",
    "cluster = LPCCondorCluster(transfer_input_files = [ \"correctionFiles\", \"samples\", \"python\"], \n",
    "                           ship_env = False,\n",
    "                           memory = \"5GB\",\n",
    "                          scheduler_options={\"dashboard_address\": \":2018\"})\n",
    "cluster.adapt(minimum=0, maximum=300)\n",
    "\n",
    "\n",
    "client = Client(cluster)\n",
    "client"
   ]
  },
  {
   "cell_type": "code",
   "execution_count": null,
   "metadata": {},
   "outputs": [],
   "source": []
  },
  {
   "cell_type": "code",
   "execution_count": 8,
   "metadata": {
    "tags": []
   },
   "outputs": [],
   "source": [
    "# client.register_worker_plugin(UploadDirectory(\"/home/ZJet/QJetMassUproot/\", restart=True, update_path=True), nanny=True)\n",
    "# #print(client.run(os.listdir, \"dask-worker-space\") )"
   ]
  },
  {
   "cell_type": "markdown",
   "metadata": {},
   "source": [
    "### If desired, uncomment these to move or remove old pkl files"
   ]
  },
  {
   "cell_type": "code",
   "execution_count": 9,
   "metadata": {
    "tags": []
   },
   "outputs": [],
   "source": [
    "#! mv qjetmass_zjets_gen.pkl qjetmass_zjets_gen_old.pkl\n",
    "#! mv qjetmass_zjets_reco.pkl qjetmass_zjets_reco_old.pkl"
   ]
  },
  {
   "cell_type": "code",
   "execution_count": 10,
   "metadata": {
    "tags": []
   },
   "outputs": [],
   "source": [
    "# client.scheduler_info()['workers']"
   ]
  },
  {
   "cell_type": "markdown",
   "metadata": {},
   "source": [
    "### If you want to rerun, here is the line. Otherwise keep it commented to just read the pkl file. "
   ]
  },
  {
   "cell_type": "code",
   "execution_count": 11,
   "metadata": {},
   "outputs": [],
   "source": [
    "#client = Client(cluster)\n",
    "#print(client.run(os.listdir) )\n",
    "#client.scheduler_info()['workers']"
   ]
  },
  {
   "cell_type": "code",
   "execution_count": 12,
   "metadata": {
    "tags": []
   },
   "outputs": [],
   "source": [
    "\n",
    "\n",
    "# eras_mc = ['UL16NanoAODv9']\n",
    "# for era in eras_mc:\n",
    "#     response_maker_nanov9(testing=False, do_gen=True, client=client, prependstr=\"root://cmsxrootd.fnal.gov/\", eras_mc=[era], jet_syst = 'nominal', dask = True)\n",
    "#     #response_maker_nanov9(testing=False, do_gen=False, client=client)\n",
    "#     print(\"Done running 2016\")\n",
    "    "
   ]
  },
  {
   "cell_type": "code",
   "execution_count": 13,
   "metadata": {},
   "outputs": [],
   "source": [
    "\n",
    "jet_systematics = ['nominal', 'JERUp', 'JERDown', 'hem',\n",
    " 'JES_AbsoluteMPFBiasUp', 'JES_AbsoluteMPFBiasDown', 'JES_AbsoluteScaleUp', 'JES_AbsoluteScaleDown', \n",
    " 'JES_AbsoluteStatUp', 'JES_AbsoluteStatDown', 'JES_FlavorQCDUp', 'JES_FlavorQCDDown', 'JES_FragmentationUp', \n",
    " 'JES_FragmentationDown', 'JES_PileUpDataMCUp', 'JES_PileUpDataMCDown', 'JES_PileUpPtBBUp', 'JES_PileUpPtBBDown', \n",
    " 'JES_PileUpPtEC1Up', 'JES_PileUpPtEC1Down', 'JES_PileUpPtEC2Up', 'JES_PileUpPtEC2Down', 'JES_PileUpPtHFUp', 'JES_PileUpPtHFDown', \n",
    " 'JES_PileUpPtRefUp', 'JES_PileUpPtRefDown', 'JES_RelativeFSRUp', 'JES_RelativeFSRDown', 'JES_RelativeJEREC1Up', 'JES_RelativeJEREC1Down',\n",
    " 'JES_RelativeJEREC2Up', 'JES_RelativeJEREC2Down', 'JES_RelativeJERHFUp', 'JES_RelativeJERHFDown', 'JES_RelativePtBBUp', 'JES_RelativePtBBDown',\n",
    " 'JES_RelativePtEC1Up', 'JES_RelativePtEC1Down', 'JES_RelativePtEC2Up', \n",
    " 'JES_RelativePtEC2Down', 'JES_RelativePtHFUp', 'JES_RelativePtHFDown', 'JES_RelativeBalUp', \n",
    " 'JES_RelativeBalDown', 'JES_RelativeSampleUp', 'JES_RelativeSampleDown', 'JES_RelativeStatECUp', 'JES_RelativeStatECDown',\n",
    " 'JES_RelativeStatFSRUp', 'JES_RelativeStatFSRDown', 'JES_RelativeStatHFUp', 'JES_RelativeStatHFDown', 'JES_SinglePionECALUp', 'JES_SinglePionECALDown', \n",
    " 'JES_SinglePionHCALUp', 'JES_SinglePionHCALDown', 'JES_TimePtEtaUp', 'JES_TimePtEtaDown', 'JMRUp', 'JMRDown', 'JMSUp', 'JMSDown']\n",
    "\n",
    "systematics = ['nominal', 'puUp', 'puDown' , 'elerecoUp', 'elerecoDown', \n",
    "                                'eleidUp', 'eleidDown', 'eletrigUp', 'eletrigDown', 'murecoUp', 'murecoDown', \n",
    "                                'muidUp', 'muidDown', 'mutrigUp', 'mutrigDown', \n",
    "                                'pdfUp', 'pdfDown', 'q2Up', 'q2Down',\n",
    "                                'prefiringUp', 'prefiringDown'] "
   ]
  },
  {
   "cell_type": "code",
   "execution_count": 14,
   "metadata": {},
   "outputs": [],
   "source": [
    "\n",
    "jet_systematics = ['nominal', 'JMRUp', 'JMRDown', 'JMSUp', 'JMSDown']\n",
    "\n",
    "systematics = ['nominal'] "
   ]
  },
  {
   "cell_type": "code",
   "execution_count": null,
   "metadata": {},
   "outputs": [],
   "source": []
  },
  {
   "cell_type": "code",
   "execution_count": null,
   "metadata": {},
   "outputs": [
    {
     "name": "stdout",
     "output_type": "stream",
     "text": [
      "Chunk Size  200000\n",
      "Running over PYTHIA MC\n",
      "Running...\n"
     ]
    },
    {
     "data": {
      "application/vnd.jupyter.widget-view+json": {
       "model_id": "2bb4071f6a13490581a76b7a1c20b064",
       "version_major": 2,
       "version_minor": 0
      },
      "text/plain": [
       "Output()"
      ]
     },
     "metadata": {},
     "output_type": "display_data"
    },
    {
     "name": "stderr",
     "output_type": "stream",
     "text": [
      "Exception ignored in: <bound method GCDiagnosis._gc_callback of <distributed.utils_perf.GCDiagnosis object at 0x7f9c75714700>>\n",
      "Traceback (most recent call last):\n",
      "  File \"/opt/conda/lib/python3.10/site-packages/distributed/utils_perf.py\", line 183, in _gc_callback\n",
      "    self._fractional_timer.start_timing()\n",
      "  File \"/opt/conda/lib/python3.10/site-packages/distributed/utils_perf.py\", line 118, in start_timing\n",
      "    assert self._cur_start is None\n",
      "AssertionError: \n",
      "Exception ignored in: <bound method GCDiagnosis._gc_callback of <distributed.utils_perf.GCDiagnosis object at 0x7f9c75714700>>\n",
      "Traceback (most recent call last):\n",
      "  File \"/opt/conda/lib/python3.10/site-packages/distributed/utils_perf.py\", line 183, in _gc_callback\n",
      "    self._fractional_timer.start_timing()\n",
      "  File \"/opt/conda/lib/python3.10/site-packages/distributed/utils_perf.py\", line 118, in start_timing\n",
      "    assert self._cur_start is None\n",
      "AssertionError: \n",
      "Exception ignored in: <bound method GCDiagnosis._gc_callback of <distributed.utils_perf.GCDiagnosis object at 0x7f9c75714700>>\n",
      "Traceback (most recent call last):\n",
      "  File \"/opt/conda/lib/python3.10/site-packages/distributed/utils_perf.py\", line 183, in _gc_callback\n",
      "    self._fractional_timer.start_timing()\n",
      "  File \"/opt/conda/lib/python3.10/site-packages/distributed/utils_perf.py\", line 118, in start_timing\n",
      "    assert self._cur_start is None\n",
      "AssertionError: \n",
      "Exception ignored in: <bound method GCDiagnosis._gc_callback of <distributed.utils_perf.GCDiagnosis object at 0x7f9c75714700>>\n",
      "Traceback (most recent call last):\n",
      "  File \"/opt/conda/lib/python3.10/site-packages/distributed/utils_perf.py\", line 183, in _gc_callback\n",
      "    self._fractional_timer.start_timing()\n",
      "  File \"/opt/conda/lib/python3.10/site-packages/distributed/utils_perf.py\", line 118, in start_timing\n",
      "    assert self._cur_start is None\n",
      "AssertionError: \n"
     ]
    }
   ],
   "source": [
    "import warnings\n",
    "\n",
    "dask = False\n",
    "eras_mc = ['UL16NanoAODAPVv9', 'UL16NanoAODv9','UL17NanoAODv9', 'UL18NanoAODv9']\n",
    "\n",
    "#eras_mc = ['UL16NanoAODv9']\n",
    "if not dask:\n",
    "    client_1 = None\n",
    "else:\n",
    "    client_1 = client\n",
    "    \n",
    "#client= None\n",
    "\n",
    "with warnings.catch_warnings():\n",
    "    warnings.simplefilter(\"ignore\")\n",
    "    response_maker_nanov9(testing = False, \n",
    "                          do_gen = True,\n",
    "                          client=client_1,\n",
    "                          prependstr=\"root://cmsxrootd.fnal.gov/\", \n",
    "                          eras_mc=eras_mc,\n",
    "                          do_syst = False, \n",
    "                          do_jk = False, \n",
    "                          dask = dask, \n",
    "                          do_herwig = False,\n",
    "                          syst_list = systematics,\n",
    "                          jet_syst_list = jet_systematics,\n",
    "                          fname_out = 'outputs/gen_checking_total_event.pkl')\n",
    "    #response_maker_nanov9(testing=False, do_gen=False, client=client)\n",
    "    print(\"Done running All\")\n"
   ]
  },
  {
   "cell_type": "code",
   "execution_count": null,
   "metadata": {},
   "outputs": [],
   "source": [
    "import IPython\n",
    "app = IPython.Application.instance()\n",
    "app.kernel.do_shutdown(True)"
   ]
  },
  {
   "cell_type": "code",
   "execution_count": 2,
   "metadata": {},
   "outputs": [],
   "source": [
    "import pickle\n",
    "filename = 'outputs/gen_jet_syst_v12.pkl'\n",
    "with open(filename, 'rb') as f:\n",
    "    output = pickle.load(f)\n",
    "\n",
    "import pickle\n",
    "filename = 'outputs/gen_mbins_2times_nosyst_v4.pkl'\n",
    "with open(filename, 'rb') as f:\n",
    "    output2 = pickle.load(f)\n",
    "\n",
    "import pickle\n",
    "filename = 'outputs/reco_mbins_2times_syst_v3.pkl'\n",
    "with open(filename, 'rb') as f:\n",
    "    output3 = pickle.load(f)"
   ]
  },
  {
   "cell_type": "code",
   "execution_count": 3,
   "metadata": {},
   "outputs": [
    {
     "data": {
      "text/plain": [
       "array([  3786.84615283,  22342.7697778 , 169103.18478216, 117412.1609991 ,\n",
       "        45026.47311621,  17094.45251747,   7963.11226066])"
      ]
     },
     "execution_count": 3,
     "metadata": {},
     "output_type": "execute_result"
    }
   ],
   "source": [
    "output['misses'].project('mgen').values()\n"
   ]
  },
  {
   "cell_type": "code",
   "execution_count": 6,
   "metadata": {},
   "outputs": [
    {
     "data": {
      "text/plain": [
       "Hist(\n",
       "  StrCategory(['UL16NanoAODAPVv9', 'UL18NanoAODv9', 'UL17NanoAODv9', 'UL16NanoAODv9'], growth=True, name='dataset', label='Primary dataset'),\n",
       "  Variable([140, 200, 260, 350, 460, 13000], name='ptreco', label='p_{T,RECO} (GeV)'),\n",
       "  Variable([0, 5, 10, 15, 20, 30, 40, 50, 60, 70, 80, 90, 100, 110, 13000], name='mreco', label='m_{RECO} (GeV)'),\n",
       "  Variable([140, 200, 260, 350, 460, 13000], name='ptgen', label='p_{T,GEN} (GeV)'),\n",
       "  Variable([0, 10, 20, 40, 60, 80, 100, 13000], name='mgen', label='Mass (GeV)'),\n",
       "  StrCategory(['nominal', 'JMRUp', 'JMRDown', 'JMSUp', 'JMSDown'], growth=True, name='systematic', label='Systematic Uncertainty'),\n",
       "  storage=Weight()) # Sum: WeightedSum(value=497746, variance=111277) (WeightedSum(value=515657, variance=118026) with flow)"
      ]
     },
     "execution_count": 6,
     "metadata": {},
     "output_type": "execute_result"
    }
   ],
   "source": [
    "output['response_matrix_g']"
   ]
  },
  {
   "cell_type": "code",
   "execution_count": 4,
   "metadata": {},
   "outputs": [
    {
     "data": {
      "text/plain": [
       "array([  5.13546646,  10.73667178,  31.92421492,  61.87708473,\n",
       "       242.38637966, 264.85867628, 183.22879556,  96.71377423,\n",
       "        77.30692682,  55.62292995,  32.85631497,  21.06239572,\n",
       "         9.5696371 ,   2.87996995])"
      ]
     },
     "execution_count": 4,
     "metadata": {},
     "output_type": "execute_result"
    }
   ],
   "source": [
    "output['fakes'].project('ptreco','mreco').values()[1]"
   ]
  },
  {
   "cell_type": "code",
   "execution_count": 5,
   "metadata": {},
   "outputs": [
    {
     "data": {
      "text/plain": [
       "(0.0, 200.0)"
      ]
     },
     "execution_count": 5,
     "metadata": {},
     "output_type": "execute_result"
    },
    {
     "data": {
      "image/png": "[encoded data removed]",
      "text/plain": [
       "<Figure size 640x480 with 1 Axes>"
      ]
     },
     "metadata": {},
     "output_type": "display_data"
    }
   ],
   "source": [
    "import matplotlib.pyplot as plt\n",
    "output['mz_gen'].project('mass').plot()\n",
    "\n",
    "plt.xlim(0,200)"
   ]
  },
  {
   "cell_type": "code",
   "execution_count": 19,
   "metadata": {},
   "outputs": [
    {
     "data": {
      "text/html": [
       "<html>\n",
       "<div style=\"display:flex; align-items:center;\">\n",
       "<div style=\"width:290px;\">\n",
       "<svg xmlns=\"http://www.w3.org/2000/svg\" viewBox=\"-10 -105 270 120\">\n",
       "<line x1=\"-5\" y1=\"0\" x2=\"255\" y2=\"0\" style=\"fill:none;stroke-width:2;stroke:currentColor\"/>\n",
       "<text text-anchor=\"middle\" x=\"0\" y=\"15\" style=\"fill:currentColor;\">\n",
       "0\n",
       "</text>\n",
       "<text text-anchor=\"middle\" x=\"250\" y=\"15\" style=\"fill:currentColor;\">\n",
       "1.3e+04\n",
       "</text>\n",
       "<text text-anchor=\"middle\" x=\"125.0\" y=\"15\" style=\"fill:currentColor;\">\n",
       "m_{RECO} (GeV)\n",
       "</text>\n",
       "<polyline points=\"  0,0   0,-100 0.0961538,-100 0.0961538,-46.2 0.192308,-46.2 0.192308,-23.6 0.288462,-23.6 0.288462,-16.3 0.384615,-16.3 0.384615,-11.5 0.576923,-11.5 0.576923,-8.3 0.769231,-8.3 0.769231,-7.14 0.961538,-7.14 0.961538,-6.58 1.15385,-6.58 1.15385,-5.79 1.34615,-5.79 1.34615,-4.61 1.53846,-4.61 1.53846,-3.49 1.73077,-3.49 1.73077,-2.35 1.92308,-2.35 1.92308,-1.34 2.11538,-1.34 2.11538,-0.00161 250,-0.00161 250,0\" style=\"fill:none; stroke:currentColor;\"/>\n",
       "</svg>\n",
       "</div>\n",
       "<div style=\"flex=grow:1;\">\n",
       "Variable([0, 5, 10, 15, 20, 30, 40, 50, 60, 70, 80, 90, 100, 110, 13000], name='mreco', label='m_{RECO} (GeV)')<br/>\n",
       "<hr style=\"margin-top:.2em; margin-bottom:.2em;\"/>\n",
       "Weight() Σ=WeightedSum(value=201905, variance=201905)\n",
       "\n",
       "</div>\n",
       "</div>\n",
       "</html>"
      ],
      "text/plain": [
       "Hist(Variable([0, 5, 10, 15, 20, 30, 40, 50, 60, 70, 80, 90, 100, 110, 13000], name='mreco', label='m_{RECO} (GeV)'), storage=Weight()) # Sum: WeightedSum(value=201905, variance=201905)"
      ]
     },
     "execution_count": 19,
     "metadata": {},
     "output_type": "execute_result"
    }
   ],
   "source": [
    "output3['ptjet_mjet_g_reco'].project('mreco')"
   ]
  },
  {
   "cell_type": "code",
   "execution_count": 20,
   "metadata": {},
   "outputs": [
    {
     "data": {
      "text/plain": [
       "Hist(\n",
       "  StrCategory(['UL16NanoAODv9'], growth=True, name='dataset', label='Primary dataset'),\n",
       "  Variable([140, 200, 260, 350, 460, 13000], name='ptreco', label='p_{T,RECO} (GeV)'),\n",
       "  Variable([0, 5, 10, 15, 20, 30, 40, 50, 60, 70, 80, 90, 100, 110, 13000], name='mreco', label='m_{RECO} (GeV)'),\n",
       "  Variable([140, 200, 260, 350, 460, 13000], name='ptgen', label='p_{T,GEN} (GeV)'),\n",
       "  Variable([0, 10, 20, 40, 60, 80, 100, 13000], name='mgen', label='Mass (GeV)'),\n",
       "  StrCategory(['nominal', 'puUp', 'puDown', 'elerecoUp', 'elerecoDown', 'eleidUp', 'eleidDown', 'eletrigUp', 'eletrigDown', 'murecoUp', 'murecoDown', 'muidUp', 'muidDown', 'mutrigUp', 'mutrigDown', 'pdfUp', 'pdfDown', 'q2Up', 'q2Down', 'prefiringUp', 'prefiringDown', 'JERUp', 'JERDown', 'hem', 'JES_AbsoluteMPFBiasUp', 'JES_AbsoluteMPFBiasDown', 'JES_AbsoluteScaleUp', 'JES_AbsoluteScaleDown', 'JES_AbsoluteStatUp', 'JES_AbsoluteStatDown', 'JES_FlavorQCDUp', 'JES_FlavorQCDDown', 'JES_FragmentationUp', 'JES_FragmentationDown', 'JES_PileUpDataMCUp', 'JES_PileUpDataMCDown', 'JES_PileUpPtBBUp', 'JES_PileUpPtBBDown', 'JES_PileUpPtEC1Up', 'JES_PileUpPtEC1Down', 'JES_PileUpPtEC2Up', 'JES_PileUpPtEC2Down', 'JES_PileUpPtHFUp', 'JES_PileUpPtHFDown', 'JES_PileUpPtRefUp', 'JES_PileUpPtRefDown', 'JES_RelativeFSRUp', 'JES_RelativeFSRDown', 'JES_RelativeJEREC1Up', 'JES_RelativeJEREC1Down', 'JES_RelativeJEREC2Up', 'JES_RelativeJEREC2Down', 'JES_RelativeJERHFUp', 'JES_RelativeJERHFDown', 'JES_RelativePtBBUp', 'JES_RelativePtBBDown', 'JES_RelativePtEC1Up', 'JES_RelativePtEC1Down', 'JES_RelativePtEC2Up', 'JES_RelativePtEC2Down', 'JES_RelativePtHFUp', 'JES_RelativePtHFDown', 'JES_RelativeBalUp', 'JES_RelativeBalDown', 'JES_RelativeSampleUp', 'JES_RelativeSampleDown', 'JES_RelativeStatECUp', 'JES_RelativeStatECDown', 'JES_RelativeStatFSRUp', 'JES_RelativeStatFSRDown', 'JES_RelativeStatHFUp', 'JES_RelativeStatHFDown', 'JES_SinglePionECALUp', 'JES_SinglePionECALDown', 'JES_SinglePionHCALUp', 'JES_SinglePionHCALDown', 'JES_TimePtEtaUp', 'JES_TimePtEtaDown', 'JMRUp', 'JMRDown', 'JMSUp', 'JMSDown'], growth=True, name='systematic', label='Systematic Uncertainty'),\n",
       "  storage=Weight()) # Sum: WeightedSum(value=3.78272e+06, variance=1.89468e+06) (WeightedSum(value=4.00409e+06, variance=2.07173e+06) with flow)"
      ]
     },
     "execution_count": 20,
     "metadata": {},
     "output_type": "execute_result"
    }
   ],
   "source": [
    "output['response_matrix_g']"
   ]
  },
  {
   "cell_type": "code",
   "execution_count": 21,
   "metadata": {},
   "outputs": [
    {
     "data": {
      "text/plain": [
       "(0.0, 100.0)"
      ]
     },
     "execution_count": 21,
     "metadata": {},
     "output_type": "execute_result"
    },
    {
     "data": {
      "image/png": "[encoded data removed]",
      "text/plain": [
       "<Figure size 640x480 with 1 Axes>"
      ]
     },
     "metadata": {},
     "output_type": "display_data"
    },
    {
     "name": "stderr",
     "output_type": "stream",
     "text": [
      "2024-07-16 14:11:19,920 - distributed.deploy.adaptive_core - ERROR - cannot schedule new futures after shutdown\n",
      "Traceback (most recent call last):\n",
      "  File \"/opt/conda/lib/python3.10/site-packages/distributed/utils.py\", line 748, in wrapper\n",
      "    return await func(*args, **kwargs)\n",
      "  File \"/opt/conda/lib/python3.10/site-packages/distributed/deploy/adaptive.py\", line 204, in scale_down\n",
      "    await f\n",
      "  File \"/opt/conda/lib/python3.10/site-packages/distributed/deploy/spec.py\", line 577, in scale_down\n",
      "    await self\n",
      "  File \"/opt/conda/lib/python3.10/site-packages/distributed/deploy/spec.py\", line 413, in _\n",
      "    await self._correct_state()\n",
      "  File \"/opt/conda/lib/python3.10/site-packages/distributed/deploy/spec.py\", line 354, in _correct_state_internal\n",
      "    await asyncio.gather(*tasks)\n",
      "  File \"/srv/projects/delete_later/.env/lib/python3.10/site-packages/lpcjobqueue/cluster.py\", line 157, in close\n",
      "    raise ex\n",
      "  File \"/srv/projects/delete_later/.env/lib/python3.10/site-packages/lpcjobqueue/cluster.py\", line 147, in close\n",
      "    is_gone = await asyncio.get_event_loop().run_in_executor(\n",
      "  File \"/opt/conda/lib/python3.10/asyncio/base_events.py\", line 821, in run_in_executor\n",
      "    executor.submit(func, *args), loop=self)\n",
      "  File \"/opt/conda/lib/python3.10/concurrent/futures/thread.py\", line 167, in submit\n",
      "    raise RuntimeError('cannot schedule new futures after shutdown')\n",
      "RuntimeError: cannot schedule new futures after shutdown\n",
      "2024-07-16 14:11:19,922 - tornado.application - ERROR - Exception in callback <function AdaptiveCore.__init__.<locals>._adapt at 0x7f6e7fc81a20>\n",
      "Traceback (most recent call last):\n",
      "  File \"/opt/conda/lib/python3.10/site-packages/tornado/ioloop.py\", line 921, in _run\n",
      "    await val\n",
      "  File \"/opt/conda/lib/python3.10/site-packages/distributed/deploy/adaptive_core.py\", line 123, in _adapt\n",
      "    await core.adapt()\n",
      "  File \"/opt/conda/lib/python3.10/site-packages/distributed/deploy/adaptive_core.py\", line 240, in adapt\n",
      "    await self.scale_down(**recommendations)\n",
      "  File \"/opt/conda/lib/python3.10/site-packages/distributed/utils.py\", line 748, in wrapper\n",
      "    return await func(*args, **kwargs)\n",
      "  File \"/opt/conda/lib/python3.10/site-packages/distributed/deploy/adaptive.py\", line 204, in scale_down\n",
      "    await f\n",
      "  File \"/opt/conda/lib/python3.10/site-packages/distributed/deploy/spec.py\", line 577, in scale_down\n",
      "    await self\n",
      "  File \"/opt/conda/lib/python3.10/site-packages/distributed/deploy/spec.py\", line 413, in _\n",
      "    await self._correct_state()\n",
      "  File \"/opt/conda/lib/python3.10/site-packages/distributed/deploy/spec.py\", line 354, in _correct_state_internal\n",
      "    await asyncio.gather(*tasks)\n",
      "  File \"/srv/projects/delete_later/.env/lib/python3.10/site-packages/lpcjobqueue/cluster.py\", line 157, in close\n",
      "    raise ex\n",
      "  File \"/srv/projects/delete_later/.env/lib/python3.10/site-packages/lpcjobqueue/cluster.py\", line 147, in close\n",
      "    is_gone = await asyncio.get_event_loop().run_in_executor(\n",
      "  File \"/opt/conda/lib/python3.10/asyncio/base_events.py\", line 821, in run_in_executor\n",
      "    executor.submit(func, *args), loop=self)\n",
      "  File \"/opt/conda/lib/python3.10/concurrent/futures/thread.py\", line 167, in submit\n",
      "    raise RuntimeError('cannot schedule new futures after shutdown')\n",
      "RuntimeError: cannot schedule new futures after shutdown\n",
      "ERROR:tornado.application:Exception in callback <function AdaptiveCore.__init__.<locals>._adapt at 0x7f6e7fc81a20>\n",
      "Traceback (most recent call last):\n",
      "  File \"/opt/conda/lib/python3.10/site-packages/tornado/ioloop.py\", line 921, in _run\n",
      "    await val\n",
      "  File \"/opt/conda/lib/python3.10/site-packages/distributed/deploy/adaptive_core.py\", line 123, in _adapt\n",
      "    await core.adapt()\n",
      "  File \"/opt/conda/lib/python3.10/site-packages/distributed/deploy/adaptive_core.py\", line 240, in adapt\n",
      "    await self.scale_down(**recommendations)\n",
      "  File \"/opt/conda/lib/python3.10/site-packages/distributed/utils.py\", line 748, in wrapper\n",
      "    return await func(*args, **kwargs)\n",
      "  File \"/opt/conda/lib/python3.10/site-packages/distributed/deploy/adaptive.py\", line 204, in scale_down\n",
      "    await f\n",
      "  File \"/opt/conda/lib/python3.10/site-packages/distributed/deploy/spec.py\", line 577, in scale_down\n",
      "    await self\n",
      "  File \"/opt/conda/lib/python3.10/site-packages/distributed/deploy/spec.py\", line 413, in _\n",
      "    await self._correct_state()\n",
      "  File \"/opt/conda/lib/python3.10/site-packages/distributed/deploy/spec.py\", line 354, in _correct_state_internal\n",
      "    await asyncio.gather(*tasks)\n",
      "  File \"/srv/projects/delete_later/.env/lib/python3.10/site-packages/lpcjobqueue/cluster.py\", line 157, in close\n",
      "    raise ex\n",
      "  File \"/srv/projects/delete_later/.env/lib/python3.10/site-packages/lpcjobqueue/cluster.py\", line 147, in close\n",
      "    is_gone = await asyncio.get_event_loop().run_in_executor(\n",
      "  File \"/opt/conda/lib/python3.10/asyncio/base_events.py\", line 821, in run_in_executor\n",
      "    executor.submit(func, *args), loop=self)\n",
      "  File \"/opt/conda/lib/python3.10/concurrent/futures/thread.py\", line 167, in submit\n",
      "    raise RuntimeError('cannot schedule new futures after shutdown')\n",
      "RuntimeError: cannot schedule new futures after shutdown\n",
      "2024-07-16 14:11:20,929 - tornado.application - ERROR - Exception in callback functools.partial(<bound method IOLoop._discard_future_result of <tornado.platform.asyncio.AsyncIOLoop object at 0x7f6e8020c0a0>>, <Task finished name='Task-177762' coro=<SpecCluster._correct_state_internal() done, defined at /opt/conda/lib/python3.10/site-packages/distributed/deploy/spec.py:341> exception=RuntimeError('cannot schedule new futures after shutdown')>)\n",
      "Traceback (most recent call last):\n",
      "  File \"/opt/conda/lib/python3.10/site-packages/tornado/ioloop.py\", line 738, in _run_callback\n",
      "    ret = callback()\n",
      "  File \"/opt/conda/lib/python3.10/site-packages/tornado/ioloop.py\", line 762, in _discard_future_result\n",
      "    future.result()\n",
      "RuntimeError: cannot schedule new futures after shutdown\n",
      "ERROR:tornado.application:Exception in callback functools.partial(<bound method IOLoop._discard_future_result of <tornado.platform.asyncio.AsyncIOLoop object at 0x7f6e8020c0a0>>, <Task finished name='Task-177762' coro=<SpecCluster._correct_state_internal() done, defined at /opt/conda/lib/python3.10/site-packages/distributed/deploy/spec.py:341> exception=RuntimeError('cannot schedule new futures after shutdown')>)\n",
      "Traceback (most recent call last):\n",
      "  File \"/opt/conda/lib/python3.10/site-packages/tornado/ioloop.py\", line 738, in _run_callback\n",
      "    ret = callback()\n",
      "  File \"/opt/conda/lib/python3.10/site-packages/tornado/ioloop.py\", line 762, in _discard_future_result\n",
      "    future.result()\n",
      "RuntimeError: cannot schedule new futures after shutdown\n",
      "Last-ditch attempt to close HTCondor job 65584336 in finalizer! You should confirm the job exits!\n",
      "Last-ditch attempt to close HTCondor job 65584331 in finalizer! You should confirm the job exits!\n",
      "Last-ditch attempt to close HTCondor job 65584175 in finalizer! You should confirm the job exits!\n",
      "Last-ditch attempt to close HTCondor job 65584134 in finalizer! You should confirm the job exits!\n",
      "Last-ditch attempt to close HTCondor job 65584120 in finalizer! You should confirm the job exits!\n",
      "Last-ditch attempt to close HTCondor job 65584095 in finalizer! You should confirm the job exits!\n",
      "Last-ditch attempt to close HTCondor job 65583982 in finalizer! You should confirm the job exits!\n",
      "Last-ditch attempt to close HTCondor job 65583968 in finalizer! You should confirm the job exits!\n"
     ]
    }
   ],
   "source": [
    "output['response_matrix_g'].project('mreco').plot(density = False)\n",
    "output2['response_matrix_g'].project('mreco').plot(density = False)\n",
    "output3['ptjet_mjet_g_reco'].project('mreco').plot(density = False)\n",
    "plt.xlim(0,100)"
   ]
  },
  {
   "cell_type": "code",
   "execution_count": null,
   "metadata": {},
   "outputs": [],
   "source": [
    "output['mz_gen']"
   ]
  },
  {
   "cell_type": "code",
   "execution_count": null,
   "metadata": {},
   "outputs": [],
   "source": [
    "output['response_matrix_u'].project('ptreco', 'mreco', 'ptgen', 'mgen').values().shape"
   ]
  },
  {
   "cell_type": "code",
   "execution_count": null,
   "metadata": {},
   "outputs": [],
   "source": [
    "import numpy as np\n",
    "import matplotlib.pyplot as plt\n",
    "plt.imshow(np.log(output['response_matrix_u'].project('ptreco', 'mreco', 'ptgen', 'mgen').values().reshape(70,35).T))"
   ]
  },
  {
   "cell_type": "code",
   "execution_count": null,
   "metadata": {},
   "outputs": [],
   "source": [
    "output.keys()"
   ]
  },
  {
   "cell_type": "code",
   "execution_count": null,
   "metadata": {},
   "outputs": [],
   "source": [
    "from coffea.lookup_tools.dense_lookup import dense_lookup\n",
    "a = uproot.open(\"correctionFiles/eleSF/egammaEffi_EGM2D.root\")\n",
    "histobj = a['EGamma_SF2D;1'].to_hist()\n",
    "corr = dense_lookup(histobj.values(), [ax.edges for ax in histobj.axes])\n",
    "print(corr)"
   ]
  },
  {
   "cell_type": "code",
   "execution_count": null,
   "metadata": {},
   "outputs": [],
   "source": [
    "sfhist = hist.Hist(*histobj.axes, data=histobj.values())\n",
    "sfhist.plot2d()"
   ]
  },
  {
   "cell_type": "code",
   "execution_count": null,
   "metadata": {},
   "outputs": [],
   "source": [
    "corr(ak.Array([-1.5,0.3]), ak.Array([30,50]))"
   ]
  },
  {
   "cell_type": "code",
   "execution_count": null,
   "metadata": {},
   "outputs": [],
   "source": []
  }
 ],
 "metadata": {
  "kernelspec": {
   "display_name": "Python 3 (ipykernel)",
   "language": "python",
   "name": "python3"
  },
  "language_info": {
   "codemirror_mode": {
    "name": "ipython",
    "version": 3
   },
   "file_extension": ".py",
   "mimetype": "text/x-python",
   "name": "python",
   "nbconvert_exporter": "python",
   "pygments_lexer": "ipython3",
   "version": "3.10.8"
  }
 },
 "nbformat": 4,
 "nbformat_minor": 4
}
