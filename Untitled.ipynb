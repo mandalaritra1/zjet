{
 "cells": [
  {
   "cell_type": "code",
   "execution_count": 1,
   "id": "e1de9df4-6858-404c-bf7d-7d45f8f5b96c",
   "metadata": {},
   "outputs": [],
   "source": [
    "import awkward as ak\n",
    "import numpy as np"
   ]
  },
  {
   "cell_type": "code",
   "execution_count": 2,
   "id": "7e9b8b01-1bfe-4d48-b154-a07bb07c4e75",
   "metadata": {},
   "outputs": [
    {
     "name": "stdout",
     "output_type": "stream",
     "text": [
      "coffea version  0.7.22\n"
     ]
    }
   ],
   "source": [
    "from python.weight_class import Weights\n",
    "import coffea\n",
    "print(\"coffea version \", coffea.__version__)"
   ]
  },
  {
   "cell_type": "code",
   "execution_count": 3,
   "id": "9380395a-7c32-472f-948f-0f27887e6997",
   "metadata": {},
   "outputs": [],
   "source": [
    "weight = Weights(size = None, storeIndividual=True)\n",
    "\n",
    "weight.add(name = \"a\", weight = np.array([1,2]), weightUp = np.array([1.1,2]), weightDown = np.array([0.9,2]))\n",
    "weight.add(name = \"b\", weight = np.array([2,2]), weightUp = np.array([2.1,2]), weightDown = np.array([1.9,2]))\n",
    "weight.add(name = \"c\", weight = np.array([3,2]), weightUp = np.array([3.1,2]), weightDown = np.array([2.9,2]))\n",
    "\n"
   ]
  },
  {
   "cell_type": "code",
   "execution_count": 4,
   "id": "e6691120-c03c-4619-a94b-7c8522291e4d",
   "metadata": {},
   "outputs": [
    {
     "data": {
      "text/plain": [
       "array([6.6, 8. ])"
      ]
     },
     "execution_count": 4,
     "metadata": {},
     "output_type": "execute_result"
    }
   ],
   "source": [
    "weight.weight(\"aUp\")"
   ]
  },
  {
   "cell_type": "code",
   "execution_count": 5,
   "id": "2683d0b5-d7b0-4078-8477-082665c0bbc2",
   "metadata": {},
   "outputs": [
    {
     "data": {
      "text/plain": [
       "array([6.6, 8. ])"
      ]
     },
     "execution_count": 5,
     "metadata": {},
     "output_type": "execute_result"
    }
   ],
   "source": [
    "weight.weight(\"aUp\")"
   ]
  },
  {
   "cell_type": "code",
   "execution_count": 6,
   "id": "e6d44763-cd1d-4432-a517-776318dace61",
   "metadata": {},
   "outputs": [
    {
     "data": {
      "text/plain": [
       "array([5.4, 8. ])"
      ]
     },
     "execution_count": 6,
     "metadata": {},
     "output_type": "execute_result"
    }
   ],
   "source": [
    "weight.weight(\"aDown\")"
   ]
  },
  {
   "cell_type": "code",
   "execution_count": 7,
   "id": "759d87b1-d8c2-4b77-a33e-4c38f90a36c2",
   "metadata": {},
   "outputs": [
    {
     "data": {
      "text/plain": [
       "array([2.2, 4. ])"
      ]
     },
     "execution_count": 7,
     "metadata": {},
     "output_type": "execute_result"
    }
   ],
   "source": [
    "weight.partial_weight(exclude = [\"c\"], modifier = \"aUp\")"
   ]
  },
  {
   "cell_type": "code",
   "execution_count": 8,
   "id": "a57a31c2-765d-493f-8b94-5393fc71cb80",
   "metadata": {},
   "outputs": [
    {
     "data": {
      "text/plain": [
       "\u001b[0;31mSignature:\u001b[0m \u001b[0mweight\u001b[0m\u001b[0;34m.\u001b[0m\u001b[0mpartial_weight\u001b[0m\u001b[0;34m(\u001b[0m\u001b[0minclude\u001b[0m\u001b[0;34m=\u001b[0m\u001b[0;34m[\u001b[0m\u001b[0;34m]\u001b[0m\u001b[0;34m,\u001b[0m \u001b[0mexclude\u001b[0m\u001b[0;34m=\u001b[0m\u001b[0;34m[\u001b[0m\u001b[0;34m]\u001b[0m\u001b[0;34m,\u001b[0m \u001b[0mmodifier\u001b[0m\u001b[0;34m=\u001b[0m\u001b[0;32mNone\u001b[0m\u001b[0;34m)\u001b[0m\u001b[0;34m\u001b[0m\u001b[0;34m\u001b[0m\u001b[0m\n",
       "\u001b[0;31mDocstring:\u001b[0m\n",
       "Partial event weight vector\n",
       "\n",
       "Return a partial weight by multiplying a subset of all weights.\n",
       "Can be operated either by specifying weights to include or\n",
       "weights to exclude, but not both at the same time. The method\n",
       "can only be used if the individual weights are stored via the\n",
       "``storeIndividual`` argument in the `Weights` initializer.\n",
       "\n",
       "Parameters\n",
       "----------\n",
       "    include : list\n",
       "        Weight names to include, defaults to []\n",
       "    exclude : list\n",
       "        Weight names to exclude, defaults to []\n",
       "    modifier : str, optional\n",
       "        if supplied, provide event weight corresponding to a particular\n",
       "        systematic uncertainty shift, of form ``str(name + 'Up')`` or (Down)\n",
       "Returns\n",
       "-------\n",
       "    weight : numpy.ndarray\n",
       "        The weight vector, corresponding to only the effect of the\n",
       "        corrections specified.\n",
       "\u001b[0;31mFile:\u001b[0m      /srv/projects/zjet/python/weight_class.py\n",
       "\u001b[0;31mType:\u001b[0m      method"
      ]
     },
     "metadata": {},
     "output_type": "display_data"
    }
   ],
   "source": [
    "?weight.partial_weight"
   ]
  },
  {
   "cell_type": "code",
   "execution_count": 9,
   "id": "d40a8d3b-ae7d-414b-82a1-c82b6f0fb5e2",
   "metadata": {},
   "outputs": [
    {
     "data": {
      "text/plain": [
       "array([6., 8.])"
      ]
     },
     "execution_count": 9,
     "metadata": {},
     "output_type": "execute_result"
    }
   ],
   "source": [
    "weight.weight()"
   ]
  },
  {
   "cell_type": "code",
   "execution_count": 10,
   "id": "d9eee085-2476-4919-8c3c-efbdce1f9988",
   "metadata": {},
   "outputs": [],
   "source": [
    "var_list = weight.variations\n",
    "\n",
    "exclude_list_a = []"
   ]
  },
  {
   "cell_type": "code",
   "execution_count": 11,
   "id": "b6777a70-d7a7-4c88-aed1-570980e939e9",
   "metadata": {},
   "outputs": [
    {
     "data": {
      "text/plain": [
       "<Array [1, 2, 3, 4, 5] type='5 * int64'>"
      ]
     },
     "execution_count": 11,
     "metadata": {},
     "output_type": "execute_result"
    }
   ],
   "source": [
    "a = ak.Array([1,2,3,4,5])\n",
    "b = ak.Array([1,2,3,4,5])\n",
    "ak.where(a>0, a, b[2])"
   ]
  },
  {
   "cell_type": "code",
   "execution_count": 12,
   "id": "f3b11b7b-6a5b-4efa-a376-ecfda9b1116a",
   "metadata": {},
   "outputs": [],
   "source": [
    "b = ak.Array([1,2,3,4,5])"
   ]
  },
  {
   "cell_type": "code",
   "execution_count": 13,
   "id": "5315d3d2-367d-4798-9e42-936e22092e19",
   "metadata": {},
   "outputs": [
    {
     "ename": "ModuleNotFoundError",
     "evalue": "No module named 'cms_utils'",
     "output_type": "error",
     "traceback": [
      "\u001b[0;31m---------------------------------------------------------------------------\u001b[0m",
      "\u001b[0;31mModuleNotFoundError\u001b[0m                       Traceback (most recent call last)",
      "Cell \u001b[0;32mIn[13], line 1\u001b[0m\n\u001b[0;32m----> 1\u001b[0m \u001b[38;5;28;01mfrom\u001b[39;00m \u001b[38;5;21;01mcms_utils\u001b[39;00m \u001b[38;5;28;01mimport\u001b[39;00m GetEleSF, GetMuonSF\n",
      "\u001b[0;31mModuleNotFoundError\u001b[0m: No module named 'cms_utils'"
     ]
    }
   ],
   "source": [
    "from cms_utils import GetEleSF, GetMuonSF"
   ]
  },
  {
   "cell_type": "code",
   "execution_count": 1,
   "id": "343b1745-0e3e-4226-8e66-edb1760c13ba",
   "metadata": {},
   "outputs": [],
   "source": [
    "from coffea.nanoevents import NanoEventsFactory, NanoAODSchema\n",
    "\n",
    "NanoAODSchema.warn_missing_crossrefs = False\n",
    "\n",
    "#fname = 'root://cmsxrootd.fnal.gov//store/mc/RunIISummer20UL18NanoAODv9/DYJetsToLL_M-50_HT-200to400_TuneCP5_PSweights_13TeV-madgraphMLM-pythia8/NANOAODSIM/106X_upgrade2018_realistic_v16_L1v1-v1/270000/42C39ABF-7352-5547-A226-E3FA9DD0E72B.root'\n",
    "fname = 'root://cmsxrootd.fnal.gov//store/mc/RunIISummer20UL16NanoAODv9/DYJetsToLL_M-50_HT-100to200_TuneCP5_PSweights_13TeV-madgraphMLM-pythia8/NANOAODSIM/106X_mcRun2_asymptotic_v17-v2/260000/8F15A0DA-F0D6-6E47-908F-59900ADC55BA.root'\n",
    "events = NanoEventsFactory.from_root(\n",
    "    fname,\n",
    "    schemaclass=NanoAODSchema,\n",
    "    metadata={\"dataset\": \"DYJets\"},\n",
    ").events()"
   ]
  },
  {
   "cell_type": "code",
   "execution_count": 2,
   "id": "7737fee8-5025-4eef-bf6e-72bd83de065f",
   "metadata": {},
   "outputs": [],
   "source": [
    "events = events[:100]"
   ]
  },
  {
   "cell_type": "code",
   "execution_count": 62,
   "id": "ed6bbf27-aecf-4e08-9a1d-0f4230262173",
   "metadata": {},
   "outputs": [
    {
     "data": {
      "text/plain": [
       "<Array [0.139, 0.139, 0.139, ... 0.139, 0.139] type='100 * float32[parameters={\"...'>"
      ]
     },
     "execution_count": 62,
     "metadata": {},
     "output_type": "execute_result"
    }
   ],
   "source": [
    "events.LHEWeight.originalXWGTUP"
   ]
  },
  {
   "cell_type": "code",
   "execution_count": 66,
   "id": "4dd539ac-1713-4745-ab11-d2d5da67b922",
   "metadata": {},
   "outputs": [
    {
     "name": "stdout",
     "output_type": "stream",
     "text": [
      "16871.0\n"
     ]
    }
   ],
   "source": [
    "print(np.sum(events.genWeight))"
   ]
  },
  {
   "cell_type": "code",
   "execution_count": 6,
   "id": "302805f9-b1c0-4c9b-85f7-9624939a68d2",
   "metadata": {},
   "outputs": [
    {
     "data": {
      "text/plain": [
       "<Array [[51.4, 36.8, 25.2], ... 14.2], [41]] type='100 * var * float32[parameter...'>"
      ]
     },
     "execution_count": 6,
     "metadata": {},
     "output_type": "execute_result"
    }
   ],
   "source": [
    "events.Electron"
   ]
  },
  {
   "cell_type": "code",
   "execution_count": 69,
   "id": "7bddaeb2-2389-44a3-b9dd-93d55ad59bb5",
   "metadata": {},
   "outputs": [
    {
     "data": {
      "text/plain": [
       "0.28540271025984654"
      ]
     },
     "execution_count": 69,
     "metadata": {},
     "output_type": "execute_result"
    }
   ],
   "source": [
    "(146.5*1000*36.33)/18648544"
   ]
  },
  {
   "cell_type": "code",
   "execution_count": 33,
   "id": "d91e8810-4e77-4495-a9f5-e553900139a1",
   "metadata": {},
   "outputs": [
    {
     "name": "stdout",
     "output_type": "stream",
     "text": [
      "[1, 1, 1, 1, 1, 1, 1, 1, 1, 1, 1, 1, 1, 1, ... 1, 1, 1, 1, 1, 1, 1, 1, 1, 1, 1, 1, 1]\n"
     ]
    }
   ],
   "source": [
    "print(a)"
   ]
  },
  {
   "cell_type": "code",
   "execution_count": 51,
   "id": "9aacb4f8-4ff8-4116-8a6e-83f610f6155a",
   "metadata": {},
   "outputs": [
    {
     "data": {
      "text/plain": [
       "<Array [477015] type='1 * int64'>"
      ]
     },
     "execution_count": 51,
     "metadata": {},
     "output_type": "execute_result"
    }
   ],
   "source": [
    "import uproot\n",
    "a = uproot.open(fname)\n",
    "a[\"Runs\"]['genEventCount'].array()"
   ]
  },
  {
   "cell_type": "code",
   "execution_count": 48,
   "id": "c372c92e-9614-4651-b2d3-7b74bbfa22d8",
   "metadata": {},
   "outputs": [
    {
     "data": {
      "text/plain": [
       "<TBranch 'run' at 0x7f46530dfd90>"
      ]
     },
     "execution_count": 48,
     "metadata": {},
     "output_type": "execute_result"
    }
   ],
   "source": [
    "a[\"Events\"][\"run\"]"
   ]
  },
  {
   "cell_type": "code",
   "execution_count": 37,
   "id": "2ac27fd9-a540-4dd4-aca0-2124c2c26ecd",
   "metadata": {},
   "outputs": [],
   "source": [
    "matches = ak.all(events.GenJetAK8.delta_r(events.GenJetAK8.nearest(events.FatJet)) < 0.2, axis = -1)\n",
    "events = events[matches]"
   ]
  },
  {
   "cell_type": "code",
   "execution_count": 38,
   "id": "9c352b31-2686-44d6-bf80-e966757b07b2",
   "metadata": {},
   "outputs": [
    {
     "data": {
      "text/plain": [
       "75"
      ]
     },
     "execution_count": 38,
     "metadata": {},
     "output_type": "execute_result"
    }
   ],
   "source": [
    "np.sum(matches)"
   ]
  },
  {
   "cell_type": "code",
   "execution_count": 53,
   "id": "8e661121-3824-4c5a-a58e-edb79e41308b",
   "metadata": {},
   "outputs": [
    {
     "name": "stdout",
     "output_type": "stream",
     "text": [
      "[[], [], [], [], [-1], [-1], [], [], [-1, ... [], [], [], [-1], [], [], [], [], []]\n"
     ]
    }
   ],
   "source": [
    "print(events.FatJet.msoftdrop[events.FatJet.msoftdrop<0])"
   ]
  },
  {
   "cell_type": "code",
   "execution_count": 57,
   "id": "7f0f36a8-49f0-49ae-9fa2-631a79e438b3",
   "metadata": {},
   "outputs": [
    {
     "name": "stdout",
     "output_type": "stream",
     "text": [
      "[[], [], [], [], [177], [172], [], [], ... [], [], [], [187], [], [], [], [], []]\n"
     ]
    }
   ],
   "source": [
    "print(events.FatJet.pt[events.FatJet.msoftdrop<0])"
   ]
  },
  {
   "cell_type": "code",
   "execution_count": 61,
   "id": "762cb469-cdb0-4b0e-a39c-a36144182697",
   "metadata": {},
   "outputs": [
    {
     "name": "stdout",
     "output_type": "stream",
     "text": [
      "[[], [], [], [], [77.4], [30.8], [], [], ... [], [], [], [31], [], [], [], [], []]\n"
     ]
    }
   ],
   "source": [
    "print(events.FatJet.mass[events.FatJet.msoftdrop<0])"
   ]
  },
  {
   "cell_type": "code",
   "execution_count": 45,
   "id": "b3434c39-c9b0-40fb-b6d9-32a30e0d9a78",
   "metadata": {},
   "outputs": [
    {
     "data": {
      "text/plain": [
       "75"
      ]
     },
     "execution_count": 45,
     "metadata": {},
     "output_type": "execute_result"
    }
   ],
   "source": [
    "len(events.FatJet.msoftdrop)"
   ]
  },
  {
   "cell_type": "code",
   "execution_count": 60,
   "id": "1a7eb0e4-c671-4690-b3d0-e6b56ab60c10",
   "metadata": {},
   "outputs": [
    {
     "name": "stdout",
     "output_type": "stream",
     "text": [
      "[[25, 54.3], [], [], [], [84.3], [60, ... 32.7], [18.6], [], [], [46.4, 87.7], []]\n"
     ]
    }
   ],
   "source": [
    "print(events.FatJet.matched_gen.mass)"
   ]
  },
  {
   "cell_type": "code",
   "execution_count": 75,
   "id": "e6e99d44-0908-4829-a6ac-069245a91a4c",
   "metadata": {},
   "outputs": [],
   "source": [
    "def get_groomed_jet( jet, subjets , verbose = False):\n",
    "    '''\n",
    "    Find the subjets that correspond to the given jet using delta R matching. \n",
    "    This is suboptimal, but it's hard to fix upstream. \n",
    "    '''\n",
    "    combs = ak.cartesian( (jet, subjets), axis=1 )\n",
    "    dr_jet_subjets = combs['0'].delta_r(combs['1'])\n",
    "    sel = dr_jet_subjets < 0.8\n",
    "    total = combs[sel]['1'].sum(axis=1)\n",
    "    return total, sel"
   ]
  },
  {
   "cell_type": "code",
   "execution_count": 94,
   "id": "38ebe12d-9563-466c-816d-752f24670913",
   "metadata": {},
   "outputs": [
    {
     "ename": "ValueError",
     "evalue": "in ListArray64 attempting to get 0, index out of range\n\n(https://github.com/scikit-hep/awkward-1.0/blob/1.10.3/src/cpu-kernels/awkward_NumpyArray_getitem_next_at.cpp#L21)",
     "output_type": "error",
     "traceback": [
      "\u001b[0;31m---------------------------------------------------------------------------\u001b[0m",
      "\u001b[0;31mValueError\u001b[0m                                Traceback (most recent call last)",
      "Cell \u001b[0;32mIn[94], line 1\u001b[0m\n\u001b[0;32m----> 1\u001b[0m groomed_gen_jet, sel \u001b[38;5;241m=\u001b[39m get_groomed_jet(\u001b[43mevents\u001b[49m\u001b[38;5;241;43m.\u001b[39;49m\u001b[43mGenJetAK8\u001b[49m\u001b[43m[\u001b[49m\u001b[43m:\u001b[49m\u001b[43m,\u001b[49m\u001b[38;5;241;43m0\u001b[39;49m\u001b[43m]\u001b[49m, events\u001b[38;5;241m.\u001b[39mSubGenJetAK8)\n",
      "File \u001b[0;32m/opt/conda/lib/python3.10/site-packages/awkward/highlevel.py:991\u001b[0m, in \u001b[0;36mArray.__getitem__\u001b[0;34m(self, where)\u001b[0m\n\u001b[1;32m    579\u001b[0m \u001b[38;5;250m\u001b[39m\u001b[38;5;124;03m\"\"\"\u001b[39;00m\n\u001b[1;32m    580\u001b[0m \u001b[38;5;124;03mArgs:\u001b[39;00m\n\u001b[1;32m    581\u001b[0m \u001b[38;5;124;03m    where (many types supported; see below): Index of positions to\u001b[39;00m\n\u001b[0;32m   (...)\u001b[0m\n\u001b[1;32m    988\u001b[0m \u001b[38;5;124;03mhave the same dimension as the array being indexed.\u001b[39;00m\n\u001b[1;32m    989\u001b[0m \u001b[38;5;124;03m\"\"\"\u001b[39;00m\n\u001b[1;32m    990\u001b[0m \u001b[38;5;28;01mif\u001b[39;00m \u001b[38;5;129;01mnot\u001b[39;00m \u001b[38;5;28mhasattr\u001b[39m(\u001b[38;5;28mself\u001b[39m, \u001b[38;5;124m\"\u001b[39m\u001b[38;5;124m_tracers\u001b[39m\u001b[38;5;124m\"\u001b[39m):\n\u001b[0;32m--> 991\u001b[0m     tmp \u001b[38;5;241m=\u001b[39m ak\u001b[38;5;241m.\u001b[39m_util\u001b[38;5;241m.\u001b[39mwrap(\u001b[38;5;28;43mself\u001b[39;49m\u001b[38;5;241;43m.\u001b[39;49m\u001b[43mlayout\u001b[49m\u001b[43m[\u001b[49m\u001b[43mwhere\u001b[49m\u001b[43m]\u001b[49m, \u001b[38;5;28mself\u001b[39m\u001b[38;5;241m.\u001b[39m_behavior)\n\u001b[1;32m    992\u001b[0m \u001b[38;5;28;01melse\u001b[39;00m:\n\u001b[1;32m    993\u001b[0m     tmp \u001b[38;5;241m=\u001b[39m ak\u001b[38;5;241m.\u001b[39m_connect\u001b[38;5;241m.\u001b[39m_jax\u001b[38;5;241m.\u001b[39mjax_utils\u001b[38;5;241m.\u001b[39m_jaxtracers_getitem(\u001b[38;5;28mself\u001b[39m, where)\n",
      "\u001b[0;31mValueError\u001b[0m: in ListArray64 attempting to get 0, index out of range\n\n(https://github.com/scikit-hep/awkward-1.0/blob/1.10.3/src/cpu-kernels/awkward_NumpyArray_getitem_next_at.cpp#L21)"
     ]
    }
   ],
   "source": [
    "groomed_gen_jet, sel = get_groomed_jet(events.GenJetAK8[:,0], events.SubGenJetAK8)"
   ]
  },
  {
   "cell_type": "code",
   "execution_count": 95,
   "id": "f9e3e240-c621-4ecc-89c1-f608e898ea15",
   "metadata": {},
   "outputs": [
    {
     "data": {
      "text/plain": [
       "0"
      ]
     },
     "execution_count": 95,
     "metadata": {},
     "output_type": "execute_result"
    }
   ],
   "source": [
    "np.sum(groomed_gen_jet.mass<0)"
   ]
  },
  {
   "cell_type": "code",
   "execution_count": 91,
   "id": "9bc6d55e-9fc4-41a7-a899-da40aee75912",
   "metadata": {},
   "outputs": [
    {
     "data": {
      "text/plain": [
       "<Array [[22.8, 70.9], [], ... [44.1, 90.5], []] type='75 * var * float32[paramet...'>"
      ]
     },
     "execution_count": 91,
     "metadata": {},
     "output_type": "execute_result"
    }
   ],
   "source": [
    "events.FatJet.mass"
   ]
  },
  {
   "cell_type": "code",
   "execution_count": 92,
   "id": "02cfdca0-f3a4-4001-888e-e073a7fe97c0",
   "metadata": {},
   "outputs": [
    {
     "data": {
      "text/plain": [
       "<Array [[3.43, 0.193, 4.68, ... [2.26, 1.13]] type='75 * var * float32[parameter...'>"
      ]
     },
     "execution_count": 92,
     "metadata": {},
     "output_type": "execute_result"
    }
   ],
   "source": [
    "events.SubGenJetAK8.mass"
   ]
  },
  {
   "cell_type": "code",
   "execution_count": 93,
   "id": "8a9a6250-24d2-46d8-8763-19705c85695b",
   "metadata": {},
   "outputs": [
    {
     "data": {
      "text/plain": [
       "<Array [3.94, 32.6, 1.16, ... 52.6, 20.5, 4.52] type='75 * float32'>"
      ]
     },
     "execution_count": 93,
     "metadata": {},
     "output_type": "execute_result"
    }
   ],
   "source": [
    "\n",
    "groomed_gen_jet.mass"
   ]
  },
  {
   "cell_type": "code",
   "execution_count": 20,
   "id": "8336ec70-aeed-4edb-a0c7-8213ae38161a",
   "metadata": {},
   "outputs": [],
   "source": [
    "events = events[:50]\n",
    "events = events[ak.num(events.Electron)>1]\n",
    "events[\"a\"] = GetEleSF(\"2018\", \"Tight\", events.Electron.eta, events.Electron.pt)"
   ]
  },
  {
   "cell_type": "code",
   "execution_count": 24,
   "id": "b484d815-ca20-4fd5-ab99-1f2d4c552358",
   "metadata": {},
   "outputs": [],
   "source": [
    "events = events[ak.num(events.Muon)>1]\n",
    "events[\"musf\"] = GetMuonSF(\"2017\", \"HLT\", np.abs(events.Muon.eta), events.Muon.pt)"
   ]
  },
  {
   "cell_type": "code",
   "execution_count": 25,
   "id": "99045730-04b4-48b4-853a-4fd3d0b8b320",
   "metadata": {},
   "outputs": [
    {
     "data": {
      "text/plain": [
       "<Array [[0.989, 0.943], [0.943, 0.989]] type='2 * var * float64'>"
      ]
     },
     "execution_count": 25,
     "metadata": {},
     "output_type": "execute_result"
    }
   ],
   "source": [
    "events.musf"
   ]
  },
  {
   "cell_type": "code",
   "execution_count": 5,
   "id": "a56efb35-c0a6-4dd9-a675-ff706dc02f4d",
   "metadata": {},
   "outputs": [],
   "source": [
    "events_nomu = events[ak.num(events.Muon)==0]"
   ]
  },
  {
   "cell_type": "code",
   "execution_count": 13,
   "id": "1c7e2036-721e-4adb-a83d-d45907178dc3",
   "metadata": {},
   "outputs": [
    {
     "ename": "ValueError",
     "evalue": "zero-size array to reduction operation minimum which has no identity",
     "output_type": "error",
     "traceback": [
      "\u001b[0;31m---------------------------------------------------------------------------\u001b[0m",
      "\u001b[0;31mValueError\u001b[0m                                Traceback (most recent call last)",
      "Cell \u001b[0;32mIn[13], line 3\u001b[0m\n\u001b[1;32m      1\u001b[0m e \u001b[38;5;241m=\u001b[39m events_nomu[ak\u001b[38;5;241m.\u001b[39mnum(events_nomu\u001b[38;5;241m.\u001b[39mMuon)\u001b[38;5;241m>\u001b[39m\u001b[38;5;241m0\u001b[39m]\n\u001b[1;32m      2\u001b[0m weight \u001b[38;5;241m=\u001b[39m Weights(size \u001b[38;5;241m=\u001b[39m \u001b[38;5;28mlen\u001b[39m(e), storeIndividual\u001b[38;5;241m=\u001b[39m\u001b[38;5;28;01mTrue\u001b[39;00m)\n\u001b[0;32m----> 3\u001b[0m \u001b[43mweight\u001b[49m\u001b[38;5;241;43m.\u001b[39;49m\u001b[43madd\u001b[49m\u001b[43m(\u001b[49m\u001b[38;5;124;43m\"\u001b[39;49m\u001b[38;5;124;43ma\u001b[39;49m\u001b[38;5;124;43m\"\u001b[39;49m\u001b[43m,\u001b[49m\u001b[43m \u001b[49m\u001b[43me\u001b[49m\u001b[38;5;241;43m.\u001b[39;49m\u001b[43mPileup\u001b[49m\u001b[38;5;241;43m.\u001b[39;49m\u001b[43mnTrueInt\u001b[49m\u001b[43m)\u001b[49m\n",
      "File \u001b[0;32m/srv/projects/zjet/weight_class.py:101\u001b[0m, in \u001b[0;36mWeights.add\u001b[0;34m(self, name, weight, weightUp, weightDown, shift)\u001b[0m\n\u001b[1;32m     96\u001b[0m     \u001b[38;5;28mself\u001b[39m\u001b[38;5;241m.\u001b[39m_weights[name] \u001b[38;5;241m=\u001b[39m weight\n\u001b[1;32m     97\u001b[0m \u001b[38;5;28mself\u001b[39m\u001b[38;5;241m.\u001b[39m__add_variation(name, weight, weightUp, weightDown, shift)\n\u001b[1;32m     98\u001b[0m \u001b[38;5;28mself\u001b[39m\u001b[38;5;241m.\u001b[39m_weightStats[name] \u001b[38;5;241m=\u001b[39m WeightStatistics(\n\u001b[1;32m     99\u001b[0m     weight\u001b[38;5;241m.\u001b[39msum(),\n\u001b[1;32m    100\u001b[0m     (weight\u001b[38;5;241m*\u001b[39m\u001b[38;5;241m*\u001b[39m\u001b[38;5;241m2\u001b[39m)\u001b[38;5;241m.\u001b[39msum(),\n\u001b[0;32m--> 101\u001b[0m     \u001b[43mweight\u001b[49m\u001b[38;5;241;43m.\u001b[39;49m\u001b[43mmin\u001b[49m\u001b[43m(\u001b[49m\u001b[43m)\u001b[49m,\n\u001b[1;32m    102\u001b[0m     weight\u001b[38;5;241m.\u001b[39mmax(),\n\u001b[1;32m    103\u001b[0m     weight\u001b[38;5;241m.\u001b[39msize,\n\u001b[1;32m    104\u001b[0m )\n",
      "File \u001b[0;32m/opt/conda/lib/python3.10/site-packages/numpy/core/_methods.py:44\u001b[0m, in \u001b[0;36m_amin\u001b[0;34m(a, axis, out, keepdims, initial, where)\u001b[0m\n\u001b[1;32m     42\u001b[0m \u001b[38;5;28;01mdef\u001b[39;00m \u001b[38;5;21m_amin\u001b[39m(a, axis\u001b[38;5;241m=\u001b[39m\u001b[38;5;28;01mNone\u001b[39;00m, out\u001b[38;5;241m=\u001b[39m\u001b[38;5;28;01mNone\u001b[39;00m, keepdims\u001b[38;5;241m=\u001b[39m\u001b[38;5;28;01mFalse\u001b[39;00m,\n\u001b[1;32m     43\u001b[0m           initial\u001b[38;5;241m=\u001b[39m_NoValue, where\u001b[38;5;241m=\u001b[39m\u001b[38;5;28;01mTrue\u001b[39;00m):\n\u001b[0;32m---> 44\u001b[0m     \u001b[38;5;28;01mreturn\u001b[39;00m \u001b[43mumr_minimum\u001b[49m\u001b[43m(\u001b[49m\u001b[43ma\u001b[49m\u001b[43m,\u001b[49m\u001b[43m \u001b[49m\u001b[43maxis\u001b[49m\u001b[43m,\u001b[49m\u001b[43m \u001b[49m\u001b[38;5;28;43;01mNone\u001b[39;49;00m\u001b[43m,\u001b[49m\u001b[43m \u001b[49m\u001b[43mout\u001b[49m\u001b[43m,\u001b[49m\u001b[43m \u001b[49m\u001b[43mkeepdims\u001b[49m\u001b[43m,\u001b[49m\u001b[43m \u001b[49m\u001b[43minitial\u001b[49m\u001b[43m,\u001b[49m\u001b[43m \u001b[49m\u001b[43mwhere\u001b[49m\u001b[43m)\u001b[49m\n",
      "\u001b[0;31mValueError\u001b[0m: zero-size array to reduction operation minimum which has no identity"
     ]
    }
   ],
   "source": [
    "e = events_nomu[ak.num(events_nomu.Muon)>0]\n",
    "weight = Weights(size = len(e), storeIndividual=True)\n",
    "weight.add(\"a\", e.Pileup.nTrueInt)"
   ]
  },
  {
   "cell_type": "code",
   "execution_count": 27,
   "id": "11e2f01d-4ac0-47c8-9690-71dc68703b9a",
   "metadata": {},
   "outputs": [
    {
     "ename": "AttributeError",
     "evalue": "no field named 'pdf'\n\n(https://github.com/scikit-hep/awkward-1.0/blob/1.10.3/src/awkward/highlevel.py#L1124)",
     "output_type": "error",
     "traceback": [
      "\u001b[0;31m---------------------------------------------------------------------------\u001b[0m",
      "\u001b[0;31mAttributeError\u001b[0m                            Traceback (most recent call last)",
      "Cell \u001b[0;32mIn[27], line 1\u001b[0m\n\u001b[0;32m----> 1\u001b[0m \u001b[43mevents\u001b[49m\u001b[38;5;241;43m.\u001b[39;49m\u001b[43mpdf\u001b[49m\u001b[38;5;241m.\u001b[39mN\n",
      "File \u001b[0;32m/opt/conda/lib/python3.10/site-packages/awkward/highlevel.py:1123\u001b[0m, in \u001b[0;36mArray.__getattr__\u001b[0;34m(self, where)\u001b[0m\n\u001b[1;32m   1117\u001b[0m         \u001b[38;5;28;01mraise\u001b[39;00m \u001b[38;5;167;01mAttributeError\u001b[39;00m(\n\u001b[1;32m   1118\u001b[0m             \u001b[38;5;124m\"\u001b[39m\u001b[38;5;124mwhile trying to get field \u001b[39m\u001b[38;5;132;01m{}\u001b[39;00m\u001b[38;5;124m, an exception \u001b[39m\u001b[38;5;124m\"\u001b[39m\n\u001b[1;32m   1119\u001b[0m             \u001b[38;5;124m\"\u001b[39m\u001b[38;5;124moccurred:\u001b[39m\u001b[38;5;130;01m\\n\u001b[39;00m\u001b[38;5;132;01m{}\u001b[39;00m\u001b[38;5;124m: \u001b[39m\u001b[38;5;132;01m{}\u001b[39;00m\u001b[38;5;124m\"\u001b[39m\u001b[38;5;241m.\u001b[39mformat(\u001b[38;5;28mrepr\u001b[39m(where), \u001b[38;5;28mtype\u001b[39m(err), \u001b[38;5;28mstr\u001b[39m(err))\n\u001b[1;32m   1120\u001b[0m             \u001b[38;5;241m+\u001b[39m ak\u001b[38;5;241m.\u001b[39m_util\u001b[38;5;241m.\u001b[39mexception_suffix(\u001b[38;5;18m__file__\u001b[39m)\n\u001b[1;32m   1121\u001b[0m         ) \u001b[38;5;28;01mfrom\u001b[39;00m \u001b[38;5;21;01merr\u001b[39;00m\n\u001b[1;32m   1122\u001b[0m \u001b[38;5;28;01melse\u001b[39;00m:\n\u001b[0;32m-> 1123\u001b[0m     \u001b[38;5;28;01mraise\u001b[39;00m \u001b[38;5;167;01mAttributeError\u001b[39;00m(\n\u001b[1;32m   1124\u001b[0m         \u001b[38;5;124mf\u001b[39m\u001b[38;5;124m\"\u001b[39m\u001b[38;5;124mno field named \u001b[39m\u001b[38;5;132;01m{\u001b[39;00mwhere\u001b[38;5;132;01m!r}\u001b[39;00m\u001b[38;5;124m\"\u001b[39m \u001b[38;5;241m+\u001b[39m ak\u001b[38;5;241m.\u001b[39m_util\u001b[38;5;241m.\u001b[39mexception_suffix(\u001b[38;5;18m__file__\u001b[39m)\n\u001b[1;32m   1125\u001b[0m     )\n",
      "\u001b[0;31mAttributeError\u001b[0m: no field named 'pdf'\n\n(https://github.com/scikit-hep/awkward-1.0/blob/1.10.3/src/awkward/highlevel.py#L1124)"
     ]
    }
   ],
   "source": [
    "events"
   ]
  },
  {
   "cell_type": "code",
   "execution_count": 18,
   "id": "b386f8e2-3ed3-4274-8ee7-584bd439bd16",
   "metadata": {},
   "outputs": [
    {
     "data": {
      "text/plain": [
       "<Array [155, None, None, ... None, 130, 5.24] type='50 * ?float32[parameters={\"_...'>"
      ]
     },
     "execution_count": 18,
     "metadata": {},
     "output_type": "execute_result"
    }
   ],
   "source": [
    "ak.firsts(events.Electron[:,0:1]).pt"
   ]
  },
  {
   "cell_type": "code",
   "execution_count": 19,
   "id": "139693aa-4c06-486a-827b-9bea5edf9bf0",
   "metadata": {},
   "outputs": [
    {
     "data": {
      "text/plain": [
       "<Array [4, 0, 0, 0, 2, 4, ... 1, 2, 0, 0, 3, 1] type='50 * int64'>"
      ]
     },
     "execution_count": 19,
     "metadata": {},
     "output_type": "execute_result"
    }
   ],
   "source": [
    "ak.num(events.Electron)"
   ]
  },
  {
   "cell_type": "code",
   "execution_count": 23,
   "id": "1bcdada3-225e-44ba-8cf1-7773387aa6da",
   "metadata": {},
   "outputs": [
    {
     "ename": "ValueError",
     "evalue": "'axis' out of range for 'num'\n\n(https://github.com/scikit-hep/awkward-1.0/blob/1.10.3/src/libawkward/array/NumpyArray.cpp#L1608)",
     "output_type": "error",
     "traceback": [
      "\u001b[0;31m---------------------------------------------------------------------------\u001b[0m",
      "\u001b[0;31mValueError\u001b[0m                                Traceback (most recent call last)",
      "Cell \u001b[0;32mIn[23], line 1\u001b[0m\n\u001b[0;32m----> 1\u001b[0m \u001b[43mak\u001b[49m\u001b[38;5;241;43m.\u001b[39;49m\u001b[43mnum\u001b[49m\u001b[43m(\u001b[49m\u001b[43mak\u001b[49m\u001b[38;5;241;43m.\u001b[39;49m\u001b[43mfirsts\u001b[49m\u001b[43m(\u001b[49m\u001b[43mevents\u001b[49m\u001b[38;5;241;43m.\u001b[39;49m\u001b[43mElectron\u001b[49m\u001b[43m[\u001b[49m\u001b[43m:\u001b[49m\u001b[43m,\u001b[49m\u001b[38;5;241;43m1\u001b[39;49m\u001b[43m:\u001b[49m\u001b[38;5;241;43m2\u001b[39;49m\u001b[43m]\u001b[49m\u001b[38;5;241;43m.\u001b[39;49m\u001b[43mpt\u001b[49m\u001b[43m)\u001b[49m\u001b[43m)\u001b[49m\n",
      "File \u001b[0;32m~/.local/lib/python3.10/site-packages/awkward/operations/structure.py:251\u001b[0m, in \u001b[0;36mnum\u001b[0;34m(array, axis, highlevel, behavior)\u001b[0m\n\u001b[1;32m    188\u001b[0m \u001b[38;5;250m\u001b[39m\u001b[38;5;124;03m\"\"\"\u001b[39;00m\n\u001b[1;32m    189\u001b[0m \u001b[38;5;124;03mArgs:\u001b[39;00m\n\u001b[1;32m    190\u001b[0m \u001b[38;5;124;03m    array: Data containing nested lists to count.\u001b[39;00m\n\u001b[0;32m   (...)\u001b[0m\n\u001b[1;32m    246\u001b[0m \u001b[38;5;124;03m    <Array [[1.1, 2.2, 3.3], None, [7.7]] type='3 * option[var * float64]'>\u001b[39;00m\n\u001b[1;32m    247\u001b[0m \u001b[38;5;124;03m\"\"\"\u001b[39;00m\n\u001b[1;32m    248\u001b[0m layout \u001b[38;5;241m=\u001b[39m ak\u001b[38;5;241m.\u001b[39moperations\u001b[38;5;241m.\u001b[39mconvert\u001b[38;5;241m.\u001b[39mto_layout(\n\u001b[1;32m    249\u001b[0m     array, allow_record\u001b[38;5;241m=\u001b[39m\u001b[38;5;28;01mFalse\u001b[39;00m, allow_other\u001b[38;5;241m=\u001b[39m\u001b[38;5;28;01mFalse\u001b[39;00m\n\u001b[1;32m    250\u001b[0m )\n\u001b[0;32m--> 251\u001b[0m out \u001b[38;5;241m=\u001b[39m \u001b[43mlayout\u001b[49m\u001b[38;5;241;43m.\u001b[39;49m\u001b[43mnum\u001b[49m\u001b[43m(\u001b[49m\u001b[43maxis\u001b[49m\u001b[38;5;241;43m=\u001b[39;49m\u001b[43maxis\u001b[49m\u001b[43m)\u001b[49m\n\u001b[1;32m    252\u001b[0m \u001b[38;5;28;01mreturn\u001b[39;00m ak\u001b[38;5;241m.\u001b[39m_util\u001b[38;5;241m.\u001b[39mmaybe_wrap_like(out, array, behavior, highlevel)\n",
      "\u001b[0;31mValueError\u001b[0m: 'axis' out of range for 'num'\n\n(https://github.com/scikit-hep/awkward-1.0/blob/1.10.3/src/libawkward/array/NumpyArray.cpp#L1608)"
     ]
    }
   ],
   "source": [
    "ak.num(ak.firsts(events.Electron[:,1:2].pt))"
   ]
  },
  {
   "cell_type": "code",
   "execution_count": 25,
   "id": "d5580be4-6316-4455-ae15-162e4f8d9113",
   "metadata": {},
   "outputs": [
    {
     "data": {
      "text/plain": [
       "<Array [1, 1, 2, 2, 2, 2, ... 0, 3, 2, 6, 3, 1] type='580658 * int64'>"
      ]
     },
     "execution_count": 25,
     "metadata": {},
     "output_type": "execute_result"
    }
   ],
   "source": [
    "ak.num(events.Electron.pt)"
   ]
  },
  {
   "cell_type": "code",
   "execution_count": 25,
   "id": "169d5b47-5e31-4fff-8481-d5495c73d500",
   "metadata": {},
   "outputs": [],
   "source": [
    "a = ak.ones_like( np.ones(len(ak.firsts(events.Electron[:,1:2].pt)), dtype = \"int64\"))"
   ]
  },
  {
   "cell_type": "code",
   "execution_count": 26,
   "id": "73717323-eb7a-47c9-ba3c-e8f48fc7623b",
   "metadata": {},
   "outputs": [
    {
     "data": {
      "text/plain": [
       "580658 * int64"
      ]
     },
     "execution_count": 26,
     "metadata": {},
     "output_type": "execute_result"
    }
   ],
   "source": [
    "a.type"
   ]
  },
  {
   "cell_type": "code",
   "execution_count": 31,
   "id": "f5aa79d3-eb05-4fb8-a373-34204ce6e8ab",
   "metadata": {},
   "outputs": [
    {
     "data": {
      "text/plain": [
       "<Array [None, None, 0.00109, ... 1.38, None] type='580658 * ?float32'>"
      ]
     },
     "execution_count": 31,
     "metadata": {},
     "output_type": "execute_result"
    }
   ],
   "source": [
    "interest2 = ak.firsts(events.Electron[:,1:2].eta)\n",
    "np.abs(interest2)"
   ]
  },
  {
   "cell_type": "code",
   "execution_count": 36,
   "id": "754a1fc2-f664-445e-b382-30129f1aae23",
   "metadata": {},
   "outputs": [
    {
     "data": {
      "text/plain": [
       "<Array [-0.502, 0.386, None, ... -1.44, None] type='50 * ?float32[parameters={\"_...'>"
      ]
     },
     "execution_count": 36,
     "metadata": {},
     "output_type": "execute_result"
    }
   ],
   "source": [
    "ak.firsts(events.Muon[:,0:1].eta)"
   ]
  },
  {
   "cell_type": "code",
   "execution_count": 20,
   "id": "7312a5d9-ef6d-49c3-947f-3e722a373f44",
   "metadata": {},
   "outputs": [
    {
     "ename": "TypeError",
     "evalue": "unsupported operand type(s) for -: 'str' and 'str'",
     "output_type": "error",
     "traceback": [
      "\u001b[0;31m---------------------------------------------------------------------------\u001b[0m",
      "\u001b[0;31mTypeError\u001b[0m                                 Traceback (most recent call last)",
      "Cell \u001b[0;32mIn[20], line 1\u001b[0m\n\u001b[0;32m----> 1\u001b[0m \u001b[38;5;124;43m\"\u001b[39;49m\u001b[38;5;124;43mele0reco\u001b[39;49m\u001b[38;5;124;43m\"\u001b[39;49m\u001b[43m \u001b[49m\u001b[38;5;241;43m-\u001b[39;49m\u001b[43m \u001b[49m\u001b[38;5;124;43m\"\u001b[39;49m\u001b[38;5;124;43mele\u001b[39;49m\u001b[38;5;124;43m\"\u001b[39;49m\n",
      "\u001b[0;31mTypeError\u001b[0m: unsupported operand type(s) for -: 'str' and 'str'"
     ]
    }
   ],
   "source": []
  },
  {
   "cell_type": "code",
   "execution_count": 3,
   "id": "87c48e27-fc72-49de-a0a1-238732623301",
   "metadata": {},
   "outputs": [],
   "source": [
    "from cms_utils import GetEleSF, GetPUSF\n",
    "import awkward as ak"
   ]
  },
  {
   "cell_type": "code",
   "execution_count": 4,
   "id": "0637d8a5-fcb8-46bd-bc2b-c05fa59732cf",
   "metadata": {},
   "outputs": [
    {
     "data": {
      "text/plain": [
       "array([0.98739476])"
      ]
     },
     "execution_count": 4,
     "metadata": {},
     "output_type": "execute_result"
    }
   ],
   "source": [
    "GetPUSF(\"2018\", ak.Array([25]), var='nominal')"
   ]
  },
  {
   "cell_type": "code",
   "execution_count": 5,
   "id": "9397992d-5868-420d-892e-a9c103329661",
   "metadata": {},
   "outputs": [
    {
     "data": {
      "text/plain": [
       "<Array [[[0.987, 0.989]], [[0.987, 0.989]]] type='2 * var * 2 * float64'>"
      ]
     },
     "execution_count": 5,
     "metadata": {},
     "output_type": "execute_result"
    }
   ],
   "source": [
    "GetEleSF(\"2018\", \"RecoAbove20\",  ak.Array([2,3]), ak.Array([23,50]))"
   ]
  },
  {
   "cell_type": "code",
   "execution_count": 1,
   "id": "d45670c3-bf88-4624-93f1-c95563014236",
   "metadata": {},
   "outputs": [
    {
     "data": {
      "image/png": "[encoded data removed]",
      "text/plain": [
       "<Figure size 640x480 with 2 Axes>"
      ]
     },
     "metadata": {},
     "output_type": "display_data"
    }
   ],
   "source": [
    "import matplotlib.pyplot as plt\n",
    "import numpy\n",
    "from   hist import Hist\n",
    "\n",
    "#------------------------------------------------------\n",
    "def get_hist():\n",
    "    h = (\n",
    "      Hist.new\n",
    "      .Reg(10, -2 ,2, name='x', label='x-axis')\n",
    "      .Int64()\n",
    "    )\n",
    "    data=numpy.random.normal(size=10000)\n",
    "    h.fill(data)\n",
    "\n",
    "    return h\n",
    "#------------------------------------------------------\n",
    "def main():\n",
    "    h_1 = get_hist()\n",
    "    h_2 = get_hist()\n",
    "    h_3 = get_hist()\n",
    "\n",
    "    fig, (ax, rax) = plt.subplots(nrows=2, gridspec_kw={\"height_ratios\": (3, 1)})\n",
    "    axs = {\"main_ax\": ax, \"ratio_ax\": rax}\n",
    "\n",
    "    h_2.plot_ratio(h_1,\n",
    "        rp_ylabel          ='Ratio',\n",
    "        rp_num_label       ='data',\n",
    "        rp_denom_label     ='sim 1',\n",
    "        rp_uncert_draw_type='bar',\n",
    "        ax_dict = axs,\n",
    "    )\n",
    "\n",
    "    h_3.plot_ratio(h_1,\n",
    "        rp_ylabel          ='Ratio',\n",
    "        rp_num_label       ='data',\n",
    "        rp_denom_label     ='sim 2',\n",
    "        rp_uncert_draw_type='bar',\n",
    "        ax_dict = axs,\n",
    "    )\n",
    "\n",
    "    plt.show()\n",
    "#------------------------------------------------------\n",
    "if __name__ == '__main__':\n",
    "    main()"
   ]
  },
  {
   "cell_type": "code",
   "execution_count": 1,
   "id": "798485b8-a10d-4e96-833d-fc92f6be4f84",
   "metadata": {},
   "outputs": [
    {
     "data": {
      "text/plain": [
       "'Up'"
      ]
     },
     "execution_count": 1,
     "metadata": {},
     "output_type": "execute_result"
    }
   ],
   "source": [
    "a = \"HelloUp\"\n",
    "a[-2:]"
   ]
  },
  {
   "cell_type": "code",
   "execution_count": 2,
   "id": "7efd5b32-a3db-4f1f-880e-43aba021f2f5",
   "metadata": {},
   "outputs": [
    {
     "data": {
      "text/plain": [
       "True"
      ]
     },
     "execution_count": 2,
     "metadata": {},
     "output_type": "execute_result"
    }
   ],
   "source": [
    "\"Hel\" in a"
   ]
  },
  {
   "cell_type": "code",
   "execution_count": 16,
   "id": "a5bf1fde-0172-4e95-a3a3-146f98d06d31",
   "metadata": {},
   "outputs": [],
   "source": [
    "import numpy as np\n",
    "mgen_bin_edges = np.array([0, 5, 10, 20, 40, 60, 80, 100, 150, 200, 250, 300, 350, 1000])\n",
    "mreco_bin_edges = np.sort(np.append(mgen_bin_edges,[(mgen_bin_edges[i]+mgen_bin_edges[i+1])/2 for i in range(len(mgen_bin_edges)-1)]))"
   ]
  },
  {
   "cell_type": "code",
   "execution_count": 17,
   "id": "4ec9fac1-175b-4147-bee1-e1fd799aac7e",
   "metadata": {},
   "outputs": [
    {
     "data": {
      "text/plain": [
       "14"
      ]
     },
     "execution_count": 17,
     "metadata": {},
     "output_type": "execute_result"
    }
   ],
   "source": [
    "len(mgen_bin_edges)\n"
   ]
  },
  {
   "cell_type": "code",
   "execution_count": 18,
   "id": "bda97db8-57e7-4dd3-95b0-0fa20fdd6d0a",
   "metadata": {},
   "outputs": [
    {
     "data": {
      "text/plain": [
       "27"
      ]
     },
     "execution_count": 18,
     "metadata": {},
     "output_type": "execute_result"
    }
   ],
   "source": [
    "len(mreco_bin_edges)"
   ]
  },
  {
   "cell_type": "code",
   "execution_count": 19,
   "id": "b3441e71-7a1c-4808-ba1e-26c95a1cf5e1",
   "metadata": {},
   "outputs": [
    {
     "data": {
      "text/plain": [
       "array([   0,    5,   10,   20,   40,   60,   80,  100,  150,  200,  250,\n",
       "        300,  350, 1000])"
      ]
     },
     "execution_count": 19,
     "metadata": {},
     "output_type": "execute_result"
    }
   ],
   "source": [
    "mgen_bin_edges"
   ]
  },
  {
   "cell_type": "code",
   "execution_count": 15,
   "id": "cf62e117-9468-409f-9896-6264293cb732",
   "metadata": {},
   "outputs": [
    {
     "data": {
      "text/plain": [
       "array([0.00e+00, 5.00e-01, 1.00e+00, 3.00e+00, 5.00e+00, 7.50e+00,\n",
       "       1.00e+01, 1.50e+01, 2.00e+01, 3.00e+01, 4.00e+01, 5.00e+01,\n",
       "       6.00e+01, 7.00e+01, 8.00e+01, 9.00e+01, 1.00e+02, 1.25e+02,\n",
       "       1.50e+02, 1.75e+02, 2.00e+02, 2.25e+02, 2.50e+02, 6.25e+02,\n",
       "       1.00e+03])"
      ]
     },
     "execution_count": 15,
     "metadata": {},
     "output_type": "execute_result"
    }
   ],
   "source": [
    "mreco_bin_edges"
   ]
  },
  {
   "cell_type": "code",
   "execution_count": null,
   "id": "ab936870-26f5-452e-be15-8063ae892c70",
   "metadata": {},
   "outputs": [],
   "source": []
  }
 ],
 "metadata": {
  "kernelspec": {
   "display_name": "Python 3 (ipykernel)",
   "language": "python",
   "name": "python3"
  },
  "language_info": {
   "codemirror_mode": {
    "name": "ipython",
    "version": 3
   },
   "file_extension": ".py",
   "mimetype": "text/x-python",
   "name": "python",
   "nbconvert_exporter": "python",
   "pygments_lexer": "ipython3",
   "version": "3.10.8"
  }
 },
 "nbformat": 4,
 "nbformat_minor": 5
}
