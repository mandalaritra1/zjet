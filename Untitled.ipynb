{
 "cells": [
  {
   "cell_type": "code",
   "execution_count": 1,
   "id": "e1de9df4-6858-404c-bf7d-7d45f8f5b96c",
   "metadata": {},
   "outputs": [],
   "source": [
    "import awkward as ak\n",
    "import numpy as np"
   ]
  },
  {
   "cell_type": "code",
   "execution_count": 2,
   "id": "7e9b8b01-1bfe-4d48-b154-a07bb07c4e75",
   "metadata": {},
   "outputs": [
    {
     "name": "stdout",
     "output_type": "stream",
     "text": [
      "coffea version  2024.3.0\n"
     ]
    }
   ],
   "source": [
    "from coffea.analysis_tools import Weights\n",
    "import coffea\n",
    "print(\"coffea version \", coffea.__version__)"
   ]
  },
  {
   "cell_type": "code",
   "execution_count": 12,
   "id": "ed38876f-fde8-46a2-9aed-b46edce3dce9",
   "metadata": {},
   "outputs": [],
   "source": [
    "from coffea import processor"
   ]
  },
  {
   "cell_type": "code",
   "execution_count": 13,
   "id": "765d2807-6116-4320-8117-36d4335e0231",
   "metadata": {},
   "outputs": [
    {
     "ename": "ModuleNotFoundError",
     "evalue": "No module named 'coffea.processor.servicex'",
     "output_type": "error",
     "traceback": [
      "\u001b[0;31m---------------------------------------------------------------------------\u001b[0m",
      "\u001b[0;31mModuleNotFoundError\u001b[0m                       Traceback (most recent call last)",
      "Cell \u001b[0;32mIn[13], line 1\u001b[0m\n\u001b[0;32m----> 1\u001b[0m \u001b[38;5;28;01mfrom\u001b[39;00m \u001b[38;5;21;01mcoffea\u001b[39;00m\u001b[38;5;21;01m.\u001b[39;00m\u001b[38;5;21;01mprocessor\u001b[39;00m\u001b[38;5;21;01m.\u001b[39;00m\u001b[38;5;21;01mservicex\u001b[39;00m \u001b[38;5;28;01mimport\u001b[39;00m DaskExecutor\n",
      "\u001b[0;31mModuleNotFoundError\u001b[0m: No module named 'coffea.processor.servicex'"
     ]
    }
   ],
   "source": []
  },
  {
   "cell_type": "code",
   "execution_count": 5,
   "id": "f84f8423-dac9-4d40-ab48-49355d3521aa",
   "metadata": {},
   "outputs": [],
   "source": [
    "weight = Weights(size = 1, storeIndividual=True)"
   ]
  },
  {
   "cell_type": "code",
   "execution_count": 6,
   "id": "616c83e1-ced2-471b-9320-3562e1886b52",
   "metadata": {},
   "outputs": [],
   "source": [
    "weight.add(name = \"a\", weight = np.array([1]), weightUp = np.array([1.1]), weightDown = np.array([0.9]))\n",
    "weight.add(name = \"b\", weight = np.array([2]), weightUp = np.array([2.1]), weightDown = np.array([1.9]))\n",
    "weight.add(name = \"c\", weight = np.array([3]), weightUp = np.array([3.1]), weightDown = np.array([2.9]))\n",
    "\n"
   ]
  },
  {
   "cell_type": "code",
   "execution_count": 7,
   "id": "e6691120-c03c-4619-a94b-7c8522291e4d",
   "metadata": {},
   "outputs": [
    {
     "data": {
      "text/plain": [
       "array([6.6])"
      ]
     },
     "execution_count": 7,
     "metadata": {},
     "output_type": "execute_result"
    }
   ],
   "source": [
    "weight.weight(\"aUp\")"
   ]
  },
  {
   "cell_type": "code",
   "execution_count": 8,
   "id": "2683d0b5-d7b0-4078-8477-082665c0bbc2",
   "metadata": {},
   "outputs": [
    {
     "data": {
      "text/plain": [
       "array([6.6])"
      ]
     },
     "execution_count": 8,
     "metadata": {},
     "output_type": "execute_result"
    }
   ],
   "source": [
    "weight.weight(\"aUp\")"
   ]
  },
  {
   "cell_type": "code",
   "execution_count": 9,
   "id": "e6d44763-cd1d-4432-a517-776318dace61",
   "metadata": {},
   "outputs": [
    {
     "data": {
      "text/plain": [
       "array([5.4])"
      ]
     },
     "execution_count": 9,
     "metadata": {},
     "output_type": "execute_result"
    }
   ],
   "source": [
    "weight.weight(\"aDown\")"
   ]
  },
  {
   "cell_type": "code",
   "execution_count": 10,
   "id": "759d87b1-d8c2-4b77-a33e-4c38f90a36c2",
   "metadata": {},
   "outputs": [
    {
     "data": {
      "text/plain": [
       "array([2.2])"
      ]
     },
     "execution_count": 10,
     "metadata": {},
     "output_type": "execute_result"
    }
   ],
   "source": [
    "weight.partial_weight(exclude = [\"c\"], modifier = \"aUp\")"
   ]
  },
  {
   "cell_type": "code",
   "execution_count": 29,
   "id": "a57a31c2-765d-493f-8b94-5393fc71cb80",
   "metadata": {},
   "outputs": [
    {
     "data": {
      "text/plain": [
       "\u001b[0;31mSignature:\u001b[0m \u001b[0mweight\u001b[0m\u001b[0;34m.\u001b[0m\u001b[0mpartial_weight\u001b[0m\u001b[0;34m(\u001b[0m\u001b[0minclude\u001b[0m\u001b[0;34m=\u001b[0m\u001b[0;34m[\u001b[0m\u001b[0;34m]\u001b[0m\u001b[0;34m,\u001b[0m \u001b[0mexclude\u001b[0m\u001b[0;34m=\u001b[0m\u001b[0;34m[\u001b[0m\u001b[0;34m]\u001b[0m\u001b[0;34m)\u001b[0m\u001b[0;34m\u001b[0m\u001b[0;34m\u001b[0m\u001b[0m\n",
       "\u001b[0;31mDocstring:\u001b[0m\n",
       "Partial event weight vector\n",
       "\n",
       "Return a partial weight by multiplying a subset of all weights.\n",
       "Can be operated either by specifying weights to include or\n",
       "weights to exclude, but not both at the same time. The method\n",
       "can only be used if the individual weights are stored via the\n",
       "``storeIndividual`` argument in the `Weights` initializer.\n",
       "\n",
       "Parameters\n",
       "----------\n",
       "    include : list\n",
       "        Weight names to include, defaults to []\n",
       "    exclude : list\n",
       "        Weight names to exclude, defaults to []\n",
       "Returns\n",
       "-------\n",
       "    weight : numpy.ndarray\n",
       "        The weight vector, corresponding to only the effect of the\n",
       "        corrections specified.\n",
       "\u001b[0;31mFile:\u001b[0m      /opt/conda/lib/python3.10/site-packages/coffea/analysis_tools.py\n",
       "\u001b[0;31mType:\u001b[0m      method"
      ]
     },
     "metadata": {},
     "output_type": "display_data"
    }
   ],
   "source": [
    "?weight.partial_weight"
   ]
  },
  {
   "cell_type": "code",
   "execution_count": 8,
   "id": "d40a8d3b-ae7d-414b-82a1-c82b6f0fb5e2",
   "metadata": {},
   "outputs": [
    {
     "data": {
      "text/plain": [
       "array([6.])"
      ]
     },
     "execution_count": 8,
     "metadata": {},
     "output_type": "execute_result"
    }
   ],
   "source": [
    "weight.weight()"
   ]
  },
  {
   "cell_type": "code",
   "execution_count": 16,
   "id": "d9eee085-2476-4919-8c3c-efbdce1f9988",
   "metadata": {},
   "outputs": [
    {
     "data": {
      "text/plain": [
       "{'aDown', 'aUp', 'bDown', 'bUp', 'cDown', 'cUp'}"
      ]
     },
     "execution_count": 16,
     "metadata": {},
     "output_type": "execute_result"
    }
   ],
   "source": [
    "var_list = weight.variations\n",
    "\n",
    "exclude_list_a = []"
   ]
  },
  {
   "cell_type": "code",
   "execution_count": 10,
   "id": "b6777a70-d7a7-4c88-aed1-570980e939e9",
   "metadata": {},
   "outputs": [
    {
     "data": {
      "text/plain": [
       "<Array [1, 2, 3, 4, 5] type='5 * int64'>"
      ]
     },
     "execution_count": 10,
     "metadata": {},
     "output_type": "execute_result"
    }
   ],
   "source": [
    "a = ak.Array([1,2,3,4,5])\n",
    "b = ak.Array([1,2,3,4,5])\n",
    "ak.where(a>0, a, b[2])"
   ]
  },
  {
   "cell_type": "code",
   "execution_count": 11,
   "id": "f3b11b7b-6a5b-4efa-a376-ecfda9b1116a",
   "metadata": {},
   "outputs": [],
   "source": [
    "b = ak.Array([1,2,3,4,5])"
   ]
  },
  {
   "cell_type": "code",
   "execution_count": 21,
   "id": "343b1745-0e3e-4226-8e66-edb1760c13ba",
   "metadata": {},
   "outputs": [],
   "source": [
    "from coffea.nanoevents import NanoEventsFactory, NanoAODSchema\n",
    "\n",
    "NanoAODSchema.warn_missing_crossrefs = False\n",
    "\n",
    "fname = \"root://cmsxrootd.fnal.gov//store/mc/RunIISummer20UL18NanoAODv9/DYJetsToLL_M-50_HT-1200to2500_TuneCP5_PSweights_13TeV-madgraphMLM-pythia8/NANOAODSIM/106X_upgrade2018_realistic_v16_L1v1-v1/120000/26793660-5D04-C24B-813E-3C1744C84D2D.root\"\n",
    "events = NanoEventsFactory.from_root(\n",
    "    {fname: \"Events\"},\n",
    "    schemaclass=NanoAODSchema,\n",
    "    metadata={\"dataset\": \"DYJets\"},\n",
    ").events()"
   ]
  },
  {
   "cell_type": "code",
   "execution_count": 32,
   "id": "8336ec70-aeed-4edb-a0c7-8213ae38161a",
   "metadata": {},
   "outputs": [],
   "source": [
    "events = events[:50]\n",
    "sel = ak.num(events.Electron) >= 2\n"
   ]
  },
  {
   "cell_type": "code",
   "execution_count": 33,
   "id": "692a600d-8006-4a1d-8f23-e9577471b9e2",
   "metadata": {},
   "outputs": [
    {
     "ename": "ValueError",
     "evalue": "in ListOffsetArray64 attempting to get 0, index out of range\n\n(https://github.com/scikit-hep/awkward-1.0/blob/1.10.3/src/cpu-kernels/awkward_NumpyArray_getitem_next_at.cpp#L21)",
     "output_type": "error",
     "traceback": [
      "\u001b[0;31m---------------------------------------------------------------------------\u001b[0m",
      "\u001b[0;31mValueError\u001b[0m                                Traceback (most recent call last)",
      "Cell \u001b[0;32mIn[33], line 1\u001b[0m\n\u001b[0;32m----> 1\u001b[0m ak\u001b[38;5;241m.\u001b[39mwhere(ak\u001b[38;5;241m.\u001b[39mnum(events\u001b[38;5;241m.\u001b[39mElectron) \u001b[38;5;241m>\u001b[39m\u001b[38;5;241m=\u001b[39m \u001b[38;5;241m2\u001b[39m, \u001b[43mevents\u001b[49m\u001b[38;5;241;43m.\u001b[39;49m\u001b[43mElectron\u001b[49m\u001b[43m[\u001b[49m\u001b[43m:\u001b[49m\u001b[43m,\u001b[49m\u001b[38;5;241;43m0\u001b[39;49m\u001b[43m]\u001b[49m\u001b[38;5;241m.\u001b[39mpt, \u001b[38;5;241m1\u001b[39m )\n",
      "File \u001b[0;32m~/.local/lib/python3.10/site-packages/awkward/highlevel.py:991\u001b[0m, in \u001b[0;36mArray.__getitem__\u001b[0;34m(self, where)\u001b[0m\n\u001b[1;32m    579\u001b[0m \u001b[38;5;250m\u001b[39m\u001b[38;5;124;03m\"\"\"\u001b[39;00m\n\u001b[1;32m    580\u001b[0m \u001b[38;5;124;03mArgs:\u001b[39;00m\n\u001b[1;32m    581\u001b[0m \u001b[38;5;124;03m    where (many types supported; see below): Index of positions to\u001b[39;00m\n\u001b[0;32m   (...)\u001b[0m\n\u001b[1;32m    988\u001b[0m \u001b[38;5;124;03mhave the same dimension as the array being indexed.\u001b[39;00m\n\u001b[1;32m    989\u001b[0m \u001b[38;5;124;03m\"\"\"\u001b[39;00m\n\u001b[1;32m    990\u001b[0m \u001b[38;5;28;01mif\u001b[39;00m \u001b[38;5;129;01mnot\u001b[39;00m \u001b[38;5;28mhasattr\u001b[39m(\u001b[38;5;28mself\u001b[39m, \u001b[38;5;124m\"\u001b[39m\u001b[38;5;124m_tracers\u001b[39m\u001b[38;5;124m\"\u001b[39m):\n\u001b[0;32m--> 991\u001b[0m     tmp \u001b[38;5;241m=\u001b[39m ak\u001b[38;5;241m.\u001b[39m_util\u001b[38;5;241m.\u001b[39mwrap(\u001b[38;5;28;43mself\u001b[39;49m\u001b[38;5;241;43m.\u001b[39;49m\u001b[43mlayout\u001b[49m\u001b[43m[\u001b[49m\u001b[43mwhere\u001b[49m\u001b[43m]\u001b[49m, \u001b[38;5;28mself\u001b[39m\u001b[38;5;241m.\u001b[39m_behavior)\n\u001b[1;32m    992\u001b[0m \u001b[38;5;28;01melse\u001b[39;00m:\n\u001b[1;32m    993\u001b[0m     tmp \u001b[38;5;241m=\u001b[39m ak\u001b[38;5;241m.\u001b[39m_connect\u001b[38;5;241m.\u001b[39m_jax\u001b[38;5;241m.\u001b[39mjax_utils\u001b[38;5;241m.\u001b[39m_jaxtracers_getitem(\u001b[38;5;28mself\u001b[39m, where)\n",
      "\u001b[0;31mValueError\u001b[0m: in ListOffsetArray64 attempting to get 0, index out of range\n\n(https://github.com/scikit-hep/awkward-1.0/blob/1.10.3/src/cpu-kernels/awkward_NumpyArray_getitem_next_at.cpp#L21)"
     ]
    }
   ],
   "source": [
    "ak.where(ak.num(events.Electron) >= 2, events.Electron[:,0].pt, 1 )"
   ]
  },
  {
   "cell_type": "code",
   "execution_count": 34,
   "id": "20e055cd-f6fa-4d22-8016-3d627c1a4d5d",
   "metadata": {},
   "outputs": [
    {
     "ename": "ValueError",
     "evalue": "in ListOffsetArray64 attempting to get 0, index out of range\n\n(https://github.com/scikit-hep/awkward-1.0/blob/1.10.3/src/cpu-kernels/awkward_NumpyArray_getitem_next_at.cpp#L21)",
     "output_type": "error",
     "traceback": [
      "\u001b[0;31m---------------------------------------------------------------------------\u001b[0m",
      "\u001b[0;31mValueError\u001b[0m                                Traceback (most recent call last)",
      "Cell \u001b[0;32mIn[34], line 3\u001b[0m\n\u001b[1;32m      1\u001b[0m result \u001b[38;5;241m=\u001b[39m ak\u001b[38;5;241m.\u001b[39mwhere(\n\u001b[1;32m      2\u001b[0m     ak\u001b[38;5;241m.\u001b[39mnum(events\u001b[38;5;241m.\u001b[39mElectron) \u001b[38;5;241m>\u001b[39m\u001b[38;5;241m=\u001b[39m \u001b[38;5;241m2\u001b[39m,\n\u001b[0;32m----> 3\u001b[0m     ak\u001b[38;5;241m.\u001b[39mwhere(ak\u001b[38;5;241m.\u001b[39mnum(events\u001b[38;5;241m.\u001b[39mElectron) \u001b[38;5;241m>\u001b[39m \u001b[38;5;241m0\u001b[39m, \u001b[43mevents\u001b[49m\u001b[38;5;241;43m.\u001b[39;49m\u001b[43mElectron\u001b[49m\u001b[43m[\u001b[49m\u001b[43m:\u001b[49m\u001b[43m,\u001b[49m\u001b[43m \u001b[49m\u001b[38;5;241;43m0\u001b[39;49m\u001b[43m]\u001b[49m\u001b[38;5;241m.\u001b[39mpt, \u001b[38;5;241m0\u001b[39m),\n\u001b[1;32m      4\u001b[0m     \u001b[38;5;241m1\u001b[39m\n\u001b[1;32m      5\u001b[0m )\n",
      "File \u001b[0;32m~/.local/lib/python3.10/site-packages/awkward/highlevel.py:991\u001b[0m, in \u001b[0;36mArray.__getitem__\u001b[0;34m(self, where)\u001b[0m\n\u001b[1;32m    579\u001b[0m \u001b[38;5;250m\u001b[39m\u001b[38;5;124;03m\"\"\"\u001b[39;00m\n\u001b[1;32m    580\u001b[0m \u001b[38;5;124;03mArgs:\u001b[39;00m\n\u001b[1;32m    581\u001b[0m \u001b[38;5;124;03m    where (many types supported; see below): Index of positions to\u001b[39;00m\n\u001b[0;32m   (...)\u001b[0m\n\u001b[1;32m    988\u001b[0m \u001b[38;5;124;03mhave the same dimension as the array being indexed.\u001b[39;00m\n\u001b[1;32m    989\u001b[0m \u001b[38;5;124;03m\"\"\"\u001b[39;00m\n\u001b[1;32m    990\u001b[0m \u001b[38;5;28;01mif\u001b[39;00m \u001b[38;5;129;01mnot\u001b[39;00m \u001b[38;5;28mhasattr\u001b[39m(\u001b[38;5;28mself\u001b[39m, \u001b[38;5;124m\"\u001b[39m\u001b[38;5;124m_tracers\u001b[39m\u001b[38;5;124m\"\u001b[39m):\n\u001b[0;32m--> 991\u001b[0m     tmp \u001b[38;5;241m=\u001b[39m ak\u001b[38;5;241m.\u001b[39m_util\u001b[38;5;241m.\u001b[39mwrap(\u001b[38;5;28;43mself\u001b[39;49m\u001b[38;5;241;43m.\u001b[39;49m\u001b[43mlayout\u001b[49m\u001b[43m[\u001b[49m\u001b[43mwhere\u001b[49m\u001b[43m]\u001b[49m, \u001b[38;5;28mself\u001b[39m\u001b[38;5;241m.\u001b[39m_behavior)\n\u001b[1;32m    992\u001b[0m \u001b[38;5;28;01melse\u001b[39;00m:\n\u001b[1;32m    993\u001b[0m     tmp \u001b[38;5;241m=\u001b[39m ak\u001b[38;5;241m.\u001b[39m_connect\u001b[38;5;241m.\u001b[39m_jax\u001b[38;5;241m.\u001b[39mjax_utils\u001b[38;5;241m.\u001b[39m_jaxtracers_getitem(\u001b[38;5;28mself\u001b[39m, where)\n",
      "\u001b[0;31mValueError\u001b[0m: in ListOffsetArray64 attempting to get 0, index out of range\n\n(https://github.com/scikit-hep/awkward-1.0/blob/1.10.3/src/cpu-kernels/awkward_NumpyArray_getitem_next_at.cpp#L21)"
     ]
    }
   ],
   "source": [
    "result = ak.where(\n",
    "    ak.num(events.Electron) >= 2,\n",
    "    ak.where(ak.num(events.Electron) > 0, events.Electron[:, 0].pt, 0),\n",
    "    1\n",
    ")"
   ]
  },
  {
   "cell_type": "code",
   "execution_count": 35,
   "id": "b386f8e2-3ed3-4274-8ee7-584bd439bd16",
   "metadata": {},
   "outputs": [
    {
     "data": {
      "text/plain": [
       "<Array [19, 504, 140, 317, ... 348, 34.4, 328] type='50 * ?float32[parameters={\"...'>"
      ]
     },
     "execution_count": 35,
     "metadata": {},
     "output_type": "execute_result"
    }
   ],
   "source": [
    "ak.firsts(events.Electron[:,0:1]).pt"
   ]
  },
  {
   "cell_type": "code",
   "execution_count": 43,
   "id": "ca4ff203-3ced-4f6a-9440-a417ba813677",
   "metadata": {},
   "outputs": [
    {
     "data": {
      "text/plain": [
       "153470"
      ]
     },
     "execution_count": 43,
     "metadata": {},
     "output_type": "execute_result"
    }
   ],
   "source": [
    "ak.sum(ak.is_none(ak.firsts(events.Electron).pt))"
   ]
  },
  {
   "cell_type": "code",
   "execution_count": 28,
   "id": "c6bed4bb-0ed5-4214-8443-ff993439abec",
   "metadata": {},
   "outputs": [],
   "source": [
    "interest = ak.firsts(events.Electron[:,1:2].pt)"
   ]
  },
  {
   "cell_type": "code",
   "execution_count": 22,
   "id": "139693aa-4c06-486a-827b-9bea5edf9bf0",
   "metadata": {},
   "outputs": [
    {
     "data": {
      "text/plain": [
       "<Array [1, 1, 2, 2, 2, 2, ... 0, 3, 2, 6, 3, 1] type='580658 * int64'>"
      ]
     },
     "execution_count": 22,
     "metadata": {},
     "output_type": "execute_result"
    }
   ],
   "source": [
    "ak.num(events.Electron)"
   ]
  },
  {
   "cell_type": "code",
   "execution_count": 23,
   "id": "1bcdada3-225e-44ba-8cf1-7773387aa6da",
   "metadata": {},
   "outputs": [
    {
     "ename": "ValueError",
     "evalue": "'axis' out of range for 'num'\n\n(https://github.com/scikit-hep/awkward-1.0/blob/1.10.3/src/libawkward/array/NumpyArray.cpp#L1608)",
     "output_type": "error",
     "traceback": [
      "\u001b[0;31m---------------------------------------------------------------------------\u001b[0m",
      "\u001b[0;31mValueError\u001b[0m                                Traceback (most recent call last)",
      "Cell \u001b[0;32mIn[23], line 1\u001b[0m\n\u001b[0;32m----> 1\u001b[0m \u001b[43mak\u001b[49m\u001b[38;5;241;43m.\u001b[39;49m\u001b[43mnum\u001b[49m\u001b[43m(\u001b[49m\u001b[43mak\u001b[49m\u001b[38;5;241;43m.\u001b[39;49m\u001b[43mfirsts\u001b[49m\u001b[43m(\u001b[49m\u001b[43mevents\u001b[49m\u001b[38;5;241;43m.\u001b[39;49m\u001b[43mElectron\u001b[49m\u001b[43m[\u001b[49m\u001b[43m:\u001b[49m\u001b[43m,\u001b[49m\u001b[38;5;241;43m1\u001b[39;49m\u001b[43m:\u001b[49m\u001b[38;5;241;43m2\u001b[39;49m\u001b[43m]\u001b[49m\u001b[38;5;241;43m.\u001b[39;49m\u001b[43mpt\u001b[49m\u001b[43m)\u001b[49m\u001b[43m)\u001b[49m\n",
      "File \u001b[0;32m~/.local/lib/python3.10/site-packages/awkward/operations/structure.py:251\u001b[0m, in \u001b[0;36mnum\u001b[0;34m(array, axis, highlevel, behavior)\u001b[0m\n\u001b[1;32m    188\u001b[0m \u001b[38;5;250m\u001b[39m\u001b[38;5;124;03m\"\"\"\u001b[39;00m\n\u001b[1;32m    189\u001b[0m \u001b[38;5;124;03mArgs:\u001b[39;00m\n\u001b[1;32m    190\u001b[0m \u001b[38;5;124;03m    array: Data containing nested lists to count.\u001b[39;00m\n\u001b[0;32m   (...)\u001b[0m\n\u001b[1;32m    246\u001b[0m \u001b[38;5;124;03m    <Array [[1.1, 2.2, 3.3], None, [7.7]] type='3 * option[var * float64]'>\u001b[39;00m\n\u001b[1;32m    247\u001b[0m \u001b[38;5;124;03m\"\"\"\u001b[39;00m\n\u001b[1;32m    248\u001b[0m layout \u001b[38;5;241m=\u001b[39m ak\u001b[38;5;241m.\u001b[39moperations\u001b[38;5;241m.\u001b[39mconvert\u001b[38;5;241m.\u001b[39mto_layout(\n\u001b[1;32m    249\u001b[0m     array, allow_record\u001b[38;5;241m=\u001b[39m\u001b[38;5;28;01mFalse\u001b[39;00m, allow_other\u001b[38;5;241m=\u001b[39m\u001b[38;5;28;01mFalse\u001b[39;00m\n\u001b[1;32m    250\u001b[0m )\n\u001b[0;32m--> 251\u001b[0m out \u001b[38;5;241m=\u001b[39m \u001b[43mlayout\u001b[49m\u001b[38;5;241;43m.\u001b[39;49m\u001b[43mnum\u001b[49m\u001b[43m(\u001b[49m\u001b[43maxis\u001b[49m\u001b[38;5;241;43m=\u001b[39;49m\u001b[43maxis\u001b[49m\u001b[43m)\u001b[49m\n\u001b[1;32m    252\u001b[0m \u001b[38;5;28;01mreturn\u001b[39;00m ak\u001b[38;5;241m.\u001b[39m_util\u001b[38;5;241m.\u001b[39mmaybe_wrap_like(out, array, behavior, highlevel)\n",
      "\u001b[0;31mValueError\u001b[0m: 'axis' out of range for 'num'\n\n(https://github.com/scikit-hep/awkward-1.0/blob/1.10.3/src/libawkward/array/NumpyArray.cpp#L1608)"
     ]
    }
   ],
   "source": [
    "ak.num(ak.firsts(events.Electron[:,1:2].pt))"
   ]
  },
  {
   "cell_type": "code",
   "execution_count": 25,
   "id": "d5580be4-6316-4455-ae15-162e4f8d9113",
   "metadata": {},
   "outputs": [
    {
     "data": {
      "text/plain": [
       "<Array [1, 1, 2, 2, 2, 2, ... 0, 3, 2, 6, 3, 1] type='580658 * int64'>"
      ]
     },
     "execution_count": 25,
     "metadata": {},
     "output_type": "execute_result"
    }
   ],
   "source": [
    "ak.num(events.Electron.pt)"
   ]
  },
  {
   "cell_type": "code",
   "execution_count": 25,
   "id": "169d5b47-5e31-4fff-8481-d5495c73d500",
   "metadata": {},
   "outputs": [],
   "source": [
    "a = ak.ones_like( np.ones(len(ak.firsts(events.Electron[:,1:2].pt)), dtype = \"int64\"))"
   ]
  },
  {
   "cell_type": "code",
   "execution_count": 26,
   "id": "73717323-eb7a-47c9-ba3c-e8f48fc7623b",
   "metadata": {},
   "outputs": [
    {
     "data": {
      "text/plain": [
       "580658 * int64"
      ]
     },
     "execution_count": 26,
     "metadata": {},
     "output_type": "execute_result"
    }
   ],
   "source": [
    "a.type"
   ]
  },
  {
   "cell_type": "code",
   "execution_count": 31,
   "id": "f5aa79d3-eb05-4fb8-a373-34204ce6e8ab",
   "metadata": {},
   "outputs": [
    {
     "data": {
      "text/plain": [
       "<Array [None, None, 0.00109, ... 1.38, None] type='580658 * ?float32'>"
      ]
     },
     "execution_count": 31,
     "metadata": {},
     "output_type": "execute_result"
    }
   ],
   "source": [
    "interest2 = ak.firsts(events.Electron[:,1:2].eta)\n",
    "np.abs(interest2)"
   ]
  },
  {
   "cell_type": "code",
   "execution_count": 36,
   "id": "754a1fc2-f664-445e-b382-30129f1aae23",
   "metadata": {},
   "outputs": [
    {
     "data": {
      "text/plain": [
       "<Array [-0.502, 0.386, None, ... -1.44, None] type='50 * ?float32[parameters={\"_...'>"
      ]
     },
     "execution_count": 36,
     "metadata": {},
     "output_type": "execute_result"
    }
   ],
   "source": [
    "ak.firsts(events.Muon[:,0:1].eta)"
   ]
  },
  {
   "cell_type": "code",
   "execution_count": null,
   "id": "95c1d87c-575a-4079-8de0-1e39084b6a46",
   "metadata": {},
   "outputs": [],
   "source": []
  }
 ],
 "metadata": {
  "kernelspec": {
   "display_name": "Python 3 (ipykernel)",
   "language": "python",
   "name": "python3"
  },
  "language_info": {
   "codemirror_mode": {
    "name": "ipython",
    "version": 3
   },
   "file_extension": ".py",
   "mimetype": "text/x-python",
   "name": "python",
   "nbconvert_exporter": "python",
   "pygments_lexer": "ipython3",
   "version": "3.10.8"
  }
 },
 "nbformat": 4,
 "nbformat_minor": 5
}
